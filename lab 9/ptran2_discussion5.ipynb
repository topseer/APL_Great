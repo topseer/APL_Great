{
 "cells": [
  {
   "cell_type": "markdown",
   "metadata": {},
   "source": [
    "# Discussion 5"
   ]
  },
  {
   "cell_type": "code",
   "execution_count": 1,
   "metadata": {},
   "outputs": [],
   "source": [
    "% matplotlib inline"
   ]
  },
  {
   "cell_type": "markdown",
   "metadata": {},
   "source": [
    "This will make all the `matplotlib` images appear in the notebook."
   ]
  },
  {
   "cell_type": "code",
   "execution_count": 2,
   "metadata": {},
   "outputs": [],
   "source": [
    "import numpy as np\n",
    "import time\n",
    "import seaborn as sns\n",
    "import matplotlib.pyplot as plt\n",
    "import scipy.stats as stats\n",
    "import pandas as pd\n",
    "import patsy\n",
    "import sklearn.linear_model as linear\n",
    "import models\n",
    "\n",
    "sns.set(style=\"whitegrid\")"
   ]
  },
  {
   "cell_type": "markdown",
   "metadata": {},
   "source": [
    "### Linear Regression"
   ]
  },
  {
   "cell_type": "markdown",
   "metadata": {},
   "source": [
    "I am starting off with the model in Question 2 for Linear Regression and wanted to see what happens when p is changed.\n",
    "\n",
    "2. Generate a model $\\beta_0 + \\beta_1 x_1 + \\beta_2 x_2 + \\beta_3 x_1 \\times x_2$ where $x_1 ~ N(50.0, \\sigma)$ and $x_2 ~ Bernouilli(p)$. Pick your own $\\beta_i$ and $p$ but pick $\\sigma$ so that $R^2$ is around 0.8."
   ]
  },
  {
   "cell_type": "code",
   "execution_count": 3,
   "metadata": {},
   "outputs": [],
   "source": [
    "np.random.seed(19850710)"
   ]
  },
  {
   "cell_type": "code",
   "execution_count": 4,
   "metadata": {},
   "outputs": [],
   "source": [
    "lin_reg2 = {}\n",
    "beta_0 = 25\n",
    "beta_1 = 5\n",
    "beta_2 = 15\n",
    "beta_3 = 10\n",
    "p=0.35\n",
    "sd = 0.45\n",
    "lin_reg2[\"x1\"] = stats.norm.rvs(beta_0, sd, 1000)\n",
    "lin_reg2[\"x2\"] = stats.bernoulli.rvs(p)\n",
    "lin_reg2[\"e\"] = stats.norm.rvs(0, 1, 1000)\n",
    "lin_reg2[\"y\"] = lin_reg2[\"x1\"] * beta_1 + lin_reg2[\"x2\"] * beta_2 + beta_3 * lin_reg2[\"x1\"] * lin_reg2[\"x2\"] + lin_reg2[\"e\"] \n",
    "lin_reg2 = pd.DataFrame(lin_reg2)"
   ]
  },
  {
   "cell_type": "code",
   "execution_count": 5,
   "metadata": {},
   "outputs": [
    {
     "data": {
      "text/html": [
       "\n",
       "    <table>\n",
       "    <tr><th> model </th><td> y ~ x1 + x2 + x1:x2 </td></tr>\n",
       "    <tr><th colspan=2>coefficients</th></tr>\n",
       "    <tr><th> $\\beta_0$ </th><td> 1.8133603311621123 </td></tr><tr><td>  x1  ($\\beta_1$) </td><td> 4.9298285732161 </td></tr><tr><td>  x2  ($\\beta_2$) </td><td> 0.0 </td></tr><tr><td>  x1:x2 ($\\beta_3$) </td><td> 0.0 </td></tr>\n",
       "    <tr><th colspan=2>metrics</th></tr>\n",
       "    <tr><td> $\\sigma$ </td><td> 1.032409253963547 </td></tr>\n",
       "    <tr><td> $R^2$ </td><td> 0.8305340786818385 </td></tr>\n",
       "    </table>\n",
       "    "
      ],
      "text/plain": [
       "<IPython.core.display.HTML object>"
      ]
     },
     "execution_count": 5,
     "metadata": {},
     "output_type": "execute_result"
    }
   ],
   "source": [
    "result = models.linear_regression(\"y ~ x1 + x2 + x1:x2\", data=lin_reg2)\n",
    "models.simple_describe_lr(result)"
   ]
  },
  {
   "cell_type": "markdown",
   "metadata": {},
   "source": [
    "With the values above, the model seems to be good for $x_1 \\beta_1$ but poor for the other coefficients."
   ]
  },
  {
   "cell_type": "code",
   "execution_count": 6,
   "metadata": {},
   "outputs": [
    {
     "data": {
      "text/html": [
       "\n",
       "    <table>\n",
       "    <tr><th> model </th><td> y ~ x1 + x2 + x1:x2 </td></tr>\n",
       "    <tr><th colspan=2>coefficients</th><th>95% BCI</th></tr>\n",
       "    <tr><th> $\\beta_0$ </th><td> 1.81 </td><td>(-1.27, 4.77)</td></tr><tr><td>  x1  ($\\beta_1$) </td><td> 4.93 </td><td>(4.81, 5.05)</tr><tr><td>  x2  ($\\beta_2$) </td><td> 0.00 </td><td>(0.00, 0.00)</tr><tr><td>  x1:x2 ($\\beta_3$) </td><td> 0.00 </td><td>(0.00, 0.00)</tr><tr><th colspan=2>metrics</th><th>95% BCI</th></tr><tr><th> $\\sigma$ </th><td> 1.03 </td><td>(0.98, 1.08) </td></tr><tr><th> $R^2$ </th><td> 0.83 </td><td>(0.81, 0.85)</td></tr></table>"
      ],
      "text/plain": [
       "<IPython.core.display.HTML object>"
      ]
     },
     "execution_count": 6,
     "metadata": {},
     "output_type": "execute_result"
    }
   ],
   "source": [
    "result = models.bootstrap_linear_regression(\"y ~ x1 + x2 + x1:x2\", data=lin_reg2)\n",
    "models.describe_bootstrap_lr(result)"
   ]
  },
  {
   "cell_type": "markdown",
   "metadata": {},
   "source": [
    "Similar to question 1, the 95% confidence interval is narrow for $x_1 \\beta_1$.  The other coefficients are estimated to be zero, which is not the actual case. I did note that when p was increased, $R^2$ also increased and $\\beta_2$ and $\\beta_3$ had non-zero values."
   ]
  },
  {
   "cell_type": "code",
   "execution_count": 7,
   "metadata": {},
   "outputs": [],
   "source": [
    "lin_reg2 = {}\n",
    "beta_0 = 50\n",
    "beta_1 = 5\n",
    "beta_2 = 15\n",
    "beta_3 = 10\n",
    "p=0.7\n",
    "sd = 0.45\n",
    "lin_reg2[\"x1\"] = stats.norm.rvs(beta_0, sd, 1000)\n",
    "lin_reg2[\"x2\"] = stats.bernoulli.rvs(p)\n",
    "lin_reg2[\"e\"] = stats.norm.rvs(0, 1, 1000)\n",
    "lin_reg2[\"y\"] = lin_reg2[\"x1\"] * beta_1 + lin_reg2[\"x2\"] * beta_2 + beta_3 * lin_reg2[\"x1\"] * lin_reg2[\"x2\"] + lin_reg2[\"e\"] \n",
    "lin_reg2 = pd.DataFrame(lin_reg2)"
   ]
  },
  {
   "cell_type": "markdown",
   "metadata": {},
   "source": [
    "**P value and $\\sigma$**"
   ]
  },
  {
   "cell_type": "markdown",
   "metadata": {},
   "source": [
    "I want to look more into the $p$ value and $\\sigma$.  Originally, p = 0.3. When p is increased to 0.7, even though $R^2$ is \"better\", the model actually isn't as good at estimating the coefficients."
   ]
  },
  {
   "cell_type": "code",
   "execution_count": 8,
   "metadata": {},
   "outputs": [
    {
     "data": {
      "text/html": [
       "\n",
       "    <table>\n",
       "    <tr><th> model </th><td> y ~ x1 + x2 + x1:x2 </td></tr>\n",
       "    <tr><th colspan=2>coefficients</th></tr>\n",
       "    <tr><th> $\\beta_0$ </th><td> 10.105097877064377 </td></tr><tr><td>  x1  ($\\beta_1$) </td><td> 7.448376257170343 </td></tr><tr><td>  x2  ($\\beta_2$) </td><td> 10.105097877064376 </td></tr><tr><td>  x1:x2 ($\\beta_3$) </td><td> 7.448376257170603 </td></tr>\n",
       "    <tr><th colspan=2>metrics</th></tr>\n",
       "    <tr><td> $\\sigma$ </td><td> 1.0103171384852097 </td></tr>\n",
       "    <tr><td> $R^2$ </td><td> 0.9785449655416367 </td></tr>\n",
       "    </table>\n",
       "    "
      ],
      "text/plain": [
       "<IPython.core.display.HTML object>"
      ]
     },
     "execution_count": 8,
     "metadata": {},
     "output_type": "execute_result"
    }
   ],
   "source": [
    "result = models.linear_regression(\"y ~ x1 + x2 + x1:x2\", data=lin_reg2)\n",
    "models.simple_describe_lr(result)"
   ]
  },
  {
   "cell_type": "code",
   "execution_count": 9,
   "metadata": {},
   "outputs": [
    {
     "data": {
      "text/html": [
       "\n",
       "    <table>\n",
       "    <tr><th> model </th><td> y ~ x1 + x2 + x1:x2 </td></tr>\n",
       "    <tr><th colspan=2>coefficients</th><th>95% BCI</th></tr>\n",
       "    <tr><th> $\\beta_0$ </th><td> 10.11 </td><td>(6.87, 14.32)</td></tr><tr><td>  x1  ($\\beta_1$) </td><td> 7.45 </td><td>(7.36, 7.51)</tr><tr><td>  x2  ($\\beta_2$) </td><td> 10.11 </td><td>(6.87, 14.32)</tr><tr><td>  x1:x2 ($\\beta_3$) </td><td> 7.45 </td><td>(7.36, 7.51)</tr><tr><th colspan=2>metrics</th><th>95% BCI</th></tr><tr><th> $\\sigma$ </th><td> 1.01 </td><td>(0.95, 1.06) </td></tr><tr><th> $R^2$ </th><td> 0.98 </td><td>(0.98, 0.98)</td></tr></table>"
      ],
      "text/plain": [
       "<IPython.core.display.HTML object>"
      ]
     },
     "execution_count": 9,
     "metadata": {},
     "output_type": "execute_result"
    }
   ],
   "source": [
    "result = models.bootstrap_linear_regression(\"y ~ x1 + x2 + x1:x2\", data=lin_reg2)\n",
    "models.describe_bootstrap_lr(result)"
   ]
  },
  {
   "cell_type": "markdown",
   "metadata": {},
   "source": [
    "In contrast, decreasing p does not change much in regards to $R^2$ value or estimation of $x_1$$\\beta_1$. This leads me to believe that $p$ probably doesn't change how good of a fit a model is, but rather certain models are good for certain values of p."
   ]
  },
  {
   "cell_type": "code",
   "execution_count": 10,
   "metadata": {},
   "outputs": [],
   "source": [
    "lin_reg2 = {}\n",
    "beta_0 = 50\n",
    "beta_1 = 5\n",
    "beta_2 = 15\n",
    "beta_3 = 10\n",
    "p=0.1\n",
    "sd = 0.45\n",
    "lin_reg2[\"x1\"] = stats.norm.rvs(beta_0, sd, 1000)\n",
    "lin_reg2[\"x2\"] = stats.bernoulli.rvs(p)\n",
    "lin_reg2[\"e\"] = stats.norm.rvs(0, 1, 1000)\n",
    "lin_reg2[\"y\"] = lin_reg2[\"x1\"] * beta_1 + lin_reg2[\"x2\"] * beta_2 + beta_3 * lin_reg2[\"x1\"] * lin_reg2[\"x2\"] + lin_reg2[\"e\"] \n",
    "lin_reg2 = pd.DataFrame(lin_reg2)"
   ]
  },
  {
   "cell_type": "code",
   "execution_count": 11,
   "metadata": {},
   "outputs": [
    {
     "data": {
      "text/html": [
       "\n",
       "    <table>\n",
       "    <tr><th> model </th><td> y ~ x1 + x2 + x1:x2 </td></tr>\n",
       "    <tr><th colspan=2>coefficients</th></tr>\n",
       "    <tr><th> $\\beta_0$ </th><td> 4.282722234312077 </td></tr><tr><td>  x1  ($\\beta_1$) </td><td> 7.56424665402748 </td></tr><tr><td>  x2  ($\\beta_2$) </td><td> 4.282722234312078 </td></tr><tr><td>  x1:x2 ($\\beta_3$) </td><td> 7.564246654027514 </td></tr>\n",
       "    <tr><th colspan=2>metrics</th></tr>\n",
       "    <tr><td> $\\sigma$ </td><td> 1.014557346844788 </td></tr>\n",
       "    <tr><td> $R^2$ </td><td> 0.9792279990801527 </td></tr>\n",
       "    </table>\n",
       "    "
      ],
      "text/plain": [
       "<IPython.core.display.HTML object>"
      ]
     },
     "execution_count": 11,
     "metadata": {},
     "output_type": "execute_result"
    }
   ],
   "source": [
    "result = models.linear_regression(\"y ~ x1 + x2 + x1:x2\", data=lin_reg2)\n",
    "models.simple_describe_lr(result)"
   ]
  },
  {
   "cell_type": "markdown",
   "metadata": {},
   "source": [
    "***References***\n",
    "\n",
    "Fundamentals\n",
    "\n",
    "Course Module Code in models.py"
   ]
  }
 ],
 "metadata": {
  "kernelspec": {
   "display_name": "Python 3",
   "language": "python",
   "name": "python3"
  },
  "language_info": {
   "codemirror_mode": {
    "name": "ipython",
    "version": 3
   },
   "file_extension": ".py",
   "mimetype": "text/x-python",
   "name": "python",
   "nbconvert_exporter": "python",
   "pygments_lexer": "ipython3",
   "version": "3.6.5"
  },
  "toc": {
   "colors": {
    "hover_highlight": "#DAA520",
    "navigate_num": "#000000",
    "navigate_text": "#333333",
    "running_highlight": "#FF0000",
    "selected_highlight": "#FFD700",
    "sidebar_border": "#EEEEEE",
    "wrapper_background": "#FFFFFF"
   },
   "moveMenuLeft": true,
   "nav_menu": {
    "height": "171px",
    "width": "252px"
   },
   "navigate_menu": true,
   "number_sections": true,
   "sideBar": true,
   "threshold": 4,
   "toc_cell": false,
   "toc_section_display": "block",
   "toc_window_display": false,
   "widenNotebook": false
  }
 },
 "nbformat": 4,
 "nbformat_minor": 1
}
