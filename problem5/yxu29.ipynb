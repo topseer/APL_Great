{
 "cells": [
  {
   "cell_type": "code",
   "execution_count": 27,
   "metadata": {},
   "outputs": [],
   "source": [
    "%matplotlib inline"
   ]
  },
  {
   "cell_type": "code",
   "execution_count": 28,
   "metadata": {},
   "outputs": [],
   "source": [
    "import numpy as np\n",
    "import time\n",
    "import seaborn as sns\n",
    "import matplotlib.pyplot as plt\n",
    "import scipy.stats as stats\n",
    "\n",
    "sns.set(style=\"whitegrid\")"
   ]
  },
  {
   "cell_type": "markdown",
   "metadata": {},
   "source": [
    "# Problem Set 5 (covers Lab 9 and 10)\n",
    "\n",
    "## Directions\n",
    "\n",
    "1. Show all work/steps/calculations using a combination of code and Markdown. You will submit only this notebook named: [jhed_id].ipynb back to Blackboard from whence you downloaded it. Do not return the data to me.\n",
    "2. **All** work is to be your own. This is not a group project. You may, however, use code from the lectures and labs. Provide citations for any code that is not your own. You may also consult Stackoverflow, etc. This is not by any means \"closed book\" or anything like that. Basically, I need to see if *you* learned the concepts from the Lectures, *Fundamentals*, and Labs.\n",
    "3. Add whatever markdown or code cells you need in each part to explain and calculate your answers. Don't just provide answers but explain them as well. **Explain and interpret your results.**"
   ]
  },
  {
   "cell_type": "markdown",
   "metadata": {},
   "source": [
    "## Introduction\n",
    "\n",
    "Labs 9 and 10 were all about linear models, specifically linear and logistic regression. We learned how to build and interpret multivariate models by using domain knowledge, comparing the predicted and actual values of the coefficients and the credible intervals, and looking at residuals. We also applied transformations to make the models perform better and increase interpretability.\n",
    "\n",
    "Using the techniques covered during Modules 9 and 10 (lectures, labs, course notes), **build, describe, and use** a linear regression model that estimates the target variable `mpg` for the accompanying auto data set. You may use other techniques you know but you must at least use the techniques described in class and call out and describe anything \"extra\" that you do and why.\n",
    "\n",
    "Do **not** use any feature selection techniques or anything other than linear regression. Follow the method described in class.\n",
    "\n",
    "The instructions say build, **describe, and use**. You must describe all aspects of your final model (all the parameters and metrics) and use it to predict one value as described in the course notes."
   ]
  },
  {
   "cell_type": "markdown",
   "metadata": {},
   "source": [
    "### Import the data\n",
    "\n",
    "1. import the data from the txt file\n",
    "2. replace the NA value with average "
   ]
  },
  {
   "cell_type": "code",
   "execution_count": 29,
   "metadata": {},
   "outputs": [
    {
     "data": {
      "text/html": [
       "<div>\n",
       "<style scoped>\n",
       "    .dataframe tbody tr th:only-of-type {\n",
       "        vertical-align: middle;\n",
       "    }\n",
       "\n",
       "    .dataframe tbody tr th {\n",
       "        vertical-align: top;\n",
       "    }\n",
       "\n",
       "    .dataframe thead th {\n",
       "        text-align: right;\n",
       "    }\n",
       "</style>\n",
       "<table border=\"1\" class=\"dataframe\">\n",
       "  <thead>\n",
       "    <tr style=\"text-align: right;\">\n",
       "      <th></th>\n",
       "      <th>mpg</th>\n",
       "      <th>cylinders</th>\n",
       "      <th>displacement</th>\n",
       "      <th>horsepower</th>\n",
       "      <th>weight</th>\n",
       "      <th>acceleration</th>\n",
       "      <th>modelyear</th>\n",
       "      <th>origin</th>\n",
       "      <th>car name</th>\n",
       "    </tr>\n",
       "  </thead>\n",
       "  <tbody>\n",
       "    <tr>\n",
       "      <th>0</th>\n",
       "      <td>13.0</td>\n",
       "      <td>8</td>\n",
       "      <td>400.0</td>\n",
       "      <td>175.0</td>\n",
       "      <td>5140</td>\n",
       "      <td>12.0</td>\n",
       "      <td>71</td>\n",
       "      <td>1</td>\n",
       "      <td>pontiac safari (sw)</td>\n",
       "    </tr>\n",
       "    <tr>\n",
       "      <th>1</th>\n",
       "      <td>11.0</td>\n",
       "      <td>8</td>\n",
       "      <td>400.0</td>\n",
       "      <td>150.0</td>\n",
       "      <td>4997</td>\n",
       "      <td>14.0</td>\n",
       "      <td>73</td>\n",
       "      <td>1</td>\n",
       "      <td>chevrolet impala</td>\n",
       "    </tr>\n",
       "    <tr>\n",
       "      <th>2</th>\n",
       "      <td>12.0</td>\n",
       "      <td>8</td>\n",
       "      <td>383.0</td>\n",
       "      <td>180.0</td>\n",
       "      <td>4955</td>\n",
       "      <td>11.5</td>\n",
       "      <td>71</td>\n",
       "      <td>1</td>\n",
       "      <td>dodge monaco (sw)</td>\n",
       "    </tr>\n",
       "    <tr>\n",
       "      <th>3</th>\n",
       "      <td>12.0</td>\n",
       "      <td>8</td>\n",
       "      <td>429.0</td>\n",
       "      <td>198.0</td>\n",
       "      <td>4952</td>\n",
       "      <td>11.5</td>\n",
       "      <td>73</td>\n",
       "      <td>1</td>\n",
       "      <td>mercury marquis brougham</td>\n",
       "    </tr>\n",
       "    <tr>\n",
       "      <th>4</th>\n",
       "      <td>12.0</td>\n",
       "      <td>8</td>\n",
       "      <td>455.0</td>\n",
       "      <td>225.0</td>\n",
       "      <td>4951</td>\n",
       "      <td>11.0</td>\n",
       "      <td>73</td>\n",
       "      <td>1</td>\n",
       "      <td>buick electra 225 custom</td>\n",
       "    </tr>\n",
       "  </tbody>\n",
       "</table>\n",
       "</div>"
      ],
      "text/plain": [
       "    mpg  cylinders  displacement  horsepower  weight  acceleration  modelyear  \\\n",
       "0  13.0          8         400.0       175.0    5140          12.0         71   \n",
       "1  11.0          8         400.0       150.0    4997          14.0         73   \n",
       "2  12.0          8         383.0       180.0    4955          11.5         71   \n",
       "3  12.0          8         429.0       198.0    4952          11.5         73   \n",
       "4  12.0          8         455.0       225.0    4951          11.0         73   \n",
       "\n",
       "   origin                  car name  \n",
       "0       1       pontiac safari (sw)  \n",
       "1       1          chevrolet impala  \n",
       "2       1         dodge monaco (sw)  \n",
       "3       1  mercury marquis brougham  \n",
       "4       1  buick electra 225 custom  "
      ]
     },
     "execution_count": 29,
     "metadata": {},
     "output_type": "execute_result"
    }
   ],
   "source": [
    "import pandas as pd\n",
    "data = pd.read_csv(\"data.csv\")\n",
    "data.head()"
   ]
  },
  {
   "cell_type": "markdown",
   "metadata": {},
   "source": [
    "    ### Find NA\n",
    "    ### Replace NA with Average"
   ]
  },
  {
   "cell_type": "code",
   "execution_count": 30,
   "metadata": {
    "scrolled": true
   },
   "outputs": [
    {
     "data": {
      "text/html": [
       "<div>\n",
       "<style scoped>\n",
       "    .dataframe tbody tr th:only-of-type {\n",
       "        vertical-align: middle;\n",
       "    }\n",
       "\n",
       "    .dataframe tbody tr th {\n",
       "        vertical-align: top;\n",
       "    }\n",
       "\n",
       "    .dataframe thead th {\n",
       "        text-align: right;\n",
       "    }\n",
       "</style>\n",
       "<table border=\"1\" class=\"dataframe\">\n",
       "  <thead>\n",
       "    <tr style=\"text-align: right;\">\n",
       "      <th></th>\n",
       "      <th>mpg</th>\n",
       "      <th>cylinders</th>\n",
       "      <th>displacement</th>\n",
       "      <th>horsepower</th>\n",
       "      <th>weight</th>\n",
       "      <th>acceleration</th>\n",
       "      <th>modelyear</th>\n",
       "      <th>origin</th>\n",
       "      <th>car name</th>\n",
       "    </tr>\n",
       "  </thead>\n",
       "  <tbody>\n",
       "    <tr>\n",
       "      <th>163</th>\n",
       "      <td>23.0</td>\n",
       "      <td>4</td>\n",
       "      <td>151.0</td>\n",
       "      <td>NaN</td>\n",
       "      <td>3035</td>\n",
       "      <td>20.5</td>\n",
       "      <td>82</td>\n",
       "      <td>1</td>\n",
       "      <td>amc concord dl</td>\n",
       "    </tr>\n",
       "    <tr>\n",
       "      <th>184</th>\n",
       "      <td>23.6</td>\n",
       "      <td>4</td>\n",
       "      <td>140.0</td>\n",
       "      <td>NaN</td>\n",
       "      <td>2905</td>\n",
       "      <td>14.3</td>\n",
       "      <td>80</td>\n",
       "      <td>1</td>\n",
       "      <td>ford mustang cobra</td>\n",
       "    </tr>\n",
       "    <tr>\n",
       "      <th>189</th>\n",
       "      <td>21.0</td>\n",
       "      <td>6</td>\n",
       "      <td>200.0</td>\n",
       "      <td>NaN</td>\n",
       "      <td>2875</td>\n",
       "      <td>17.0</td>\n",
       "      <td>74</td>\n",
       "      <td>1</td>\n",
       "      <td>ford maverick</td>\n",
       "    </tr>\n",
       "    <tr>\n",
       "      <th>276</th>\n",
       "      <td>34.5</td>\n",
       "      <td>4</td>\n",
       "      <td>100.0</td>\n",
       "      <td>NaN</td>\n",
       "      <td>2320</td>\n",
       "      <td>15.8</td>\n",
       "      <td>81</td>\n",
       "      <td>2</td>\n",
       "      <td>renault 18i</td>\n",
       "    </tr>\n",
       "    <tr>\n",
       "      <th>346</th>\n",
       "      <td>25.0</td>\n",
       "      <td>4</td>\n",
       "      <td>98.0</td>\n",
       "      <td>NaN</td>\n",
       "      <td>2046</td>\n",
       "      <td>19.0</td>\n",
       "      <td>71</td>\n",
       "      <td>1</td>\n",
       "      <td>ford pinto</td>\n",
       "    </tr>\n",
       "    <tr>\n",
       "      <th>384</th>\n",
       "      <td>40.9</td>\n",
       "      <td>4</td>\n",
       "      <td>85.0</td>\n",
       "      <td>NaN</td>\n",
       "      <td>1835</td>\n",
       "      <td>17.3</td>\n",
       "      <td>80</td>\n",
       "      <td>2</td>\n",
       "      <td>renault lecar deluxe</td>\n",
       "    </tr>\n",
       "  </tbody>\n",
       "</table>\n",
       "</div>"
      ],
      "text/plain": [
       "      mpg  cylinders  displacement  horsepower  weight  acceleration  \\\n",
       "163  23.0          4         151.0         NaN    3035          20.5   \n",
       "184  23.6          4         140.0         NaN    2905          14.3   \n",
       "189  21.0          6         200.0         NaN    2875          17.0   \n",
       "276  34.5          4         100.0         NaN    2320          15.8   \n",
       "346  25.0          4          98.0         NaN    2046          19.0   \n",
       "384  40.9          4          85.0         NaN    1835          17.3   \n",
       "\n",
       "     modelyear  origin              car name  \n",
       "163         82       1        amc concord dl  \n",
       "184         80       1    ford mustang cobra  \n",
       "189         74       1         ford maverick  \n",
       "276         81       2           renault 18i  \n",
       "346         71       1            ford pinto  \n",
       "384         80       2  renault lecar deluxe  "
      ]
     },
     "execution_count": 30,
     "metadata": {},
     "output_type": "execute_result"
    }
   ],
   "source": [
    "data[data.isnull().any(axis=1)]"
   ]
  },
  {
   "cell_type": "code",
   "execution_count": 31,
   "metadata": {},
   "outputs": [],
   "source": [
    "data = data.fillna(data.mean())"
   ]
  },
  {
   "cell_type": "markdown",
   "metadata": {},
   "source": [
    "### mpg\n",
    "\n",
    "1. The min of mpg is bigger than 0.\n",
    "2. MPG does not follows the normal distribution, but it has positive skewness and a low kurtosis. Therefore we need to standardize mpg"
   ]
  },
  {
   "cell_type": "code",
   "execution_count": 32,
   "metadata": {},
   "outputs": [
    {
     "data": {
      "text/plain": [
       "count    398.000000\n",
       "mean      23.514573\n",
       "std        7.815984\n",
       "min        9.000000\n",
       "25%       17.500000\n",
       "50%       23.000000\n",
       "75%       29.000000\n",
       "max       46.600000\n",
       "Name: mpg, dtype: float64"
      ]
     },
     "execution_count": 32,
     "metadata": {},
     "output_type": "execute_result"
    }
   ],
   "source": [
    "data['mpg'].describe()"
   ]
  },
  {
   "cell_type": "code",
   "execution_count": 33,
   "metadata": {},
   "outputs": [
    {
     "name": "stdout",
     "output_type": "stream",
     "text": [
      "Skewness: 0.457066\n",
      "Kurtosis: -0.510781\n"
     ]
    },
    {
     "data": {
      "image/png": "[encoded data removed]",
      "text/plain": [
       "<Figure size 432x288 with 1 Axes>"
      ]
     },
     "metadata": {},
     "output_type": "display_data"
    }
   ],
   "source": [
    "sns.distplot(data['mpg']);\n",
    "print(\"Skewness: %f\" % data['mpg'].skew())\n",
    "print(\"Kurtosis: %f\" % data['mpg'].kurt())"
   ]
  },
  {
   "cell_type": "markdown",
   "metadata": {},
   "source": [
    "### Create Dummy variables for the categorical features: origin, year"
   ]
  },
  {
   "cell_type": "code",
   "execution_count": 34,
   "metadata": {},
   "outputs": [
    {
     "data": {
      "text/html": [
       "<div>\n",
       "<style scoped>\n",
       "    .dataframe tbody tr th:only-of-type {\n",
       "        vertical-align: middle;\n",
       "    }\n",
       "\n",
       "    .dataframe tbody tr th {\n",
       "        vertical-align: top;\n",
       "    }\n",
       "\n",
       "    .dataframe thead th {\n",
       "        text-align: right;\n",
       "    }\n",
       "</style>\n",
       "<table border=\"1\" class=\"dataframe\">\n",
       "  <thead>\n",
       "    <tr style=\"text-align: right;\">\n",
       "      <th></th>\n",
       "      <th>mpg</th>\n",
       "      <th>cylinders</th>\n",
       "      <th>displacement</th>\n",
       "      <th>horsepower</th>\n",
       "      <th>weight</th>\n",
       "      <th>acceleration</th>\n",
       "      <th>modelyear</th>\n",
       "      <th>origin</th>\n",
       "      <th>car name</th>\n",
       "      <th>modelyear_70</th>\n",
       "      <th>...</th>\n",
       "      <th>modelyear_76</th>\n",
       "      <th>modelyear_77</th>\n",
       "      <th>modelyear_78</th>\n",
       "      <th>modelyear_79</th>\n",
       "      <th>modelyear_80</th>\n",
       "      <th>modelyear_81</th>\n",
       "      <th>modelyear_82</th>\n",
       "      <th>origin_1</th>\n",
       "      <th>origin_2</th>\n",
       "      <th>origin_3</th>\n",
       "    </tr>\n",
       "  </thead>\n",
       "  <tbody>\n",
       "    <tr>\n",
       "      <th>0</th>\n",
       "      <td>13.0</td>\n",
       "      <td>8</td>\n",
       "      <td>400.0</td>\n",
       "      <td>175.0</td>\n",
       "      <td>5140</td>\n",
       "      <td>12.0</td>\n",
       "      <td>71</td>\n",
       "      <td>1</td>\n",
       "      <td>pontiac safari (sw)</td>\n",
       "      <td>0</td>\n",
       "      <td>...</td>\n",
       "      <td>0</td>\n",
       "      <td>0</td>\n",
       "      <td>0</td>\n",
       "      <td>0</td>\n",
       "      <td>0</td>\n",
       "      <td>0</td>\n",
       "      <td>0</td>\n",
       "      <td>1</td>\n",
       "      <td>0</td>\n",
       "      <td>0</td>\n",
       "    </tr>\n",
       "    <tr>\n",
       "      <th>1</th>\n",
       "      <td>11.0</td>\n",
       "      <td>8</td>\n",
       "      <td>400.0</td>\n",
       "      <td>150.0</td>\n",
       "      <td>4997</td>\n",
       "      <td>14.0</td>\n",
       "      <td>73</td>\n",
       "      <td>1</td>\n",
       "      <td>chevrolet impala</td>\n",
       "      <td>0</td>\n",
       "      <td>...</td>\n",
       "      <td>0</td>\n",
       "      <td>0</td>\n",
       "      <td>0</td>\n",
       "      <td>0</td>\n",
       "      <td>0</td>\n",
       "      <td>0</td>\n",
       "      <td>0</td>\n",
       "      <td>1</td>\n",
       "      <td>0</td>\n",
       "      <td>0</td>\n",
       "    </tr>\n",
       "    <tr>\n",
       "      <th>2</th>\n",
       "      <td>12.0</td>\n",
       "      <td>8</td>\n",
       "      <td>383.0</td>\n",
       "      <td>180.0</td>\n",
       "      <td>4955</td>\n",
       "      <td>11.5</td>\n",
       "      <td>71</td>\n",
       "      <td>1</td>\n",
       "      <td>dodge monaco (sw)</td>\n",
       "      <td>0</td>\n",
       "      <td>...</td>\n",
       "      <td>0</td>\n",
       "      <td>0</td>\n",
       "      <td>0</td>\n",
       "      <td>0</td>\n",
       "      <td>0</td>\n",
       "      <td>0</td>\n",
       "      <td>0</td>\n",
       "      <td>1</td>\n",
       "      <td>0</td>\n",
       "      <td>0</td>\n",
       "    </tr>\n",
       "    <tr>\n",
       "      <th>3</th>\n",
       "      <td>12.0</td>\n",
       "      <td>8</td>\n",
       "      <td>429.0</td>\n",
       "      <td>198.0</td>\n",
       "      <td>4952</td>\n",
       "      <td>11.5</td>\n",
       "      <td>73</td>\n",
       "      <td>1</td>\n",
       "      <td>mercury marquis brougham</td>\n",
       "      <td>0</td>\n",
       "      <td>...</td>\n",
       "      <td>0</td>\n",
       "      <td>0</td>\n",
       "      <td>0</td>\n",
       "      <td>0</td>\n",
       "      <td>0</td>\n",
       "      <td>0</td>\n",
       "      <td>0</td>\n",
       "      <td>1</td>\n",
       "      <td>0</td>\n",
       "      <td>0</td>\n",
       "    </tr>\n",
       "    <tr>\n",
       "      <th>4</th>\n",
       "      <td>12.0</td>\n",
       "      <td>8</td>\n",
       "      <td>455.0</td>\n",
       "      <td>225.0</td>\n",
       "      <td>4951</td>\n",
       "      <td>11.0</td>\n",
       "      <td>73</td>\n",
       "      <td>1</td>\n",
       "      <td>buick electra 225 custom</td>\n",
       "      <td>0</td>\n",
       "      <td>...</td>\n",
       "      <td>0</td>\n",
       "      <td>0</td>\n",
       "      <td>0</td>\n",
       "      <td>0</td>\n",
       "      <td>0</td>\n",
       "      <td>0</td>\n",
       "      <td>0</td>\n",
       "      <td>1</td>\n",
       "      <td>0</td>\n",
       "      <td>0</td>\n",
       "    </tr>\n",
       "  </tbody>\n",
       "</table>\n",
       "<p>5 rows × 25 columns</p>\n",
       "</div>"
      ],
      "text/plain": [
       "    mpg  cylinders  displacement  horsepower  weight  acceleration  modelyear  \\\n",
       "0  13.0          8         400.0       175.0    5140          12.0         71   \n",
       "1  11.0          8         400.0       150.0    4997          14.0         73   \n",
       "2  12.0          8         383.0       180.0    4955          11.5         71   \n",
       "3  12.0          8         429.0       198.0    4952          11.5         73   \n",
       "4  12.0          8         455.0       225.0    4951          11.0         73   \n",
       "\n",
       "   origin                  car name  modelyear_70    ...     modelyear_76  \\\n",
       "0       1       pontiac safari (sw)             0    ...                0   \n",
       "1       1          chevrolet impala             0    ...                0   \n",
       "2       1         dodge monaco (sw)             0    ...                0   \n",
       "3       1  mercury marquis brougham             0    ...                0   \n",
       "4       1  buick electra 225 custom             0    ...                0   \n",
       "\n",
       "   modelyear_77  modelyear_78  modelyear_79  modelyear_80  modelyear_81  \\\n",
       "0             0             0             0             0             0   \n",
       "1             0             0             0             0             0   \n",
       "2             0             0             0             0             0   \n",
       "3             0             0             0             0             0   \n",
       "4             0             0             0             0             0   \n",
       "\n",
       "   modelyear_82  origin_1  origin_2  origin_3  \n",
       "0             0         1         0         0  \n",
       "1             0         1         0         0  \n",
       "2             0         1         0         0  \n",
       "3             0         1         0         0  \n",
       "4             0         1         0         0  \n",
       "\n",
       "[5 rows x 25 columns]"
      ]
     },
     "execution_count": 34,
     "metadata": {},
     "output_type": "execute_result"
    }
   ],
   "source": [
    "data = pd.concat([data, pd.get_dummies(data[\"modelyear\"],prefix=\"modelyear\")], axis=1)\n",
    "data = pd.concat([data, pd.get_dummies(data[\"origin\"], prefix=\"origin\")], axis=1)\n",
    "\n",
    "data.head()"
   ]
  },
  {
   "cell_type": "code",
   "execution_count": 35,
   "metadata": {
    "scrolled": false
   },
   "outputs": [
    {
     "data": {
      "text/plain": [
       "weight         -0.831741\n",
       "displacement   -0.804203\n",
       "cylinders      -0.775396\n",
       "horsepower     -0.771437\n",
       "origin_1       -0.568192\n",
       "modelyear_73   -0.274675\n",
       "modelyear_70   -0.209189\n",
       "modelyear_72   -0.169164\n",
       "modelyear_75   -0.118796\n",
       "modelyear_71   -0.079804\n",
       "modelyear_76   -0.075995\n",
       "modelyear_74   -0.028023\n",
       "modelyear_77   -0.004919\n",
       "modelyear_78    0.022079\n",
       "modelyear_79    0.056689\n",
       "modelyear_81    0.244922\n",
       "origin_2        0.259022\n",
       "modelyear_82    0.305116\n",
       "modelyear_80    0.365663\n",
       "acceleration    0.420289\n",
       "origin_3        0.442174\n",
       "origin          0.563450\n",
       "modelyear       0.579267\n",
       "dtype: float64"
      ]
     },
     "execution_count": 35,
     "metadata": {},
     "output_type": "execute_result"
    }
   ],
   "source": [
    "data1 = data.loc[:, data.columns != 'car name'] \n",
    "corr = data1.drop(\"mpg\", axis=1).apply(lambda x: x.corr(data1.mpg))\n",
    "corr.sort_values(ascending=True)"
   ]
  },
  {
   "cell_type": "markdown",
   "metadata": {},
   "source": [
    "1. \"weight\",\"displacement\", \"cylinders\" and \"horsepower\" have negative relationships with mpg \n",
    "2. \"acceleration\" has a positive relationship with mpg\n",
    "3. The mpg from \"origin 1\" is lower than the mpg from \"origin 2\" and \"origin 3\". \n",
    "4. The model years: also related to the mpg"
   ]
  },
  {
   "cell_type": "markdown",
   "metadata": {},
   "source": [
    "### Models: Method 1"
   ]
  },
  {
   "cell_type": "code",
   "execution_count": 77,
   "metadata": {},
   "outputs": [
    {
     "data": {
      "text/html": [
       "<table><tr><th colspan=3>Linear Regression Results</th></tr><th colspan=3>Coefficients</th></tr><tr><th>$\\theta$</th><th></th><th>95% BCI</th></tr><tr><td> ($\\beta_0$)</td><td>-12.76</td><td>(-20.60, -7.02)</td></tr><tr><td> weight ($\\beta_1$)</td><td>-0.01</td><td>(-0.01, -0.01)</td></tr><tr><td>displacement ($\\beta_2$)</td><td>0.02</td><td>(0.01, 0.04)</td></tr><tr><td>cylinders ($\\beta_3$)</td><td>-0.42</td><td>(-1.02, 0.07)</td></tr><tr><td>horsepower ($\\beta_4$)</td><td>-0.01</td><td>(-0.04, 0.01)</td></tr><tr><td>origin_1 ($\\beta_5$)</td><td>-6.12</td><td>(-9.12, -3.84)</td></tr><tr><td>origin_2 ($\\beta_6$)</td><td>-3.34</td><td>(-5.62, -1.68)</td></tr><tr><td>origin_3 ($\\beta_7$)</td><td>-3.29</td><td>(-6.14, -1.14)</td></tr><tr><td>modelyear ($\\beta_8$)</td><td>0.78</td><td>(0.70, 0.89)</td></tr><tr><td>acceleration ($\\beta_9$)</td><td>0.10</td><td>(-0.11, 0.35)</td></tr><tr><th colspan=3>Metrics</th></tr><tr><td>$\\sigma$</td><td>3.31</td><td>(3.01, 3.51)</td><td></td></tr><tr><td>$R^2$</td><td>0.82</td><td>(0.80, 0.85)</td><td></td></tr></table>"
      ],
      "text/latex": [
       "\\begin{table}[!htbp] \\begin{tabular}{lll} \\hline \\multicolumn{3}{c}{\\textbf{Linear Regression}} \\\\ \\hline \\hline \\multicolumn{3}{l}{\\textbf{Coefficients}}        \\\\ \\hline $\\theta$       &          & 95\\% BCI           \\\\ ($\\beta_0$)      & -12.76   & (-20.60, -7.02)          \\\\ weight ($\\beta_1$)      & -0.01   & (-0.01, -0.01)          \\\\displacement ($\\beta_2$)      & 0.02   & (0.01, 0.04)          \\\\cylinders ($\\beta_3$)      & -0.42   & (-1.02, 0.07)          \\\\horsepower ($\\beta_4$)      & -0.01   & (-0.04, 0.01)          \\\\origin\\_1 ($\\beta_5$)      & -6.12   & (-9.12, -3.84)          \\\\origin\\_2 ($\\beta_6$)      & -3.34   & (-5.62, -1.68)          \\\\origin\\_3 ($\\beta_7$)      & -3.29   & (-6.14, -1.14)          \\\\modelyear ($\\beta_8$)      & 0.78   & (0.70, 0.89)          \\\\acceleration ($\\beta_9$)      & 0.10   & (-0.11, 0.35)          \\\\\\hline \\multicolumn{3}{l}{\\textbf{Metrics}}             \\\\ \\hline $\\sigma$      & 3.31   & (3.01, 3.51)          \\\\$R^2$      & 0.82   & (0.80, 0.85)          \\\\\\hline\\end{tabular}\\end{table}"
      ],
      "text/plain": [
       "<models.ResultsView at 0x130a9775240>"
      ]
     },
     "execution_count": 77,
     "metadata": {},
     "output_type": "execute_result"
    }
   ],
   "source": [
    "import models\n",
    "\n",
    "data3=data1\n",
    "\n",
    "model = \"mpg ~ weight+displacement+cylinders+horsepower+origin_1+origin_2+origin_3+modelyear+acceleration\"\n",
    "result1 = models.bootstrap_linear_regression(model, data=data3)\n",
    "models.describe_bootstrap_lr(result1)"
   ]
  },
  {
   "cell_type": "markdown",
   "metadata": {},
   "source": [
    "The R^2 is 85%, and the error is only 3.06. However, as the mpg does not follow a normal distribution, there maybe heteroscedasticity issues.  \n",
    "\n",
    "1. origin 2 and origin 3 have a positive relationship with mpg.  \n",
    "2. weight, displacement, cylinders, acceleration and horsepower have no significant relationship with mpg. This is quite a big surprise. \n",
    "3. We can remove weight, horsepower "
   ]
  },
  {
   "cell_type": "code",
   "execution_count": 78,
   "metadata": {},
   "outputs": [
    {
     "data": {
      "text/html": [
       "<table><tr><th colspan=3>Linear Regression Results</th></tr><th colspan=3>Coefficients</th></tr><tr><th>$\\theta$</th><th></th><th>95% BCI</th></tr><tr><td> ($\\beta_0$)</td><td>-13.77</td><td>(-22.29, -6.67)</td></tr><tr><td> displacement ($\\beta_1$)</td><td>-0.04</td><td>(-0.05, -0.02)</td></tr><tr><td>cylinders ($\\beta_2$)</td><td>-0.66</td><td>(-1.29, -0.03)</td></tr><tr><td>origin_1 ($\\beta_3$)</td><td>-6.01</td><td>(-9.16, -3.49)</td></tr><tr><td>origin_2 ($\\beta_4$)</td><td>-4.40</td><td>(-7.05, -2.57)</td></tr><tr><td>origin_3 ($\\beta_5$)</td><td>-3.35</td><td>(-6.37, -0.48)</td></tr><tr><td>modelyear ($\\beta_6$)</td><td>0.72</td><td>(0.63, 0.84)</td></tr><tr><td>acceleration ($\\beta_7$)</td><td>-0.11</td><td>(-0.33, 0.13)</td></tr><tr><th colspan=3>Metrics</th></tr><tr><td>$\\sigma$</td><td>3.91</td><td>(3.49, 4.17)</td><td></td></tr><tr><td>$R^2$</td><td>0.75</td><td>(0.73, 0.80)</td><td></td></tr></table>"
      ],
      "text/latex": [
       "\\begin{table}[!htbp] \\begin{tabular}{lll} \\hline \\multicolumn{3}{c}{\\textbf{Linear Regression}} \\\\ \\hline \\hline \\multicolumn{3}{l}{\\textbf{Coefficients}}        \\\\ \\hline $\\theta$       &          & 95\\% BCI           \\\\ ($\\beta_0$)      & -13.77   & (-22.29, -6.67)          \\\\ displacement ($\\beta_1$)      & -0.04   & (-0.05, -0.02)          \\\\cylinders ($\\beta_2$)      & -0.66   & (-1.29, -0.03)          \\\\origin\\_1 ($\\beta_3$)      & -6.01   & (-9.16, -3.49)          \\\\origin\\_2 ($\\beta_4$)      & -4.40   & (-7.05, -2.57)          \\\\origin\\_3 ($\\beta_5$)      & -3.35   & (-6.37, -0.48)          \\\\modelyear ($\\beta_6$)      & 0.72   & (0.63, 0.84)          \\\\acceleration ($\\beta_7$)      & -0.11   & (-0.33, 0.13)          \\\\\\hline \\multicolumn{3}{l}{\\textbf{Metrics}}             \\\\ \\hline $\\sigma$      & 3.91   & (3.49, 4.17)          \\\\$R^2$      & 0.75   & (0.73, 0.80)          \\\\\\hline\\end{tabular}\\end{table}"
      ],
      "text/plain": [
       "<models.ResultsView at 0x130a973b1d0>"
      ]
     },
     "execution_count": 78,
     "metadata": {},
     "output_type": "execute_result"
    }
   ],
   "source": [
    "model = \"mpg ~ displacement+cylinders+origin_1+origin_2+origin_3+modelyear+acceleration\"\n",
    "result1 = models.bootstrap_linear_regression(model, data=data3)\n",
    "models.describe_bootstrap_lr(result1)"
   ]
  },
  {
   "cell_type": "markdown",
   "metadata": {},
   "source": [
    "### Predict\n",
    "y = -13.77 - 0.04*displacement -0.66*cylinders -6.01*origin_1 -4.4*origin_2 -3.35*origin_3 +0.72*modelyear -0.11*acceleration "
   ]
  },
  {
   "cell_type": "markdown",
   "metadata": {},
   "source": [
    "### Method 2\n",
    "1. mpg has positive skewness. To overcome the skewness issue of mpg, we can standardize it"
   ]
  },
  {
   "cell_type": "code",
   "execution_count": 46,
   "metadata": {
    "scrolled": true
   },
   "outputs": [
    {
     "name": "stdout",
     "output_type": "stream",
     "text": [
      "Skewness: 0.457066\n",
      "Skewness after log+1: -0.109138\n"
     ]
    }
   ],
   "source": [
    "to_remove = [\"mpg\",\"origin\",\"modelyear\",\"car name\"]\n",
    "data_vars=data.columns.values.tolist()\n",
    "to_keep = [i for i in data if i not in to_remove]\n",
    "data2=data1[to_keep]\n",
    "y = data1[\"mpg\"]\n",
    "\n",
    "print(\"Skewness: %f\" % y.skew())\n",
    "y = np.log1p(y)\n",
    "print(\"Skewness after log+1: %f\" % y.skew())"
   ]
  },
  {
   "cell_type": "markdown",
   "metadata": {},
   "source": [
    "2. Weight, displacement, cylinders, acceleration and horsepower have no significant relationship with mpg. This maybe a problem of multicollinearity. We can try the LassoCV regularization. "
   ]
  },
  {
   "cell_type": "code",
   "execution_count": 80,
   "metadata": {},
   "outputs": [
    {
     "data": {
      "text/plain": [
       "0.10396084945496524"
      ]
     },
     "execution_count": 80,
     "metadata": {},
     "output_type": "execute_result"
    }
   ],
   "source": [
    "from sklearn.linear_model import LinearRegression\n",
    "from sklearn.linear_model import Ridge, RidgeCV, ElasticNet, LassoCV, LassoLarsCV\n",
    "from sklearn.model_selection import cross_val_score\n",
    "\n",
    "def rmse_cv(model):\n",
    "    rmse= np.sqrt(-cross_val_score(model, data2, y, scoring=\"neg_mean_squared_error\", cv = 5))\n",
    "    return(rmse)\n",
    "\n",
    "model_ridge = Ridge()\n",
    "\n",
    "model_lasso = LassoCV(alphas = [0.001]).fit(data2, y)\n",
    "\n",
    "min(rmse_cv(model_lasso))"
   ]
  },
  {
   "cell_type": "code",
   "execution_count": 84,
   "metadata": {
    "scrolled": true
   },
   "outputs": [
    {
     "name": "stdout",
     "output_type": "stream",
     "text": [
      "R^2:  0.8968166947919683\n"
     ]
    }
   ],
   "source": [
    "from sklearn.metrics import r2_score\n",
    "print(\"R^2: \",r2_score(y, model_lasso.predict(data2), multioutput='variance_weighted'))\n"
   ]
  },
  {
   "cell_type": "markdown",
   "metadata": {},
   "source": [
    "The new model's R^2 is higher, and the sign of the variables make more sense. "
   ]
  }
 ],
 "metadata": {
  "kernelspec": {
   "display_name": "Python 3",
   "language": "python",
   "name": "python3"
  },
  "language_info": {
   "codemirror_mode": {
    "name": "ipython",
    "version": 3
   },
   "file_extension": ".py",
   "mimetype": "text/x-python",
   "name": "python",
   "nbconvert_exporter": "python",
   "pygments_lexer": "ipython3",
   "version": "3.6.5"
  },
  "toc": {
   "colors": {
    "hover_highlight": "#DAA520",
    "navigate_num": "#000000",
    "navigate_text": "#333333",
    "running_highlight": "#FF0000",
    "selected_highlight": "#FFD700",
    "sidebar_border": "#EEEEEE",
    "wrapper_background": "#FFFFFF"
   },
   "moveMenuLeft": true,
   "nav_menu": {
    "height": "66px",
    "width": "252px"
   },
   "navigate_menu": true,
   "number_sections": true,
   "sideBar": true,
   "threshold": 4,
   "toc_cell": false,
   "toc_section_display": "block",
   "toc_window_display": false,
   "widenNotebook": false
  }
 },
 "nbformat": 4,
 "nbformat_minor": 2
}
