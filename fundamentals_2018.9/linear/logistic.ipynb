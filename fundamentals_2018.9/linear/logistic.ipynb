{
 "cells": [
  {
   "cell_type": "code",
   "execution_count": 1,
   "metadata": {},
   "outputs": [],
   "source": [
    "import warnings\n",
    "warnings.filterwarnings('ignore')"
   ]
  },
  {
   "cell_type": "code",
   "execution_count": 2,
   "metadata": {},
   "outputs": [],
   "source": [
    "%matplotlib inline"
   ]
  },
  {
   "cell_type": "code",
   "execution_count": 3,
   "metadata": {},
   "outputs": [],
   "source": [
    "import numpy as np\n",
    "import scipy.stats as stats\n",
    "import seaborn as sns\n",
    "import matplotlib.pyplot as plt\n",
    "import pandas as pd\n",
    "import random\n",
    "import patsy\n",
    "\n",
    "sns.set(style=\"whitegrid\")"
   ]
  },
  {
   "cell_type": "markdown",
   "metadata": {},
   "source": [
    "# Logistic Regression\n",
    "\n",
    "In the last section, we looked at how we can use a linear model to fit a numerical target variable like child IQ (or price or height or weight). Regardless of the method you use, this is called a *regression problem*. Linear regression is one way of solving the regression problem.\n",
    "\n",
    "When your target variable is a categorical variable, this is a *classification problem*. For now we'll work only with the case where there are two outcomes or labels.\n",
    "\n",
    "With our numerical $y$, we started with a model:\n",
    "\n",
    "$\\hat{y} = N(\\beta_0, \\sigma)$\n",
    "\n",
    "with the innovation that we could replace the mean in the normal distribution with a linear function of features, $f(X)$.\n",
    "\n",
    "We can do the same thing for classification. If we have a binary categorical variable $y$, it has a Bernoulli distribution with probability $p$ as the parameter. We can estimate $y$ as:\n",
    "\n",
    "$\\hat{y} = p$\n",
    "\n",
    "or the fraction of \"successes\" in the data. But what if we did the same thing as before? What if $p$ was a function of additional features? We would have:\n",
    "\n",
    "$\\hat{y} = \\beta_0 + \\beta_1 x$\n",
    "\n",
    "and we would have a model that represented how the probability of $y$ changes as $x$ changes. Although this sounds good, there is a problem. $\\beta_0 + \\beta_1 x$ is not bounded to the range (0, 1) which we require for probabilities. But it does turn out that there is a solution: we can use a transformation to keep the value in the range (0, 1), the logistic function."
   ]
  },
  {
   "cell_type": "markdown",
   "metadata": {},
   "source": [
    "## The Logistic Function\n",
    "\n",
    "The logistic function is:\n",
    "\n",
    "$logistic(z) = logit^{-1}(z) = \\frac{e^z}{1 + e^z} = \\frac{1}{1 + e^{-z}}$\n",
    "\n",
    "And it looks like the following:"
   ]
  },
  {
   "cell_type": "code",
   "execution_count": 4,
   "metadata": {},
   "outputs": [
    {
     "data": {
      "image/png": "[encoded data removed]",
      "text/plain": [
       "<Figure size 360x288 with 1 Axes>"
      ]
     },
     "metadata": {},
     "output_type": "display_data"
    }
   ],
   "source": [
    "def logistic( z):\n",
    "    return 1.0 / (1.0 + np.exp( -z))\n",
    "\n",
    "figure = plt.figure(figsize=(5,4))\n",
    "\n",
    "axes = figure.add_subplot(1, 1, 1)\n",
    "\n",
    "xs = np.linspace( -10, 10, 100)\n",
    "ys = logistic( xs)\n",
    "\n",
    "axes.plot( xs, ys)\n",
    "axes.set_ylim((-0.1, 1.1))\n",
    "axes.set_title(\"Logistic Function\")\n",
    "plt.show()\n",
    "plt.close()"
   ]
  },
  {
   "cell_type": "markdown",
   "metadata": {},
   "source": [
    "No matter what the value of $x$, the value of $y$ is always between 0 and 1 which is exactly what we need for a probability.\n",
    "\n",
    "There are a few additional things to note at this point. First, there is not a single definition of logistic regression. Gelman defines logistic regression as:\n",
    "\n",
    "$P(y=1) = logit^{-1}(\\beta_0 + \\beta_1 x)$\n",
    "\n",
    "in terms of the inverse logit function. Such a function returns the probability that $y = 1$. There are other possibilites (for example, a general maximum entropy model).\n",
    "\n",
    "Second, interpreting the coefficients becomes a bit of a problem. Let's assume that we have no features and only have:\n",
    "\n",
    "$P(y=1) = logit^{-1}(\\beta_0)$\n",
    "\n",
    "what, exactly, is $\\beta_0$? It's not a probability because the probability interpretation only takes place once we have transformed the result using the inverse logit function. We take note of the following truism:\n",
    "\n",
    "$logit^{-1}( logit( p)) = p$\n",
    "\n",
    "This is simply what it means to be an inverse function of some other function. But the interesting thing is that this means that:\n",
    "\n",
    "$\\beta_0 = logit( p)$\n",
    "\n",
    "and we do know what $logit(p)$ is, it's the *log odds*. $logit$ is defined as:\n",
    "\n",
    "$logit(p) = log(\\frac{p}{1-p})$\n",
    "\n",
    "if $p$ is the probability of an event, then $\\frac{p}{1-p}$ is the log odds of the event (the ratio of the probability for an event and the probability against the event).\n",
    "\n",
    "The third difficulty is that the logistic regression is non-linear. For linear regression, the slopes of the curve (a line) are constant (the $\\beta$s) and while logistic regression has a linear predictor, the result is non-linear in the probability space. For example, a 0.4 point increase in log odds from 0.0 to 0.4 increases probability from 50% to 60% but a 0.4 point increase in log odds from 2.2 to 2.6 only increases probability from 90% to 93%.\n",
    "\n",
    "Finally, we lose a lot of our ability to visualize what's going on when we moved from linear regression to logistic regression."
   ]
  },
  {
   "cell_type": "markdown",
   "metadata": {},
   "source": [
    "## Logistic Regression with Continuous Feature (Synthetic Data)\n",
    "\n",
    "As before, we're going to start with synthetic data to get our proverbial feet wet. Even here, generating synthetic data isn't as easy as it is for linear regression. We basically need to estimate the $p$ for each value of $x$ and then simulate it. The algorithm is something like this:\n",
    "\n",
    "```\n",
    "1. generate x using the standard normal distribution or binomial if categorical.\n",
    "2. for each data point:\n",
    "3.     z = beta_0 + beta_1 * x\n",
    "4.     pr = 1/(1_exp(-z))\n",
    "5.     y = 1 if rand() < pr else 0\n",
    "```\n",
    "\n",
    "Of note, the logistic function does not output $\\hat{y}$ as it does with linear regression. It outputs the estimated probability of $y=1$. We can take that probability and compare it to a threshold and assign $y = 0$ or $y = 1$. The $y$ above is the *real* y for the synthetic data."
   ]
  },
  {
   "cell_type": "code",
   "execution_count": 5,
   "metadata": {},
   "outputs": [],
   "source": [
    "np.random.seed(83474722)"
   ]
  },
  {
   "cell_type": "code",
   "execution_count": 6,
   "metadata": {},
   "outputs": [],
   "source": [
    "data = {}\n",
    "data[\"x\"] = stats.norm.rvs(0, 1, 100)\n",
    "data[\"z\"] = 0.5 + data[\"x\"] * 0.5\n",
    "data[\"pr\"] = list(map(lambda z: logistic(z), data[\"z\"]))\n",
    "data[\"y\"] = list(map(lambda pr: 1 if np.random.uniform() < pr else 0, data[\"pr\"]))\n",
    "data = pd.DataFrame(data)"
   ]
  },
  {
   "cell_type": "markdown",
   "metadata": {},
   "source": [
    "It's worth taking a bit more in-depth look at this data even though it's synthetic (or *because* it's synthetic). We generated $x$ from the standard Normal distribution: $x \\sim N(0, 1)$. $z$, an intermediate step, is the actual linear model: $z = \\beta_0 + \\beta_1 x$ or $z = 0.5 + 0.5 x$.\n",
    "\n",
    "As the earlier discussion mentions, we pass $z$ through the logistic function to bound it to the interval (0, 1). The result, $pr$, represents a probability. This is a conditional probability: $P(y=1|x)$. In order to find out the \"true\" $y$ for each $x$, we simulate that probability. \n",
    "\n",
    "As we can see in the table below, we have $pr=0.663$ and $y=1$ (obs 1) as well as $pr=0.857$ and $y=0$. This is logistic regression's form of \"error\", \"noise\", or the \"known unknowns and unknown unknowns\"."
   ]
  },
  {
   "cell_type": "code",
   "execution_count": 7,
   "metadata": {},
   "outputs": [
    {
     "data": {
      "text/html": [
       "<div>\n",
       "<style scoped>\n",
       "    .dataframe tbody tr th:only-of-type {\n",
       "        vertical-align: middle;\n",
       "    }\n",
       "\n",
       "    .dataframe tbody tr th {\n",
       "        vertical-align: top;\n",
       "    }\n",
       "\n",
       "    .dataframe thead th {\n",
       "        text-align: right;\n",
       "    }\n",
       "</style>\n",
       "<table border=\"1\" class=\"dataframe\">\n",
       "  <thead>\n",
       "    <tr style=\"text-align: right;\">\n",
       "      <th></th>\n",
       "      <th>x</th>\n",
       "      <th>z</th>\n",
       "      <th>pr</th>\n",
       "      <th>y</th>\n",
       "    </tr>\n",
       "  </thead>\n",
       "  <tbody>\n",
       "    <tr>\n",
       "      <th>0</th>\n",
       "      <td>0.355745</td>\n",
       "      <td>0.677873</td>\n",
       "      <td>0.663264</td>\n",
       "      <td>1</td>\n",
       "    </tr>\n",
       "    <tr>\n",
       "      <th>1</th>\n",
       "      <td>0.412298</td>\n",
       "      <td>0.706149</td>\n",
       "      <td>0.669550</td>\n",
       "      <td>1</td>\n",
       "    </tr>\n",
       "    <tr>\n",
       "      <th>2</th>\n",
       "      <td>-0.830253</td>\n",
       "      <td>0.084874</td>\n",
       "      <td>0.521206</td>\n",
       "      <td>1</td>\n",
       "    </tr>\n",
       "    <tr>\n",
       "      <th>3</th>\n",
       "      <td>2.579133</td>\n",
       "      <td>1.789567</td>\n",
       "      <td>0.856874</td>\n",
       "      <td>0</td>\n",
       "    </tr>\n",
       "    <tr>\n",
       "      <th>4</th>\n",
       "      <td>-1.067772</td>\n",
       "      <td>-0.033886</td>\n",
       "      <td>0.491529</td>\n",
       "      <td>0</td>\n",
       "    </tr>\n",
       "  </tbody>\n",
       "</table>\n",
       "</div>"
      ],
      "text/plain": [
       "          x         z        pr  y\n",
       "0  0.355745  0.677873  0.663264  1\n",
       "1  0.412298  0.706149  0.669550  1\n",
       "2 -0.830253  0.084874  0.521206  1\n",
       "3  2.579133  1.789567  0.856874  0\n",
       "4 -1.067772 -0.033886  0.491529  0"
      ]
     },
     "execution_count": 7,
     "metadata": {},
     "output_type": "execute_result"
    }
   ],
   "source": [
    "data.head()"
   ]
  },
  {
   "cell_type": "markdown",
   "metadata": {},
   "source": [
    "We could use a constant model as we have before:"
   ]
  },
  {
   "cell_type": "code",
   "execution_count": 8,
   "metadata": {},
   "outputs": [
    {
     "data": {
      "text/plain": [
       "0.57"
      ]
     },
     "execution_count": 8,
     "metadata": {},
     "output_type": "execute_result"
    }
   ],
   "source": [
    "np.mean(data.y)"
   ]
  },
  {
   "cell_type": "markdown",
   "metadata": {},
   "source": [
    "No matter what $x$ is, we say there's a 57% probability that the value of $y$ is 1. Since 57% is over 50%, we could just guess that for any $x$, $\\hat{y} = 1$. We would be right 57 of the time and wrong 43% of the time on average. 43% is the model's *error rate*.\n",
    "\n",
    "Can we do better?"
   ]
  },
  {
   "cell_type": "code",
   "execution_count": 9,
   "metadata": {},
   "outputs": [],
   "source": [
    "import sys\n",
    "sys.path.append('../resources')\n",
    "import fundamentals.models as models"
   ]
  },
  {
   "cell_type": "code",
   "execution_count": 10,
   "metadata": {},
   "outputs": [],
   "source": [
    "result = models.logistic_regression(\"y ~ x\", data = data)"
   ]
  },
  {
   "cell_type": "code",
   "execution_count": 11,
   "metadata": {},
   "outputs": [
    {
     "data": {
      "text/html": [
       "\n",
       "    <table>\n",
       "    <tr><th> model </th><td> y ~ x </td></tr>\n",
       "    <tr><th colspan=2>coefficients</th></tr>\n",
       "    <tr><th> $\\beta_0$ </th><td> 0.2537676540414115 </td></tr><tr><td>  x ($\\beta_1$) </td><td> 0.22458719062675941 </td></tr>\n",
       "    <tr><th colspan=2>metrics</th></tr>\n",
       "    <tr><td> Error (%) </td><td> 42.0 </td></tr>\n",
       "    <tr><td> $R^2$ </td><td> 0.014121676423906382 </td></tr>\n",
       "    </table>\n",
       "    "
      ],
      "text/plain": [
       "<IPython.core.display.HTML object>"
      ]
     },
     "execution_count": 11,
     "metadata": {},
     "output_type": "execute_result"
    }
   ],
   "source": [
    "models.simple_describe_lgr(result)"
   ]
  },
  {
   "cell_type": "markdown",
   "metadata": {},
   "source": [
    "We do a *little* better. The error rate here is 42% instead of (1-0.57) or 43% but that's not very encouraging. Logistic Regression doesn't actually *have* an $R^2$ metric. What we have shown here is Efron's Pseudo $R^2$. It basically measures the same thing as interpretation #1 of the \"real\" $R^2$: it's the percent of the variability in $y$ explained by the model. Not very much.\n",
    "\n",
    "Additionally, our estimates of the coefficients, $\\beta_0$ and $\\beta_1$, are pretty bad compared to the ground truth in the synthetic data. In the linear regression case we were able to recover them fairly easily. Why is the synthetic data so bad?\n",
    "\n",
    "Note that our base probability is not really much different than a coin toss (57% versus 50%). Assume a given $x$ leads to a probability of 65%. We need a lot more examples of $x$ to calculate that 65%...if we only have a few, we may never actually observe the case where $y=1$.\n",
    "\n",
    "What happens with the current data generator if we just generate more data, n=10,000 instead of n=100?"
   ]
  },
  {
   "cell_type": "code",
   "execution_count": 12,
   "metadata": {},
   "outputs": [],
   "source": [
    "data = {}\n",
    "data[\"x\"] = stats.norm.rvs(0, 1, 10000)\n",
    "data[\"z\"] = 0.5 + data[\"x\"] * 0.5\n",
    "data[\"pr\"] = list(map(lambda z: logistic(z), data[\"z\"]))\n",
    "data[\"y\"] = list(map(lambda pr: 1 if np.random.uniform() < pr else 0, data[\"pr\"]))\n",
    "data = pd.DataFrame(data)"
   ]
  },
  {
   "cell_type": "markdown",
   "metadata": {},
   "source": [
    "We can re-run our logistic regression on this data:"
   ]
  },
  {
   "cell_type": "code",
   "execution_count": 13,
   "metadata": {},
   "outputs": [
    {
     "data": {
      "text/html": [
       "\n",
       "    <table>\n",
       "    <tr><th> model </th><td> y ~ x </td></tr>\n",
       "    <tr><th colspan=2>coefficients</th></tr>\n",
       "    <tr><th> $\\beta_0$ </th><td> 0.48191297834287755 </td></tr><tr><td>  x ($\\beta_1$) </td><td> 0.49281738721214663 </td></tr>\n",
       "    <tr><th colspan=2>metrics</th></tr>\n",
       "    <tr><td> Error (%) </td><td> 36.28 </td></tr>\n",
       "    <tr><td> $R^2$ </td><td> 0.053548442103228955 </td></tr>\n",
       "    </table>\n",
       "    "
      ],
      "text/plain": [
       "<IPython.core.display.HTML object>"
      ]
     },
     "execution_count": 13,
     "metadata": {},
     "output_type": "execute_result"
    }
   ],
   "source": [
    "result1 = models.logistic_regression(\"y ~ x\", data = data)\n",
    "models.simple_describe_lgr(result1)"
   ]
  },
  {
   "cell_type": "markdown",
   "metadata": {},
   "source": [
    "Our coefficient estimates are almost exactly the same as the ground truth. Still our error rate is 36.3% instead of 43.0%. This is probably as good as we can get. What happens if bump up the base probability a bit?"
   ]
  },
  {
   "cell_type": "code",
   "execution_count": 14,
   "metadata": {},
   "outputs": [],
   "source": [
    "data = {}\n",
    "data[\"x\"] = stats.norm.rvs(0, 1, 10000)\n",
    "data[\"z\"] = 0.75 + data[\"x\"] * 10\n",
    "data[\"pr\"] = list(map(lambda z: logistic(z), data[\"z\"]))\n",
    "data[\"y\"] = list(map(lambda pr: 1 if np.random.uniform() < pr else 0, data[\"pr\"]))\n",
    "data = pd.DataFrame(data)"
   ]
  },
  {
   "cell_type": "markdown",
   "metadata": {},
   "source": [
    "Let's look at this data. The probabilities of each observation are now either very near 0 or very near 1:"
   ]
  },
  {
   "cell_type": "code",
   "execution_count": 15,
   "metadata": {},
   "outputs": [
    {
     "data": {
      "text/html": [
       "<div>\n",
       "<style scoped>\n",
       "    .dataframe tbody tr th:only-of-type {\n",
       "        vertical-align: middle;\n",
       "    }\n",
       "\n",
       "    .dataframe tbody tr th {\n",
       "        vertical-align: top;\n",
       "    }\n",
       "\n",
       "    .dataframe thead th {\n",
       "        text-align: right;\n",
       "    }\n",
       "</style>\n",
       "<table border=\"1\" class=\"dataframe\">\n",
       "  <thead>\n",
       "    <tr style=\"text-align: right;\">\n",
       "      <th></th>\n",
       "      <th>x</th>\n",
       "      <th>z</th>\n",
       "      <th>pr</th>\n",
       "      <th>y</th>\n",
       "    </tr>\n",
       "  </thead>\n",
       "  <tbody>\n",
       "    <tr>\n",
       "      <th>0</th>\n",
       "      <td>0.875917</td>\n",
       "      <td>9.509174</td>\n",
       "      <td>0.999926</td>\n",
       "      <td>1</td>\n",
       "    </tr>\n",
       "    <tr>\n",
       "      <th>1</th>\n",
       "      <td>-0.537053</td>\n",
       "      <td>-4.620530</td>\n",
       "      <td>0.009752</td>\n",
       "      <td>0</td>\n",
       "    </tr>\n",
       "    <tr>\n",
       "      <th>2</th>\n",
       "      <td>0.809259</td>\n",
       "      <td>8.842593</td>\n",
       "      <td>0.999856</td>\n",
       "      <td>1</td>\n",
       "    </tr>\n",
       "    <tr>\n",
       "      <th>3</th>\n",
       "      <td>-0.632188</td>\n",
       "      <td>-5.571878</td>\n",
       "      <td>0.003789</td>\n",
       "      <td>0</td>\n",
       "    </tr>\n",
       "    <tr>\n",
       "      <th>4</th>\n",
       "      <td>-0.757485</td>\n",
       "      <td>-6.824855</td>\n",
       "      <td>0.001085</td>\n",
       "      <td>0</td>\n",
       "    </tr>\n",
       "  </tbody>\n",
       "</table>\n",
       "</div>"
      ],
      "text/plain": [
       "          x         z        pr  y\n",
       "0  0.875917  9.509174  0.999926  1\n",
       "1 -0.537053 -4.620530  0.009752  0\n",
       "2  0.809259  8.842593  0.999856  1\n",
       "3 -0.632188 -5.571878  0.003789  0\n",
       "4 -0.757485 -6.824855  0.001085  0"
      ]
     },
     "execution_count": 15,
     "metadata": {},
     "output_type": "execute_result"
    }
   ],
   "source": [
    "data.head()"
   ]
  },
  {
   "cell_type": "markdown",
   "metadata": {},
   "source": [
    "The constant model shows a probability of 52.2% for $y=1$. This means it has an error rate of 47.8%!"
   ]
  },
  {
   "cell_type": "code",
   "execution_count": 16,
   "metadata": {},
   "outputs": [
    {
     "data": {
      "text/plain": [
       "0.5215"
      ]
     },
     "execution_count": 16,
     "metadata": {},
     "output_type": "execute_result"
    }
   ],
   "source": [
    "np.mean(data.y)"
   ]
  },
  {
   "cell_type": "markdown",
   "metadata": {},
   "source": [
    "What about our logistic regression model?"
   ]
  },
  {
   "cell_type": "code",
   "execution_count": 17,
   "metadata": {},
   "outputs": [
    {
     "data": {
      "text/html": [
       "\n",
       "    <table>\n",
       "    <tr><th> model </th><td> y ~ x </td></tr>\n",
       "    <tr><th colspan=2>coefficients</th></tr>\n",
       "    <tr><th> $\\beta_0$ </th><td> 0.6863678877233862 </td></tr><tr><td>  x ($\\beta_1$) </td><td> 9.446839673426243 </td></tr>\n",
       "    <tr><th colspan=2>metrics</th></tr>\n",
       "    <tr><td> Error (%) </td><td> 5.09 </td></tr>\n",
       "    <tr><td> $R^2$ </td><td> 0.8499375917206478 </td></tr>\n",
       "    </table>\n",
       "    "
      ],
      "text/plain": [
       "<IPython.core.display.HTML object>"
      ]
     },
     "execution_count": 17,
     "metadata": {},
     "output_type": "execute_result"
    }
   ],
   "source": [
    "result2 = models.logistic_regression(\"y ~ x\", data = data)\n",
    "models.simple_describe_lgr(result2)"
   ]
  },
  {
   "cell_type": "markdown",
   "metadata": {},
   "source": [
    "The coefficients are almost exact *and* the error rate is only 5.1%. The (pseudo) $R^2$ shows that our model explains 85% of the variation in $y$.\n",
    "\n",
    "This set of experiments shows us a number of things. First, generating synthetic data is very useful for learning how your algorithms work. In fact, let's do one more experiment. Let's reduce the number of observations back to 100:"
   ]
  },
  {
   "cell_type": "code",
   "execution_count": 18,
   "metadata": {},
   "outputs": [],
   "source": [
    "data = {}\n",
    "data[\"x\"] = stats.norm.rvs(0, 1, 10000)\n",
    "data[\"z\"] = 0.75 + data[\"x\"] * 10\n",
    "data[\"pr\"] = list(map(lambda z: logistic(z), data[\"z\"]))\n",
    "data[\"y\"] = list(map(lambda pr: 1 if np.random.uniform() < pr else 0, data[\"pr\"]))\n",
    "data = pd.DataFrame(data)"
   ]
  },
  {
   "cell_type": "code",
   "execution_count": 19,
   "metadata": {},
   "outputs": [
    {
     "data": {
      "text/html": [
       "\n",
       "    <table>\n",
       "    <tr><th> model </th><td> y ~ x </td></tr>\n",
       "    <tr><th colspan=2>coefficients</th></tr>\n",
       "    <tr><th> $\\beta_0$ </th><td> 0.6444413748682873 </td></tr><tr><td>  x ($\\beta_1$) </td><td> 8.931478729253824 </td></tr>\n",
       "    <tr><th colspan=2>metrics</th></tr>\n",
       "    <tr><td> Error (%) </td><td> 5.7700000000000005 </td></tr>\n",
       "    <tr><td> $R^2$ </td><td> 0.8342952310244401 </td></tr>\n",
       "    </table>\n",
       "    "
      ],
      "text/plain": [
       "<IPython.core.display.HTML object>"
      ]
     },
     "execution_count": 19,
     "metadata": {},
     "output_type": "execute_result"
    }
   ],
   "source": [
    "result3 = models.logistic_regression(\"y ~ x\", data = data)\n",
    "models.simple_describe_lgr(result3)"
   ]
  },
  {
   "cell_type": "markdown",
   "metadata": {},
   "source": [
    "Here our error rate is still quite a bit lower but the estimates of our coefficients aren't as good. We need both a lot of data and clear underlying pattern *and* this pattern isn't as obvious as it is with linear regression."
   ]
  },
  {
   "cell_type": "markdown",
   "metadata": {},
   "source": [
    "## Logistic Regression with Real Data\n",
    "\n",
    "When it comes to either numerical features or a binary categorical features, there is no difference between linear regression and logistic regression. We can have numerical features which will affect the slope and intercept of the line. We can have binary categorical features that will affect the intercept of the line. We can have interaction terms that will affect the slope of the line.\n",
    "\n",
    "The main difference with linear regression is in the interpretation of the coefficients.\n",
    "\n",
    "For logistic regression, the coefficients are log-odds and while some people are quite comfortable thinking in terms of log-odds, most are not. How do we convert them into something we can understand?\n",
    "\n",
    "Let's begin the discussion by looking at real data. This data is from a study of villager behavior in Bangladesh. Wells were examined for natural arsenic contamination and villagers using wells with higher arsenic readings were encouraged to use other wells or dig new ones. The variables are:\n",
    "\n",
    "* **switch** - yes (1) or no (0), did the respondent switch to a new well.\n",
    "* **dist** - distance to the nearest safe well in meters.\n",
    "* **arsenic** - arsenic level of the respondent’s well.\n",
    "* **assoc** - does the respondent or a family member belong to a community association.\n",
    "* **educ** - the educational attainment of the respondent in years.\n",
    "\n",
    "Let's start out with a logistic regression model for $\\hat{switch}$:\n",
    "\n",
    "$P(\\hat{switch}=1) = logistic^{-1}(\\beta_0 + \\beta_1 dist)$\n",
    "\n",
    "although we really have something like:\n",
    "\n",
    "$z = \\beta_0 + \\beta_1 dist$\n",
    "\n",
    "$\\hat{pr} = \\frac{1}{1+e^{-z}}$\n",
    "\n",
    "$\\hat{y}$ = 1 if $\\hat{pr}$ > 0.5 else 0\n",
    "\n",
    "which is a bit more complicated to write each time."
   ]
  },
  {
   "cell_type": "code",
   "execution_count": 20,
   "metadata": {},
   "outputs": [],
   "source": [
    "wells = pd.read_csv( \"../resources/data/arsenic.wells.tsv\", sep=\" \")"
   ]
  },
  {
   "cell_type": "markdown",
   "metadata": {},
   "source": [
    "Let's check the representations:"
   ]
  },
  {
   "cell_type": "code",
   "execution_count": 21,
   "metadata": {},
   "outputs": [
    {
     "name": "stdout",
     "output_type": "stream",
     "text": [
      "<class 'pandas.core.frame.DataFrame'>\n",
      "Int64Index: 3020 entries, 1 to 3020\n",
      "Data columns (total 5 columns):\n",
      "switch     3020 non-null int64\n",
      "arsenic    3020 non-null float64\n",
      "dist       3020 non-null float64\n",
      "assoc      3020 non-null int64\n",
      "educ       3020 non-null int64\n",
      "dtypes: float64(2), int64(3)\n",
      "memory usage: 141.6 KB\n"
     ]
    }
   ],
   "source": [
    "wells.info()"
   ]
  },
  {
   "cell_type": "markdown",
   "metadata": {},
   "source": [
    "There is nothing particularly startling here. Let's see a few values:"
   ]
  },
  {
   "cell_type": "code",
   "execution_count": 22,
   "metadata": {},
   "outputs": [
    {
     "data": {
      "text/html": [
       "<div>\n",
       "<style scoped>\n",
       "    .dataframe tbody tr th:only-of-type {\n",
       "        vertical-align: middle;\n",
       "    }\n",
       "\n",
       "    .dataframe tbody tr th {\n",
       "        vertical-align: top;\n",
       "    }\n",
       "\n",
       "    .dataframe thead th {\n",
       "        text-align: right;\n",
       "    }\n",
       "</style>\n",
       "<table border=\"1\" class=\"dataframe\">\n",
       "  <thead>\n",
       "    <tr style=\"text-align: right;\">\n",
       "      <th></th>\n",
       "      <th>switch</th>\n",
       "      <th>arsenic</th>\n",
       "      <th>dist</th>\n",
       "      <th>assoc</th>\n",
       "      <th>educ</th>\n",
       "    </tr>\n",
       "  </thead>\n",
       "  <tbody>\n",
       "    <tr>\n",
       "      <th>1</th>\n",
       "      <td>1</td>\n",
       "      <td>2.36</td>\n",
       "      <td>16.826000</td>\n",
       "      <td>0</td>\n",
       "      <td>0</td>\n",
       "    </tr>\n",
       "    <tr>\n",
       "      <th>2</th>\n",
       "      <td>1</td>\n",
       "      <td>0.71</td>\n",
       "      <td>47.321999</td>\n",
       "      <td>0</td>\n",
       "      <td>0</td>\n",
       "    </tr>\n",
       "    <tr>\n",
       "      <th>3</th>\n",
       "      <td>0</td>\n",
       "      <td>2.07</td>\n",
       "      <td>20.966999</td>\n",
       "      <td>0</td>\n",
       "      <td>10</td>\n",
       "    </tr>\n",
       "    <tr>\n",
       "      <th>4</th>\n",
       "      <td>1</td>\n",
       "      <td>1.15</td>\n",
       "      <td>21.486000</td>\n",
       "      <td>0</td>\n",
       "      <td>12</td>\n",
       "    </tr>\n",
       "    <tr>\n",
       "      <th>5</th>\n",
       "      <td>1</td>\n",
       "      <td>1.10</td>\n",
       "      <td>40.874001</td>\n",
       "      <td>1</td>\n",
       "      <td>14</td>\n",
       "    </tr>\n",
       "  </tbody>\n",
       "</table>\n",
       "</div>"
      ],
      "text/plain": [
       "   switch  arsenic       dist  assoc  educ\n",
       "1       1     2.36  16.826000      0     0\n",
       "2       1     0.71  47.321999      0     0\n",
       "3       0     2.07  20.966999      0    10\n",
       "4       1     1.15  21.486000      0    12\n",
       "5       1     1.10  40.874001      1    14"
      ]
     },
     "execution_count": 22,
     "metadata": {},
     "output_type": "execute_result"
    }
   ],
   "source": [
    "wells.head()"
   ]
  },
  {
   "cell_type": "markdown",
   "metadata": {},
   "source": [
    "The base model (and error rate) are:"
   ]
  },
  {
   "cell_type": "code",
   "execution_count": 23,
   "metadata": {},
   "outputs": [
    {
     "name": "stdout",
     "output_type": "stream",
     "text": [
      "P(switch=1) = 0.58 (0.42)\n"
     ]
    }
   ],
   "source": [
    "mean = np.mean(wells.switch)\n",
    "print(\"P(switch=1) = {0:.2f} ({1:.2f})\".format(mean, 1-mean))"
   ]
  },
  {
   "cell_type": "markdown",
   "metadata": {},
   "source": [
    "The base model (often called the \"null\" model) is that $P(switch=1) = 0.58$ which leads to an error rate of 42%. Let's see what logistic regression can get us:"
   ]
  },
  {
   "cell_type": "code",
   "execution_count": 24,
   "metadata": {},
   "outputs": [
    {
     "data": {
      "text/html": [
       "\n",
       "    <table>\n",
       "    <tr><th> model </th><td> switch ~ dist </td></tr>\n",
       "    <tr><th colspan=2>coefficients</th></tr>\n",
       "    <tr><th> $\\beta_0$ </th><td> 0.6037633891715467 </td></tr><tr><td>  dist ($\\beta_1$) </td><td> -0.006190836732543084 </td></tr>\n",
       "    <tr><th colspan=2>metrics</th></tr>\n",
       "    <tr><td> Error (%) </td><td> 40.52980132450331 </td></tr>\n",
       "    <tr><td> $R^2$ </td><td> 0.014008823648310686 </td></tr>\n",
       "    </table>\n",
       "    "
      ],
      "text/plain": [
       "<IPython.core.display.HTML object>"
      ]
     },
     "execution_count": 24,
     "metadata": {},
     "output_type": "execute_result"
    }
   ],
   "source": [
    "result = models.logistic_regression( \"switch ~ dist\", data = wells)\n",
    "models.simple_describe_lgr(result)"
   ]
  },
  {
   "cell_type": "markdown",
   "metadata": {},
   "source": [
    "So again, this is the real world and real data and sometimes you only get improvements such as these. Despite the showing on this data, logistic regression is a very powerful modeling technique.\n",
    "\n",
    "We can see that the error rate and (pseudo) $R^2$ of this model aren't great but we're much more interested in interpreting the model coefficients. What do they mean?"
   ]
  },
  {
   "cell_type": "markdown",
   "metadata": {},
   "source": [
    "### Intercept\n",
    "\n",
    "The intercept in this case has a legitimate $dist = 0$ interpretation. If the alternative well is 0 meters away, what is the probability of switching?\n",
    "\n",
    "We can use our previous identity and use the inverse logit (logistic) function:"
   ]
  },
  {
   "cell_type": "code",
   "execution_count": 25,
   "metadata": {},
   "outputs": [
    {
     "data": {
      "text/plain": [
       "0.6465252043640823"
      ]
     },
     "execution_count": 25,
     "metadata": {},
     "output_type": "execute_result"
    }
   ],
   "source": [
    "logistic( 0.6038)"
   ]
  },
  {
   "cell_type": "markdown",
   "metadata": {},
   "source": [
    "so the probability of switching is 64.7% if the safe well is zero meters away (that doesn't really bode well). If we were to run the logistic regression without any regressors, we could think of $\\beta_0$ as the *prior* log odds. In essence, logistic regression is a function that calculates conditional probabilities based on the features instead of using a table. \n",
    "\n",
    "Once you add features, $\\beta_0$ is no longer a pure prior because it has been optimized in the presence of the other features and therefore is still a conditional probability...just with all the features at 0."
   ]
  },
  {
   "cell_type": "markdown",
   "metadata": {},
   "source": [
    "### Coefficients\n",
    "\n",
    "Next, we can look at each coefficient (or in this case, the only coefficient). The model basically says there is a 0.0062 decrease in *log odds* (remember that the coefficients are not in probability space until transformed) for every meter to the nearest safe well. Now we have a problem. While $\\beta_i$ as *log odds* is linear in $x_i$ (that's *all* the term \"linear model\" means), arbitrary transformations of $\\beta_i$, $t(\\beta_i)$ is not necessarily linear in $x_i$ and that is the case here. How do we get around this problem? \n",
    "\n",
    "\n",
    "There are several options:\n",
    "\n",
    "**No. 1 - Evaluate at the mean of the variable with a unit change.**\n",
    "\n",
    "The mean value of dist(ance) is 48.33. If we evaluate our model using that value, we get:\n",
    "\n",
    "$P(switch = 1)$ = $logit^{-1}(0.6038 - 0.0062 \\times 48.33)$ = $logit^{-1}(0.304154)$ = 0.5755\n",
    "\n",
    "And if we do the same thing again after adding 1 meter to the average distance, we get:\n",
    "\n",
    "$P(switch = 1)$ = $logit^{-1}(0.6038 - 0.0062 \\times 49.33)$ = $logit^{-1}(0.297954)$ = 0.5739\n",
    "\n",
    "So...that's a decrease of about 0.0016 percentage points (or 0.27%) which isn't huge but then we only increased the difference by a little over 3 feet!\n",
    "\n",
    "But, you need to be careful with mean scaled data (which we'll talk about in the next chapter). A unit change is equal to one entire standard deviation which may be an extremely large value...or an extremely small one."
   ]
  },
  {
   "cell_type": "code",
   "execution_count": 26,
   "metadata": {},
   "outputs": [
    {
     "name": "stdout",
     "output_type": "stream",
     "text": [
      "0.5754576812550608 0.5739422790895422\n",
      "0.0015154021655185979\n"
     ]
    }
   ],
   "source": [
    "a = logistic( 0.6038 - 0.0062 * 48.33)\n",
    "b = logistic( 0.6038 - 0.0062 * 49.33)\n",
    "print(a, b)\n",
    "print(a - b)"
   ]
  },
  {
   "cell_type": "markdown",
   "metadata": {},
   "source": [
    "If you have more than one $x_i$, you should set all of them to their mean values and then do a unit change for each variable separately.\n",
    "\n",
    "Note that this is a good reason to mean *center* data in a logistic regression but not to mean *scale* it. The reason for not mean scaling is that:\n",
    "\n",
    "1. The coefficients do have clear interpretations and relative magnitudes (changes in probability after transformation).\n",
    "2. Mean *scaling* makes 1 unit equal to one standard deviation of the standard normal distribution. This might be a very, very large value in the variables actual domain which messes up the approximation.\n",
    "\n",
    "**No. 2 - Calculate the derivative of the logistic and evaluate it at the mean of the variable.**\n",
    "\n",
    "$\\frac{\\partial}{\\partial x_i}logit^{-1}(\\beta X) = \\frac{\\beta_i e^{\\beta X}}{(1 + e^{\\beta X})^2}$\n",
    "\n",
    "but $\\beta X$ (z) is just the log odds at the mean values of X (if X is indeed $[1.0, \\bar{x}_1, \\bar{x}_2, ... ,\\bar{x}_n]$) so if we plug our value for the model evaluated at the mean into the derivative, we get:\n",
    "\n",
    "$\\frac{0.0062 e^{0.0062 \\times 0.3042}}{(1 + e^{0.0062 \\times 0.3042})^2} = 0.0016$"
   ]
  },
  {
   "cell_type": "code",
   "execution_count": 27,
   "metadata": {},
   "outputs": [
    {
     "name": "stdout",
     "output_type": "stream",
     "text": [
      "0.0015499986216064004\n"
     ]
    }
   ],
   "source": [
    "def logistic_slope_at( beta, z):\n",
    "    return (beta * np.exp( beta * z)) / (1.0 + np.exp( beta * z))**2\n",
    "\n",
    "print(logistic_slope_at( 0.0062, 0.3042))"
   ]
  },
  {
   "cell_type": "markdown",
   "metadata": {},
   "source": [
    "**No. 3 - Divide by 4 Rule**\n",
    "\n",
    "$\\beta_1 / 4 = 0.0062 / 4 = 0.00155$\n",
    "\n",
    "It's just a rule of thumb but easy. It has the same general interpretation though...the change in probability from a unit change at the mean of the regressor. Again, this approach can get very funky with mean scaled data because a unit change is a full standard deviation which can actually be enormous or infinitesimal. Why does that work?\n",
    "\n",
    "The slope of the logistic curve is maximized where the first derivative is zero or $\\beta_0 + \\beta_1 + x = 0$. We can solve for this as:\n",
    "\n",
    "\n",
    "$\\frac{beta_1e^0}{(1+e^0)^2}$\n",
    "\n",
    "$\\frac{\\beta_1 \\times 1}{(1+1)^2}$\n",
    "\n",
    "$\\frac{\\beta_1}{4}$\n",
    "\n",
    "This interpretation holds best in the context of mean values for the corresponding feature, $x$.\n",
    "\n",
    "**No. 4 - Average Predictive Difference**\n",
    "\n",
    "We can also average the probabilities over all of our data points for a specific change in each of our predictors. For a model with only one predictor, this amounts to the same thing as No. 1 so we will save this for later."
   ]
  },
  {
   "cell_type": "markdown",
   "metadata": {},
   "source": [
    "## Useful Transformations\n",
    "\n",
    "We'll talk more about transformations in the next chapter. The main point of this chapter is to establish what linear and logistic regression are and how to interpret them. However, there is an especially useful transformation for logistic regression and that involves transforming the units.\n",
    "\n",
    "This doesn't affect the quality of the model at all. It does, however, change how you interpret it. For example, the current units of $dist$ are meters. The probability of change per *meter* is pretty small. But what about the probability of changing per *ten meters*? That's nearly 33 feet."
   ]
  },
  {
   "cell_type": "code",
   "execution_count": 28,
   "metadata": {},
   "outputs": [],
   "source": [
    "wells[\"dist10\"] = wells[\"dist\"]/10"
   ]
  },
  {
   "cell_type": "code",
   "execution_count": 29,
   "metadata": {},
   "outputs": [
    {
     "data": {
      "text/html": [
       "\n",
       "    <table>\n",
       "    <tr><th> model </th><td> switch ~ dist10 </td></tr>\n",
       "    <tr><th colspan=2>coefficients</th></tr>\n",
       "    <tr><th> $\\beta_0$ </th><td> 0.6037199072700449 </td></tr><tr><td>  dist10 ($\\beta_1$) </td><td> -0.061900276306780064 </td></tr>\n",
       "    <tr><th colspan=2>metrics</th></tr>\n",
       "    <tr><td> Error (%) </td><td> 40.52980132450331 </td></tr>\n",
       "    <tr><td> $R^2$ </td><td> 0.014008790069098054 </td></tr>\n",
       "    </table>\n",
       "    "
      ],
      "text/plain": [
       "<IPython.core.display.HTML object>"
      ]
     },
     "execution_count": 29,
     "metadata": {},
     "output_type": "execute_result"
    }
   ],
   "source": [
    "result = models.logistic_regression( \"switch ~ dist10\", data = wells)\n",
    "models.simple_describe_lgr(result)"
   ]
  },
  {
   "cell_type": "markdown",
   "metadata": {},
   "source": [
    "We can now reinterpret the model. The probability of switching decreases by 1.5% (-00.619/4 = -0.015475 or \"Divide by 4\" rule) at the average when the distance to the safe well increases by 10 meters.\n",
    "\n",
    "It's interesting to note that Gelman used 100 to scale his data. The problem with this, in an interpetability sense, is that if you look at distance, the median distance to a safe well is 36.7 meters. The 3rd quartile is 64 meters. A 100 meter difference just doesn't figure prominently into the data even though the maximum distance was 339.5 meters. 10 meters seems like a reasonable unit in this case.\n",
    "\n",
    "Again, this doesn't change how good the model is. But it does it easier to talk about than \"15 100ths of a percent per meter\"."
   ]
  },
  {
   "cell_type": "markdown",
   "metadata": {},
   "source": [
    "## Plotting Logistic Regression\n",
    "\n",
    "It's not quite as easy to plot a logistic regression as it is linear regression. If we just plot the data, we have:"
   ]
  },
  {
   "cell_type": "code",
   "execution_count": 30,
   "metadata": {},
   "outputs": [
    {
     "data": {
      "image/png": "[encoded data removed]",
      "text/plain": [
       "<Figure size 720x432 with 1 Axes>"
      ]
     },
     "metadata": {},
     "output_type": "display_data"
    }
   ],
   "source": [
    "figure = plt.figure(figsize=(10,6))\n",
    "\n",
    "axes = figure.add_subplot(1, 1, 1)\n",
    "\n",
    "xs = wells[ \"dist10\"]\n",
    "ys = wells[ \"switch\"]\n",
    "axes.scatter( xs, ys, color=\"dimgray\", alpha=0.5)\n",
    "betas = result[ \"coefficients\"]\n",
    "\n",
    "zs = np.linspace( xs.min(), xs.max(), 100)\n",
    "ps = [logistic( betas[ 0] + betas[ 1] * x) for x in zs]\n",
    "\n",
    "axes.plot(zs, ps, '-', color=\"firebrick\", alpha=0.75)\n",
    "axes.set_title( result[ \"formula\"])\n",
    "axes.set_xlabel(\"dist (10s of meters)\")\n",
    "axes.set_ylabel(\"switch\")\n",
    "\n",
    "plt.show()\n",
    "plt.close()"
   ]
  },
  {
   "cell_type": "markdown",
   "metadata": {},
   "source": [
    "It's just not very interesting or informative on its own. Additionally, you have the problem that logistic regression is nonlinear. We'll get into plotting multivariate regression (linear and logistic) in the next chapter. The solution for logistic regression is usually to plot the *decision boundary* in feature space and not to plot the target at all."
   ]
  },
  {
   "cell_type": "markdown",
   "metadata": {},
   "source": [
    "## Bootstrap Inference\n",
    "\n",
    "As with linear regression, we can also apply bootstrap inference to logistic regression and with the same results. Here we only show the function in operation. We also make the innovation that we include \"divide by 4\" interpretations of our coefficients:"
   ]
  },
  {
   "cell_type": "code",
   "execution_count": 31,
   "metadata": {},
   "outputs": [
    {
     "data": {
      "text/html": [
       "\n",
       "    <table>\n",
       "    <tr><th> model </th><td> switch ~ dist10 </td></tr>\n",
       "    <tr><th colspan=2>coefficients</th><th>95% BCI</th><th>P(y=1)</th></tr>\n",
       "    <tr><th> $\\beta_0$ </th><td> 0.604 </td><td>(0.475, 0.720)</td><td>0.647</td></tr><tr><td>  dist10 ($\\beta_1$) </td><td> -0.062 </td><td>(-0.083, -0.045)</td><td>-0.015</td></tr><tr><th colspan=2>metrics</th><th>95% BCI</th></tr><tr><td> Error (%) </td><td> 40.530 </td><td>(38.540, 42.595) </td></tr><tr><th> $R^2$ </th><td> 0.014 </td><td>(0.008, 0.026)</td></tr></table>"
      ],
      "text/plain": [
       "<IPython.core.display.HTML object>"
      ]
     },
     "execution_count": 31,
     "metadata": {},
     "output_type": "execute_result"
    }
   ],
   "source": [
    "result = models.bootstrap_logistic_regression(\"switch ~ dist10\", wells)\n",
    "models.describe_bootstrap_lgr(result, 3)"
   ]
  },
  {
   "cell_type": "markdown",
   "metadata": {},
   "source": [
    "The development so far has been pedagogical. You should always do bootstrap inference for both linear and logistic regression and going forward, we will."
   ]
  }
 ],
 "metadata": {
  "kernelspec": {
   "display_name": "Python 3",
   "language": "python",
   "name": "python3"
  },
  "language_info": {
   "codemirror_mode": {
    "name": "ipython",
    "version": 3
   },
   "file_extension": ".py",
   "mimetype": "text/x-python",
   "name": "python",
   "nbconvert_exporter": "python",
   "pygments_lexer": "ipython3",
   "version": "3.6.4"
  },
  "toc": {
   "colors": {
    "hover_highlight": "#DAA520",
    "navigate_num": "#000000",
    "navigate_text": "#333333",
    "running_highlight": "#FF0000",
    "selected_highlight": "#FFD700",
    "sidebar_border": "#EEEEEE",
    "wrapper_background": "#FFFFFF"
   },
   "moveMenuLeft": true,
   "nav_menu": {
    "height": "189px",
    "width": "252px"
   },
   "navigate_menu": true,
   "number_sections": true,
   "sideBar": true,
   "threshold": 4,
   "toc_cell": false,
   "toc_section_display": "block",
   "toc_window_display": false,
   "widenNotebook": false
  }
 },
 "nbformat": 4,
 "nbformat_minor": 2
}
