{
 "cells": [
  {
   "cell_type": "markdown",
   "metadata": {},
   "source": [
    "# Linear Models - Part 1\n",
    "\n",
    "We started our efforts at modeling with means, rates, and proportions. These suffice surprisingly often. To this repertoire, we added mathematical distributions as a kind of model. What these two types of models have in common is that they only use information about the variable itself. For example, if we want to model some numerical variable, $y$, we might plot a histogram to get a feel for the shape of the data, calculate the mean, or even estimate a mode of $y$ using moments to estimate the parameters of an appropriate mathematical distribution. But we don't use any information from other variables.\n",
    "\n",
    "In our EDA, however, we *have* used other variables, often looking at pairwise relationships between variables using visualization and correlation as a guide. In this chapter, we will start building linear models of a single variable (only one \"x\"). In a later chapter, we'll expand our linear models to include multiple variables."
   ]
  },
  {
   "cell_type": "markdown",
   "metadata": {
    "nbsphinx-toctree": {}
   },
   "source": [
    "* [Terminology](terms.ipynb)\n",
    "* [Linear Regression](linear.ipynb)\n",
    "* [Logistic Regression](logistic.ipynb)\n",
    "* [Conclusion](conclusion.ipynb)"
   ]
  }
 ],
 "metadata": {
  "celltoolbar": "Edit Metadata",
  "kernelspec": {
   "display_name": "Python 3",
   "language": "python",
   "name": "python3"
  },
  "language_info": {
   "codemirror_mode": {
    "name": "ipython",
    "version": 3
   },
   "file_extension": ".py",
   "mimetype": "text/x-python",
   "name": "python",
   "nbconvert_exporter": "python",
   "pygments_lexer": "ipython3",
   "version": "3.7.0"
  },
  "toc": {
   "colors": {
    "hover_highlight": "#DAA520",
    "navigate_num": "#000000",
    "navigate_text": "#333333",
    "running_highlight": "#FF0000",
    "selected_highlight": "#FFD700",
    "sidebar_border": "#EEEEEE",
    "wrapper_background": "#FFFFFF"
   },
   "moveMenuLeft": true,
   "nav_menu": {
    "height": "30px",
    "width": "252px"
   },
   "navigate_menu": true,
   "number_sections": true,
   "sideBar": true,
   "threshold": 4,
   "toc_cell": false,
   "toc_section_display": "block",
   "toc_window_display": false,
   "widenNotebook": false
  }
 },
 "nbformat": 4,
 "nbformat_minor": 2
}
