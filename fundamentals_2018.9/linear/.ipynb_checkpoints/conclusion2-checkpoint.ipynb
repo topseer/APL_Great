{
 "cells": [
  {
   "cell_type": "markdown",
   "metadata": {},
   "source": [
    "# Conclusion\n",
    "\n",
    "In this chapter we have extended the basic concepts of linear models to the multivariate case. As a result, we have talked about model building. The basic guidelines to model building are:\n",
    "\n",
    "1. Start with all features as suggested by domain knowledge, but...\n",
    "2. Analyze features for correlations and, of those groups, consider picking the best variable, an average of the variables, or some other transformation (sum, min, max, etc).\n",
    "3. Transform all categorical variables into one hot encodings but leave one encoding out of the model for each variable. The intercept $\\beta_0$ represent all the outcomes that are excluded explicitly. Which one you leave out might depend on the number of observations for each and what you want to do with the model.\n",
    "4. Examine the residuals and EDA of the features and refer back to domain knowledge to see if any transformations are warranted including converting numerical variables into discrete, categorical variables.\n",
    "\n",
    "Our rule of thumb for examining coefficients and their credible bounds is:\n",
    "\n",
    "\n",
    "| Case | Sign | Credible Interval | Action |\n",
    "|------|------------|--------------------|------------|\n",
    "| 1    | expected | does not include 0 | Keep  |\n",
    "| 2    | expected | does include 0 | Keep |\n",
    "| 3    | unexpected | does not include 0 | Re-examine |\n",
    "| 4    | unexpected | does include 0 | Remove |\n",
    "\n",
    "which presumes that we think about our problem domain before running the models.\n",
    "\n",
    "There are many, many variations for linear models and we'll talk about a few more variations in the next chapter."
   ]
  },
  {
   "cell_type": "markdown",
   "metadata": {},
   "source": [
    "## Review\n",
    "\n",
    "1. What are our guidelines for building linear models?\n",
    "2. Explain how to use a linear regression for estimation and the role of $\\sigma$.\n",
    "3. What is the Adjusted $R^2$ and why do we need it?\n",
    "4. When examining a coefficient, what are the four (4) possibilities and what should you do in each case?\n",
    "5. What is the difference between *scaling* and *mean centering*? How do they help with the interpretation of coefficients? What are the pros and cons of each? Why do we save the parameters?\n",
    "6. Why might we use a baseline to center our data instead of the mean?\n",
    "7. How do we handle categorical variables of more than two possibilities? Why can't we just use numeric codes?\n",
    "8. What are residuals? What is a residual plot?\n",
    "9. Explain how increasing and decreasing returns might suggest a variable transformation. What kinds of transformation? How might we spot the necessity of such a transformation in a residual plot?\n",
    "10. Why might the discretization of a numerical variable be a relevant variable transformation?\n",
    "11. Why might we use log transformations to improve a linear regression? What assumption about linear regression would be violated and why does a log transformation solve it? How do we interpret the coefficients?\n",
    "12. What are the assumptions of classical linear regression?\n",
    "13. If the errors are not constant, what is this called?\n",
    "14. How does the Two Leg Example illustrate the problem with multicollinearity?"
   ]
  }
 ],
 "metadata": {
  "kernelspec": {
   "display_name": "Python 3",
   "language": "python",
   "name": "python3"
  },
  "language_info": {
   "codemirror_mode": {
    "name": "ipython",
    "version": 3
   },
   "file_extension": ".py",
   "mimetype": "text/x-python",
   "name": "python",
   "nbconvert_exporter": "python",
   "pygments_lexer": "ipython3",
   "version": "3.7.0"
  },
  "toc": {
   "colors": {
    "hover_highlight": "#DAA520",
    "navigate_num": "#000000",
    "navigate_text": "#333333",
    "running_highlight": "#FF0000",
    "selected_highlight": "#FFD700",
    "sidebar_border": "#EEEEEE",
    "wrapper_background": "#FFFFFF"
   },
   "moveMenuLeft": true,
   "nav_menu": {
    "height": "48px",
    "width": "252px"
   },
   "navigate_menu": true,
   "number_sections": true,
   "sideBar": true,
   "threshold": 4,
   "toc_cell": false,
   "toc_section_display": "block",
   "toc_window_display": false,
   "widenNotebook": false
  }
 },
 "nbformat": 4,
 "nbformat_minor": 2
}
