{
 "cells": [
  {
   "cell_type": "markdown",
   "metadata": {},
   "source": [
    "# Linear Models - Part 2\n",
    "\n",
    "In the previous chapter, we learned the concepts behind linear and logistic regression. These concepts included:\n",
    "\n",
    "1. continuity of linear models with using the mean as an estimate.\n",
    "2. interpretation of the coefficients of linear models (linear regression and logistic regression) with numeric and binary categorical features as well as simple interaction terms.\n",
    "3. application of the Bootstrap to linear models.\n",
    "\n",
    "In this chapter, we're going to delve more deeply into linear models including:\n",
    "\n",
    "1. how to make estimates and evaluate them.\n",
    "2. evaluating *residuals* (short for \"residual error\").\n",
    "4. extending the models to multiple features of both kinds and how to build models using domain knowledge and metaheuristics.\n",
    "5. transforming variables to improve performance and or interpretation of the model.\n",
    "\n",
    "We will defer a full discussion of model evaluation until the next chapter.\n",
    "\n",
    "Most of this discussion is taken from Andrew Gelman and Jennifer Hill's, *Data Analysis Using Regression and Multi-Level/Hierarchical Models*."
   ]
  },
  {
   "cell_type": "markdown",
   "metadata": {
    "nbsphinx-toctree": {}
   },
   "source": [
    "1. [Building Linear Models](building.ipynb)\n",
    "2. [Residuals](residuals.ipynb)\n",
    "3. [Transformations](transformations.ipynb)\n",
    "4. [Example](example.ipynb)\n",
    "5. [Conclusion](conclusion2.ipynb)"
   ]
  }
 ],
 "metadata": {
  "celltoolbar": "Edit Metadata",
  "kernelspec": {
   "display_name": "Python 3",
   "language": "python",
   "name": "python3"
  },
  "language_info": {
   "codemirror_mode": {
    "name": "ipython",
    "version": 3
   },
   "file_extension": ".py",
   "mimetype": "text/x-python",
   "name": "python",
   "nbconvert_exporter": "python",
   "pygments_lexer": "ipython3",
   "version": "3.7.0"
  },
  "toc": {
   "colors": {
    "hover_highlight": "#DAA520",
    "navigate_num": "#000000",
    "navigate_text": "#333333",
    "running_highlight": "#FF0000",
    "selected_highlight": "#FFD700",
    "sidebar_border": "#EEEEEE",
    "wrapper_background": "#FFFFFF"
   },
   "moveMenuLeft": true,
   "nav_menu": {
    "height": "30px",
    "width": "252px"
   },
   "navigate_menu": true,
   "number_sections": true,
   "sideBar": true,
   "threshold": 4,
   "toc_cell": false,
   "toc_section_display": "block",
   "toc_window_display": false,
   "widenNotebook": false
  }
 },
 "nbformat": 4,
 "nbformat_minor": 2
}
