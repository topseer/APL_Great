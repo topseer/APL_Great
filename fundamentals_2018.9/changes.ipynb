{
 "cells": [
  {
   "cell_type": "markdown",
   "metadata": {},
   "source": [
    "# Changes\n",
    "\n",
    "## 2018.7\n",
    "\n",
    "* added Chapter on Inference.\n",
    "* fixed *some* errata for the last Chapter.\n",
    "\n",
    "\n",
    "## 2018.6\n",
    "\n",
    "* added Chapter on Distributions for Modeling.\n",
    "\n",
    "## 2018.5\n",
    "\n",
    "* added Chapter on EDA\n",
    "* added Preface\n",
    "\n",
    "## 2018.4\n",
    "\n",
    "* dummy chapter on Data.\n",
    "* various errata fixed.\n",
    "\n",
    "\n",
    "## 2018.3\n",
    "\n",
    "* Added chapter on Visualization.\n",
    "\n",
    "## 2018.2\n",
    "\n",
    "* Table of Contents is now +1 in depth.\n",
    "* Added chapters on System Theory and Probability.\n",
    "\n",
    "## 2018.1\n",
    "\n",
    "* Initial Fall 2018 release."
   ]
  }
 ],
 "metadata": {
  "kernelspec": {
   "display_name": "Python 3",
   "language": "python",
   "name": "python3"
  },
  "language_info": {
   "codemirror_mode": {
    "name": "ipython",
    "version": 3
   },
   "file_extension": ".py",
   "mimetype": "text/x-python",
   "name": "python",
   "nbconvert_exporter": "python",
   "pygments_lexer": "ipython3",
   "version": "3.7.0"
  },
  "toc": {
   "colors": {
    "hover_highlight": "#DAA520",
    "navigate_num": "#000000",
    "navigate_text": "#333333",
    "running_highlight": "#FF0000",
    "selected_highlight": "#FFD700",
    "sidebar_border": "#EEEEEE",
    "wrapper_background": "#FFFFFF"
   },
   "moveMenuLeft": true,
   "nav_menu": {
    "height": "66px",
    "width": "252px"
   },
   "navigate_menu": true,
   "number_sections": true,
   "sideBar": true,
   "threshold": 4,
   "toc_cell": false,
   "toc_section_display": "block",
   "toc_window_display": false,
   "widenNotebook": false
  }
 },
 "nbformat": 4,
 "nbformat_minor": 2
}
