{
 "cells": [
  {
   "cell_type": "markdown",
   "metadata": {},
   "source": [
    "# Conclusion\n",
    "\n",
    "We have barely scratched the surface of what you can do with visualization to explore your data. Nevertheless, we have some basic principles we can use:\n",
    "\n",
    "1. Start with your CoNVO, problem or domain knowledge. You cannot really intepret your data without domain knowledge.\n",
    "2. Remember the Eight Basic Quantitative Relationships. These combined with domain knowledge point you in the right direction. Are you interested in differences? Then after the basic EDA is done, start looking at differences.\n",
    "3. Use the Taxonomy as a starting point. Are you looking at one variable or two? Is the variable a numeric or categorical variable?\n",
    "\n",
    "EDA then progresses to understanding the data. What is the data's *shape*. Depending on whether the data is categorical or numeric, you can apply different tools to the data to explore its structure. You may have to employ many different techniques to find the most interesting relationships. You may need to do additional data transformations (the T in ETL is often just standardization transformations).\n",
    "\n",
    "When doing EDA, you should do only just enough titling and provide just enough comments that you or a colleague, six months from now can understand what the chart means. You can wait until you have fully explored your data to completely format the tables and charts for presentation.\n",
    "\n",
    "And you can build from there. Additionally, a lot of domains have specialty charts that you can (and should) use. You can also peruse libraries (Seaborn, for example) but be cognizant that just because a library has a chart doesn't mean it adheres to the basic tenets of good visualization.\n",
    "\n",
    "One final note, EDA is exploratory not confirmatory. It focuses on meaningful patterns, not believable ones. If you find a meaningful pattern (perhaps a distribution of  cars by weight, you should apply statistical inference to that insight to see if it is believable). We'll discuss statistical inference in a few chapters.\n",
    "\n",
    "## Review\n",
    "\n",
    "1. What is the purpose of EDA?\n",
    "2. Why is domain knowledge and a problem important for EDA? What's the danger in their absence?\n",
    "3. What are the typical parametric descriptive statistics of one numeric variable?\n",
    "4. What are the typical non-parametric descriptive statistics of one numeric variable?\n",
    "5. What two ways can we use measure a correlation between two numeric variables? What's the difference between the two statistics?\n",
    "6. What is the lesson we can learn from Anscombe's Quartet?\n",
    "7. What are the techniques for exploring a categorical variable?\n",
    "8. What are the techniques for exploring a numerical variable?\n",
    "9. What are the techniques for exploring the relationship between two categorical variables?\n",
    "10. What are the techniques for exploring the relationship between a categorical and numerical variable?\n",
    "11. What are the techniques for exploring the relationship between two numerical variables?\n",
    "12. What is jitter and how can it help with certain numerical variables?\n",
    "13. What is alpha/transparency and how can it help with plotting large data sets?\n",
    "14. What does hexbinning help with?\n",
    "15. How can we use color to enhance EDA?\n",
    "16. What is a lattice plot and how does it help with EDA? How might it hinder it?"
   ]
  }
 ],
 "metadata": {
  "kernelspec": {
   "display_name": "Python 3",
   "language": "python",
   "name": "python3"
  },
  "language_info": {
   "codemirror_mode": {
    "name": "ipython",
    "version": 3
   },
   "file_extension": ".py",
   "mimetype": "text/x-python",
   "name": "python",
   "nbconvert_exporter": "python",
   "pygments_lexer": "ipython3",
   "version": "3.7.0"
  },
  "toc": {
   "colors": {
    "hover_highlight": "#DAA520",
    "navigate_num": "#000000",
    "navigate_text": "#333333",
    "running_highlight": "#FF0000",
    "selected_highlight": "#FFD700",
    "sidebar_border": "#EEEEEE",
    "wrapper_background": "#FFFFFF"
   },
   "moveMenuLeft": true,
   "nav_menu": {
    "height": "48px",
    "width": "252px"
   },
   "navigate_menu": true,
   "number_sections": true,
   "sideBar": true,
   "threshold": 4,
   "toc_cell": false,
   "toc_section_display": "block",
   "toc_window_display": false,
   "widenNotebook": false
  }
 },
 "nbformat": 4,
 "nbformat_minor": 2
}
