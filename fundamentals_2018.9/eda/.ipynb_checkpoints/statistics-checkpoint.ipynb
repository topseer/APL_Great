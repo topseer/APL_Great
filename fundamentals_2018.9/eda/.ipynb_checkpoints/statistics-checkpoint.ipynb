{
 "cells": [
  {
   "cell_type": "markdown",
   "metadata": {},
   "source": [
    "# Descriptive Statistics\n",
    "\n",
    "We start out our discussion of EDA by talking about the basic statistical measurements of data. We've already seen a few of these before and we'll look at many of them yet again in the context of modeling. For now, we're interested in these measurements as summaries for empirical distributions of data. These often go by the name of *descriptive statistics* and many are considered to be *non-parametric* in that they do not relate directly to any particular parameter of a Mathematical distribution. However, there are often formulas to calculate them *from* a particular Mathematical distribution (a later chapter). Additionally, some are called *robust* measures because they are not much affected by extreme values.\n",
    "\n",
    "For now, I will deal only with numerical data (basically, integers like dollars or births and ratio/interval data like degrees or weight). \n",
    "\n",
    "Typically these statistics include measurements of the distribution both in terms of *location* (relative to the thing being measured) and *scale* or *dispersion*. Let us talk about the location oriented measurements first.\n",
    "\n",
    "1. **Min** - the minimum or lowest value of the variable (non-parametric, definitely not robust).\n",
    "2. **First Quartile** - If the variable is sorted, the first quartile (**Q1**) is the value where 25% of the values are the same or smaller and 75% are larger (non-parametric, somewhat robust).\n",
    "3. **Mean** - The *arithmetic mean* of the data. This is what we have been calling the First Moment of the empirical distribution. And now the dirty secret is out, you will rarely find anyone who refers to this as the First Moment. You will have to decide for yourself if you're talking about the First Moment of the distritribution or the parameter of the Normal distribution. It is also a *Measure of Central Tendency*. In common usage, when someone says \"the average\", they usually are talking about the arithmetic mean. This entire discussion is somewhat muddied by the fact that there are two other means (geometric and harmonic) and two other measures of central tendency (mode and median). The mean is generally considered to be parametric and least robust of mean, median and mode.\n",
    "4. **Median** - The median is the middle value of any variable that can be sorted (is orderable). Technically, it is **Q2** or the second quartile but it is always referred to as the median. It is the value where 50% of the other values in the empirical distribution are smaller and 50% are larger. If there is an even number of data points, the median is the average of the middle two points (non-parametric, robust).\n",
    "5. **Mode** - Another measure of central tendency, the mode is the most common value (non-parametric, most robust of mean, median and mode).\n",
    "6. **Third Quartile** - If the variable is sorted, the third quartile (**Q3**) is the value where 75% of the values are smaller and 25% of the values are larger (non-parametric, somewhat robust).\n",
    "7. **Max** - the maximum or largest value of the variable (non-parametric, definitely not robust).\n",
    "\n",
    "and measures of the dispersion of the distribution:\n",
    "\n",
    "1. **Range** - the difference of the maximum and the minimum is the *range* or extent of the data (non-parametric, not robust).\n",
    "2. **Interquartile Range** - Also called **IQR**, it is the difference between Q3 and Q1 is the interquartile range (non-parametric, more robust).\n",
    "3. **Variance** - the average squared difference between each value and the mean. This is the Second Moment of the empricial distribution but again, software and people will often talk about \"the variance\". The units of the variance are in squared units which is why we often use the **Standard Deviation** which is just the square root of the Variance. The variance is considered to be parametric and non-robust. Additionally, you can't compare the variance of say heights and weights and say one is larger than the other. However, with the COV below, you can.\n",
    "4. **Coefficient of Variation** (COV) - the ratio of the standard deviation to the mean (undefined when the mean is zero and \"janky\" when the mean is near zero). Do not confuse the COV with the *variance*. It is a pure measure (a percent with no units).\n",
    "5. **Quartile Coefficient of Variation** (QCV) - the ration of the IQR to the median."
   ]
  },
  {
   "cell_type": "code",
   "execution_count": 1,
   "metadata": {},
   "outputs": [],
   "source": [
    "import numpy as np\n",
    "import scipy.stats as stats"
   ]
  },
  {
   "cell_type": "markdown",
   "metadata": {},
   "source": [
    "First, I'm going to make a little data to work with. The data is a composition of two normal distributions (the normal distribution is parameterized by the mean and *standard deviation*, oddly enough): $X \\sim N(100.0, 10.0) + N(110.0, 20.0)$. We'll go over this in the next chapter but it says \"X is distributed as the composition of a normal distribution with mean 100.0 and standard deviation 10.0 and a normal distribution with mean 110.0 and standard deviation 20.0\". We don't really care what $X$ *is* at this point. Setting the random seed below makes sure that we get the same results when I run it and when you run it."
   ]
  },
  {
   "cell_type": "code",
   "execution_count": 2,
   "metadata": {},
   "outputs": [],
   "source": [
    "np.random.seed(1476374623)"
   ]
  },
  {
   "cell_type": "code",
   "execution_count": 3,
   "metadata": {},
   "outputs": [],
   "source": [
    "x1 = np.concatenate([stats.norm.rvs( 100.0, 10.0, 100), stats.norm.rvs(110.0, 20.0, 50)])"
   ]
  },
  {
   "cell_type": "markdown",
   "metadata": {},
   "source": [
    "And we'll calculate all of the above descriptive statistics using Numpy."
   ]
  },
  {
   "cell_type": "code",
   "execution_count": 4,
   "metadata": {},
   "outputs": [
    {
     "name": "stdout",
     "output_type": "stream",
     "text": [
      "min = 74.44\n"
     ]
    }
   ],
   "source": [
    "print(\"min = {stat:.2f}\".format(stat=np.min( x1)))"
   ]
  },
  {
   "cell_type": "code",
   "execution_count": 5,
   "metadata": {},
   "outputs": [
    {
     "name": "stdout",
     "output_type": "stream",
     "text": [
      "Q1 = 93.90\n"
     ]
    }
   ],
   "source": [
    "print(\"Q1 = {stat:.2f}\".format(stat=stats.mstats.mquantiles( x1, [0.25])[0]))"
   ]
  },
  {
   "cell_type": "code",
   "execution_count": 6,
   "metadata": {},
   "outputs": [
    {
     "name": "stdout",
     "output_type": "stream",
     "text": [
      "mean = 103.99\n"
     ]
    }
   ],
   "source": [
    "print(\"mean = {stat:.2f}\".format(stat=np.mean(x1)))"
   ]
  },
  {
   "cell_type": "code",
   "execution_count": 7,
   "metadata": {},
   "outputs": [
    {
     "name": "stdout",
     "output_type": "stream",
     "text": [
      "median (Q2) = 102.01\n"
     ]
    }
   ],
   "source": [
    "print(\"median (Q2) = {stat:.2f}\".format(stat=np.median( x1)))"
   ]
  },
  {
   "cell_type": "markdown",
   "metadata": {},
   "source": [
    "For *empirical* data of a continuous variable, there is unlikely to be an actual observed mode even though, in theory, there is one. Instead, what you are more likely to observe is a modal *bin* if you bin the continuous values (as in a histogram). Integer data is more likely to have an actual mode.\n",
    "\n",
    "We will skip calculating the `mode` here but the function is:\n",
    "\n",
    "`stats.mstats.mode( x1)`"
   ]
  },
  {
   "cell_type": "code",
   "execution_count": 8,
   "metadata": {},
   "outputs": [
    {
     "name": "stdout",
     "output_type": "stream",
     "text": [
      "Q3 = 112.49\n"
     ]
    }
   ],
   "source": [
    "print( \"Q3 = {stat:.2f}\".format(stat=stats.mstats.mquantiles( x1, [0.75])[0]))"
   ]
  },
  {
   "cell_type": "markdown",
   "metadata": {},
   "source": [
    "You can get the Q1, median (Q2), Q3 in one fell swoop:"
   ]
  },
  {
   "cell_type": "code",
   "execution_count": 9,
   "metadata": {},
   "outputs": [
    {
     "name": "stdout",
     "output_type": "stream",
     "text": [
      "Q1 = 93.90\n",
      "Q2 = 102.01\n",
      "Q3 = 112.49\n"
     ]
    }
   ],
   "source": [
    "qs = ['Q1', 'Q2', 'Q3']\n",
    "ms = stats.mstats.mquantiles( x1, [0.25, 0.5, 0.75])\n",
    "for q, m in zip(qs, ms):\n",
    "    print(q, \"=\", \"{:.2f}\".format(m))"
   ]
  },
  {
   "cell_type": "code",
   "execution_count": 10,
   "metadata": {},
   "outputs": [
    {
     "name": "stdout",
     "output_type": "stream",
     "text": [
      "max = 161.92\n"
     ]
    }
   ],
   "source": [
    "print(\"max = {stat:.2f}\".format(stat=np.max( x1)))"
   ]
  },
  {
   "cell_type": "markdown",
   "metadata": {},
   "source": [
    "Those are our location statistics. Let us look at the scale/dispersion statistics:"
   ]
  },
  {
   "cell_type": "code",
   "execution_count": 11,
   "metadata": {},
   "outputs": [
    {
     "name": "stdout",
     "output_type": "stream",
     "text": [
      "range = 87.48\n"
     ]
    }
   ],
   "source": [
    "print(\"range = {stat:.2f}\".format(stat=np.max( x1) - np.min(x1)))"
   ]
  },
  {
   "cell_type": "code",
   "execution_count": 12,
   "metadata": {},
   "outputs": [
    {
     "name": "stdout",
     "output_type": "stream",
     "text": [
      "IQR = 18.60\n"
     ]
    }
   ],
   "source": [
    "print(\"IQR = {stat:.2f}\".format(stat=stats.mstats.mquantiles(x1, [0.75])[0] - \n",
    "                                stats.mstats.mquantiles(x1, [0.25])[0]))"
   ]
  },
  {
   "cell_type": "code",
   "execution_count": 13,
   "metadata": {},
   "outputs": [
    {
     "name": "stdout",
     "output_type": "stream",
     "text": [
      "variance (std) = 226.25 (15.04)\n"
     ]
    }
   ],
   "source": [
    "print(\"variance (std) = {var:.2f} ({std:.2f})\".format(var=np.var( x1), std=np.std(x1)))"
   ]
  },
  {
   "cell_type": "markdown",
   "metadata": {},
   "source": [
    "We can also calculate the coefficient of variation:"
   ]
  },
  {
   "cell_type": "code",
   "execution_count": 14,
   "metadata": {},
   "outputs": [
    {
     "name": "stdout",
     "output_type": "stream",
     "text": [
      "COV = 14.46%\n"
     ]
    }
   ],
   "source": [
    "print(\"COV = {stat:.2f}%\".format(stat=(np.std(x1)/np.mean(x1))*100))"
   ]
  },
  {
   "cell_type": "markdown",
   "metadata": {},
   "source": [
    "Be very careful when calculating and interpreting the COV when the mean is near zero as the COV will tend towards infinity and be very sensitive to the value of the mean."
   ]
  },
  {
   "cell_type": "markdown",
   "metadata": {},
   "source": [
    "## Interpretation\n",
    "\n",
    "Descriptive statistics need to be interpreted in the context of domain knowledge. A mean of 100.0 has different implications if the data is human body temperatures or annual rainfall. There are some general rules of thumb when looking at data but it's not always clear what *action*, if any, you should take as a result. \n",
    "\n",
    "For example, there are parametric statistics skewness and kurtosis. Skewness determines if there is a \"bulge\" in your data and the direction. If the mean is smaller than the median (most of the data has higher values but some low values \"skew\" the mean down), then the data is \"left\" or \"negative\" skewed. If the mean is larger than the median (most of the data has lower values but some high values \"skew\" the mean up), then the data data is \"right\" or \"positive\" skewed.\n",
    "\n",
    "The problem with all of this is that it isn't immediately apparent what you do with the information. In some cases, this should encourage you to contemplate that you have a mixed population in your data. For example, adult human heights will be skewed to the point of being bimodal, one for women and one for men.\n",
    "\n",
    "In the case of scale or dispersion statistics, we once again are faced with questions that can usually only be answered in context, both a domain context and in the context of the location parameters. Is a standard deviation of 2.57 big? First, we need to know what the mean is. If the mean is 2982.22, then  probably not...unless your domain requires greater *precision* that 0.086178%. If the mean is 0.9876, then, yes, that's a pretty big standard deviation...again, unless your problem *doesn't* require that much precision.\n",
    "\n",
    "The coefficient of variation helps in this case but you should remember the previous caveats about means near zero."
   ]
  },
  {
   "cell_type": "code",
   "execution_count": 15,
   "metadata": {},
   "outputs": [],
   "source": [
    "%matplotlib inline"
   ]
  },
  {
   "cell_type": "code",
   "execution_count": 16,
   "metadata": {},
   "outputs": [],
   "source": [
    "import seaborn as sns\n",
    "import matplotlib.pyplot as plt\n",
    "sns.set(style=\"whitegrid\")"
   ]
  },
  {
   "cell_type": "code",
   "execution_count": 17,
   "metadata": {},
   "outputs": [
    {
     "data": {
      "image/png": "[encoded data removed]",
      "text/plain": [
       "<Figure size 1440x432 with 4 Axes>"
      ]
     },
     "metadata": {},
     "output_type": "display_data"
    }
   ],
   "source": [
    "figure = plt.figure(figsize=(20, 6))\n",
    "\n",
    "axes = figure.add_subplot(1, 4, 1)\n",
    "axes.hist( x1, alpha=0.75, color=\"DimGray\")\n",
    "axes.axvline( np.mean( x1), color=\"DarkRed\")\n",
    "axes.axvline( np.median( x1), color=\"DarkOrange\")\n",
    "axes.set_xlabel( \"X\")\n",
    "axes.set_title( \"Skewed Right\")\n",
    "\n",
    "x2 = np.concatenate([stats.norm.rvs( 100.0, 20.0, 50), stats.norm.rvs(110.0, 10.0, 100)])\n",
    "axes = figure.add_subplot(1, 4, 2)\n",
    "axes.hist( x2, alpha=0.75, color=\"DimGray\")\n",
    "axes.axvline( np.mean( x2), color=\"DarkRed\")\n",
    "axes.axvline( np.median( x2), color=\"DarkOrange\")\n",
    "axes.set_xlabel( \"X\")\n",
    "axes.set_title( \"Skewed Left\")\n",
    "\n",
    "x3 = np.concatenate([stats.norm.rvs( 90.0, 9.0, 100), stats.norm.rvs(120.0, 12.0, 100)])\n",
    "axes = figure.add_subplot(1, 4, 3)\n",
    "axes.hist( x3, alpha=0.75, color=\"DimGray\")\n",
    "axes.axvline( np.mean( x3), color=\"DarkRed\")\n",
    "axes.axvline( np.median( x3), color=\"DarkOrange\")\n",
    "axes.set_xlabel( \"X\")\n",
    "axes.set_title( \"Multi-Modal\")\n",
    "\n",
    "\n",
    "x4 = stats.norm.rvs( 100, 20, 15)\n",
    "axes = figure.add_subplot(1, 4, 4)\n",
    "axes.hist( x4, alpha=0.75, color=\"DimGray\")\n",
    "axes.axvline( np.mean( x4), color=\"DarkRed\")\n",
    "axes.axvline( np.median( x4), color=\"DarkOrange\")\n",
    "axes.set_xlabel( \"X\")\n",
    "axes.set_title( \"Multi-Modal?\")\n",
    "\n",
    "\n",
    "plt.show()\n",
    "plt.close()"
   ]
  },
  {
   "cell_type": "markdown",
   "metadata": {},
   "source": [
    "Of course, you have to be careful. The last data series is definitely not multi-modal...it just has a high relative variance (20%) and we have a small sample size (15). Domain knowledge trumps \"playing with data\"."
   ]
  },
  {
   "cell_type": "markdown",
   "metadata": {},
   "source": [
    "## Outliers and Inliers\n",
    "\n",
    "A similar problem arises with the concept of \"outliers\". Above, I said that something was *robust* because it is not unduly influenced by extreme values. The challenge here is that there is no generally accepted definition of what constitutes an \"outlier\" or even what people might mean by outlier. There are several possible origins for extreme values:\n",
    "\n",
    "1. They are errors. It's possible that you have bad code or measured something wrong. It isn't possible for someone to be 10cm tall or weigh -4.9 kilos. These should generally be caught in the ETL step but some aren't discovered until later.\n",
    "2. They are rare events. The Normal distribution goes from negative infinite to positive infinity. If the data is produced by a generating process that is well-described by a normal distribution, you may have observed a rare event. This is the origin of the \"Six Sigma\" type of analysis. Nassim Taleb calls this \"Black Swans\" (after \"All Swans are White\" in classical logic). Taleb argues we underestimate rare events; we'll talk about this in the modeling chapter.\n",
    "3. They originate from a mixture of processes. Consider data the describes how long it takes to complete a questionnaire. Suppose that this is Normally distributed around 68 minutes. This makes sense. The total time is a summation of the time it takes to answer individual questions. A Normal distribution is probably a good model for this (even though you can't complete the questionnaire in -15 minutes!). But in looking at the data, you notice a lot of extreme values around 5 minutes. This is where domain knowledge helps. The questionnaire may have screening questions that kick out a respondent if they don't meet (or they do meet) certain criteria. Maybe the fifth question is difficult or sensitive and people drop out.\n",
    "\n",
    "In general, we do want to look at our extreme values as we should try to peruse all of our data in general (with large to \"big\" data this is often difficult and we'll need to randomly sample our data).\n",
    "\n",
    "Nevertheless, extreme values can at least be identified using a variety of methods and then you can look at the values, think about the process that created the data, and how the data was collected:\n",
    "\n",
    "1. 1.5$\\times$ IQR - If you look at Q1 - 1.5$\\times$ IQR and you have any values *below* that, these might be \"extreme\" values or outliers and should be looked at. Similarly, if you look at Q3 + 1.5$\\times$ IQR and you have any values *above* that, these might need to be examined.\n",
    "2. $3\\sigma$, $4\\sigma$, $5\\sigma$, $6\\sigma$, etc. For a true Normal distribution, 66% of all values will lie within $1\\sigma$ (standard deviation) of the mean, 95% of all values will lie within $2\\sigma$ of the mean and 99.7% of all values will lie within $3\\sigma$ of the mean. \n",
    "\n",
    "Because almost no data is *truly* Normal, we can use the weaker Chebyshev's inequality that says that for *any* empirical distribution, a minimum of 75% of the values must lie within $2\\sigma$ of the mean and a minimum of 89% of the values must lie within $3\\sigma$ of the mean. Conversely, if some values lie outside this range, we should probably investigate them.\n",
    "\n",
    "We'll see how to handle with outliers later; for EDA, we merely want to know if we have them.\n",
    "\n",
    "There is also a problem with data being *too* regular or too good to be true. This has actually be the downfall of many a desperate scientist who fabricated data. If your data is perfectly Normally distributed, be concerned as well. Many common \"missing value\" practices (replace missing values with the mean) actually make the data too regular and generate \"inliers\". We'll talk about a better approach later. Additionally, some process may be truncating or rounding values."
   ]
  },
  {
   "cell_type": "markdown",
   "metadata": {},
   "source": [
    "## Tukey's Five Number Summary\n",
    "\n",
    "As previously noted, Tukey was the originator of EDA. Because at the early stages of analysis, he wanted to avoid commitments to any particular model, he favored robust statistics in EDA. He suggested that we start by using a \"five number summary\": min, Q1, median, Q3, max. The `eda` module contains such a function called `calculate_tukey_five` based on the discussion so far."
   ]
  },
  {
   "cell_type": "code",
   "execution_count": 18,
   "metadata": {},
   "outputs": [],
   "source": [
    "import sys\n",
    "sys.path.append('../resources')\n",
    "import fundamentals.eda as eda"
   ]
  },
  {
   "cell_type": "code",
   "execution_count": 19,
   "metadata": {},
   "outputs": [
    {
     "data": {
      "text/html": [
       "<table><tr><th>Min</th><td>74.4</td></tr><tr><th>Q1</th><td>93.9</td></tr><tr><th>Q2</th><td>102.0</td></tr><tr><th>Q3</th><td>112.5</td></tr><tr><th>Max</th><td>161.9</td></tr></table>"
      ],
      "text/plain": [
       "<IPython.core.display.HTML object>"
      ]
     },
     "metadata": {},
     "output_type": "display_data"
    }
   ],
   "source": [
    "x1_five = eda.calculate_tukey_five(x1)\n",
    "eda.display_dict(x1_five, 1)"
   ]
  },
  {
   "cell_type": "markdown",
   "metadata": {},
   "source": [
    "What are we to make of this?\n",
    "\n",
    "1. The lowest observed value is 74.4.\n",
    "2. 25% of the values are between 74.4 and 93.9.\n",
    "3. The median is 102.0. 50% of the values are lower (but not lower than 74.4) and 50% of the values are higher but not higher than the maximum. 25% of the values are between 102.0 and 93.9.\n",
    "4. 75% of the values are between 74.4 and 112.5. 25% of the values are between 102.0 and 112.5. 25% of the values are higher than 112.5 (but not higher than the maximum).\n",
    "5. The highest observed value is 161.9. \n",
    "\n",
    "Note that everything we say is in terms of the *observed* values. We cannot say what the lowest *possible* value is (nor the highest), at least based on the data alone. We might know something about a lower or upper limit based on domain knowledge (no zero height people!).\n",
    "\n",
    "It's worth nothing that the \"Tukey Five\" does not contain dispersion metrics although we almost certainly want to calculate them."
   ]
  },
  {
   "cell_type": "code",
   "execution_count": 20,
   "metadata": {},
   "outputs": [
    {
     "data": {
      "text/html": [
       "<table><tr><th>Range</th><td>87.480</td></tr><tr><th>IQR</th><td>18.596</td></tr><tr><th>QCV</th><td>0.182</td></tr></table>"
      ],
      "text/plain": [
       "<IPython.core.display.HTML object>"
      ]
     },
     "metadata": {},
     "output_type": "display_data"
    }
   ],
   "source": [
    "x1_dispersion = eda.calculate_tukey_dispersion(x1_five)\n",
    "eda.display_dict(x1_dispersion)"
   ]
  },
  {
   "cell_type": "markdown",
   "metadata": {},
   "source": [
    "This is where we would use our domain knowledge to interpret the range. Is it high? Low? For a *single* variable, it can be difficult to say because like many such things, we need *contrast*. We'll see later where to look for contrast.\n",
    "\n",
    "We can also do some basic calculations to see if the distribution is centered or not:"
   ]
  },
  {
   "cell_type": "code",
   "execution_count": 21,
   "metadata": {},
   "outputs": [
    {
     "name": "stdout",
     "output_type": "stream",
     "text": [
      "Q2-Q1: 8.111\n",
      "Q3-Q2: 10.486\n"
     ]
    }
   ],
   "source": [
    "print(\"Q2-Q1: {:.3f}\".format(x1_five[\"Q2\"] - x1_five[\"Q1\"]))\n",
    "print(\"Q3-Q2: {:.3f}\".format(x1_five[\"Q3\"] - x1_five[\"Q2\"]))"
   ]
  },
  {
   "cell_type": "markdown",
   "metadata": {},
   "source": [
    "Because the difference is larger between the median and the 3rd quartile and the 1st quartile and the median, the distribution is skewed a bit down (left).\n",
    "\n",
    "Using fake data emphasizes a few important points:\n",
    "\n",
    "1. You really do need some context/domain knowledge to interpret even the simplest summary statistics.\n",
    "2. It's just really difficult to picture the numbers; we need visualization.\n",
    "\n",
    "However, statistics like this are often used as *models* and we'll return to that particular usage in a few chapters."
   ]
  },
  {
   "cell_type": "markdown",
   "metadata": {},
   "source": [
    "## Two Variables\n",
    "\n",
    "All of the descriptive statistics we've mentioned so far have applied to a single variable. There are a number of descriptive statistics that apply to two variables, that measure, to some extent, the relationship between them. These are:\n",
    "\n",
    "1. Covariance - as the name suggests, this is the measure of *joint* dispersion of two variables. If large values of $x_1$ are associated with large values of $x_2$, then the covariance is positive. If the opposite is true, the covariance is negative.\n",
    "2. Correlation - another measure of the degree to which two variables are related. There are two general statistics in use:\n",
    "    1. Pearson's Correlation Coefficient ($r$) which measures the degree of a *linear* relationship between variables with -1.0 being a perfect *negative* linear relationship (small values of $x_1$ are associated with large values of $x_2$), 0 being *no* linear relationship and 1.0 being a perfect *positive* linear relationship (small values of $x_1$ are associated with small values of $x_2$).\n",
    "    2. Spearman's Rank Order Correlation Coefficient ($\\rho$) - wherein the values of $x_1$ and $x_2$ are converted to their *ranks* and a Pearson's Correlation coefficient is calculated on the *ranks*. This has the advantage of detecting relationships between $x_1$ and $x_2$ that are not necessarily linear. The range of Spearman's is the same as Pearson's but has a different interpretation: -1.0 is a perfect monotonic *decreasing* relationship, 0 is *no* monotonic relationship and 1.0 is a perfect monotonic *increasing* relationship.\n",
    "    \n",
    "We do not, however, know what functional shape the monotonic relationship takes.\n",
    "\n",
    "In short, Pearson's $r$ assesses *linear* relationships while Spearman's $\\rho$ assesses *monotonic* relationships. As Spearman's is non-parametric, it is to be preferred in EDA."
   ]
  },
  {
   "cell_type": "code",
   "execution_count": 22,
   "metadata": {
    "scrolled": false
   },
   "outputs": [
    {
     "data": {
      "image/png": "[encoded data removed]",
      "text/plain": [
       "<Figure size 1440x432 with 2 Axes>"
      ]
     },
     "metadata": {},
     "output_type": "display_data"
    }
   ],
   "source": [
    "figure = plt.figure(figsize=(20, 6))\n",
    "\n",
    "x2 = 0.1 + 0.5 * x1 + stats.norm.rvs( 0, 2, len( x1))\n",
    "\n",
    "axes = figure.add_subplot(1, 3, 1)\n",
    "axes.scatter( x1, x2, marker=\".\", color=\"DimGray\")\n",
    "axes.set_xlabel( \"X\")\n",
    "title = \"Positive Linear r=%.2f, rho=%.2f\" % \\\n",
    "  (stats.pearsonr( x1, x2)[0], stats.spearmanr( x1, x2)[0])\n",
    "axes.set_title(title)\n",
    "\n",
    "x2 = 0.1 + 5e-20 * x1**10 + stats.norm.rvs( 0, 2, len( x1))\n",
    "\n",
    "axes = figure.add_subplot(1, 3, 2)\n",
    "axes.scatter( x1, x2, marker=\".\", color=\"DimGray\")\n",
    "axes.set_xlabel( \"X\")\n",
    "title = \"Monotonic Increasing r=%.2f, rho=%.2f\" % \\\n",
    "  (stats.pearsonr( x1, x2)[0], stats.spearmanr( x1, x2)[0])\n",
    "axes.set_title(title)\n",
    "\n",
    "plt.show()\n",
    "plt.close()"
   ]
  },
  {
   "cell_type": "markdown",
   "metadata": {},
   "source": [
    "In the left hand chart, we have a positive/direct relationship that is obviously linear and both $r$ and $\\rho$ are in agreement. In the right hand chart, however, we have a positive/direct relationship that is not linear but is monotonic. The $r$ score is lower while the $\\rho$ score is still quite high.\n",
    "\n",
    "So we can imagine some preliminary exploration of data that would involve, at least for numerical data, the calculation of Tukey's summary (also called Tukey's Five) and then Spearman correlation coefficients between all pairs. We're now going to discuss why that is probably not sufficient."
   ]
  }
 ],
 "metadata": {
  "kernelspec": {
   "display_name": "Python 3",
   "language": "python",
   "name": "python3"
  },
  "language_info": {
   "codemirror_mode": {
    "name": "ipython",
    "version": 3
   },
   "file_extension": ".py",
   "mimetype": "text/x-python",
   "name": "python",
   "nbconvert_exporter": "python",
   "pygments_lexer": "ipython3",
   "version": "3.7.0"
  },
  "toc": {
   "colors": {
    "hover_highlight": "#DAA520",
    "navigate_num": "#000000",
    "navigate_text": "#333333",
    "running_highlight": "#FF0000",
    "selected_highlight": "#FFD700",
    "sidebar_border": "#EEEEEE",
    "wrapper_background": "#FFFFFF"
   },
   "moveMenuLeft": true,
   "nav_menu": {
    "height": "138px",
    "width": "252px"
   },
   "navigate_menu": true,
   "number_sections": true,
   "sideBar": true,
   "threshold": 4,
   "toc_cell": false,
   "toc_section_display": "block",
   "toc_window_display": false,
   "widenNotebook": false
  }
 },
 "nbformat": 4,
 "nbformat_minor": 2
}
