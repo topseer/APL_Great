{
 "cells": [
  {
   "cell_type": "code",
   "execution_count": 1,
   "metadata": {},
   "outputs": [],
   "source": [
    "%matplotlib inline"
   ]
  },
  {
   "cell_type": "code",
   "execution_count": 2,
   "metadata": {},
   "outputs": [],
   "source": [
    "import numpy as np\n",
    "import scipy.stats as stats\n",
    "import seaborn as sns\n",
    "import matplotlib.pyplot as plt\n",
    "\n",
    "sns.set(style=\"whitegrid\")"
   ]
  },
  {
   "cell_type": "markdown",
   "metadata": {},
   "source": [
    "# Importance of Visual Exploration\n",
    "\n",
    "EDA often emphasizes visual techniques because parametric summary statistics (mean, standard deviation, correlation) can be misleading. In some cases they beg the question. If you haven't determined if the normal distribution is a good model for a variable, why are you calculating the mean and variance? For now, we emphasize that we are only calculating the descriptive statistics (parametric and non-parametric) of empirical distributions and we are so far agnostic about the appropriate model for our data. We'll return to this in a later chapter.\n",
    "\n",
    "Non-parametric summary statistics (median, interquartile range) can be misleading as well although to a lesser degree. \n",
    "\n",
    "To illustrate the power of visualization for exploratory data analysis, we often rely on four data sets called \"Anscombe's Quartet\". These four data sets of two variables, (x, y), have interesting properties:\n",
    "\n",
    "1. All x's have the same mean and variance.\n",
    "2. All y's have the same mean and variance.\n",
    "3. The Pearson's Correlation Coefficient between x and y are the same for all the data sets."
   ]
  },
  {
   "cell_type": "markdown",
   "metadata": {},
   "source": [
    "Here are four data sets of Anscombe's Quartet:"
   ]
  },
  {
   "cell_type": "code",
   "execution_count": 3,
   "metadata": {},
   "outputs": [],
   "source": [
    "data_set_a = [(10.0, 8.04), (8.0, 6.95), (13.0, 7.58), (9.0, 8.81), (11.0, 8.33), (14.0, 9.96), \\\n",
    "              (6.0, 7.24), (4.0, 4.26), (12.0, 10.84), (7.0, 4.82), (5.0, 5.68)]\n",
    "data_set_b = [(10.0, 9.14), (8.0, 8.14), (13.0, 8.74), (9.0, 8.77), (11.0, 9.26), (14.0, 8.10), \\\n",
    "              (6.0, 6.13), (4.0, 3.10), (12.0, 9.13), (7.0, 7.26), (5.0, 4.74)]\n",
    "data_set_c = [(10.0, 7.46), (8.0, 6.77), (13.0, 12.74), (9.0, 7.11), (11.0, 7.81), (14.0, 8.84), \\\n",
    "              (6.0, 6.08), (4.0, 5.39), (12.0, 8.15), (7.0, 6.42), (5.0, 5.73)]\n",
    "data_set_d = [(8.0, 6.58), (8.0, 5.76), (8.0, 7.71), (8.0, 8.84), (8.0, 8.47), (8.0, 7.04), \\\n",
    "              (8.0, 5.25), (19.0, 12.50), (8.0, 5.56), (8.0, 7.91), (8.0, 6.89)]"
   ]
  },
  {
   "cell_type": "markdown",
   "metadata": {},
   "source": [
    "and we're going to apply the usual *parametric* descriptive statistics to them: mean, variance, Pearson's $r$:"
   ]
  },
  {
   "cell_type": "code",
   "execution_count": 4,
   "metadata": {},
   "outputs": [],
   "source": [
    "def analyze_data( name, data_set):\n",
    "    x, y = zip( *data_set)\n",
    "    print( name)\n",
    "    print( \"----------\")\n",
    "    print( \"Stats\\t\", \"Mean\", \"Variance\", \"Correlation\")\n",
    "    print( \"X\\t\", \"%.2f\\t\" % np.mean( x), \"%.2f\\t\" % np.var( x))\n",
    "    print( \"Y\\t\", \"%.2f\\t\" % np.mean( y), \"%.2f\\t\" % np.var( y), \"%.2f\" % \\\n",
    "          stats.pearsonr( x, y)[ 0])\n",
    "    print( \"---------\")"
   ]
  },
  {
   "cell_type": "markdown",
   "metadata": {},
   "source": [
    "Here's the results for Data Set A:"
   ]
  },
  {
   "cell_type": "code",
   "execution_count": 5,
   "metadata": {},
   "outputs": [
    {
     "name": "stdout",
     "output_type": "stream",
     "text": [
      "Data Set A\n",
      "----------\n",
      "Stats\t Mean Variance Correlation\n",
      "X\t 9.00\t 10.00\t\n",
      "Y\t 7.50\t 3.75\t 0.82\n",
      "---------\n"
     ]
    }
   ],
   "source": [
    "analyze_data( \"Data Set A\", data_set_a)"
   ]
  },
  {
   "cell_type": "markdown",
   "metadata": {},
   "source": [
    "Here's the results for Data Set B:"
   ]
  },
  {
   "cell_type": "code",
   "execution_count": 6,
   "metadata": {},
   "outputs": [
    {
     "name": "stdout",
     "output_type": "stream",
     "text": [
      "Data Set B\n",
      "----------\n",
      "Stats\t Mean Variance Correlation\n",
      "X\t 9.00\t 10.00\t\n",
      "Y\t 7.50\t 3.75\t 0.82\n",
      "---------\n"
     ]
    }
   ],
   "source": [
    "analyze_data( \"Data Set B\", data_set_b)"
   ]
  },
  {
   "cell_type": "markdown",
   "metadata": {},
   "source": [
    "Here's the results of Data Set C:"
   ]
  },
  {
   "cell_type": "code",
   "execution_count": 7,
   "metadata": {},
   "outputs": [
    {
     "name": "stdout",
     "output_type": "stream",
     "text": [
      "Data Set C\n",
      "----------\n",
      "Stats\t Mean Variance Correlation\n",
      "X\t 9.00\t 10.00\t\n",
      "Y\t 7.50\t 3.75\t 0.82\n",
      "---------\n"
     ]
    }
   ],
   "source": [
    "analyze_data( \"Data Set C\", data_set_c)"
   ]
  },
  {
   "cell_type": "markdown",
   "metadata": {},
   "source": [
    "Here's the results of Data Set D:"
   ]
  },
  {
   "cell_type": "code",
   "execution_count": 8,
   "metadata": {},
   "outputs": [
    {
     "name": "stdout",
     "output_type": "stream",
     "text": [
      "Data Set D\n",
      "----------\n",
      "Stats\t Mean Variance Correlation\n",
      "X\t 9.00\t 10.00\t\n",
      "Y\t 7.50\t 3.75\t 0.82\n",
      "---------\n"
     ]
    }
   ],
   "source": [
    "analyze_data( \"Data Set D\", data_set_d)"
   ]
  },
  {
   "cell_type": "markdown",
   "metadata": {},
   "source": [
    "Just be looking at these descriptive statistics, these data seem to be coming from the same distribution and have the same relationship. You might even be tempted to look to make sure I didn't pull a fast one on you or make a copy-paste error.\n",
    "\n",
    "Let's look at the same data using non-parametric descriptive statistics:"
   ]
  },
  {
   "cell_type": "code",
   "execution_count": 9,
   "metadata": {},
   "outputs": [],
   "source": [
    "def tukeys_five( name, variables, data_sets):\n",
    "    def f( val):\n",
    "        return \"%.2f\" % val\n",
    "    print( name)\n",
    "    print( \"----------\")\n",
    "    print( \"Stat\\t\", \"Min\\t\", \"1Q\\t\", \"Median\\t\", \"3Q\\t\", \"Max\")\n",
    "    data = {}\n",
    "    for i, data_set in enumerate( data_sets):\n",
    "        data[i] = data_set\n",
    "        quartiles = stats.mstats.mquantiles( data_set, [0.25, 0.5, 0.75])    \n",
    "        print( variables[ i],\"\\t\",f( np.min( data_set)),\"\\t\", \\\n",
    "              f( quartiles[ 0]),\"\\t\", f(quartiles[ 1]),\"\\t\", \\\n",
    "              f(quartiles[ 2]),\"\\t\", f(np.max( data_set)))\n",
    "    print(\"rho=\", stats.spearmanr( data[0], data[1])[0])\n",
    "    print( \"----------\")"
   ]
  },
  {
   "cell_type": "markdown",
   "metadata": {},
   "source": [
    "Tukey's Five plus Spearman's for Data Set A:"
   ]
  },
  {
   "cell_type": "code",
   "execution_count": 10,
   "metadata": {},
   "outputs": [
    {
     "name": "stdout",
     "output_type": "stream",
     "text": [
      "Data Set A\n",
      "----------\n",
      "Stat\t Min\t 1Q\t Median\t 3Q\t Max\n",
      "X \t 4.00 \t 6.20 \t 9.00 \t 11.80 \t 14.00\n",
      "Y \t 4.26 \t 5.93 \t 7.58 \t 8.71 \t 10.84\n",
      "rho= 0.8181818181818182\n",
      "----------\n"
     ]
    }
   ],
   "source": [
    "tukeys_five( \"Data Set A\", [\"X\", \"Y\"], zip(*data_set_a))"
   ]
  },
  {
   "cell_type": "markdown",
   "metadata": {},
   "source": [
    "Tukey's Five plus Spearman's for Data Set B:"
   ]
  },
  {
   "cell_type": "code",
   "execution_count": 11,
   "metadata": {},
   "outputs": [
    {
     "name": "stdout",
     "output_type": "stream",
     "text": [
      "Data Set B\n",
      "----------\n",
      "Stat\t Min\t 1Q\t Median\t 3Q\t Max\n",
      "X \t 4.00 \t 6.20 \t 9.00 \t 11.80 \t 14.00\n",
      "Y \t 3.10 \t 6.36 \t 8.14 \t 9.06 \t 9.26\n",
      "rho= 0.690909090909091\n",
      "----------\n"
     ]
    }
   ],
   "source": [
    "tukeys_five( \"Data Set B\", [\"X\", \"Y\"], zip(*data_set_b))"
   ]
  },
  {
   "cell_type": "markdown",
   "metadata": {},
   "source": [
    "Tukey's Five plus Spearman's for Data Set C:"
   ]
  },
  {
   "cell_type": "code",
   "execution_count": 12,
   "metadata": {},
   "outputs": [
    {
     "name": "stdout",
     "output_type": "stream",
     "text": [
      "Data Set C\n",
      "----------\n",
      "Stat\t Min\t 1Q\t Median\t 3Q\t Max\n",
      "X \t 4.00 \t 6.20 \t 9.00 \t 11.80 \t 14.00\n",
      "Y \t 5.39 \t 6.15 \t 7.11 \t 8.08 \t 12.74\n",
      "rho= 0.990909090909091\n",
      "----------\n"
     ]
    }
   ],
   "source": [
    "tukeys_five( \"Data Set C\", [\"X\", \"Y\"], zip(*data_set_c))"
   ]
  },
  {
   "cell_type": "markdown",
   "metadata": {},
   "source": [
    "Tukey's Five plus Spearman's for Data Set D:"
   ]
  },
  {
   "cell_type": "code",
   "execution_count": 13,
   "metadata": {},
   "outputs": [
    {
     "name": "stdout",
     "output_type": "stream",
     "text": [
      "Data Set D\n",
      "----------\n",
      "Stat\t Min\t 1Q\t Median\t 3Q\t Max\n",
      "X \t 8.00 \t 8.00 \t 8.00 \t 8.00 \t 19.00\n",
      "Y \t 5.25 \t 5.92 \t 7.04 \t 8.36 \t 12.50\n",
      "rho= 0.5\n",
      "----------\n"
     ]
    }
   ],
   "source": [
    "tukeys_five( \"Data Set D\", [\"X\", \"Y\"], zip(*data_set_d))"
   ]
  },
  {
   "cell_type": "markdown",
   "metadata": {},
   "source": [
    "Notice that the non-parametric descriptive statistics give us a much better idea of the data and that they *are* different.  X seems to be the same or at least similar in Data Set's A, B and C but what's going on with D? They're almost all 8. It's much more difficult to discern anything interesting about Y.\n",
    "\n",
    "In terms of relationships, for Data Set's A, B and C, we have weak to strong monotonic increasing relationships and with Data Set D, again, we have a very weak monotonic increasing relationship. And yet, we're still a bit in the dark about what's going on with this data.\n",
    "\n",
    "Let's plot the data sets:"
   ]
  },
  {
   "cell_type": "code",
   "execution_count": 14,
   "metadata": {},
   "outputs": [
    {
     "data": {
      "image/png": "[encoded data removed]",
      "text/plain": [
       "<Figure size 1440x720 with 4 Axes>"
      ]
     },
     "metadata": {},
     "output_type": "display_data"
    }
   ],
   "source": [
    "figure = plt.figure(figsize=(20,10))\n",
    "\n",
    "axes = figure.add_subplot(2, 2, 1)\n",
    "x, y = zip( *data_set_a)\n",
    "axes.scatter( x, y, color=\"DimGray\")\n",
    "m, b = np.polyfit(x, y, 1)\n",
    "axes.plot(x, [m * j + b for j in x], '-', color=\"firebrick\", alpha=0.5)\n",
    "axes.set_title( \"Data Set A\")\n",
    "axes.set_ylim((2, 14))\n",
    "\n",
    "axes = figure.add_subplot(2, 2, 2)\n",
    "x, y = zip( *data_set_b)\n",
    "axes.scatter( x, y, color=\"DimGray\")\n",
    "m, b = np.polyfit(x, y, 1)\n",
    "axes.plot(x, [m * j + b for j in x], '-', color=\"firebrick\", alpha=0.5)\n",
    "axes.set_title( \"Data Set B\")\n",
    "axes.set_ylim((2, 14))\n",
    "\n",
    "axes = figure.add_subplot(2, 2, 3)\n",
    "x, y = zip( *data_set_c)\n",
    "axes.scatter( x, y, color=\"DimGray\")\n",
    "m, b = np.polyfit(x, y, 1)\n",
    "axes.plot(x, [m * j + b for j in x], '-', color=\"firebrick\", alpha=0.5)\n",
    "axes.set_title( \"Data Set C\")\n",
    "axes.set_ylim((2, 14))\n",
    "\n",
    "axes = figure.add_subplot(2, 2, 4)\n",
    "x, y = zip( *data_set_d)\n",
    "axes.scatter( x, y, color=\"DimGray\")\n",
    "m, b = np.polyfit(x, y, 1)\n",
    "axes.plot(x, [m * j + b for j in x], '-', color=\"firebrick\", alpha=0.5)\n",
    "axes.set_title( \"Data Set D\")\n",
    "axes.set_ylim((2, 14))\n",
    "\n",
    "plt.show()\n",
    "plt.close()"
   ]
  },
  {
   "cell_type": "markdown",
   "metadata": {},
   "source": [
    "Only by plotting the data sets do we really get to see the actual structure of the data. The descriptive statistics completely fail to capture what's going on. The focus of EDA is almost entirely on visualization, exploring the structure of your data visually. They are the canonical example of why visualization is important in EDA."
   ]
  }
 ],
 "metadata": {
  "kernelspec": {
   "display_name": "Python 3",
   "language": "python",
   "name": "python3"
  },
  "language_info": {
   "codemirror_mode": {
    "name": "ipython",
    "version": 3
   },
   "file_extension": ".py",
   "mimetype": "text/x-python",
   "name": "python",
   "nbconvert_exporter": "python",
   "pygments_lexer": "ipython3",
   "version": "3.7.0"
  },
  "toc": {
   "colors": {
    "hover_highlight": "#DAA520",
    "navigate_num": "#000000",
    "navigate_text": "#333333",
    "running_highlight": "#FF0000",
    "selected_highlight": "#FFD700",
    "sidebar_border": "#EEEEEE",
    "wrapper_background": "#FFFFFF"
   },
   "moveMenuLeft": true,
   "nav_menu": {
    "height": "30px",
    "width": "252px"
   },
   "navigate_menu": true,
   "number_sections": true,
   "sideBar": true,
   "threshold": 4,
   "toc_cell": false,
   "toc_section_display": "block",
   "toc_window_display": false,
   "widenNotebook": false
  }
 },
 "nbformat": 4,
 "nbformat_minor": 2
}
