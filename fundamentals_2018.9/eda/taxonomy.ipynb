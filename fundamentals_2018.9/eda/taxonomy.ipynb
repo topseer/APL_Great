{
 "cells": [
  {
   "cell_type": "markdown",
   "metadata": {},
   "source": [
    "# Taxonomy of EDA\n",
    "\n",
    "As previously noted, EDA is often criticized for lacking rigor. In order to establish at least some set of guidelines, we're going to talk about the general types of problems we're going to encounter and the general solutions to such problems.\n",
    "\n",
    "Remember what the Handbook said EDA was about:\n",
    "\n",
    "1. Maximize insight into the data set;\n",
    "2. Uncover underlying structure;\n",
    "3. Extract important variables;\n",
    "4. Detect outliers and anomalies;\n",
    "5. Test underlying assumptions;\n",
    "6. Develop parsimonious (\"frugal\") models; and\n",
    "7. Determine optimal factor settings.\n",
    "\n",
    "a lot of this is problem and domain based. We're going to concentrate on the first four (4). We're going to start by breaking our variables into two broad classes: numeric (continuous and integral) and categorical variables. There are different approaches to looking at each of these variables.\n",
    "\n",
    "Also remember when we talked about visualization that there are only a few basic relationships:\n",
    "\n",
    "1. Time Series\n",
    "2. Ranking\n",
    "3. Part/Whole\n",
    "4. Deviation\n",
    "5. Distribution\n",
    "6. Correlation\n",
    "7. Geospatial\n",
    "8. Nominal\n",
    "\n",
    "For now, we're going to ignore Geospatial and Time Series as they add unique complexities. Additionally, we may be looking at one variable (sales) or more than one variable (sales by region by store or sales versus profits).\n",
    "\n",
    "Finally, there are many possible EDA techniques we might use which include descriptive statistics (parametric and non-parametric), tables and charts. As we discovered earlier, EDA focuses on charts. There will be many different charts available to you to explore each quantiative relationship. Some are better than others but you will often need to try many of them. I was once asked if there was software to do EDA for you. No, there is not. This is actually an important part of doing data science.\n",
    "\n",
    "So our taxonomic matrix involves:\n",
    "\n",
    "|                     |                                                              |\n",
    "|---------------------|--------------------------------------------------------------|\n",
    "| Data Type           | numeric, categorical                                         |\n",
    "| Number of Variables | one, two, many                                               |\n",
    "| Goal                | distribution, ranking, part/whole, distribution, correlation |\n",
    "| Technique:          | descriptive statistics, table, chart                         |"
   ]
  },
  {
   "cell_type": "markdown",
   "metadata": {
    "nbsphinx-toctree": {}
   },
   "source": [
    "* [Categorical](matrix/categorical.ipynb)\n",
    "* [Numerical](matrix/numerical.ipynb)\n",
    "* [Categorical v. Categorical](matrix/categorical_v_categorical.ipynb)\n",
    "* [Categorical v. Numerical](matrix/categorical_v_numerical.ipynb)\n",
    "* [Numerical v. Numerical](matrix/numerical_v_numerical.ipynb)\n",
    "* [Three or More](matrix/advanced.ipynb)"
   ]
  }
 ],
 "metadata": {
  "celltoolbar": "Edit Metadata",
  "kernelspec": {
   "display_name": "Python 3",
   "language": "python",
   "name": "python3"
  },
  "language_info": {
   "codemirror_mode": {
    "name": "ipython",
    "version": 3
   },
   "file_extension": ".py",
   "mimetype": "text/x-python",
   "name": "python",
   "nbconvert_exporter": "python",
   "pygments_lexer": "ipython3",
   "version": "3.7.0"
  },
  "toc": {
   "colors": {
    "hover_highlight": "#DAA520",
    "navigate_num": "#000000",
    "navigate_text": "#333333",
    "running_highlight": "#FF0000",
    "selected_highlight": "#FFD700",
    "sidebar_border": "#EEEEEE",
    "wrapper_background": "#FFFFFF"
   },
   "moveMenuLeft": true,
   "nav_menu": {
    "height": "30px",
    "width": "252px"
   },
   "navigate_menu": true,
   "number_sections": true,
   "sideBar": true,
   "threshold": 4,
   "toc_cell": false,
   "toc_section_display": "block",
   "toc_window_display": false,
   "widenNotebook": false
  }
 },
 "nbformat": 4,
 "nbformat_minor": 2
}
