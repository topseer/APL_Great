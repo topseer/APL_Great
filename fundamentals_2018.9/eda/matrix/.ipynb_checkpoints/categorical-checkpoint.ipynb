{
 "cells": [
  {
   "cell_type": "code",
   "execution_count": 1,
   "metadata": {},
   "outputs": [],
   "source": [
    "%matplotlib inline"
   ]
  },
  {
   "cell_type": "code",
   "execution_count": 2,
   "metadata": {},
   "outputs": [],
   "source": [
    "import numpy as np\n",
    "import scipy.stats as stats\n",
    "import seaborn as sns\n",
    "import matplotlib.pyplot as plt\n",
    "import pandas as pd\n",
    "\n",
    "sns.set(style=\"whitegrid\")\n",
    "\n",
    "pd.set_option('display.max_rows', 500)\n",
    "pd.set_option('display.max_columns', 500)\n",
    "pd.set_option('display.width', 200)"
   ]
  },
  {
   "cell_type": "markdown",
   "metadata": {},
   "source": [
    "# Categorical \n",
    "\n",
    "A categorical variable can be unordered or ordered. The values of a categorical variable are the possible categories. These are usually labels of some kind but not always. The values can be integers as in a code of some kind or they can directly represent an ordering (first, second, third, etc). The values may also be dates. For now we concentrate on unordered categorical variables whose values are labels.\n",
    "\n",
    "According to our taxonomy, we have three techniques available to us: descriptive statistics, table, and chart.\n",
    "\n",
    "The descriptive statistics for a categorical variable are fairly limited. If we count up the number of observations for each label (category), we can determine which category has the least observations (minimum) and which category has the most observations (maximum). The other descriptive statistics don't really apply.\n",
    "\n",
    "Let's assume we have a categorical variable, $X$, with five possible labels $\\{a, b, c, d, e\\}$. There are 191 observations."
   ]
  },
  {
   "cell_type": "code",
   "execution_count": 3,
   "metadata": {},
   "outputs": [],
   "source": [
    "x = [\"a\"] * 25 + [\"b\"] * 72 + [\"c\"] * 12 + [\"d\"] * 49 + [\"e\"] * 33\n",
    "data = pd.DataFrame(x)\n",
    "data.columns = [\"X\"]"
   ]
  },
  {
   "cell_type": "markdown",
   "metadata": {},
   "source": [
    "Pandas `describe` will work well with a categorical variable although, as has already been mentioned, the actual representation may be a number (integer) so don't accidentally start taking means and variances...Pandas will let you do it."
   ]
  },
  {
   "cell_type": "code",
   "execution_count": 4,
   "metadata": {},
   "outputs": [
    {
     "data": {
      "text/plain": [
       "count     191\n",
       "unique      5\n",
       "top         b\n",
       "freq       72\n",
       "Name: X, dtype: object"
      ]
     },
     "execution_count": 4,
     "metadata": {},
     "output_type": "execute_result"
    }
   ],
   "source": [
    "data[\"X\"].describe()"
   ]
  },
  {
   "cell_type": "markdown",
   "metadata": {},
   "source": [
    "We can get a better sense of the data by calculating the counts for each category:"
   ]
  },
  {
   "cell_type": "code",
   "execution_count": 5,
   "metadata": {},
   "outputs": [
    {
     "data": {
      "text/plain": [
       "a    25\n",
       "b    72\n",
       "c    12\n",
       "d    49\n",
       "e    33\n",
       "Name: X, dtype: int64"
      ]
     },
     "execution_count": 5,
     "metadata": {},
     "output_type": "execute_result"
    }
   ],
   "source": [
    "data[\"X\"].value_counts().sort_index()"
   ]
  },
  {
   "cell_type": "markdown",
   "metadata": {},
   "source": [
    "For some reason, a Pandas Series doesn't display in as nice HTML. No matter, we can fix that by wrapping the Series in a DataFrame. I'll reveal the reason for the `sort_index` in a bit."
   ]
  },
  {
   "cell_type": "code",
   "execution_count": 6,
   "metadata": {},
   "outputs": [
    {
     "data": {
      "text/html": [
       "<div>\n",
       "<style scoped>\n",
       "    .dataframe tbody tr th:only-of-type {\n",
       "        vertical-align: middle;\n",
       "    }\n",
       "\n",
       "    .dataframe tbody tr th {\n",
       "        vertical-align: top;\n",
       "    }\n",
       "\n",
       "    .dataframe thead th {\n",
       "        text-align: right;\n",
       "    }\n",
       "</style>\n",
       "<table border=\"1\" class=\"dataframe\">\n",
       "  <thead>\n",
       "    <tr style=\"text-align: right;\">\n",
       "      <th></th>\n",
       "      <th>X</th>\n",
       "    </tr>\n",
       "  </thead>\n",
       "  <tbody>\n",
       "    <tr>\n",
       "      <th>a</th>\n",
       "      <td>25</td>\n",
       "    </tr>\n",
       "    <tr>\n",
       "      <th>b</th>\n",
       "      <td>72</td>\n",
       "    </tr>\n",
       "    <tr>\n",
       "      <th>c</th>\n",
       "      <td>12</td>\n",
       "    </tr>\n",
       "    <tr>\n",
       "      <th>d</th>\n",
       "      <td>49</td>\n",
       "    </tr>\n",
       "    <tr>\n",
       "      <th>e</th>\n",
       "      <td>33</td>\n",
       "    </tr>\n",
       "  </tbody>\n",
       "</table>\n",
       "</div>"
      ],
      "text/plain": [
       "    X\n",
       "a  25\n",
       "b  72\n",
       "c  12\n",
       "d  49\n",
       "e  33"
      ]
     },
     "execution_count": 6,
     "metadata": {},
     "output_type": "execute_result"
    }
   ],
   "source": [
    "pd.DataFrame(data[\"X\"].value_counts().sort_index())"
   ]
  },
  {
   "cell_type": "markdown",
   "metadata": {},
   "source": [
    "Scanning the table we can identify the most and least common categories: \"b\" with 72 observations and \"c\" with 12.\n",
    "\n",
    "While in some situations we might be interested in these raw counts (usually when dollars are involved), it's often more interesting to look at the relative frequency or *proportions* for each category:"
   ]
  },
  {
   "cell_type": "code",
   "execution_count": 7,
   "metadata": {},
   "outputs": [
    {
     "data": {
      "text/html": [
       "<div>\n",
       "<style scoped>\n",
       "    .dataframe tbody tr th:only-of-type {\n",
       "        vertical-align: middle;\n",
       "    }\n",
       "\n",
       "    .dataframe tbody tr th {\n",
       "        vertical-align: top;\n",
       "    }\n",
       "\n",
       "    .dataframe thead th {\n",
       "        text-align: right;\n",
       "    }\n",
       "</style>\n",
       "<table border=\"1\" class=\"dataframe\">\n",
       "  <thead>\n",
       "    <tr style=\"text-align: right;\">\n",
       "      <th></th>\n",
       "      <th>X</th>\n",
       "    </tr>\n",
       "  </thead>\n",
       "  <tbody>\n",
       "    <tr>\n",
       "      <th>a</th>\n",
       "      <td>0.130890</td>\n",
       "    </tr>\n",
       "    <tr>\n",
       "      <th>b</th>\n",
       "      <td>0.376963</td>\n",
       "    </tr>\n",
       "    <tr>\n",
       "      <th>c</th>\n",
       "      <td>0.062827</td>\n",
       "    </tr>\n",
       "    <tr>\n",
       "      <th>d</th>\n",
       "      <td>0.256545</td>\n",
       "    </tr>\n",
       "    <tr>\n",
       "      <th>e</th>\n",
       "      <td>0.172775</td>\n",
       "    </tr>\n",
       "  </tbody>\n",
       "</table>\n",
       "</div>"
      ],
      "text/plain": [
       "          X\n",
       "a  0.130890\n",
       "b  0.376963\n",
       "c  0.062827\n",
       "d  0.256545\n",
       "e  0.172775"
      ]
     },
     "execution_count": 7,
     "metadata": {},
     "output_type": "execute_result"
    }
   ],
   "source": [
    "pd.DataFrame(data[\"X\"].value_counts( normalize=True).sort_index())"
   ]
  },
  {
   "cell_type": "markdown",
   "metadata": {},
   "source": [
    "If we take a moment, we can scan the table and determine that \"b\" is 37% of the observations and a good 12% *points* ahead of \"d\". \"e\" is almost half of \"d\", \"e\" and \"a\" are not far apart, and \"c\" is half of \"a\". While some of these relationships are visible in the absolute counts, as the counts grow larger this is not always the case.\n",
    "\n",
    "We can also think of these values are estimates of a marginal probability distribution for X, $P(x)$. We can compare the observed distribution against an expected distribution, for example, a uniform distribution where each has an equal probability. For five possibilities, that would 20% for each one. \"b\" is almost twice that and \"c\" almost one fourth.\n",
    "\n",
    "We can also reveal the reason for the `sort_index`: Pandas automatically sorts the counts (and relative counts):"
   ]
  },
  {
   "cell_type": "code",
   "execution_count": 8,
   "metadata": {},
   "outputs": [
    {
     "data": {
      "text/html": [
       "<div>\n",
       "<style scoped>\n",
       "    .dataframe tbody tr th:only-of-type {\n",
       "        vertical-align: middle;\n",
       "    }\n",
       "\n",
       "    .dataframe tbody tr th {\n",
       "        vertical-align: top;\n",
       "    }\n",
       "\n",
       "    .dataframe thead th {\n",
       "        text-align: right;\n",
       "    }\n",
       "</style>\n",
       "<table border=\"1\" class=\"dataframe\">\n",
       "  <thead>\n",
       "    <tr style=\"text-align: right;\">\n",
       "      <th></th>\n",
       "      <th>X</th>\n",
       "    </tr>\n",
       "  </thead>\n",
       "  <tbody>\n",
       "    <tr>\n",
       "      <th>b</th>\n",
       "      <td>0.376963</td>\n",
       "    </tr>\n",
       "    <tr>\n",
       "      <th>d</th>\n",
       "      <td>0.256545</td>\n",
       "    </tr>\n",
       "    <tr>\n",
       "      <th>e</th>\n",
       "      <td>0.172775</td>\n",
       "    </tr>\n",
       "    <tr>\n",
       "      <th>a</th>\n",
       "      <td>0.130890</td>\n",
       "    </tr>\n",
       "    <tr>\n",
       "      <th>c</th>\n",
       "      <td>0.062827</td>\n",
       "    </tr>\n",
       "  </tbody>\n",
       "</table>\n",
       "</div>"
      ],
      "text/plain": [
       "          X\n",
       "b  0.376963\n",
       "d  0.256545\n",
       "e  0.172775\n",
       "a  0.130890\n",
       "c  0.062827"
      ]
     },
     "execution_count": 8,
     "metadata": {},
     "output_type": "execute_result"
    }
   ],
   "source": [
    "pd.DataFrame(data[\"X\"].value_counts( normalize=True))"
   ]
  },
  {
   "cell_type": "markdown",
   "metadata": {},
   "source": [
    "It's even easier to see the relative sizes of the categories when the frequencies are sorted.\n",
    "\n",
    "However, especially with large numbers of categories, you may want to show the data both ways. First, unsorted because you may want to be able to easily look up specific categories of interest. Second, sorted because you will want to be able to easily compare adjacent frequencies."
   ]
  },
  {
   "cell_type": "markdown",
   "metadata": {},
   "source": [
    "Moving to charts, we can create the classic bar chart:"
   ]
  },
  {
   "cell_type": "code",
   "execution_count": 9,
   "metadata": {},
   "outputs": [
    {
     "data": {
      "image/png": "[encoded data removed]",
      "text/plain": [
       "<Figure size 1440x432 with 2 Axes>"
      ]
     },
     "metadata": {},
     "output_type": "display_data"
    }
   ],
   "source": [
    "counts = data[\"X\"].value_counts().sort_index()\n",
    "proportions = data[\"X\"].value_counts(normalize=True).sort_index()\n",
    "x = range( len( counts))\n",
    "width = 1/1.5\n",
    "\n",
    "figure = plt.figure(figsize=(20, 6))\n",
    "\n",
    "axes = figure.add_subplot(1, 2, 1)\n",
    "axes.bar(x, counts, width, color=\"dimgray\", align=\"center\")\n",
    "axes.set_xticks([0, 1, 2, 3, 4])\n",
    "axes.set_xticklabels(counts.axes[0])\n",
    "axes.set_title( \"Counts for $X$\")\n",
    "axes.set_ylabel( \"Counts\")\n",
    "axes.xaxis.grid(False)\n",
    "\n",
    "axes = figure.add_subplot(1, 2, 2)\n",
    "axes.bar(x, proportions, width, color=\"dimgray\", align=\"center\")\n",
    "axes.set_xticks([0, 1, 2, 3, 4])\n",
    "axes.set_xticklabels(proportions.axes[0])\n",
    "axes.set_title( \"Relative Frequency of $X$\")\n",
    "axes.set_ylabel( \"Percent\")\n",
    "axes.xaxis.grid(False)\n",
    "\n",
    "plt.show()\n",
    "plt.close()"
   ]
  },
  {
   "cell_type": "markdown",
   "metadata": {},
   "source": [
    "Without looking at the y-axis scale, this charts look identical. This isn't surprising. The right is simply the normalized version of the left (every bar has been divided by the total count). This leaves the relative sizes of the bars unchanged but by expressing them in a easily interpreted scale (proportions), we get a slightly different feel for the data. So these are not *really* the same story.\n",
    "\n",
    "One is a story of absolute magnitude and another is proportions. For relative charts, you often want to include the total number, $n$, somewhere in the chart or text to give the percentages context.\n",
    "\n",
    "As before, we can sort the values. Here we'll show three charts: unsorted, sorted ascending, and sorted descending:"
   ]
  },
  {
   "cell_type": "code",
   "execution_count": 10,
   "metadata": {},
   "outputs": [
    {
     "data": {
      "image/png": "[encoded data removed]",
      "text/plain": [
       "<Figure size 1440x432 with 3 Axes>"
      ]
     },
     "metadata": {},
     "output_type": "display_data"
    }
   ],
   "source": [
    "raw_proportions = data[\"X\"].value_counts(normalize=True).sort_index()\n",
    "proportions_up = raw_proportions.sort_values()\n",
    "proportions_down = raw_proportions.sort_values(ascending=False)\n",
    "\n",
    "x = range( len( counts))\n",
    "width = 1/1.5\n",
    "\n",
    "figure = plt.figure(figsize=(20, 6))\n",
    "\n",
    "axes = figure.add_subplot(1, 3, 1)\n",
    "axes.bar(x, raw_proportions, width, color=\"dimgray\", align=\"center\")\n",
    "axes.set_xticks([0, 1, 2, 3, 4])\n",
    "axes.set_xticklabels(raw_proportions.axes[0])\n",
    "axes.set_title( \"Proportions for $X$\")\n",
    "axes.set_ylabel( \"Percent\")\n",
    "axes.xaxis.grid(False)\n",
    "\n",
    "axes = figure.add_subplot(1, 3, 2)\n",
    "axes.bar(x, proportions_up, width, color=\"dimgray\", align=\"center\")\n",
    "axes.set_xticks([0, 1, 2, 3, 4])\n",
    "axes.set_xticklabels(proportions_up.axes[0])\n",
    "axes.set_title( \"Ascending Proportions for $X$\")\n",
    "axes.set_ylabel( \"Percent\")\n",
    "axes.xaxis.grid(False)\n",
    "\n",
    "\n",
    "axes = figure.add_subplot(1, 3, 3)\n",
    "axes.bar(x, proportions_down, width, color=\"dimgray\", align=\"center\")\n",
    "axes.set_xticks([0, 1, 2, 3, 4])\n",
    "axes.set_xticklabels(proportions_down.axes[0])\n",
    "axes.set_title( \"Descending Frequency of $X$\")\n",
    "axes.set_ylabel( \"Percent\")\n",
    "axes.xaxis.grid(False)\n",
    "\n",
    "plt.show()\n",
    "plt.close()"
   ]
  },
  {
   "cell_type": "markdown",
   "metadata": {},
   "source": [
    "It seems a little strange but the two sorted charts do tell slightly different stories because of the way our eyes follow the trend. One story is of categories getting more frequent and the other story is of categories getting less frequent."
   ]
  },
  {
   "cell_type": "markdown",
   "metadata": {},
   "source": [
    "In the Visualization chapter we discussed how a bar in a bar chart embodies extent (width and area) as well as length. At the extreme, this is why images can't (usually) be used as bars. If you lengthen them, to keep them recognizable, you also have to widen them. This means bars bring along a bit more information than we actually need to encode a *value*.\n",
    "\n",
    "One alternative to bar charts is dot charts. One of the advantages of dot charts is that we can use them to emphasize differences. The placement of the dot only encodes position. Here's an example:"
   ]
  },
  {
   "cell_type": "code",
   "execution_count": 11,
   "metadata": {},
   "outputs": [
    {
     "data": {
      "image/png": "[encoded data removed]",
      "text/plain": [
       "<Figure size 1440x432 with 2 Axes>"
      ]
     },
     "metadata": {},
     "output_type": "display_data"
    }
   ],
   "source": [
    "figure = plt.figure(figsize=(20, 6))\n",
    "\n",
    "xs = [1, 2, 3, 4, 5]\n",
    "axes = figure.add_subplot(1, 2, 1)\n",
    "axes.plot(xs, proportions_down, \"o\", color=\"dimgray\")\n",
    "axes.vlines(xs, [0], [1], linestyles='dotted', lw=1)\n",
    "axes.set_xticks(xs)\n",
    "axes.set_xlim((0, 6))\n",
    "axes.set_xticklabels(proportions_down.axes[0])\n",
    "axes.set_title( \"Proportions of $X_1$\")\n",
    "axes.set_ylabel( \"Percent\")\n",
    "axes.set_ylim((0,1))\n",
    "axes.xaxis.grid(False)\n",
    "\n",
    "axes = figure.add_subplot(1, 2, 2)\n",
    "axes.plot(xs, proportions_down, \"o\", color=\"dimgray\")\n",
    "axes.vlines(xs, [0], [1], linestyles='dotted', lw=1)\n",
    "axes.set_xlim((0, 6))\n",
    "axes.set_xticks(xs)\n",
    "axes.set_xticklabels(proportions_down.axes[0])\n",
    "axes.set_title( \"'Zoomed' Proportions of $X_1$\")\n",
    "axes.set_ylabel( \"Percent\")\n",
    "axes.set_ylim((0.05,0.5))\n",
    "axes.xaxis.grid(False)\n",
    "\n",
    "plt.show()\n",
    "plt.close()"
   ]
  },
  {
   "cell_type": "markdown",
   "metadata": {},
   "source": [
    "The variants above use a dotted line support for the dot that extends the entire range of the y-axis. This is to prevent us from creating bars that are 1 pixel wide. Note that these *are* variants. You may not need to do both charts; don't just copy/paste these \"because\". Be deliberate and don't go with defaults.\n",
    "\n",
    "As a side note, this is one of those cases where it is often worth your while to learn how your graphics library works at a low level in case you need to make your own kind of chart, rather than always relying on the provided charts from the high level library.\n",
    "\n",
    "At this point, where you go with this particular variable will depend on what you find and what your problem/question is. Often, at the start, you only need to plot the data, note the descriptive statistics, and make some basic observations. \n",
    "\n",
    "One question that continually arises is how much effort needs to be put into the individual charts given that this is exploration and not reporting. There are a number of ways to answer this.\n",
    "\n",
    "1. EDA can be iterative.  You can quickly go through each variable, describe the variable and the extent of your domain knowledge, calculate descriptive statistics, and do a few main plots. Then go on to the next variable. When you are all done, come back. Start exploring more and indulge your curiosity. \n",
    "2. EDA can depend on maturity. If this is the 10th time you've looked at this data, you may only need to do something simple to make sure nothing substantive has changed (a new category?) *or* you can do something more complicated that you haven't done before.\n",
    "3. EDA can depend on the goals. Is this a variable of particular interest? If you already know that this variable is important, you might want to spend a bit more time plotting it different ways. Is there already a question or problem associated with this variable? Don't move into *pairwise* comparisons prematurely, however. Be methodical.\n",
    "4. EDA is not reporting. You can take this time to do a lot of different charts (perhaps you have your 3 favorites for a categorical variable and 4 for a numerical variable). You spit them out, look at them, and make relevant comments.\n",
    "\n",
    "The last part brings up another question: how much effort should be put into formatting the chart? Aside from using a good base format, I think that the bare minimum for a chart is a title that says what it is (unlike a reporting title that may emphasize the message) and a y axis label. This should be enough for anyone who reads through your EDA to figure out what's going on. \n",
    "\n",
    "So let's assume that this variable is a bit more interesting to us. What could else could we do? We could plot a Uniform reference distribution or show deviations from it. And of course different presentations will tell different stories. During EDA we are trying to find stories as much as communicate them."
   ]
  },
  {
   "cell_type": "code",
   "execution_count": 12,
   "metadata": {},
   "outputs": [
    {
     "data": {
      "image/png": "[encoded data removed]",
      "text/plain": [
       "<Figure size 1440x432 with 3 Axes>"
      ]
     },
     "metadata": {},
     "output_type": "display_data"
    }
   ],
   "source": [
    "raw_proportions = data[\"X\"].value_counts(normalize=True).sort_index()\n",
    "proportions_up = raw_proportions.sort_values()\n",
    "proportions_down = raw_proportions.sort_values(ascending=False)\n",
    "\n",
    "x = range( len( counts))\n",
    "width = 1/1.5\n",
    "\n",
    "figure = plt.figure(figsize=(20, 6))\n",
    "\n",
    "axes = figure.add_subplot(1, 3, 1)\n",
    "axes.bar(x, raw_proportions, width, color=\"dimgray\", align=\"center\")\n",
    "axes.set_xticks([0, 1, 2, 3, 4])\n",
    "axes.axhline(0.2, 0, 4, lw=1, color=\"DarkRed\")\n",
    "axes.set_xticklabels(raw_proportions.axes[0])\n",
    "axes.set_title( \"Proportions for $X$\")\n",
    "axes.set_ylabel( \"Percent\")\n",
    "axes.xaxis.grid(False)\n",
    "\n",
    "axes = figure.add_subplot(1, 3, 2)\n",
    "axes.bar(x, proportions_up, width, color=\"dimgray\", align=\"center\")\n",
    "axes.axhline(0.2, 0, 4, lw=1, color=\"DarkRed\")\n",
    "axes.set_xticks([0, 1, 2, 3, 4])\n",
    "axes.set_xticklabels(proportions_up.axes[0])\n",
    "axes.set_title( \"Ascending Proportions for $X$\")\n",
    "axes.set_ylabel( \"Percent\")\n",
    "axes.xaxis.grid(False)\n",
    "\n",
    "axes = figure.add_subplot(1, 3, 3)\n",
    "axes.bar(x, proportions_down, width, color=\"dimgray\", align=\"center\")\n",
    "axes.axhline(0.2, 0, 4, lw=1, color=\"DarkRed\")\n",
    "axes.set_xticks([0, 1, 2, 3, 4])\n",
    "axes.set_xticklabels(proportions_down.axes[0])\n",
    "axes.set_title( \"Descending Frequency of $X$\")\n",
    "axes.set_ylabel( \"Percent\")\n",
    "axes.xaxis.grid(False)\n",
    "\n",
    "plt.show()\n",
    "plt.close()"
   ]
  },
  {
   "cell_type": "markdown",
   "metadata": {},
   "source": [
    "Here we might note that \"b\" is substantially larger than expected and that \"c\" and \"a\" are much lower, perhaps even as a result."
   ]
  },
  {
   "cell_type": "code",
   "execution_count": 13,
   "metadata": {},
   "outputs": [
    {
     "data": {
      "image/png": "[encoded data removed]",
      "text/plain": [
       "<Figure size 1440x432 with 3 Axes>"
      ]
     },
     "metadata": {},
     "output_type": "display_data"
    }
   ],
   "source": [
    "raw_proportions = data[\"X\"].value_counts(normalize=True).sort_index()\n",
    "proportions_up = raw_proportions.sort_values()\n",
    "proportions_down = raw_proportions.sort_values(ascending=False)\n",
    "\n",
    "x = range( len( counts))\n",
    "width = 1/1.5\n",
    "\n",
    "figure = plt.figure(figsize=(20, 6))\n",
    "\n",
    "axes = figure.add_subplot(1, 3, 1)\n",
    "axes.bar(x, raw_proportions - 0.2, width, color=\"dimgray\", align=\"center\")\n",
    "axes.set_xticks([0, 1, 2, 3, 4])\n",
    "axes.set_xticklabels(raw_proportions.axes[0])\n",
    "axes.set_title( \"Difference from 20% of Proportions of $X$\")\n",
    "axes.set_ylabel( \"Percentage Points\")\n",
    "axes.xaxis.grid(False)\n",
    "\n",
    "axes = figure.add_subplot(1, 3, 2)\n",
    "axes.bar(x, proportions_up - 0.2, width, color=\"dimgray\", align=\"center\")\n",
    "axes.set_xticks([0, 1, 2, 3, 4])\n",
    "axes.set_xticklabels(proportions_up.axes[0])\n",
    "axes.set_title( \"Difference from 20% of Proportions of $X$\")\n",
    "axes.set_ylabel( \"Percentange Points\")\n",
    "axes.xaxis.grid(False)\n",
    "\n",
    "axes = figure.add_subplot(1, 3, 3)\n",
    "axes.bar(x, proportions_down - 0.2, width, color=\"dimgray\", align=\"center\")\n",
    "axes.set_xticks([0, 1, 2, 3, 4])\n",
    "axes.set_xticklabels(proportions_down.axes[0])\n",
    "axes.set_title( \"Difference from 20% of Proportions of $X$\")\n",
    "axes.set_ylabel( \"Percentage Points\")\n",
    "axes.xaxis.grid(False)\n",
    "\n",
    "plt.show()\n",
    "plt.close()"
   ]
  },
  {
   "cell_type": "markdown",
   "metadata": {},
   "source": [
    "If we compare our original charts to these (and, again, you *may* not need all three of them), it's clear that we're looking at the data a different way and that we're discovering a different story. Whether or not this is a story we want to tell can be decided later. Make your notes and observations and move on. One important thing to note here is that the difference is percentage *points*, not percent: 37% is 60% larger than 20% (37/20 = 1.60) but the *difference* is only 17 percentage points."
   ]
  },
  {
   "cell_type": "markdown",
   "metadata": {},
   "source": [
    "At the EDA level, the goal is to *see* as much as possible. Then depending on what you *find*, when you move from exploration to reporting, you are going to use some subset of charts. Perhaps in this case, you want to use a bar chart to emphasize the raw counts and a dot chart for percentages to emphasize differences in percentages."
   ]
  }
 ],
 "metadata": {
  "kernelspec": {
   "display_name": "Python 3",
   "language": "python",
   "name": "python3"
  },
  "language_info": {
   "codemirror_mode": {
    "name": "ipython",
    "version": 3
   },
   "file_extension": ".py",
   "mimetype": "text/x-python",
   "name": "python",
   "nbconvert_exporter": "python",
   "pygments_lexer": "ipython3",
   "version": "3.7.0"
  },
  "toc": {
   "colors": {
    "hover_highlight": "#DAA520",
    "navigate_num": "#000000",
    "navigate_text": "#333333",
    "running_highlight": "#FF0000",
    "selected_highlight": "#FFD700",
    "sidebar_border": "#EEEEEE",
    "wrapper_background": "#FFFFFF"
   },
   "moveMenuLeft": true,
   "nav_menu": {
    "height": "30px",
    "width": "252px"
   },
   "navigate_menu": true,
   "number_sections": true,
   "sideBar": true,
   "threshold": 4,
   "toc_cell": false,
   "toc_section_display": "block",
   "toc_window_display": false,
   "widenNotebook": false
  }
 },
 "nbformat": 4,
 "nbformat_minor": 2
}
