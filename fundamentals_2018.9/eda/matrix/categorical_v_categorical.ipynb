{
 "cells": [
  {
   "cell_type": "code",
   "execution_count": 1,
   "metadata": {},
   "outputs": [],
   "source": [
    "%matplotlib inline"
   ]
  },
  {
   "cell_type": "code",
   "execution_count": 2,
   "metadata": {},
   "outputs": [],
   "source": [
    "import numpy as np\n",
    "import scipy.stats as stats\n",
    "import seaborn as sns\n",
    "import matplotlib.pyplot as plt\n",
    "import pandas as pd\n",
    "import random\n",
    "\n",
    "sns.set(style=\"whitegrid\")\n",
    "\n",
    "pd.set_option('display.max_rows', 500)\n",
    "pd.set_option('display.max_columns', 500)\n",
    "pd.set_option('display.width', 200)"
   ]
  },
  {
   "cell_type": "markdown",
   "metadata": {},
   "source": [
    "# Categorical v. Categorical\n",
    "\n",
    "As with a single categorical variable, when it comes to comparing two categorical variables, there aren't that many options. Whereas a single categorical variable may be thought of as a marginal probability distribution over that variable, with two categorical variables we have a joint probability distribution of the two variables. Of course, we do want to make sure that we aren't missing any values or that there aren't unexpected categories (\"A\" versus \"a\", for example).\n",
    "\n",
    "First, we need some data:"
   ]
  },
  {
   "cell_type": "code",
   "execution_count": 3,
   "metadata": {
    "scrolled": false
   },
   "outputs": [
    {
     "data": {
      "text/html": [
       "<div>\n",
       "<style scoped>\n",
       "    .dataframe tbody tr th:only-of-type {\n",
       "        vertical-align: middle;\n",
       "    }\n",
       "\n",
       "    .dataframe tbody tr th {\n",
       "        vertical-align: top;\n",
       "    }\n",
       "\n",
       "    .dataframe thead th {\n",
       "        text-align: right;\n",
       "    }\n",
       "</style>\n",
       "<table border=\"1\" class=\"dataframe\">\n",
       "  <thead>\n",
       "    <tr style=\"text-align: right;\">\n",
       "      <th></th>\n",
       "      <th>X</th>\n",
       "      <th>Y</th>\n",
       "    </tr>\n",
       "  </thead>\n",
       "  <tbody>\n",
       "    <tr>\n",
       "      <th>0</th>\n",
       "      <td>a</td>\n",
       "      <td>p</td>\n",
       "    </tr>\n",
       "    <tr>\n",
       "      <th>1</th>\n",
       "      <td>a</td>\n",
       "      <td>p</td>\n",
       "    </tr>\n",
       "    <tr>\n",
       "      <th>2</th>\n",
       "      <td>a</td>\n",
       "      <td>p</td>\n",
       "    </tr>\n",
       "    <tr>\n",
       "      <th>3</th>\n",
       "      <td>a</td>\n",
       "      <td>n</td>\n",
       "    </tr>\n",
       "    <tr>\n",
       "      <th>4</th>\n",
       "      <td>a</td>\n",
       "      <td>n</td>\n",
       "    </tr>\n",
       "  </tbody>\n",
       "</table>\n",
       "</div>"
      ],
      "text/plain": [
       "   X  Y\n",
       "0  a  p\n",
       "1  a  p\n",
       "2  a  p\n",
       "3  a  n\n",
       "4  a  n"
      ]
     },
     "execution_count": 3,
     "metadata": {},
     "output_type": "execute_result"
    }
   ],
   "source": [
    "x = [\"a\"] * 25 + [\"b\"] * 72 + [\"c\"] * 12 + [\"d\"] * 49 + [\"e\"] * 33\n",
    "data = pd.DataFrame(x)\n",
    "data.columns = [\"X\"]\n",
    "\n",
    "y_probs = {\"a\": [0.25, 0.5, 0.25], \"b\": [0.10, 0.10, 0.80], \"c\": [0.15, 0.43, 0.42], \"d\": [0.9, 0.05, 0.05], \"e\": [0.30, 0.60, 0.10]}\n",
    "\n",
    "random.seed(3482752)\n",
    "\n",
    "def generate_y(x):\n",
    "    return random.choices([\"m\", \"n\", \"p\"], weights=y_probs[x])[0]\n",
    "\n",
    "data[\"Y\"] = data[\"X\"].apply(lambda x: generate_y(x))\n",
    "data.head()"
   ]
  },
  {
   "cell_type": "markdown",
   "metadata": {},
   "source": [
    "By the time we start to examine the pairwise relationship between $X$ and $Y$, we will have already examined each of the variable individually, which I repeat here just for reference:"
   ]
  },
  {
   "cell_type": "code",
   "execution_count": 4,
   "metadata": {},
   "outputs": [
    {
     "data": {
      "text/plain": [
       "a    25\n",
       "b    72\n",
       "c    12\n",
       "d    49\n",
       "e    33\n",
       "Name: X, dtype: int64"
      ]
     },
     "execution_count": 4,
     "metadata": {},
     "output_type": "execute_result"
    }
   ],
   "source": [
    "data[\"X\"].value_counts().sort_index()"
   ]
  },
  {
   "cell_type": "code",
   "execution_count": 5,
   "metadata": {},
   "outputs": [
    {
     "data": {
      "text/plain": [
       "m    64\n",
       "n    46\n",
       "p    81\n",
       "Name: Y, dtype: int64"
      ]
     },
     "execution_count": 5,
     "metadata": {},
     "output_type": "execute_result"
    }
   ],
   "source": [
    "data[\"Y\"].value_counts().sort_index()"
   ]
  },
  {
   "cell_type": "markdown",
   "metadata": {},
   "source": [
    "Probably the most venerable *tabular* means of comparing two categorical variables is the *crosstab*, short for \"cross tabluation\". We can use Pandas to generate a cross tabluation of raw value counts:"
   ]
  },
  {
   "cell_type": "code",
   "execution_count": 6,
   "metadata": {},
   "outputs": [
    {
     "name": "stdout",
     "output_type": "stream",
     "text": [
      "Y   m   n   p\n",
      "X            \n",
      "a   2  13  10\n",
      "b   7   7  58\n",
      "c   1   5   6\n",
      "d  44   2   3\n",
      "e  10  19   4\n"
     ]
    }
   ],
   "source": [
    "print( pd.crosstab( data[ \"X\"], data[ \"Y\"]))"
   ]
  },
  {
   "cell_type": "markdown",
   "metadata": {},
   "source": [
    "we can calculate relative frequencies as well but we have to do a bit of the work ourselves:"
   ]
  },
  {
   "cell_type": "code",
   "execution_count": 7,
   "metadata": {},
   "outputs": [
    {
     "name": "stdout",
     "output_type": "stream",
     "text": [
      "Y         m         n         p\n",
      "X                              \n",
      "a  0.010471  0.068063  0.052356\n",
      "b  0.036649  0.036649  0.303665\n",
      "c  0.005236  0.026178  0.031414\n",
      "d  0.230366  0.010471  0.015707\n",
      "e  0.052356  0.099476  0.020942\n"
     ]
    }
   ],
   "source": [
    "result = pd.crosstab( data[ \"X\"], data[ \"Y\"]).apply(lambda r: r/len(data), axis=1)\n",
    "print( result)"
   ]
  },
  {
   "cell_type": "markdown",
   "metadata": {},
   "source": [
    "If we scan a bit, we can find that the most probable (common) pairing is (b, p) and the least common pairing is (c, m).\n",
    "\n",
    "There aren't really any good visualizations for multiple categorical variables. Remember the purpose of visualization isn't just pretty charts but to harness the innate pattern recognition capabilities of the our brains. One possibility might be a kind of *heat map* based on relative frequencies. As we've noted before, this might be good when the number of values for each variable exceeds 3 (so that there is more than 9 entries in the table). In large tables such as the one we currently have, it's very easy to miss important values just by scanning the numbers. The heatmap should help us."
   ]
  },
  {
   "cell_type": "code",
   "execution_count": 8,
   "metadata": {},
   "outputs": [
    {
     "data": {
      "text/plain": [
       "<matplotlib.axes._subplots.AxesSubplot at 0x115e72e48>"
      ]
     },
     "execution_count": 8,
     "metadata": {},
     "output_type": "execute_result"
    },
    {
     "data": {
      "image/png": "[encoded data removed]",
      "text/plain": [
       "<Figure size 432x288 with 2 Axes>"
      ]
     },
     "metadata": {},
     "output_type": "display_data"
    }
   ],
   "source": [
    "sns.heatmap(result)"
   ]
  },
  {
   "cell_type": "markdown",
   "metadata": {},
   "source": [
    "and the higher percentages literally \"pop\" out of the grid. Of course, we run into the problem of intensities limited ability to convey numerical information (I can't look at those purples and see what the difference is, only that there's a difference). But still, this gives us a good starting point in the context of exploration.\n",
    "\n",
    "You can think of a relative frequency table (cross tab) as a *joint* probability distribution. It follows that we might also want to look at *conditional* distributions, given the value of one variable, what is the probability of another variable.\n",
    "\n",
    "The following table and heatmap show $P(Y|X)$:"
   ]
  },
  {
   "cell_type": "code",
   "execution_count": 9,
   "metadata": {},
   "outputs": [
    {
     "name": "stdout",
     "output_type": "stream",
     "text": [
      "Y         m         n         p\n",
      "X                              \n",
      "a  0.080000  0.520000  0.400000\n",
      "b  0.097222  0.097222  0.805556\n",
      "c  0.083333  0.416667  0.500000\n",
      "d  0.897959  0.040816  0.061224\n",
      "e  0.303030  0.575758  0.121212\n"
     ]
    },
    {
     "data": {
      "text/plain": [
       "<matplotlib.axes._subplots.AxesSubplot at 0x1183d4400>"
      ]
     },
     "execution_count": 9,
     "metadata": {},
     "output_type": "execute_result"
    },
    {
     "data": {
      "image/png": "[encoded data removed]",
      "text/plain": [
       "<Figure size 432x288 with 2 Axes>"
      ]
     },
     "metadata": {},
     "output_type": "display_data"
    }
   ],
   "source": [
    "frequencies = pd.crosstab( data[\"X\"], data[\"Y\"]).apply(lambda r: r/r.sum(), axis=1)\n",
    "print(frequencies)\n",
    "\n",
    "sns.heatmap( frequencies)"
   ]
  },
  {
   "cell_type": "markdown",
   "metadata": {},
   "source": [
    "This approach can be a bit more interesting. Given X, we can easily pick out the highest probability (most frequent class) of Y. For example, for $X=b$, we can see that the most frequent label is \"p\". This isn't particularly obvious in the table (generally because the low values and zeros are just noise). We can also look at $P(X|Y)$ (or as guided by the problem and domain knowledge). And as is a constant theme, fully understanding the ramifications of this data requires domain knowledge."
   ]
  }
 ],
 "metadata": {
  "kernelspec": {
   "display_name": "Python 3",
   "language": "python",
   "name": "python3"
  },
  "language_info": {
   "codemirror_mode": {
    "name": "ipython",
    "version": 3
   },
   "file_extension": ".py",
   "mimetype": "text/x-python",
   "name": "python",
   "nbconvert_exporter": "python",
   "pygments_lexer": "ipython3",
   "version": "3.7.0"
  },
  "toc": {
   "colors": {
    "hover_highlight": "#DAA520",
    "navigate_num": "#000000",
    "navigate_text": "#333333",
    "running_highlight": "#FF0000",
    "selected_highlight": "#FFD700",
    "sidebar_border": "#EEEEEE",
    "wrapper_background": "#FFFFFF"
   },
   "moveMenuLeft": true,
   "nav_menu": {
    "height": "30px",
    "width": "252px"
   },
   "navigate_menu": true,
   "number_sections": true,
   "sideBar": true,
   "threshold": 4,
   "toc_cell": false,
   "toc_section_display": "block",
   "toc_window_display": false,
   "widenNotebook": false
  }
 },
 "nbformat": 4,
 "nbformat_minor": 2
}
