{
 "cells": [
  {
   "cell_type": "markdown",
   "metadata": {},
   "source": [
    "# Definition\n",
    "\n",
    "The general purpose of EDA is to develop a deeper understanding of your data, \"intuition\" about your data, by calculating metrics and, more importantly, visualizing it.\n",
    "\n",
    "Originally, EDA was described by John Tukey in contrast to Confirmatory Data Analysis or CDA (statistical inference). \n",
    "We will talk about statistical inference in a few chapters.\n",
    "\n",
    "In Tukey's mind, EDA finds patterns and differences in the data, our domain knowledge tells us if the they are *meaningful*, and CDA determines if those patterns are *believable*. We will talk more about what we mean about \"meaningful\" when we start talking about the MODEL step.\n",
    "\n",
    "The *Handbook of Exploratory Data Analysis* describes the purpose of EDA as follows:\n",
    "\n",
    "1. Maximize insight into the data set;\n",
    "2. Uncover underlying structure;\n",
    "3. Extract important variables;\n",
    "4. Detect outliers and anomalies;\n",
    "5. Test underlying assumptions;\n",
    "6. Develop parsimonious (\"frugal\") models; and\n",
    "7. Determine optimal factor settings.\n",
    "\n",
    "These days, we tend to put the development of models and parameter settings into the *next* step in the Data Science process but you will often make some preliminary observations and the lines between the steps: GET, EXPLORE, MODEL often get a bit blurred both because they can overlap and because the process is iterative.\n",
    "\n",
    "EDA is often criticized because it lacks discipline and rigor. It is the step in the Data Science process that looks most like \"playing with data\" which is what people often associate Data Science with. However, following the ASK step, we should already have a clear goal in mind, a problem we want to solve or a question we want answered. In that context, our EDA should be very methodical and this chapter is entirely about that methodology.\n",
    "\n",
    "The process goes something like this:\n",
    "\n",
    "1. For each individual variable,\n",
    "    1. Describe the variable and what we expect to see. Note any interesting domain knowledge.\n",
    "    2. Summarize the data using Tukey's Summary Statistics.\n",
    "    3. Plot the data appropriately.\n",
    "    4. Make any notes about the patterns we see or anything we should look into.\n",
    "2. Correlation Matrix for Numerical Variables\n",
    "3. For each pairing of variables suggested by Problem/Question and/or Correlation Matrix,\n",
    "    1. Describe the pairing and what we expect to see.\n",
    "    2. Summarize the data using correlation coefficients or covariance.\n",
    "    3. Plot the data appropriately.\n",
    "    4. Make any notes about the patterns we see or anything we should look into.\n",
    " \n",
    "You should *always* do Step 1, 1-4.\n",
    "The main problem with Step 3 (pairwise comparisons) is that there is a combinatorial explosion of such comparisons based on the number of variables. If you have 2 variables, there's 1 pairing, but 4 variables have 6 pairings. In general, there are $\\frac{n^2 - n}{2}$ such comparisons. For 8 variables, there are 28 (!) comparisons. Sticking to your question or problem will let you bound the number of comparisons you need to explore. And that's a good place to start. However, it will not allow for serendipity either. For that reason, I suggest doing a correlation matrix. However, this is not without its problems.\n",
    "\n",
    "First, as we will see in the next section, correlation statistics can only detect linear or monotonic relationships. If the relationship is interesting but non-monotonic, we won't detect it through statistics alone.\n",
    "Second, we can't use a correlation statistic when comparing a numerical variable and categorical variable.\n",
    "One suggestion would be to use the $\\chi^2$ statistic, comparing the observed distribution with a *uniform* distribution.\n",
    "\n",
    "We won't actually finish EDA in this chapter because we'll need to talk about modeling and the MODEL step before all aspects of EDA care clear."
   ]
  }
 ],
 "metadata": {
  "kernelspec": {
   "display_name": "Python 3",
   "language": "python",
   "name": "python3"
  },
  "language_info": {
   "codemirror_mode": {
    "name": "ipython",
    "version": 3
   },
   "file_extension": ".py",
   "mimetype": "text/x-python",
   "name": "python",
   "nbconvert_exporter": "python",
   "pygments_lexer": "ipython3",
   "version": "3.7.0"
  },
  "toc": {
   "colors": {
    "hover_highlight": "#DAA520",
    "navigate_num": "#000000",
    "navigate_text": "#333333",
    "running_highlight": "#FF0000",
    "selected_highlight": "#FFD700",
    "sidebar_border": "#EEEEEE",
    "wrapper_background": "#FFFFFF"
   },
   "moveMenuLeft": true,
   "nav_menu": {
    "height": "30px",
    "width": "252px"
   },
   "navigate_menu": true,
   "number_sections": true,
   "sideBar": true,
   "threshold": 4,
   "toc_cell": false,
   "toc_section_display": "block",
   "toc_window_display": false,
   "widenNotebook": false
  }
 },
 "nbformat": 4,
 "nbformat_minor": 2
}
