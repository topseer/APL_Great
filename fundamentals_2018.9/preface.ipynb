{
 "cells": [
  {
   "cell_type": "markdown",
   "metadata": {},
   "source": [
    "# Preface\n",
    "\n",
    "Lorem ipsum dolor sit amet, consectetur adipiscing elit. Vivamus eget lobortis urna. Quisque eu nisi vulputate, faucibus elit sodales, tincidunt dui. Pellentesque habitant morbi tristique senectus et netus et malesuada fames ac turpis egestas. Vivamus non leo quam. Nunc consequat maximus porttitor. Duis blandit elit nec dignissim porttitor. Lorem ipsum dolor sit amet, consectetur adipiscing elit. Vivamus luctus porta justo, sit amet lacinia velit pellentesque eget.\n",
    "\n",
    "Donec justo dolor, posuere vitae lobortis pharetra, condimentum eget orci. Mauris semper imperdiet sapien, et bibendum velit ullamcorper vel. Nam a volutpat dui, vitae consequat quam. Donec lectus tortor, convallis at purus quis, tincidunt hendrerit ligula. Sed interdum tincidunt lectus sed luctus. Curabitur congue, elit id dictum iaculis, turpis lectus finibus leo, at euismod urna eros a velit. Quisque faucibus sagittis cursus. Nulla facilisi.\n",
    "\n",
    "Vestibulum risus metus, tempus at scelerisque eget, consequat a risus. Curabitur pellentesque pretium nibh, vitae laoreet nibh blandit a. Nam mattis eros lorem, vitae scelerisque massa suscipit sed. Nullam quis turpis at ante ornare ullamcorper. Vivamus metus mauris, bibendum sit amet felis et, molestie consectetur libero. Aliquam egestas eget odio sit amet porttitor. Sed finibus, dui eget ornare condimentum, nisl mauris sagittis diam, a lobortis diam nisi id elit. Vivamus odio justo, ultrices a mi non, dignissim suscipit diam. Nam in euismod risus.\n",
    "\n",
    "Morbi egestas, lacus at mollis gravida, sapien odio dignissim lacus, quis ornare massa nisi ut risus. Fusce rutrum erat at tempus dignissim. Donec ut commodo augue, in interdum nunc. Cras et tellus a magna dignissim accumsan eget a lectus. Sed ut mollis mi, et ornare massa. Vestibulum aliquet nisl a molestie facilisis. Duis gravida malesuada velit, et pretium velit pharetra eu. Ut porta porta congue. Aenean hendrerit augue erat, et pellentesque quam finibus vel. Etiam congue condimentum urna, vel hendrerit diam malesuada vitae. Proin venenatis, justo vel scelerisque interdum, arcu urna imperdiet elit, vel suscipit nunc ligula eget dui. Mauris suscipit hendrerit varius. Duis iaculis ullamcorper dolor. Nullam ut auctor lacus. Aliquam pretium, tellus sed ultricies rhoncus, mi leo cursus magna, vitae fermentum nunc odio a dolor. Sed in erat orci.\n",
    "\n",
    "Nunc blandit porta sapien, non tincidunt quam dictum nec. Proin luctus efficitur urna sit amet pulvinar. Sed sit amet purus commodo, facilisis mauris sed, fringilla dolor. Morbi gravida nulla et posuere dapibus. Fusce rutrum purus a tincidunt iaculis. Quisque sit amet sapien non ligula malesuada vestibulum. Vivamus mattis sem ut aliquam efficitur. Vestibulum id est justo. Donec ultrices ornare porttitor. Suspendisse potenti. Fusce sed lectus quis augue mattis iaculis. Quisque a laoreet lorem, eu fermentum nunc. Phasellus tempor rhoncus placerat. Integer rhoncus, elit et molestie luctus, eros augue hendrerit turpis, euismod semper urna est in odio. Ut tincidunt leo arcu, ut pharetra metus sagittis vel. Praesent sed tellus mauris.\n",
    "\n",
    "\n",
    "## Acknowledgments\n",
    "\n",
    "* My data science students over the semesters: Fall 2013, Fall 2014, Fall 2015, Fall 2016, Spring 2017, Fall 2017, Spring 2018, Fall 2018.\n",
    "* Spotters of Errata - Simranjit Singh, Uffaz Nathaniel, Mohammed Rashed, Zelalem Fesfaye, Michael Tilkin, Tim Rosenflanz, \n",
    "Harsh Desai, Ngoc Tran."
   ]
  }
 ],
 "metadata": {
  "kernelspec": {
   "display_name": "Python 3",
   "language": "python",
   "name": "python3"
  },
  "language_info": {
   "codemirror_mode": {
    "name": "ipython",
    "version": 3
   },
   "file_extension": ".py",
   "mimetype": "text/x-python",
   "name": "python",
   "nbconvert_exporter": "python",
   "pygments_lexer": "ipython3",
   "version": "3.7.0"
  },
  "toc": {
   "colors": {
    "hover_highlight": "#DAA520",
    "navigate_num": "#000000",
    "navigate_text": "#333333",
    "running_highlight": "#FF0000",
    "selected_highlight": "#FFD700",
    "sidebar_border": "#EEEEEE",
    "wrapper_background": "#FFFFFF"
   },
   "moveMenuLeft": true,
   "nav_menu": {
    "height": "48px",
    "width": "252px"
   },
   "navigate_menu": true,
   "number_sections": true,
   "sideBar": true,
   "threshold": 4,
   "toc_cell": false,
   "toc_section_display": "block",
   "toc_window_display": false,
   "widenNotebook": false
  }
 },
 "nbformat": 4,
 "nbformat_minor": 2
}
