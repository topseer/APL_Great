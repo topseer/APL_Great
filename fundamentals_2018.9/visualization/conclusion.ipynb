{
 "cells": [
  {
   "cell_type": "markdown",
   "metadata": {},
   "source": [
    "# Conclusion\n",
    "\n",
    "This is a huge topic and we have only scratched enough of the surface to get us by for now. We have not talked about interactive visualizations or dashboards at all, for example. Nor have we asked the question, should I even do a chart? Sometimes...a lot of the time...you would just be better off using at table. This requires another whole discussion on formatting, fonts, colors, etc. If you are interested, Few's book *Show Me the Numbers* includes an ample discussion about Tables.\n",
    "\n",
    "\n",
    "## Rules for Charts\n",
    "\n",
    "Based on the concepts presented in this chapter, we will insist on the following rules for the remainder of the text:\n",
    "\n",
    "1. If you want to communicate exact numbers, use a table. Sometimes a table of 4 sorted numbers is more effective than a chart. Our short term memory can handle 4 numbers. Do not create \"table charts\" where every visual item has the value annotated to it. Use a chart if you intend to communicate a message, especially about a relationship, to exploit our excellent visual processing capabilities.\n",
    "2. Don't use charts for the sake of charts.\n",
    "3. Know your audience and the message(s).\n",
    "4. Use the chart appropriate to each message you want to communicate. You may have to try several before you find one that clearly communicates the message. There may be more than one message for a single data series.\n",
    "5. When the same relationship is being communicated for more than 3 categories, use small multiples. You can *always* use small multiples (even for 2 or 3).\n",
    "6. Captions are not optional. Label everything.\n",
    "7. Don't trust the defaults. Pick your chart types, lines, scales, colors, etc., consciously.\n",
    "8. Use color effectively and strategically. Start gray/black. Add color only as needed. Less is more.\n",
    "9. Do not change colors for \"interest\", \"boredom\", \"decoration\". When you use color, use it consistently for all your charts. Different colors should always mean something. Sometimes you will have a lot of charts that reproduce a theme. For example, suppose you have Time Series charts for members, clubs and sales. It makes sense to make all charts with member data to be one color (blue), all charts with club data use another color (yellow) and all charts with sales use another color (green).\n",
    "10. Pay attention to use of red/green in the same chart. Be color blind safe.\n",
    "11. Do not use the rainbow color map.\n",
    "12. ** Do not use pie charts ever.** \n",
    "13. Never use the default saturated colors.\n",
    "14. Do not mislead the reader. Remember the research of Cleveland and Ware. If you pick an encoding that is subject to high decoding errors, isn't that misleading?\n",
    "15. Avoid chart junk.\n",
    "\n",
    "We will revisit some of these topics especially in the context of Exploratory Data Analysis when we are trying to use visualization to *find* messages and stories."
   ]
  },
  {
   "cell_type": "markdown",
   "metadata": {},
   "source": [
    "## Review\n",
    "1. What is the purpose using a chart for visualization? What is the basic tenet of charts?\n",
    "2. Looking at the history of charts from Playfair to Nigel, what is the most surprising thing?\n",
    "3. Cleveland identified a number of \"perceptual tasks\", what are they?\n",
    "4. What were the results of Cleveland's \"Experiment 1\"? What does this have to do with stacked bar charts?\n",
    "5. What were the results of Cleveland's \"Experiment 2\"? What does this have to do with pie charts?\n",
    "6. In the example given, why is the pie chart so much harder to interpret than the bar chart?\n",
    "7. Why are we often mislead by the differences between two curves?\n",
    "8. Based on Preattentive Processing, why must bar charts start at 0?\n",
    "9. What four \"Attributes of Form\" does Colin Ware identify as having at least some suitability for quantitative perception?\n",
    "10. Taken together, what four basic building blocks does Stephen Few suggest for building charts?\n",
    "11. What are the eight (8) quantitative relationships and the appropriate chart types for each?\n",
    "12. Charts trying tell the same story for many categories are often cluttered. What is the alternative to showing all the data on one chart?\n",
    "13. Why do we have to be careful with using color?\n",
    "14. What are the Rules for Charts for this text?"
   ]
  },
  {
   "cell_type": "markdown",
   "metadata": {},
   "source": [
    "## Additional Resources\n",
    "\n",
    "There are a huge number of books on visualization to reference and digest. Some of the key and helpful works with which I am familiar are:\n",
    "\n",
    "**General Visualization**\n",
    "\n",
    "* 1983 [*The Visual Display of Quantitative Information*, Edward Tufte](http://www.amazon.com/Visual-Display-Quantitative-Information/dp/0961392142)\n",
    "* 1990 [*Envisioning Information*, Edward Tufte](http://www.amazon.com/Envisioning-Information-Edward-R-Tufte/dp/0961392118)\n",
    "* 1997 [*Visual Explanations*, Edward Tufte](http://www.amazon.com/Visual-Explanations-Quantities-Evidence-Narrative/dp/0961392126)\n",
    "* 2006 [*Beautiful Evidence*, Edward Tufte](http://www.amazon.com/Beautiful-Evidence-Edward-R-Tufte/dp/0961392177)\n",
    "\n",
    "Generally speaking Tufte will tell you what by not how. The books are inspirational but short on details.\n",
    "\n",
    "**Visualization Principles**\n",
    "\n",
    "* 1993 [*Visualizing Data*, William S. Cleveland](http://www.amazon.com/Visualizing-Data-William-S-Cleveland/dp/0963488406)\n",
    "* 1994 [*The Elements of Graphing Data*, William S. Cleveland](http://www.amazon.com/Elements-Graphing-Data-William-Cleveland/dp/0963488414)\n",
    "* 2004 [*Show Me The Numbers*, Stephen Few](http://www.amazon.com/Show-Me-Numbers-Designing-Enlighten/dp/0970601999)\n",
    "* 2014 [*Visualization Analysis & Design*, Tamara Munzer](http://www.amazon.com/Visualization-Analysis-Design-AK-Peters/dp/1466508914)\n",
    "\n",
    "All of these books focus on *how* to do good visualizations. Munzer's book is the most comprehensive in that it includes interactive visualizations. I have focused on Few's book because I find it the most straight-forward and I heartily recommend it.\n",
    "\n",
    "**Infographics**\n",
    "\n",
    "* 2012 [*The Functional Art*, Alberto Cairo](http://www.amazon.com/Functional-Art-introduction-information-visualization/dp/0321834739)\n",
    "\n",
    "Infographics have a different purpose than the typical chart...something often lost in the discussion.\n",
    "\n",
    "**Dashboards**\n",
    "\n",
    "* 2013 [*Information Dashboard Design*, Stephen Few](http://www.amazon.com/gp/product/1938377001)\n",
    "\n",
    "Everybody's got to have a Dashboard these days. Few's book, like his Chart book, is straight-forward. I recommend it as well.\n",
    "\n",
    "If you want to be \"deep\" in visualization (remember the Data Scientist \"T\"), you will need to read and study all of these. There are a few topics that almost everyone agrees on, for example, don't use pie charts. However, this doesn't mean I haven't seen pie charts used effectively. As with many things that involve a part fact and part taste, one has to know the rules before they can be broken. Additionally, the experts do not all agree so sometimes you have to direct your own course. Still, don't use pie charts at least not in my class.\n",
    "\n",
    "**More Resources** \n",
    "\n",
    "* [Color and Cultural Design Considerations](https://www.webdesignerdepot.com/2012/06/color-and-cultural-design-considerations/)\n",
    "* [Color has meaning](http://www.juiceanalytics.com/design-principles/color-has-meaning/)\n",
    "* [Ten Simple Rules for Better Figures](https://journals.plos.org/ploscompbiol/article?id=10.1371/journal.pcbi.1003833)"
   ]
  }
 ],
 "metadata": {
  "kernelspec": {
   "display_name": "Python 3",
   "language": "python",
   "name": "python3"
  },
  "language_info": {
   "codemirror_mode": {
    "name": "ipython",
    "version": 3
   },
   "file_extension": ".py",
   "mimetype": "text/x-python",
   "name": "python",
   "nbconvert_exporter": "python",
   "pygments_lexer": "ipython3",
   "version": "3.7.0"
  },
  "toc": {
   "colors": {
    "hover_highlight": "#DAA520",
    "navigate_num": "#000000",
    "navigate_text": "#333333",
    "running_highlight": "#FF0000",
    "selected_highlight": "#FFD700",
    "sidebar_border": "#EEEEEE",
    "wrapper_background": "#FFFFFF"
   },
   "moveMenuLeft": true,
   "nav_menu": {
    "height": "84px",
    "width": "252px"
   },
   "navigate_menu": true,
   "number_sections": true,
   "sideBar": true,
   "threshold": 4,
   "toc_cell": false,
   "toc_section_display": "block",
   "toc_window_display": false,
   "widenNotebook": false
  }
 },
 "nbformat": 4,
 "nbformat_minor": 2
}
