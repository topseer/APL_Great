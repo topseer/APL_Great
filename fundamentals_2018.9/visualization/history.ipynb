{
 "cells": [
  {
   "cell_type": "markdown",
   "metadata": {},
   "source": [
    "# A Very Brief History of Charts\n",
    "\n",
    "Strangely, many of the topics in Data Science are of relatively recent invention. Take Probability, for example. Probability was more or less invented in 1654 to settle a gambling dispute. Today, it is a general calculus for dealing with uncertainty. And while 400 years may seem like a long time, Egyptians were using geometry in 3000 BC...so not 400 years ago but 5,000 years ago.\n",
    "\n",
    "Similarly, the use of graphics to visualize numbers and their relationships is even more recent. While there were a few examples here and there, the Progenitor of visualization is generally considered to be [William Playfair](https://en.wikipedia.org/wiki/William_Playfair) (1759-1823). In his treatise, *Commercial and Political Atlas*, published in 1786 (with subsequent editions) and *Statistical Brevary* in 1801 introduced a host of charts we use today. (I cannot think of higher praise than the following given Playfair, 'Ian Spence and Howard Wainer in 2001 describe Playfair as \"engineer, political economist and scoundrel\"').\n",
    "\n",
    "Here are a few examples from the *Commercial and Political Atlas* and *Statistical Brevary*.\n",
    "\n",
    "**Image 1.** Here we have an example of a line chart (a rather famous one) showing the balance of trade between UK and North America.\n",
    "\n",
    "In many ways, this chart is very modern. It uses visual elements to display data. The read line represents exports to North America and the yellow line represents imports from North America. The difference is shaded in using a kind of green. There is a title, plot area, and axes. The axes are labeled as are the scales. There are even annotations.\n",
    "\n",
    "We could probably redo the chart in Excel and Playfair would still recognize it (although we might not quite be able to replicate everything that can be done by hand)."
   ]
  },
  {
   "cell_type": "markdown",
   "metadata": {},
   "source": [
    "![Playfair 1](../resources/visualization/playfair01.jpg){width=\"75%\"}"
   ]
  },
  {
   "cell_type": "markdown",
   "metadata": {},
   "source": [
    "**Image 2.** Here is another example from Playfair, this time a bar chart. Notice that the data is sorted so the bars are ascending by value rather than the typical sorting by label. We will say more about this later. This chart is not very much different in essence than what Excel might generate."
   ]
  },
  {
   "cell_type": "markdown",
   "metadata": {},
   "source": [
    "![Playfair 2](../resources/visualization/playfair02.png){width=\"75%\"}"
   ]
  },
  {
   "cell_type": "markdown",
   "metadata": {},
   "source": [
    "**Image 3.** This image combines both a line chart and bar chart. It's not clear to me that this is effective. We'll see why later but the basic idea is \"one story, one chart\". In this case, however, Playfair is showing a correlation and there are probably better ways of doing this."
   ]
  },
  {
   "cell_type": "markdown",
   "metadata": {},
   "source": [
    "![Playfair 3](../resources/visualization/playfair03.png)"
   ]
  },
  {
   "cell_type": "markdown",
   "metadata": {},
   "source": [
    "**Image 4.** This is a very interesting chart by Playfair that I think crosses the blurry line into Infographic. I think of an Infographic as a collection of stories to be explored and therefore is not often just one chart (or even just charts). There's a lot going on here. In order to decode all the stories, it will take some effort.\n",
    "\n",
    "When designing charts and infographics or even deciding between them, you have to think about how much effort you can reasonably expect from your audience to put into decoding the result"
   ]
  },
  {
   "cell_type": "markdown",
   "metadata": {},
   "source": [
    "![Playfair 4](../resources/visualization/playfair04.jpg)"
   ]
  },
  {
   "cell_type": "markdown",
   "metadata": {},
   "source": [
    "**Image 5.** It only took us a few hundred years to get to this, the canoncial Excel chart. By the end of this chapter, you should  be able to identify everything wrong with this chart."
   ]
  },
  {
   "cell_type": "markdown",
   "metadata": {},
   "source": [
    "![Excel Chart](../resources/visualization/excel_chart.png){width=\"75%\"}"
   ]
  },
  {
   "cell_type": "markdown",
   "metadata": {},
   "source": [
    "** Image 6.** As mentioned, there is a blurry line (and a rather *wide* blurry line) between education, information and entertainment. This is the infamous Nigel Holmes \"Diamonds\" chart that inspired Edward Tufte to coin the term \"chart junk\":"
   ]
  },
  {
   "cell_type": "markdown",
   "metadata": {},
   "source": [
    "![Original \"Chart Junk\"](../resources/visualization/diamond_chart.jpg){width=\"50%\"}"
   ]
  },
  {
   "cell_type": "markdown",
   "metadata": {},
   "source": [
    "We went from Playfair to Holmes and Tufte fairly quickly. There's a lot more to this but this quick history was meant only to indicate how recent this type of visualization is and to motivate a discussion about building charts, specifically,\n",
    "\n",
    "Are there any principles or is it all just taste? What about \"look\" or \"entertainment\"?\n",
    "\n",
    "It turns out that someone did try to look at this experimentally, William Cleveland. His research has formed the basis for the discussion every since and is the origin of the dictum, \"Don't use pie charts.\""
   ]
  }
 ],
 "metadata": {
  "kernelspec": {
   "display_name": "Python 3",
   "language": "python",
   "name": "python3"
  },
  "language_info": {
   "codemirror_mode": {
    "name": "ipython",
    "version": 3
   },
   "file_extension": ".py",
   "mimetype": "text/x-python",
   "name": "python",
   "nbconvert_exporter": "python",
   "pygments_lexer": "ipython3",
   "version": "3.7.0"
  },
  "toc": {
   "colors": {
    "hover_highlight": "#DAA520",
    "navigate_num": "#000000",
    "navigate_text": "#333333",
    "running_highlight": "#FF0000",
    "selected_highlight": "#FFD700",
    "sidebar_border": "#EEEEEE",
    "wrapper_background": "#FFFFFF"
   },
   "moveMenuLeft": true,
   "nav_menu": {
    "height": "30px",
    "width": "252px"
   },
   "navigate_menu": true,
   "number_sections": true,
   "sideBar": true,
   "threshold": 4,
   "toc_cell": false,
   "toc_section_display": "block",
   "toc_window_display": false,
   "widenNotebook": false
  }
 },
 "nbformat": 4,
 "nbformat_minor": 2
}
