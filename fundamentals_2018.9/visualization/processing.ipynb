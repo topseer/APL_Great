{
 "cells": [
  {
   "cell_type": "code",
   "execution_count": 1,
   "metadata": {},
   "outputs": [],
   "source": [
    "%matplotlib inline"
   ]
  },
  {
   "cell_type": "code",
   "execution_count": 2,
   "metadata": {},
   "outputs": [],
   "source": [
    "import matplotlib.pyplot as plt"
   ]
  },
  {
   "cell_type": "markdown",
   "metadata": {},
   "source": [
    "# Human Preattentive Processing\n",
    "\n",
    "Although Cleveland's research was the beginning of research into visualization, it was not the end, either of research or opinions. I would put Edward Tufte's works in the \"opinions\" category. He has a lot of very good things to say about visualization and some of them are based on Cleveland and other's work but his books, by and large, are wonderful examples of good visualization without much to back up those judgments. Additionally, his books don't tell you *how* to make those good visualizations.\n",
    "\n",
    "Cleveland knew about preattentative vision. In his article, he notes:\n",
    "\n",
    "> ...what is called preattentive vision, the instantaneous and effortless part of visual perception that the brain performs without focusing attention on local detail.\n",
    "\n",
    "But it was Colin Ware who is responsible for a lot of research in Preattentive Processing--basically, the things that humans see and know before they consciously try to interpret a chart.  Another luminary in visualization is Ben Shneiderman who's famous for his mantra, \"Overview, Filter, Zoom\" for *interactive* data presentation and visualization. The discussion that follows is from Stephen Few's book, *Show Me the Numbers* which is probably one of the best \"how to\" books on the subject of both charts and tables."
   ]
  },
  {
   "cell_type": "markdown",
   "metadata": {},
   "source": [
    "## Why can't bar charts start just anywhere?\n",
    "\n",
    "And it is precisely because of preattentive processing that we should start the y-axis scale of a bar chart (or similar filled in chart denoting area) at zero (0) and not some other value.\n",
    "\n",
    "Here is an example of a bar chart that does start at 0, from earlier:"
   ]
  },
  {
   "cell_type": "code",
   "execution_count": 3,
   "metadata": {},
   "outputs": [
    {
     "data": {
      "image/png": "[encoded data removed]",
      "text/plain": [
       "<Figure size 432x288 with 1 Axes>"
      ]
     },
     "metadata": {},
     "output_type": "display_data"
    }
   ],
   "source": [
    "sales = [29, 23, 18, 17, 13]\n",
    "width = 1/1.5\n",
    "x = range( len( sales))\n",
    "\n",
    "figure, axes = plt.subplots()\n",
    "\n",
    "axes.bar(x, sales, width, color=\"dimgray\", align=\"center\")\n",
    "axes.set_xticks([0, 1, 2, 3, 4])\n",
    "axes.set_xticklabels([\"A\", \"D\", \"B\", \"C\", \"E\"])\n",
    "axes.yaxis.grid( b=True, which=\"major\")\n",
    "axes.set_ylim((0, 30))\n",
    "\n",
    "plt.show()"
   ]
  },
  {
   "cell_type": "markdown",
   "metadata": {},
   "source": [
    "Now here is a bar chart where the y-axis does not start at zero:"
   ]
  },
  {
   "cell_type": "code",
   "execution_count": 4,
   "metadata": {},
   "outputs": [
    {
     "data": {
      "image/png": "[encoded data removed]",
      "text/plain": [
       "<Figure size 432x288 with 1 Axes>"
      ]
     },
     "metadata": {},
     "output_type": "display_data"
    }
   ],
   "source": [
    "sales = [29, 23, 18, 17, 13]\n",
    "width = 1/1.5\n",
    "\n",
    "figure, axes = plt.subplots()\n",
    "\n",
    "axes.bar(x, sales, width, color=\"dimgray\", align=\"center\")\n",
    "axes.set_xticks([0, 1, 2, 3, 4])\n",
    "axes.set_xticklabels([\"A\", \"D\", \"B\", \"C\", \"E\"])\n",
    "axes.yaxis.grid( b=True, which=\"major\")\n",
    "axes.set_ylim((10, 30))\n",
    "\n",
    "plt.show()"
   ]
  },
  {
   "cell_type": "markdown",
   "metadata": {},
   "source": [
    "Given how we visually intepret and subconsiously process **area**, our first impressions of the chart are that B is about 1/2 of A and that E is about 1/2 of C in the second chart. If we look at the y-axis, we *know* this isn't the case but you can't manage to see this isn't the case--much like the Mueller-Lyer illusion. We continually make this judgment about lengths. This is also why you're not supposed to use *images* as the bars, because even if the height is correct, if you scale such an image to maintain the recognizability of it, it becomes wider, too. But the \"bars\" must always be of the same width.\n",
    "\n",
    "One can legitimately say, \"but I want to emphasize the differences and the first bar chart does not do that.\" The problem then is not the desired goal but the chart. You need to use a different chart.\n",
    "\n",
    "Colin Ware breaks down the basic units of preattentive perception into several \"Attributes of Form\" and lists whether or to what degree they are suitable for quantitative perception. Basically, how well we can decode differences in these attributes as numerical or ordinal relationships.\n",
    "\n",
    "| Type     | Attribute   | Quantitatively Perceived? |\n",
    "|----------|-------------|---------------------------|\n",
    "| **Form**     | Length      | Yes                       |\n",
    "|          | Width       | Limited                   |\n",
    "|          | Orientation | No                        |\n",
    "|          | Size        | Limited                   |\n",
    "|          | Shape       | No                        |\n",
    "|          | Enclosure   | No                        |\n",
    "| **Color**    | Hue         | No                        |\n",
    "|          | Intensity   | Limited                   |\n",
    "| **Position** | 2d Position | Yes                       |\n",
    "\n",
    "\"Yes\" indicates that we can, generally, perceive differences in, say, length as quantitative. For example, we know that a short line is longer than a long line and if there is a scale, we can decode values from them. \"Limited\" means that we have a limited ability to do so. For example, size and width cause problems because area doesn't grow linearly and circle areas are more difficult to judge than rectangular areas.\n",
    "\n",
    "\"No\" means that we generally do not. For example, \"red\" v. \"yellow\" is not itself indicative of anything *quantitative* (although it can be *qualitative* or categorical). We don't associate \"red\" with 12.7 and we don't think of \"red\" as greater than or less than \"yellow\". Similarly, we don't think triangles are bigger than hexagons.\n",
    "\n",
    "Examples of these attributes are included in the following figures."
   ]
  },
  {
   "cell_type": "markdown",
   "metadata": {},
   "source": [
    "![Attributes of Form](../resources/visualization/form.png){width=\"50%\"}\\"
   ]
  },
  {
   "cell_type": "markdown",
   "metadata": {},
   "source": [
    "![Attributes of Color](../resources/visualization/color.png){width=\"50%\"}\\ "
   ]
  },
  {
   "cell_type": "markdown",
   "metadata": {},
   "source": [
    "![Attributes of Spatial Position](../resources/visualization/space.png){width=\"30%\"}\\ "
   ]
  },
  {
   "cell_type": "markdown",
   "metadata": {},
   "source": [
    "Finally, there is the lesson that we can only perceive a limited number of these attributes at once and form any intelligible perception. In this example, we're changing shape, color, and intensity simultaneously. Even with a legend, we can't keep track of what everything means and how it interacts (how is a light, gray circle different from a dark, brown square?)."
   ]
  },
  {
   "cell_type": "markdown",
   "metadata": {},
   "source": [
    "![Too Many Attributes At Once](../resources/visualization/too_much.png){width=\"50%\"}"
   ]
  },
  {
   "cell_type": "markdown",
   "metadata": {},
   "source": [
    "Review the table above carefully and look at the examples. We will take this as a starting point for decribing building blocks for charts in a later section."
   ]
  },
  {
   "cell_type": "markdown",
   "metadata": {},
   "source": [
    "## Gestalt Principles of Visual Perception\n",
    "\n",
    "We follow the idea of Preattentive Processing with the Gestalt Principles of Visual Perception. These are a bit more general than the idea of Preattentive Processing. While they could apply to charts, they're a bit more likely to apply to annotations, collections of charts, and infographics. Still, you should make sure you don't accidentally create visual artifacts because of things like proximity, similarity, etc.\n",
    "\n",
    "We present only the barest introduction to the ideas here, merely mentioning them and giving examples. Many of these are intuitively familiar. We recognize them in good charts and design.\n",
    "\n",
    "They are the Principles of Proximity, Similarity, Enclosure, Closure, Continuity and Connection.\n",
    "\n",
    "These Principles have a wide variety of applications *and implications* for visualization. For example, the Principle of Connection informs whether we should connect the dots or not. The Principle of Similarity tells us whether we should color each bar in a bar chart differently or the same."
   ]
  },
  {
   "cell_type": "markdown",
   "metadata": {},
   "source": [
    "**Principle of Proximity.** Visual elements that are near each other tend to be perceived as being related to each other.\n",
    "\n",
    "![Proximity](../resources/visualization/proximity.png){width=\"50%\"}\\ "
   ]
  },
  {
   "cell_type": "markdown",
   "metadata": {},
   "source": [
    "**Principle of Similarity.** Visual elements that are similar tend to be perceived as similar, whether by color, size, shape, or orientation.\n",
    "\n",
    "![Similarity](../resources/visualization/similarity.png){width=\"50%\"}\\ "
   ]
  },
  {
   "cell_type": "markdown",
   "metadata": {},
   "source": [
    "**Principle of Enclosure.** Visual elements enclosed in some way, are perceived as being together, because of the perceived boundary.\n",
    "\n",
    "![Enclosure](../resources/visualization/enclosure.png){width=\"50%\"}\\ "
   ]
  },
  {
   "cell_type": "markdown",
   "metadata": {},
   "source": [
    "**Principle of Closure** Even when there are gaps in a shape, we will visually \"close\" the shape.\n",
    "\n",
    "![Closure](../resources/visualization/closure.png){width=\"50%\"}\\ "
   ]
  },
  {
   "cell_type": "markdown",
   "metadata": {},
   "source": [
    "**Principle of Continuity.** Visual elements that are aligned are perceived as being related.\n",
    "\n",
    "![Continuity](../resources/visualization/continuity.png){width=\"50%\"}\\ "
   ]
  },
  {
   "cell_type": "markdown",
   "metadata": {},
   "source": [
    "**Principle of Connection.** Visual elements that are connected are perceived as being together.\n",
    "\n",
    "![Connection](../resources/visualization/connection.png){width=\"50%\"}\\ "
   ]
  }
 ],
 "metadata": {
  "kernelspec": {
   "display_name": "Python 3",
   "language": "python",
   "name": "python3"
  },
  "language_info": {
   "codemirror_mode": {
    "name": "ipython",
    "version": 3
   },
   "file_extension": ".py",
   "mimetype": "text/x-python",
   "name": "python",
   "nbconvert_exporter": "python",
   "pygments_lexer": "ipython3",
   "version": "3.7.0"
  },
  "toc": {
   "colors": {
    "hover_highlight": "#DAA520",
    "navigate_num": "#000000",
    "navigate_text": "#333333",
    "running_highlight": "#FF0000",
    "selected_highlight": "#FFD700",
    "sidebar_border": "#EEEEEE",
    "wrapper_background": "#FFFFFF"
   },
   "moveMenuLeft": true,
   "nav_menu": {
    "height": "81px",
    "width": "252px"
   },
   "navigate_menu": true,
   "number_sections": true,
   "sideBar": true,
   "threshold": 4,
   "toc_cell": false,
   "toc_section_display": "block",
   "toc_window_display": false,
   "widenNotebook": false
  }
 },
 "nbformat": 4,
 "nbformat_minor": 2
}
