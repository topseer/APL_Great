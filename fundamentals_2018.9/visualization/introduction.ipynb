{
 "cells": [
  {
   "cell_type": "markdown",
   "metadata": {},
   "source": [
    "## Introduction\n",
    "\n",
    "One salient question is, why are we talking about this? Don't you just choose a few options in Excel, click a few buttons in Tableau or copy a few lines of Python? I think it's sort of interesting that we spend years in school learning effective oral and written communication plus some amount of time learning effective numerical communication (math, probability) but visual communication is thought to be either beyond the average person (a designer is required) or can simply be reduced to a button click (for example, Excel or PowerPoint).\n",
    "\n",
    "If I want to communicate a set of numbers to you, so that you can look them up and use them yourself then a table is a very effective form of communication:\n",
    "\n",
    "| Region | Sales |\n",
    "|:------:|------:|\n",
    "| A      | 29    |\n",
    "| B      | 18    |\n",
    "| C      | 17    |\n",
    "| D      | 23    |\n",
    "| E      | 13    |\n",
    "\n",
    "However, if I want to explore the relationships between the numbers quickly and effectively or communicate a particular story about the numbers to you, then a table is not necessarily the best way to go. We humans can hold only a few things in our head at the same time (the limit on short term memory) and so while we can scrutinize the above table and determine that:\n",
    "\n",
    "1. Region A was the best performer; Region E was the worse.\n",
    "2. Region A had slightly more than two times the sales of Region E.\n",
    "3. Regions B and C had approximately the same amount of sales.\n",
    "4. The difference in sales between Region A and region D is about the same as Region D and Region B.\n",
    "\n",
    "It's not easy to determine all of those things (we need to compare every number to every other number) at once and to hold them all simultaneously in our heads. And the more data there is, the harder it gets.\n",
    "\n",
    "Charts come to our rescue by harnessing our extraordinary visual perception abilities. If I express the numbers above using a chart, we have the following:"
   ]
  },
  {
   "cell_type": "code",
   "execution_count": 1,
   "metadata": {},
   "outputs": [],
   "source": [
    "%matplotlib inline"
   ]
  },
  {
   "cell_type": "code",
   "execution_count": 2,
   "metadata": {},
   "outputs": [],
   "source": [
    "import matplotlib.pyplot as plt"
   ]
  },
  {
   "cell_type": "code",
   "execution_count": 3,
   "metadata": {},
   "outputs": [
    {
     "data": {
      "image/png": "[encoded data removed]",
      "text/plain": [
       "<Figure size 432x288 with 1 Axes>"
      ]
     },
     "metadata": {},
     "output_type": "display_data"
    }
   ],
   "source": [
    "sales = [29, 18, 17, 23, 13]\n",
    "x = range( len( sales))\n",
    "width = 1/1.5\n",
    "\n",
    "figure, axes = plt.subplots()\n",
    "\n",
    "axes.bar(x, sales, width, color=\"blue\", align=\"center\")\n",
    "axes.set_xticks([0, 1, 2, 3, 4])\n",
    "axes.set_xticklabels([\"A\", \"B\", \"C\", \"D\", \"E\"])\n",
    "\n",
    "plt.show()"
   ]
  },
  {
   "cell_type": "markdown",
   "metadata": {},
   "source": [
    "Aside from some weirdness with `matplotlib` which we will deal with later, this chart is pretty serviceable. We can see at once all of the sales figures and how they relate to each other because they have been encoded as areas (the bars) which use a common baseline (the x-axis). It takes only a moment to see that A and D are larger than the others with D being only slightly smaller. We see also that B and C are roughly equal and E is the smallest.\n",
    "\n",
    "Even here, there are several improvments we can make:\n",
    "\n",
    "1. If we want to highlight the relationships between sales of the different regions, we can sort them.\n",
    "2. The color is oversaturated.\n",
    "3. Horizontal grid lines could help in value decoding.\n",
    "\n",
    "We are also missing titles, labels for the y and x axes, units for the y axis which make interpretation--decoding--easier for the reader.\n",
    "\n",
    "Using a little bit of `matplotlib` customization, we can make the chart more visually pleasing (a softer color) and aid in the discovery or communication of patterns by sorting:"
   ]
  },
  {
   "cell_type": "code",
   "execution_count": 5,
   "metadata": {},
   "outputs": [
    {
     "data": {
      "image/png": "[encoded data removed]",
      "text/plain": [
       "<Figure size 432x288 with 1 Axes>"
      ]
     },
     "metadata": {},
     "output_type": "display_data"
    }
   ],
   "source": [
    "sales = [29, 23, 18, 17, 13]\n",
    "width = 1/1.5\n",
    "\n",
    "figure, axes = plt.subplots()\n",
    "\n",
    "axes.bar(x, sales, width, color=\"dimgray\", align=\"center\")\n",
    "axes.set_xticks([0, 1, 2, 3, 4])\n",
    "axes.set_xticklabels([\"A\", \"D\", \"B\", \"C\", \"E\"])\n",
    "axes.yaxis.grid( b=True, which=\"major\")\n",
    "axes.set_ylim((0, 30))\n",
    "\n",
    "plt.show()"
   ]
  },
  {
   "cell_type": "markdown",
   "metadata": {},
   "source": [
    "The main point is that by encoding the information and presenting it in a graphical way, we can exploit our extraordinary visual perception to decode relationships and patterns. We can harness this for our own purposes in exploration or use them to communicate the stories we discover to others.\n",
    "\n",
    "This chapter is thus about the effective *encoding* of information into charts so that there can be an effective *decoding* from charts. **The purpose of visualization is to encode information in such a way that viewers (you, others) will easily and properly decode the information**"
   ]
  },
  {
   "cell_type": "markdown",
   "metadata": {
    "collapsed": true
   },
   "source": [
    "However, it's not all beer and skittles.\n",
    "\n",
    "Not all encoding elements are created equal and our visual perception can be fooled, even hijacked, either by subconscious elements or inferior ones. Here are a few examples."
   ]
  },
  {
   "cell_type": "markdown",
   "metadata": {},
   "source": [
    "## Müller-Lyer Illusion\n",
    "\n",
    "Here is a famous illusion whereby the lengths of lines are misapprehended because of the direction of the arrow heads. Did the middle line seem longer to you?"
   ]
  },
  {
   "cell_type": "markdown",
   "metadata": {},
   "source": [
    "![Müller-Lyer Illusion](../resources/visualization/mueller_lyer_illusion.png){width=\"40%\"}"
   ]
  },
  {
   "cell_type": "markdown",
   "metadata": {},
   "source": [
    "## Adelson Illusion\n",
    "\n",
    "Color and shading can fool us as well. Below is the Adelson Illusion. Are the \"A\" and \"B\" tiles really different colors?"
   ]
  },
  {
   "cell_type": "markdown",
   "metadata": {},
   "source": [
    "![Adelson Illusion](../resources/visualization/adelson_illusion.png){width=\"50%\"}"
   ]
  },
  {
   "cell_type": "markdown",
   "metadata": {},
   "source": [
    "And here we dispel the illusion by connecting the tiles by a strip of the same color:"
   ]
  },
  {
   "cell_type": "markdown",
   "metadata": {},
   "source": [
    "![Adelson Illusion Dispelled](../resources/visualization/adelson_illusion_dispelled.png){width=\"50%\"}"
   ]
  },
  {
   "cell_type": "markdown",
   "metadata": {},
   "source": [
    "Note how our eyes try to make the strip into a gradient instead of the same color. Here's a more direct version of the Adelson Illusion. Put your finger over the area between \"A\" and \"B\":"
   ]
  },
  {
   "cell_type": "markdown",
   "metadata": {},
   "source": [
    "![Identical Colors](../resources/visualization/identical_colors.jpg){width=\"50%\"}"
   ]
  }
 ],
 "metadata": {
  "kernelspec": {
   "display_name": "Python 3",
   "language": "python",
   "name": "python3"
  },
  "language_info": {
   "codemirror_mode": {
    "name": "ipython",
    "version": 3
   },
   "file_extension": ".py",
   "mimetype": "text/x-python",
   "name": "python",
   "nbconvert_exporter": "python",
   "pygments_lexer": "ipython3",
   "version": "3.7.0"
  },
  "toc": {
   "colors": {
    "hover_highlight": "#DAA520",
    "navigate_num": "#000000",
    "navigate_text": "#333333",
    "running_highlight": "#FF0000",
    "selected_highlight": "#FFD700",
    "sidebar_border": "#EEEEEE",
    "wrapper_background": "#FFFFFF"
   },
   "moveMenuLeft": true,
   "nav_menu": {
    "height": "30px",
    "width": "252px"
   },
   "navigate_menu": true,
   "number_sections": true,
   "sideBar": true,
   "threshold": 4,
   "toc_cell": false,
   "toc_section_display": "block",
   "toc_window_display": false,
   "widenNotebook": false
  }
 },
 "nbformat": 4,
 "nbformat_minor": 2
}
