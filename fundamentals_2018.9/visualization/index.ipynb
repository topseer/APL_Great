{
 "cells": [
  {
   "cell_type": "markdown",
   "metadata": {},
   "source": [
    "# Visualization\n",
    "\n",
    "In this Chapter we look at Visualization, specifically, static charts and how they can be used to explore data and present our results. Visualization is a vast and sometimes contentious topic. It ranges from simple tables and charts to infographics to interactive multimedia presentations and dashboards. To adequately cover all this ground would require an entire many books. To skim it would require several chapters. We have one.\n",
    "\n",
    "Therefore, I'm going to concentrate on the most important, most salient aspects of Visualization concentrating on tables and charts, but mostly charts."
   ]
  },
  {
   "cell_type": "markdown",
   "metadata": {
    "nbsphinx-toctree": {}
   },
   "source": [
    "* [Introduction](introduction.ipynb)\n",
    "* [A Very Brief History of Charts](history.ipynb)\n",
    "* [Chart Parts](parts.ipynb)\n",
    "* [Initial Research (Cleveland)](cleveland.ipynb)\n",
    "* [Preattentive Processing (Ware)](processing.ipynb)\n",
    "* [Fundamental Building Blocks](blocks.ipynb)\n",
    "* [Color](color.ipynb)\n",
    "* [Expressing Quantitative Relationships with Charts](relationships.ipynb)\n",
    "* [Conclusion](conclusion.ipynb)"
   ]
  }
 ],
 "metadata": {
  "celltoolbar": "Edit Metadata",
  "kernelspec": {
   "display_name": "Python 3",
   "language": "python",
   "name": "python3"
  },
  "language_info": {
   "codemirror_mode": {
    "name": "ipython",
    "version": 3
   },
   "file_extension": ".py",
   "mimetype": "text/x-python",
   "name": "python",
   "nbconvert_exporter": "python",
   "pygments_lexer": "ipython3",
   "version": "3.7.0"
  },
  "toc": {
   "colors": {
    "hover_highlight": "#DAA520",
    "navigate_num": "#000000",
    "navigate_text": "#333333",
    "running_highlight": "#FF0000",
    "selected_highlight": "#FFD700",
    "sidebar_border": "#EEEEEE",
    "wrapper_background": "#FFFFFF"
   },
   "moveMenuLeft": true,
   "nav_menu": {
    "height": "30px",
    "width": "252px"
   },
   "navigate_menu": true,
   "number_sections": true,
   "sideBar": true,
   "threshold": 4,
   "toc_cell": false,
   "toc_section_display": "block",
   "toc_window_display": false,
   "widenNotebook": false
  }
 },
 "nbformat": 4,
 "nbformat_minor": 2
}
