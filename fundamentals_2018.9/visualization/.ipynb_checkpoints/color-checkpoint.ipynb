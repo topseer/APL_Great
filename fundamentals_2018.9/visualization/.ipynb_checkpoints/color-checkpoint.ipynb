{
 "cells": [
  {
   "cell_type": "markdown",
   "metadata": {},
   "source": [
    "# Color\n",
    "\n",
    "I can do no better than this blog post by Juice Analytics when it comes to introducing the promise and pitfalls of using color:\n",
    "\n",
    "> More often than not, dashboards [and charts] get lit up with color like an over-dressed Christmas tree. The color is applied indiscriminately and adds little to the meaning of the dashboard. Appropriate use of color requires restraint. In our dashboard designs, we typically start by using only grey, then we gradually add color where it conveys useful information. [Color had meaning](http://www.juiceanalytics.com/design-principles/color-has-meaning/)\n",
    "\n",
    "Why is color so problematic?\n",
    "\n",
    "For one thing, it is often overused, usually to add \"interest\" rather than used consciously to convey information...to encode relationships and help readers decode those relationships. We are not usually taught how to use color effectively, thinking that it is just a matter of \"taste\" or something left to designers and artists."
   ]
  },
  {
   "cell_type": "markdown",
   "metadata": {},
   "source": [
    "## Color has meaning\n",
    "\n",
    "Another obstacle with color is that it has meaning. We associate different colors with different emotions and feelings and these can change based on the context. Red is hot but it's also a warning and sometimes it conveys romantic love and passion. But not necessarily in every culture. White represents purity in the West but death in many Asian countries."
   ]
  },
  {
   "cell_type": "markdown",
   "metadata": {},
   "source": [
    "![Colors in Culture](../resources/visualization/colours_in_culture.png)"
   ]
  },
  {
   "cell_type": "markdown",
   "metadata": {},
   "source": [
    "Saturation can also affect color meaning. Over-saturated, unnatural colors are jarring. Darker colors can be cooling whilst brighter colors can be warming."
   ]
  },
  {
   "cell_type": "markdown",
   "metadata": {},
   "source": [
    "![Color Meanings](../resources/visualization/color_meaning.png){width=\"50%\"}"
   ]
  },
  {
   "cell_type": "markdown",
   "metadata": {},
   "source": [
    "Can you define a graphic that doesn't mean something different in *some* culture? Probably not. But, as we'll see when we get to the Guidelines, if you start with gray and introduce color sparingly *knowing your audience* then you should steer clear of most trouble.\n"
   ]
  },
  {
   "cell_type": "markdown",
   "metadata": {},
   "source": [
    "## Color doesn't have meaning\n",
    "\n",
    "Unfortunately, color doesn't have the meaning we *think* it does and often use it for...value. Let's take the example of the problematic \"rainbow\" or \"jet\" color maps used for Heat Maps.\n",
    "\n",
    "When we discussed Ware's Preattentive Processing, we noted that color has no inherent value. This means we do not associate colors with numeric values or even an ordering of any kind. We cannot say that red is greater than blue in the same way we can say that a longer line is greater than a shorter line.\n",
    "\n",
    "Additionally, what we call \"color\" includes a few different characteristics such as hue, saturation, and \"value\" (this is value in the artist's sense of light or dark). The figure below shows the popular rainbow and jet color maps on the left and the *values* of those color maps expressed as grayscale images.\n",
    "\n",
    "We can see that the values are not perceptually uniform. In the case of the rainbow, we actually go from dark to light to dark when we want to go uniformly from dark to light (or light to dark). For jet, there are actually two peaks of light at cyan and yellow."
   ]
  },
  {
   "cell_type": "markdown",
   "metadata": {},
   "source": [
    "![Rainbow Colormap](../resources/visualization/rainbow.png){width=\"50%\"}"
   ]
  },
  {
   "cell_type": "markdown",
   "metadata": {},
   "source": [
    "This is not true of color maps designed for perceptual uniformity:"
   ]
  },
  {
   "cell_type": "markdown",
   "metadata": {},
   "source": [
    "![Viridis](../resources/visualization/viridis.png){width=\"50%\"}"
   ]
  },
  {
   "cell_type": "markdown",
   "metadata": {},
   "source": [
    "If we want to encode sequential values, we should use a single color gradient. If we have diverging values or values with positives and negative values with a \"natural\" zero, we can use a diverging color gradient. For categorical variables, we use discordant colors. The last one is interesting because the default is normally, you guessed it, a rainbow...adjacent colors are definitely not distinct in a rainbow.\n",
    "\n",
    "If you do use a colormap, use a perceptually uniform one like Viridis pictured above."
   ]
  },
  {
   "cell_type": "markdown",
   "metadata": {},
   "source": [
    "![Color Sequencing](../resources/visualization/gradients.png){width=\"50%\"}"
   ]
  },
  {
   "cell_type": "markdown",
   "metadata": {},
   "source": [
    "Color can also be used to tie elements together in a collection of charts. For example, a set of charts can use green for financial charts and blue for personal/head count charts. Conversely, color used indiscriminately can be confusing. If two elements are the same color, we assume they're related and it's confusing if they are not."
   ]
  },
  {
   "cell_type": "markdown",
   "metadata": {},
   "source": [
    "## Color blindness\n",
    "\n",
    "In general, you should avoid including both red and green in your charts. 8% of men and 0.2% of women (4.5% of the total population) have some form of color blindness. Red/green color blindness is the most common. Hundreds of dashboards have green for good and red for bad...designed, I imagine, by designers who were not color blind."
   ]
  }
 ],
 "metadata": {
  "kernelspec": {
   "display_name": "Python 3",
   "language": "python",
   "name": "python3"
  },
  "language_info": {
   "codemirror_mode": {
    "name": "ipython",
    "version": 3
   },
   "file_extension": ".py",
   "mimetype": "text/x-python",
   "name": "python",
   "nbconvert_exporter": "python",
   "pygments_lexer": "ipython3",
   "version": "3.7.0"
  },
  "toc": {
   "colors": {
    "hover_highlight": "#DAA520",
    "navigate_num": "#000000",
    "navigate_text": "#333333",
    "running_highlight": "#FF0000",
    "selected_highlight": "#FFD700",
    "sidebar_border": "#EEEEEE",
    "wrapper_background": "#FFFFFF"
   },
   "moveMenuLeft": true,
   "nav_menu": {
    "height": "48px",
    "width": "252px"
   },
   "navigate_menu": true,
   "number_sections": true,
   "sideBar": true,
   "threshold": 4,
   "toc_cell": false,
   "toc_section_display": "block",
   "toc_window_display": false,
   "widenNotebook": false
  }
 },
 "nbformat": 4,
 "nbformat_minor": 2
}
