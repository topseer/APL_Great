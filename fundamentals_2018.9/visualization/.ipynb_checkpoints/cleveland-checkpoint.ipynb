{
 "cells": [
  {
   "cell_type": "markdown",
   "metadata": {},
   "source": [
    "# Cleveland's Research on Decoding\n",
    "\n",
    "In their paper, *Graphical Perception: Theory, Experimentation, and Application to the Development of Graphical Methods*, William S. Cleveland and Robert McGill set out to determine, *by experiment*, what encodings were most accurate for *decoding* information. The results were expounded upon in Cleveland's book, *The Elements of Graphing Data*. Their results are generally considered the starting point for all evidence-based discussions about the visualizations and static charts.\n",
    "\n",
    "The idea that charts represent an encoding of data to be decoded by viewers originates with Cleveland and therefore his experiments attempted to answer the following question, **\"Of all the possible ways of encoding data, what encodings lead to the most accurate decodings?\".**\n",
    "\n",
    "The encodings he studied were as follows (at the time they were called \"perceptual tasks\"):"
   ]
  },
  {
   "cell_type": "markdown",
   "metadata": {},
   "source": [
    "![Perceptual Tasks](../resources/visualization/perceptual_tasks.png){width=\"50%\"}"
   ]
  },
  {
   "cell_type": "markdown",
   "metadata": {},
   "source": [
    "We will talk more later about the visual elements--the \"alphabet\" of visualization. For now, it's enough to recognize the elements as the building blocks of many charts we've seen:\n",
    "\n",
    "* **Position on a common scale** includes both scatter plots and bar charts. For example, the bar chart I drew at the start of the notebook has all the bars positioned on a common scale. \n",
    "* **Position on non-aligned scales** is best exemplified by the example Excel chart. When we go to compare the red and purple bars we can see that they are not on aligned scales. \n",
    "* **Length** is a general feature of bar charts. \n",
    "* **Direction** is related to line charts and charts using line direction to encode relationships. \n",
    "* **Angle** is, of course, a common element of pie charts. \n",
    "* **Area**, especially circular area, covers what are often called \"triple scatter plots\" or \"bubble charts\" made famous by Hans Rosling's TED talk. \n",
    "* **Volume** addresses 3d charts made infamous by Excel. \n",
    "* **Curvature** relates to Playfair's charts, especially those containing two lines. \n",
    "* **Shading** specifically refers to *cloropleths*...maps shaded in different colors to indicate values (yes, there is a word for those!)."
   ]
  },
  {
   "cell_type": "markdown",
   "metadata": {},
   "source": [
    "Unfortunately, Cleveland presented all his results as charts and so the exact numbers are not available either to create new charts or to cite directly.\n",
    "This makes describing his results difficult short of reproducing and re-explaining the charts from his paper and book.\n",
    "I will reproduce some of the results here but the reader is invited to look into his paper, which is described in the Additional Resources."
   ]
  },
  {
   "cell_type": "markdown",
   "metadata": {},
   "source": [
    "## Experiment 1\n",
    "\n",
    "For the first experiment, Cleveland looked into the difference between *position* and *length*. He did this by having subjects decode values from bar charts and stacked bar charts. In a bar chart, the value can be decoded from a bar simply by looking at the top of the bar and comparing it against the y-axis. The viewer only needs *position*.\n",
    "\n",
    "For a stacked bar chart, for anything other than the bottom \"slice\", the view must use *length* as well as position. They must judge the position of the bottom of the slice and the position of the top of the slice. It gets somewhat worse when two slices on different bars are being compared.\n",
    "\n",
    "Note that there is a lot of non-standard language surrounding \"bar charts\". *Most* of the time, a bar chart refers to what is often called a *horizontal bar chart*. In a horizontal bar chart, the bars run from left to right. A *vertical bar chart* is when the bars run from bottom to top. This is also called a \"columnar chart\" or \"column chart\".\n",
    "\n",
    "For Cleveland (and this text), a bar chart is a vertical bar chart (no need to specify \"vertical\") and the left to right variant is a horizontal bar chart."
   ]
  },
  {
   "cell_type": "markdown",
   "metadata": {},
   "source": [
    "![Experiment 1](../resources/visualization/cleveland_experiment_1.png){width=\"75%\"}"
   ]
  },
  {
   "cell_type": "markdown",
   "metadata": {},
   "source": [
    "For this experiment, Type 1 and Type 3 are different bar charts and Type 2, 4, and 5 are stacked bar charts. The dot on Type 2 indicates a slice that can be decoded using position. On Types 4 and 5, the dots indicate slices that must be decoded using length."
   ]
  },
  {
   "cell_type": "markdown",
   "metadata": {},
   "source": [
    "## Experiment 2\n",
    "\n",
    "For his second experiment, Cleveland compared decoding accuracy for position (bar charts) versus angles (pie charts) as in the figure below."
   ]
  },
  {
   "cell_type": "markdown",
   "metadata": {},
   "source": [
    "![Experiment 2](../resources/visualization/pie_v_bar.png){width=\"50%\"}"
   ]
  },
  {
   "cell_type": "markdown",
   "metadata": {},
   "source": [
    "## Results\n",
    "\n",
    "The results are reported below. Because the results were log-normally distributed (something we'll talk about in a later chapter), Cleveland reported log base 2 absolute error. He chose base 2 because errors do not generally change in increments of 10 (so a log base 10 scale didn't help anything). The dot represents the *midmean* or the mean of the interquartile range. The line represents the 95% confidence interval. For now, we can interpret the confidence interval in a Bayesian way and say that, based on the data, there is a 95% probability that the midmean lies in the region. (This is not, however, the Frequentist interpretation)."
   ]
  },
  {
   "cell_type": "markdown",
   "metadata": {},
   "source": [
    "![Cleveland Results](../resources/visualization/cleveland_results.png){width=\"50%\"}"
   ]
  },
  {
   "cell_type": "markdown",
   "metadata": {},
   "source": [
    "The results show that there are fairly large decoding errors associated with both stacked bar charts and pie charts as compared to plain bar charts."
   ]
  },
  {
   "cell_type": "markdown",
   "metadata": {},
   "source": [
    "Although we can see why decoding angles as compared to position might be difficult, why are length and position to difficult to distinguish?\n",
    "\n",
    "In the figure below, we show two bars with unaligned scales."
   ]
  },
  {
   "cell_type": "markdown",
   "metadata": {},
   "source": [
    "![Unaligned Bars](../resources/visualization/cleveland_bars.png){width=\"30%\"}"
   ]
  },
  {
   "cell_type": "markdown",
   "metadata": {},
   "source": [
    "![Unaligned Stacked Bars](../resources/visualization/cleveland_framed_bars.png){width=\"30%\"}"
   ]
  },
  {
   "cell_type": "markdown",
   "metadata": {},
   "source": [
    "The dark bars in the second chart are the same size in both A and B."
   ]
  },
  {
   "cell_type": "markdown",
   "metadata": {},
   "source": [
    "## Curve Difference Charts\n",
    "\n",
    "Cleveland's book expanded on his paper by quite a bit. If you're interested in the specifics, it's worth reading. However, if you simply want to make good charts *based* on the results, you can do better by reading Stephen Few. Nevertheless, I will report on one of the most interesting results where the main story is the *difference* between two curves. We will call such charts \"curve-difference charts\". They are essentially line charts with two (or more) lines showing magnitudes (exports, imports in this case) but the *message* is the difference (trade balance).\n",
    "\n",
    "Below we have a reproduction of the Playfair curve-difference chart that shows the balance of trade between England and the East Indies."
   ]
  },
  {
   "cell_type": "markdown",
   "metadata": {},
   "source": [
    "![playfair curves](../resources/visualization/playfair_curves.png)"
   ]
  },
  {
   "cell_type": "markdown",
   "metadata": {},
   "source": [
    "The chief problem with such charts is that the eyes want to do things differently than they should. That is, perceptually, we want to judge perpendicular differences between the curves (red) as if we were navigating a river. However, a correct reading of the chart requires us to gauge vertical distances between the lines (blue) and our eyes just won't go for it.\n",
    "\n",
    "If you just show the difference, you get the following chart:"
   ]
  },
  {
   "cell_type": "markdown",
   "metadata": {},
   "source": [
    "![playfair difference](../resources/visualization/playfair_difference.png)"
   ]
  },
  {
   "cell_type": "markdown",
   "metadata": {},
   "source": [
    "Did you notice the bump in 1763? Probably not. This is a general problem with trying to judge the differences between two curve-difference charts.\n",
    "\n",
    "The diagram below is reproduced from Cleveland's book shows nine such curve-difference charts on the left. They all look pretty much the same. We've probably looked at or produced many charts just like this without a second thought."
   ]
  },
  {
   "cell_type": "markdown",
   "metadata": {},
   "source": [
    "![Curves and Differences between Curves](../resources/visualization/curve_differences.png)"
   ]
  },
  {
   "cell_type": "markdown",
   "metadata": {},
   "source": [
    "The charts on the right show just the difference between the curves. If our impression from the charts on the left is that they were largely the same or certainly similar, this impression is shattered by the charts on the right. They couldn't be more different. Some of the differences actually move in opposite directions of each other. Does this remind you of the Müller-Lyer Illusion?"
   ]
  },
  {
   "cell_type": "markdown",
   "metadata": {},
   "source": [
    "Cleveland's research largely started the *scientific* investigation of charts and visualization. It has since started to involve psychology and neuroscience.\n",
    "\n",
    "Next we turn to the basic elements of charts. This discussion follows Stephen Few in *Show Me the Numbers* first by discussing Colin Ware's *Preattentive Processing* and then *Gestalt Principles of Visualization*."
   ]
  }
 ],
 "metadata": {
  "kernelspec": {
   "display_name": "Python 3",
   "language": "python",
   "name": "python3"
  },
  "language_info": {
   "codemirror_mode": {
    "name": "ipython",
    "version": 3
   },
   "file_extension": ".py",
   "mimetype": "text/x-python",
   "name": "python",
   "nbconvert_exporter": "python",
   "pygments_lexer": "ipython3",
   "version": "3.7.0"
  },
  "toc": {
   "colors": {
    "hover_highlight": "#DAA520",
    "navigate_num": "#000000",
    "navigate_text": "#333333",
    "running_highlight": "#FF0000",
    "selected_highlight": "#FFD700",
    "sidebar_border": "#EEEEEE",
    "wrapper_background": "#FFFFFF"
   },
   "moveMenuLeft": true,
   "nav_menu": {
    "height": "30px",
    "width": "252px"
   },
   "navigate_menu": true,
   "number_sections": true,
   "sideBar": true,
   "threshold": 4,
   "toc_cell": false,
   "toc_section_display": "block",
   "toc_window_display": false,
   "widenNotebook": false
  }
 },
 "nbformat": 4,
 "nbformat_minor": 2
}
