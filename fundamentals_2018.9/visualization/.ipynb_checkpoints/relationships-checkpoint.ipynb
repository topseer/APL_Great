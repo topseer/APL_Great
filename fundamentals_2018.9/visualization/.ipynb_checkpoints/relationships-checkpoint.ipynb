{
 "cells": [
  {
   "cell_type": "code",
   "execution_count": 1,
   "metadata": {
    "collapsed": true
   },
   "outputs": [],
   "source": [
    "%matplotlib inline"
   ]
  },
  {
   "cell_type": "code",
   "execution_count": 2,
   "metadata": {
    "collapsed": true
   },
   "outputs": [],
   "source": [
    "import matplotlib.pyplot as plt"
   ]
  },
  {
   "cell_type": "markdown",
   "metadata": {},
   "source": [
    "# Expressing Quantitative Relationships with Charts\n",
    "\n",
    "We use charts to express quantitative relationships in our data (or find them!) by giving shape to those relationships. Surprisingly, there's only eight (8) of those.\n",
    "\n",
    "\n",
    "1. Time Series\n",
    "2. Ranking\n",
    "3. Part/Whole\n",
    "4. Deviation\n",
    "5. Distribution\n",
    "6. Correlation\n",
    "7. Geospatial\n",
    "8. Nominal\n",
    "\n",
    "Note that these relationships are essentially *messages* or *stories* we want to convey about our data. We might want to tell several stories about a particular variable. This implies that you want *one chart per message*. Do not make charts tell more than one story. This is the problem with the Playfair chart. It is telling a Time Series story about the Exports and Imports of England and a Difference story about the Trade Balance. This should be two charts.\n",
    "\n",
    "Many of these concepts will be clearer when we start Exploratory Data Analysis. This section is mostly to plant seeds for later. We'll take up these different approaches when we start EDA.\n",
    "\n",
    "For each of these basic relationships we're going to look at the concepts we use around them and talk about some chart designs for each one. For each, we will consider the following options:\n",
    "\n",
    "1. (horizontal|vertical) bars\n",
    "2. (horizontal|vertical) dots\n",
    "2. points\n",
    "3. lines\n",
    "4. points and lines\n",
    "\n",
    "These are combinations of the basic building blocks. We're going to look at the Nominal relationship first."
   ]
  },
  {
   "cell_type": "markdown",
   "metadata": {},
   "source": [
    "## Nominal\n",
    "\n",
    "The concepts we normally associate with Nominal relationships include:\n",
    "\n",
    "* categories\n",
    "    \n",
    "Generally, the following options are good for Nominal relationships:\n",
    "\n",
    "1. horizontal bars|dots\n",
    "2. vertical bars|dots\n",
    "3. points\n",
    "\n",
    "Sometimes horizontal bars are preferred to vertical bars if the labels are overly long. When plotting multiple Nominal relationships we will often add color or plot \"small multiples\" (to be discussed later). Do not add color to a single nominal relationship."
   ]
  },
  {
   "cell_type": "markdown",
   "metadata": {},
   "source": [
    "## Time Series\n",
    "\n",
    "The concepts we normally associated with Time Series include:\n",
    "\n",
    "* change\n",
    "* rise\n",
    "* increase\n",
    "* fluctuate\n",
    "* grow\n",
    "* decline\n",
    "* decrease\n",
    "* trend\n",
    "    \n",
    "For Time Series data, you can use:\n",
    "\n",
    "1. vertical bars\n",
    "2. points and lines\n",
    "\n",
    "You can also use *boxes* which we have not yet shown. Boxes do not start at the x-axis as bars do. Instead they start at some minimum value and end at some maximum value. Boxes are good for showing low and high values for a particular observation (say, a stock market price per day).\n",
    "\n",
    "If there is an obvious continuity in the data, then it is best to use points *and* lines. If the continuity is broken,  you may need to use just points or a combination of points and lines. Sometimes it's better to use vertical bars.\n",
    "\n",
    "*Never use horizontal bars or dots for Time Series*"
   ]
  },
  {
   "cell_type": "markdown",
   "metadata": {},
   "source": [
    "## Ranking\n",
    "\n",
    "The concepts we normally associated with Ranking include:\n",
    "\n",
    "* larger than\n",
    "* smaller than\n",
    "* equal to\n",
    "* greater than\n",
    "* less than\n",
    "    \n",
    "Generally speaking bar charts are the best chart for Rankings. You can either sort the data from highest to lowest (to emphasize the lowest value and ascending values) or lowest to highest (to emphasize the largest value and descending values)."
   ]
  },
  {
   "cell_type": "markdown",
   "metadata": {},
   "source": [
    "## Part/Whole\n",
    "\n",
    "The concepts we normally associated with Part/Whole include:\n",
    "\n",
    "* rate or rate of total\n",
    "* percent or percentage of total\n",
    "* share\n",
    "* accounts for *x* percent\n",
    "    \n",
    "We've already ruled out Pie Charts for showing Part/Whole relationships. Noting our problems with comparing non-aligned positions, we're going to suggest bar charts as the best way to represent Part/Whole relationships, either vertical or horizontal."
   ]
  },
  {
   "cell_type": "markdown",
   "metadata": {},
   "source": [
    "## Deviation\n",
    "\n",
    "The concepts we normally associated with Deviation include:\n",
    "\n",
    "* plus or minus\n",
    "* variance\n",
    "* difference\n",
    "* relative to\n",
    "    \n",
    "Deviation stories should always be told *as the deviation* and not simply make the viewer calculate the deviation in their head.\n",
    "\n",
    "The effective displays for deviations are:\n",
    "\n",
    "* bars (either horizontal or vertical)\n",
    "* lines (when the deviations are from a Time Series)"
   ]
  },
  {
   "cell_type": "markdown",
   "metadata": {},
   "source": [
    "## Distribution\n",
    "\n",
    "The concepts we normally associated with Distribution include:\n",
    "\n",
    "* frequency\n",
    "* distribution\n",
    "* range\n",
    "* concentration\n",
    "* normal curve/distribution (and others)\n",
    "    \n",
    "We will have a lot to say about distributions later, in the EDA module. In general, we can use:\n",
    "\n",
    "* vertical bars (as a *histogram*)\n",
    "* lines (as a *frequency polygon*)\n",
    "* dots\n",
    "* boxes (as a *box and whiskers* plot)\n",
    "\n",
    "as well as combinations of the above to effectively display distributions."
   ]
  },
  {
   "cell_type": "markdown",
   "metadata": {},
   "source": [
    "## Correlation\n",
    "\n",
    "The concepts we normally associated with Correlation include:\n",
    "\n",
    "* increases with\n",
    "* decreases with\n",
    "* changes with\n",
    "* varies with\n",
    "* caused by\n",
    "* affected by\n",
    "* follows\n",
    "\n",
    "The canonical representation of some kind of correlation is to plot the numerical values on a scatter plot (XY-plot) and insert either a linear or LOESS trend line. Another approach would be to plot two side by side horizontal bar charts, called a *table lens*."
   ]
  },
  {
   "cell_type": "markdown",
   "metadata": {},
   "source": [
    "## Geospatial\n",
    "\n",
    "The concepts we normally associated with Geospatial relationships include:\n",
    "\n",
    "* geography\n",
    "* location\n",
    "* where\n",
    "* region\n",
    "* territory\n",
    "* country\n",
    "* state/province\n",
    "* count/borough/parish\n",
    "* city\n",
    "    \n",
    "In this particular case, the forms (dots, lines, bars) are generally drawn or plotted on a map. When working with location data, you should consider whether or not the *location* is actually important the story. For example, do people already know where the 50 US states are in relation to each other? Is it really necessary to put this on a map rather than a table? Unless geography is part of the story, consider whether your visualization really requires a map.\n",
    "\n",
    "If you determine that a map is integral to the story, then possible solutions include:\n",
    "\n",
    "* points of varying size\n",
    "* points or areas of varying color *intensity*\n",
    "* color intensities applied directly to geographical areas (this was the option Cleveland disliked...notice that not everyone is in agreement!)\n",
    "* lines of varying thickness or color intensity.\n",
    "\n",
    "One type of chart that we haven't talked about is the *Heat Map*. A Heat Map can be considered a Geospatial chart in an abstract space where color is often used to represent a 3rd dimension."
   ]
  }
 ],
 "metadata": {
  "kernelspec": {
   "display_name": "Python 3",
   "language": "python",
   "name": "python3"
  },
  "language_info": {
   "codemirror_mode": {
    "name": "ipython",
    "version": 3
   },
   "file_extension": ".py",
   "mimetype": "text/x-python",
   "name": "python",
   "nbconvert_exporter": "python",
   "pygments_lexer": "ipython3",
   "version": "3.7.0"
  },
  "toc": {
   "colors": {
    "hover_highlight": "#DAA520",
    "navigate_num": "#000000",
    "navigate_text": "#333333",
    "running_highlight": "#FF0000",
    "selected_highlight": "#FFD700",
    "sidebar_border": "#EEEEEE",
    "wrapper_background": "#FFFFFF"
   },
   "moveMenuLeft": true,
   "nav_menu": {
    "height": "189px",
    "width": "252px"
   },
   "navigate_menu": true,
   "number_sections": true,
   "sideBar": true,
   "threshold": 4,
   "toc_cell": false,
   "toc_section_display": "block",
   "toc_window_display": false,
   "widenNotebook": false
  }
 },
 "nbformat": 4,
 "nbformat_minor": 2
}
