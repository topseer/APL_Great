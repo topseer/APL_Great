{
 "cells": [
  {
   "cell_type": "markdown",
   "metadata": {},
   "source": [
    "# Chart Parts\n",
    "\n",
    "The dots, bars and lines may be the stars of the show but when it comes to chart making, there are supporting players as well. Make sure you know how to customize all the parts of your chart, including creating multiple charts, using your particular library.\n",
    "\n",
    "Below is an example chart with all the parts labeled. It is, however, not a great example of a chart as we will soon see."
   ]
  },
  {
   "cell_type": "markdown",
   "metadata": {},
   "source": [
    "![image](../resources/visualization/chart_parts.png)"
   ]
  },
  {
   "cell_type": "markdown",
   "metadata": {},
   "source": [
    "## Libraries\n",
    "\n",
    "There is a fantastic array of libraries available for graphics these days. Some of them let you do things that contradict some of the rules provided here.\n",
    "\n",
    "We use `matplotlib` because it is the default library provided with Python. We will also make use of [`seaborn`](https://stanford.edu/~mwaskom/software/seaborn/) because it adds some nice styling to the `matplotlib` plots. We do not quite follow Tufte's minimalism to the extreme that he does.\n",
    "\n",
    "There are other options. [`ggplot2`](http://ggplot2.org/) is a very popular \"grammar of graphics\" library for R. There is a port of most (it doesn't pretend to be a feature complete port) of [`ggplot`](http://ggplot.yhathq.com/) to Python. This has several advantages. First, if you want to use a \"grammar of graphics\" style of describing your plots, you can in Python. Second, since the syntax for `ggplot` in Python is more or less the same as `ggplot2` for R, learning one means you will have learned the other, modulo some idiosyncrasies between the two languages.\n",
    "\n",
    "There are other libraries as well. For pure JavaScript, there is the very popular [`D3`](https://d3js.org/). There is also [`Bokeh`](http://bokeh.pydata.org/en/latest/) (\"bouquet\") which, I believe can integrate with Jupyter notebooks.\n",
    "\n",
    "For this text, we will stick with `matplotlib` for plotting and `seaborn` for styling."
   ]
  }
 ],
 "metadata": {
  "kernelspec": {
   "display_name": "Python 3",
   "language": "python",
   "name": "python3"
  },
  "language_info": {
   "codemirror_mode": {
    "name": "ipython",
    "version": 3
   },
   "file_extension": ".py",
   "mimetype": "text/x-python",
   "name": "python",
   "nbconvert_exporter": "python",
   "pygments_lexer": "ipython3",
   "version": "3.7.0"
  },
  "toc": {
   "colors": {
    "hover_highlight": "#DAA520",
    "navigate_num": "#000000",
    "navigate_text": "#333333",
    "running_highlight": "#FF0000",
    "selected_highlight": "#FFD700",
    "sidebar_border": "#EEEEEE",
    "wrapper_background": "#FFFFFF"
   },
   "moveMenuLeft": true,
   "nav_menu": {
    "height": "48px",
    "width": "252px"
   },
   "navigate_menu": true,
   "number_sections": true,
   "sideBar": true,
   "threshold": 4,
   "toc_cell": false,
   "toc_section_display": "block",
   "toc_window_display": false,
   "widenNotebook": false
  }
 },
 "nbformat": 4,
 "nbformat_minor": 2
}
