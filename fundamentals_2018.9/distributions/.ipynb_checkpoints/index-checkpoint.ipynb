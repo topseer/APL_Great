{
 "cells": [
  {
   "cell_type": "markdown",
   "metadata": {},
   "source": [
    "# Mathematical Distributions\n",
    "\n",
    "In the previous chapter we started talking about Exploratory Data Analysis.\n",
    "Although EDA is mainly focused on using tools like visualization for exploration, we still often use descriptive statistics.\n",
    "These descriptive statistics can be parametric (mean, variance, and their relatives) or non-parametric (quantiles, min, max).\n",
    "But there is a subtle and blurry line between descriptive statistics and *summary* statistics and modeling.\n",
    "In this chapter, we will discuss the mean as a model of data rather just a descriptive property of data.\n",
    "Additionally, we will introduce the use of mathematical distributions as models."
   ]
  },
  {
   "cell_type": "markdown",
   "metadata": {
    "nbsphinx-toctree": {}
   },
   "source": [
    "* [Description to Modeling](introduction.ipynb)\n",
    "* [Events, Data, and Random Variables](events.ipynb)\n",
    "* [Distributions and Densities](densities.ipynb)\n",
    "* [Statistics and Moments](statistics.ipynb)\n",
    "* [A Bestiary of Mathematical Distributions](bestiary/index.ipynb)\n",
    "* [Example](example.ipynb)\n",
    "* [Conclusion](conclusion.ipynb)"
   ]
  }
 ],
 "metadata": {
  "celltoolbar": "Edit Metadata",
  "kernelspec": {
   "display_name": "Python 3",
   "language": "python",
   "name": "python3"
  },
  "language_info": {
   "codemirror_mode": {
    "name": "ipython",
    "version": 3
   },
   "file_extension": ".py",
   "mimetype": "text/x-python",
   "name": "python",
   "nbconvert_exporter": "python",
   "pygments_lexer": "ipython3",
   "version": "3.7.0"
  },
  "toc": {
   "colors": {
    "hover_highlight": "#DAA520",
    "navigate_num": "#000000",
    "navigate_text": "#333333",
    "running_highlight": "#FF0000",
    "selected_highlight": "#FFD700",
    "sidebar_border": "#EEEEEE",
    "wrapper_background": "#FFFFFF"
   },
   "moveMenuLeft": true,
   "nav_menu": {
    "height": "48px",
    "width": "252px"
   },
   "navigate_menu": true,
   "number_sections": true,
   "sideBar": true,
   "threshold": 4,
   "toc_cell": false,
   "toc_section_display": "block",
   "toc_window_display": false,
   "widenNotebook": false
  }
 },
 "nbformat": 4,
 "nbformat_minor": 2
}
