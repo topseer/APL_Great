{
 "cells": [
  {
   "cell_type": "markdown",
   "metadata": {},
   "source": [
    "# Conclusion\n",
    "\n",
    "In this chapter we looked at Mathematical distributions. Mathematical distributions have a *generating story* (or many such stories) that describe processes that give rise to data with certain characteristics that appear over and over again. We need only provide specific *parameter* to specialize them for our own data. This makes them good models for our data, a point we will return to in a later chapter."
   ]
  },
  {
   "cell_type": "markdown",
   "metadata": {
    "solution": "hidden",
    "solution_first": true
   },
   "source": [
    "## Review\n",
    "\n",
    "1. What is a **random variable**?\n",
    "2. What is the difference between **probability mass** and **probability density**?\n",
    "3. What three things are probability distributions good for modeling?\n",
    "4. What is a **statistic**? Give three examples of a statistic.\n",
    "5. What is the difference between an accountant's \"total sales\" and a data scientist's \"total sales\"?\n",
    "6. What does the **first moment** of the empirical distribution measure? **Second moment**?\n",
    "7. What is does it mean if $X \\sim U(10, 20)$ for continuous $X$?\n",
    "8. What is a **Bernoulli trial**? What is $p$? Is \"success\" always \"good\"?\n",
    "9. What was the generating story we told for the **Exponential distribution**?\n",
    "10. Why is the Exponential distribution **\"memoryless\"**? Compare it to the **Weibull distribution** if needed.\n",
    "11. How is the Exponential distribution a special case of the **Gamma distribution**?\n",
    "12. What is the generating story for the **Binomial distribution**?\n",
    "13. How does the Binomial distribution derive from the **Exponential distribution**?\n",
    "14. What is the generating story for the **Poisson distribution**?\n",
    "15. What are two potential problems with using the Poisson distribution as a model and how are they solved?\n",
    "16. What is the specific version of the **Central Limit Theorem**? What is the general version?\n",
    "17. What is the generating story for the **Normal distribution**?\n",
    "18. What is the generating story for the **Log-Normal distribution**?\n",
    "19. How are the Log-Normal and Normal distributions related?"
   ]
  }
 ],
 "metadata": {
  "kernelspec": {
   "display_name": "Python 3",
   "language": "python",
   "name": "python3"
  },
  "language_info": {
   "codemirror_mode": {
    "name": "ipython",
    "version": 3
   },
   "file_extension": ".py",
   "mimetype": "text/x-python",
   "name": "python",
   "nbconvert_exporter": "python",
   "pygments_lexer": "ipython3",
   "version": "3.6.1"
  }
 },
 "nbformat": 4,
 "nbformat_minor": 2
}
