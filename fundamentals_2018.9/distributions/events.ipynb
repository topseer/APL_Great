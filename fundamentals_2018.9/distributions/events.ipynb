{
 "cells": [
  {
   "cell_type": "markdown",
   "metadata": {},
   "source": [
    "## Events, Data, and Random Variables\n",
    "\n",
    "Now that we've talked about both probability *and* data, it's time to bring them together. When we talked about probability we talked about sets of outcomes or events usually as some set $A$ or $B$. When we start applying probability to the real world, we start using these sets to describe the features of our data and their possible values. For example, if we have log data for an ecommerce site, the click stream of a visitor will have a feature \"purchase\" (did they end up purchasing something or not?) with values {\"yes\", \"no\"}. If they did purchase something, then we'll get more information about the purchaser which will include a billing or shipping address. This address will have features such as city, state and zip code. The possible values of state will be {\"AR\", \"AK\", \"AL\",..., \"WY\"}, etc.\n",
    "\n",
    "For the moment, let's assume that our data takes the familiar tabular form like an Excel spreadsheet. Let's take the example of a site where you have to sign up (so we have some information about the visitor). The features are id, purchase, state, day_of_week, and time_of_day:\n",
    "\n",
    "| id | purchase | state | day_of_week | time_of_day |\n",
    "|----|----------|-------|-------------|-------------|\n",
    "| 1  | yes      | NY    | Thursday    | 1300        |\n",
    "| 2  | yes      | AK    | Friday      | 700         |\n",
    "| 3  | no       | NY    | Friday      | 600         |\n",
    "| 4  | no       | CA    | Thursday    | 1400        |\n",
    "| 5  | no       | AZ    | Wednesday   | 1300        |\n",
    "| 6  | yes      | NY    | Thursday    | 1200        |\n",
    "| 7  | no       | IL    | Monday      | 700         |\n",
    "| 8  | no       | CA    | Friday      | 1800        |\n",
    "| 9  | no       | CA    | Friday      | 1700        |\n",
    "\n",
    "\n",
    "Each row is an observation. Each column is a feature. Each cell is a feature *value* for a particular observation. We'll have more to say about this in a later chapter. For now, the goal is to think of these observations in the context of the *data generating process* that is the focus of our problem or question.\n",
    "\n",
    "As we have mentioned, it's important to remember that these observations are part of a larger process with many other variables and relationships. We are only able to capture *these* features. We have no idea why #3 was visiting at 6:00AM and #4 was visiting at 2:00PM. We turn to probability precisely because of this uncertainty.\n",
    "\n",
    "Let's concentrate on the columns, the features. In statistical terms, these are **random variables**. This isn't a particularly great name because it can conjure up the wrong idea. They're not *arbitrary* but when we go to measure them, their values change. \"Random variable\" just conveys the sense that we're working with uncertainty.\n",
    "\n",
    "A random variable just a mathematical formalism that says whenever we observe the value of the variable, the value observed is uncertain because it changes. As an example, consider the complex system that is human growth and maturity, and the resulting process of growth that leads to adult height. What goes into the height of an adult _homo sapiens sapiens_? \n",
    "\n",
    "We can think of parental genetics, biological sex, ancestry, nutrition, childhood diseases, as sort of high level factors influencing adult height. For each observation (person measured) you will not have recorded most or any of these (it may be impossible to do so). So although it's a deterministic system, we are ignorant of almost everything that went into the result.\n",
    "\n",
    "When we observe each realization of the process (a person), we get a different value for height. Now height is a, theoretically, real valued measurement so we're not going to use the same kind of distribution to represent it as we do purchases, baskets and cures. Instead we will model $P(Height)$ by using one of the appropriate _continuous_ distributions. Because height cannot be negative, it is often modeled with a _Log Normal_ distribution (more about this distribution later).\n",
    "\n",
    "If we add biological sex (sex) as another random variable (after all, sex is determined by the workings of a system about which we are also largely ignorant--and even more so for gender--we have a _joint_ probability distribution $P(Height, Sex)$. Often we're more interested in just height _given_ sex and so we will explicitly or implicitly condition on sex and have $P(Height|Sex)$.\n",
    "\n",
    "As if that weren't enough, once we enter the world of measurement, we add another dimension of ignorance. Generally speaking, our rulers, tape measures and scales do not have infinite resolution and so our measurements will often appear to be discrete (for example, if all measurements are in the nearest inch or cm). Sometimes this will not matter and we can treat the values as continuous. Other times it might matter and we'll need to treat them as discrete. Still this can lead to measurement error--not that we took the wrong value but that we can't get the value exactly right.\n",
    "\n",
    "Finally, we also have the problem of the limits of representing floating point numbers in digital computers. We'll ignore this altogether--except when we can't."
   ]
  }
 ],
 "metadata": {
  "kernelspec": {
   "display_name": "Python 3",
   "language": "python",
   "name": "python3"
  },
  "language_info": {
   "codemirror_mode": {
    "name": "ipython",
    "version": 3
   },
   "file_extension": ".py",
   "mimetype": "text/x-python",
   "name": "python",
   "nbconvert_exporter": "python",
   "pygments_lexer": "ipython3",
   "version": "3.7.0"
  },
  "toc": {
   "colors": {
    "hover_highlight": "#DAA520",
    "navigate_num": "#000000",
    "navigate_text": "#333333",
    "running_highlight": "#FF0000",
    "selected_highlight": "#FFD700",
    "sidebar_border": "#EEEEEE",
    "wrapper_background": "#FFFFFF"
   },
   "moveMenuLeft": true,
   "nav_menu": {
    "height": "30px",
    "width": "252px"
   },
   "navigate_menu": true,
   "number_sections": true,
   "sideBar": true,
   "threshold": 4,
   "toc_cell": false,
   "toc_section_display": "block",
   "toc_window_display": false,
   "widenNotebook": false
  }
 },
 "nbformat": 4,
 "nbformat_minor": 2
}
