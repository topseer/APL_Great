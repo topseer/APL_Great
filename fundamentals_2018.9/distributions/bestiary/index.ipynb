{
 "cells": [
  {
   "cell_type": "markdown",
   "metadata": {},
   "source": [
    "# A Bestiary of Mathematical Distributions\n",
    "We will now set out to describe and generate a large number of important Mathematical (or \"Ideal\" or \"Theoretical\") distributions for data science starting with a seemingly innocuous distribution: the Uniform distribution. We will be making use of them in later chapters.\n",
    "\n",
    "Mathematical distrubtions are important for data science because each distribution has one or more motivating *stories* about some process that generates it. That is, we see data with the same general properties over and over again. This make it very convenient to use these distributions as models and tools in statistical inference.\n",
    "\n",
    "You should learn these stories because they can help you choose a distribution to use as a model for your data. These stories can act as a bridge between the qualitative Causal Loop Diagram and a quantitative analysis. These mathematical distributions will be particularly relevant after we cover Exploratory Data Analysis and then begin examining Univariate Modeling (Statistical Modeling). Be warned, however, that many distributions have more than one--and sometimes quite a few--generating stories. A good example of this is the Normal distribution.\n",
    "\n",
    "Every distribution has *parameters*, values that create a particular instantiation of that distribution. In the following discussion, we will use the Method of Moments approach for estimating the parameters of distributions although there are others such as Maximum Likelihood or Least Squares. The Method of Moments ties together our previous discussion about the location and shape of an empirical distribution with a possible distributional model.\n",
    "\n",
    "The confusing bit as we go through these distributions is that they all have a mean and variance (well, almost all of them) but the mean is not always the first moment and the variance is not always the second moment. This is why I made the distinction between moments describing an empirical distribution, the mean and variance as statistics, and parameters of a mathematical distribution. It'll all make sense in time.\n",
    "\n",
    "Admittedly, this is all a bit abstract. We'll see how it all works for each distribution in a minute. The key things to note for now are:\n",
    "\n",
    "* distributions have generating stories.  You should learn them because they can help you pick which distributions to use for modeling.\n",
    "* the distributions are all related.\n",
    "* all distributions have parameters that describe their specific overal properties and these are not necessarily the summary statistics: mean and standard deviation.\n",
    "* we can often derive the parameters of various distributions using the mean and other moments of the empirical distribution using the Method of Moments.\n",
    "\n",
    "The biggest immediate use we'll have for these distributions is to generate random data from them. We'll deal with statistical modeling in a later chapter. It just so happens that we need to know about mathematical distributions for the next chapter, Statistical Inference.\n",
    "\n",
    "For Python, the main reference for generating random variables from specific distributions is Scipy's [Statistical Functions](https://docs.scipy.org/doc/scipy/reference/stats.html). Nevertheless, you can find a few distributions in the Standard Library's [`random`](https://docs.python.org/2/library/random.html) module and Numpy's [Random Routines](https://docs.scipy.org/doc/numpy-1.13.0/reference/routines.random.html). We will try to stick with Scipy although sometimes Numpy's random routines for simple random numbers are easier to use."
   ]
  },
  {
   "cell_type": "markdown",
   "metadata": {
    "nbsphinx-toctree": {}
   },
   "source": [
    "* [Uniform Distribution](uniform.ipynb)\n",
    "* [Bernoulli Distribution](bernoulli.ipynb)\n",
    "* [Exponential Distribution](exponential.ipynb)\n",
    "* [Binomial Distribution](binomial.ipynb)\n",
    "* [Poisson Distribution](poisson.ipynb)\n",
    "* [Normal Distribution](normal.ipynb)"
   ]
  }
 ],
 "metadata": {
  "celltoolbar": "Edit Metadata",
  "kernelspec": {
   "display_name": "Python 3",
   "language": "python",
   "name": "python3"
  },
  "language_info": {
   "codemirror_mode": {
    "name": "ipython",
    "version": 3
   },
   "file_extension": ".py",
   "mimetype": "text/x-python",
   "name": "python",
   "nbconvert_exporter": "python",
   "pygments_lexer": "ipython3",
   "version": "3.7.0"
  },
  "toc": {
   "colors": {
    "hover_highlight": "#DAA520",
    "navigate_num": "#000000",
    "navigate_text": "#333333",
    "running_highlight": "#FF0000",
    "selected_highlight": "#FFD700",
    "sidebar_border": "#EEEEEE",
    "wrapper_background": "#FFFFFF"
   },
   "moveMenuLeft": true,
   "nav_menu": {
    "height": "45px",
    "width": "252px"
   },
   "navigate_menu": true,
   "number_sections": true,
   "sideBar": true,
   "threshold": 4,
   "toc_cell": false,
   "toc_section_display": "block",
   "toc_window_display": false,
   "widenNotebook": false
  }
 },
 "nbformat": 4,
 "nbformat_minor": 2
}
