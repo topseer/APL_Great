{
 "cells": [
  {
   "cell_type": "markdown",
   "metadata": {},
   "source": [
    "# Bernoulli Distribution\n",
    "\n",
    "The Bernoulli distribution results from a process that can end in either true or false. This is the canonical coin flip. The parameters of a Bernoulli distribution are $p$ for \"success\" and $(1 - p) = q$ for \"failure\" with \"success\" and \"failure\" being arbitrary designations. In some Bernoulli *trials*, \"success\" is death.\n",
    "\n",
    "We can simulate a Bernoulli distribution as follows:"
   ]
  },
  {
   "cell_type": "code",
   "execution_count": 1,
   "metadata": {},
   "outputs": [],
   "source": [
    "from numpy.random import seed, rand"
   ]
  },
  {
   "cell_type": "code",
   "execution_count": 2,
   "metadata": {},
   "outputs": [],
   "source": [
    "seed( 1604118487)"
   ]
  },
  {
   "cell_type": "code",
   "execution_count": 3,
   "metadata": {},
   "outputs": [
    {
     "name": "stdout",
     "output_type": "stream",
     "text": [
      "1\n",
      "1\n",
      "0\n",
      "0\n",
      "1\n",
      "1\n",
      "1\n",
      "1\n",
      "0\n",
      "1\n",
      "1\n"
     ]
    }
   ],
   "source": [
    "p = 0.75\n",
    "print( 1 if rand() < p else 0)\n",
    "print( 1 if rand() < p else 0)\n",
    "print( 1 if rand() < p else 0)\n",
    "print( 1 if rand() < p else 0)\n",
    "print( 1 if rand() < p else 0)\n",
    "print( 1 if rand() < p else 0)\n",
    "print( 1 if rand() < p else 0)\n",
    "print( 1 if rand() < p else 0)\n",
    "print( 1 if rand() < p else 0)\n",
    "print( 1 if rand() < p else 0)\n",
    "print( 1 if rand() < p else 0)"
   ]
  },
  {
   "cell_type": "code",
   "execution_count": 4,
   "metadata": {},
   "outputs": [],
   "source": [
    "import numpy as np"
   ]
  },
  {
   "cell_type": "markdown",
   "metadata": {},
   "source": [
    "We can simulate $n$ Bernoulli trials as a List comprehension in Python and convert it to an Numpy array. I print out the first 10 observations for inspection:"
   ]
  },
  {
   "cell_type": "code",
   "execution_count": 5,
   "metadata": {},
   "outputs": [
    {
     "data": {
      "text/plain": [
       "array([1, 0, 1, 1, 1, 0, 1, 1, 1, 1])"
      ]
     },
     "execution_count": 5,
     "metadata": {},
     "output_type": "execute_result"
    }
   ],
   "source": [
    "data = np.array([1 if rand() < p else 0 for _ in range( 100)])\n",
    "data[0:10]"
   ]
  },
  {
   "cell_type": "markdown",
   "metadata": {},
   "source": [
    "There's nothing in particular to \"see\" here. If we have a lot of Bernoulli trials, the first and second moments are:"
   ]
  },
  {
   "cell_type": "code",
   "execution_count": 6,
   "metadata": {},
   "outputs": [
    {
     "name": "stdout",
     "output_type": "stream",
     "text": [
      "m1 0.84\n",
      "m2 0.13440000000000002\n"
     ]
    }
   ],
   "source": [
    "m1 = np.mean( data)\n",
    "m2 = np.var( data)\n",
    "print( \"m1\", m1)\n",
    "print( \"m2\", m2)"
   ]
  },
  {
   "cell_type": "markdown",
   "metadata": {},
   "source": [
    "The Method of Moments estimate of $\\hat{p}$ is:"
   ]
  },
  {
   "cell_type": "code",
   "execution_count": 7,
   "metadata": {},
   "outputs": [
    {
     "name": "stdout",
     "output_type": "stream",
     "text": [
      "p_hat 0.84\n",
      "q_hat 0.16000000000000003\n"
     ]
    }
   ],
   "source": [
    "p_hat = m1\n",
    "q_hat = 1 - p_hat\n",
    "print( \"p_hat\", p_hat)\n",
    "print( \"q_hat\", q_hat)"
   ]
  },
  {
   "cell_type": "markdown",
   "metadata": {},
   "source": [
    "The *mean* of the Bernoulli distribution is $p$ and the variance is $pq = p(1-p)$:"
   ]
  },
  {
   "cell_type": "code",
   "execution_count": 8,
   "metadata": {},
   "outputs": [
    {
     "name": "stdout",
     "output_type": "stream",
     "text": [
      "mean 0.84\n",
      "variance 0.13440000000000002\n"
     ]
    }
   ],
   "source": [
    "mean = p_hat\n",
    "variance = p_hat * q_hat\n",
    "print(\"mean\", p_hat)\n",
    "print(\"variance\", variance)"
   ]
  },
  {
   "cell_type": "markdown",
   "metadata": {},
   "source": [
    "which in this case are equal to the first and second moments of the empirical distribution.\n",
    "\n",
    "The Bernoulli distribution is foundational--especially in the case of repeated Bernoulli trials such as deaths in some medical treatment, clicks or purchases on a website, or successful baskets from the free throw line.\n",
    "\n",
    "If there can be more than two outcomes, then you have a *Multinomial* distribution."
   ]
  }
 ],
 "metadata": {
  "kernelspec": {
   "display_name": "Python 3",
   "language": "python",
   "name": "python3"
  },
  "language_info": {
   "codemirror_mode": {
    "name": "ipython",
    "version": 3
   },
   "file_extension": ".py",
   "mimetype": "text/x-python",
   "name": "python",
   "nbconvert_exporter": "python",
   "pygments_lexer": "ipython3",
   "version": "3.7.0"
  },
  "toc": {
   "colors": {
    "hover_highlight": "#DAA520",
    "navigate_num": "#000000",
    "navigate_text": "#333333",
    "running_highlight": "#FF0000",
    "selected_highlight": "#FFD700",
    "sidebar_border": "#EEEEEE",
    "wrapper_background": "#FFFFFF"
   },
   "moveMenuLeft": true,
   "nav_menu": {
    "height": "30px",
    "width": "252px"
   },
   "navigate_menu": true,
   "number_sections": true,
   "sideBar": true,
   "threshold": 4,
   "toc_cell": false,
   "toc_section_display": "block",
   "toc_window_display": false,
   "widenNotebook": false
  }
 },
 "nbformat": 4,
 "nbformat_minor": 2
}
