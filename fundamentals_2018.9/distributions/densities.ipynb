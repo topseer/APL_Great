{
 "cells": [
  {
   "cell_type": "markdown",
   "metadata": {},
   "source": [
    "## Distributions and Densities\n",
    "\n",
    "So far we have dealt with discrete outcomes (either quantitive or qualititve). As we just showed with height, however, we cannot limit ourselves to discrete outcomes but we also need to deal with continuously valued outcomes. And this presents a bit of a problem.\n",
    "\n",
    "As previously noted, any such $P(A)$ was called a probability distribution where we assigned a probability to each element of $A$. We also discussed how $P(A|B)$ might represent many probability distributions, one for each possible value of B. More specifically, if $A$ is a discrete random variable, $P(A)$ is called a **probability mass function**, PMF. The values of the PMF sum to 1 as per Axiom #2.\n",
    "\n",
    "However, if $A$ has continuous valued outcomes (such as a height measurement), there's a problem because there are an infinite number of such measurements. In a dice roll, there are six equally possible outcomes. If it is a fair die, we can say that the probability of each outcome is $\\frac{1}{6}$ or more generally $\\frac{1}{n}$. But what if $n=\\infty$? What if each height is *uniformally* distributed but there are infinite possibilities? Then the probability of any given outcome (measurement) is $\\frac{1}{\\infty}$ which in the limit is 0. That won't work.\n",
    "\n",
    "So instead of representing continuous random variables as a probability *mass* function, they are represented as a **probability density function** or PDF (no, not a Portable Document Format!). PDFs can be confusing because the y-axis can have extremely small or extremely large numbers...not the relative frequencies we're used to seeing like $\\frac{1}{6}$. The key properties of the PDF are:\n",
    "\n",
    "1. The entire *area* under the curve integrates to 1.\n",
    "2. You can only find the probability for intervals of values, although those intervals can be arbitrarily small.\n",
    "\n",
    "If the y-axis of such a PDF does not specifically say \"Probability Density\" or \"Density\", one clue that you're dealing with a probability _density_ is that the numbers of the y-axis will very often not look like anything that could possibly sum to 1.\n",
    "\n",
    "A related concept (which is only well-defined for random variables that can be ordered) is the *cumulative* mass function (CMF) or cumulative density function (CDF). The CDF shows the probability of observing a particular value of in $A$ *or lower*. CDFs are also important for data analysis (EDA) and add a new tool.\n",
    "\n",
    "Throughout the book, we will find that probability distributions are good for at least three things:\n",
    "\n",
    "1. Modeling data - we can use probability distributions to model height, job completion times, flood height.\n",
    "2. Modeling parameters (signal) - we can use probability distributions to model our uncertainty in the mean height, the completion time rate or the maximum flood height.\n",
    "3. Modeling noise - we can use probability distributions to model either things like measurement error, the unknown or known unknowns or just \"everything else\".\n",
    "\n",
    "And a few others as well as we will have a chance to see.\n",
    "\n",
    "Having dealt with some basic terminology, we now turn to an examination and explanation of an entire \"bestiary\" of probability distributions."
   ]
  }
 ],
 "metadata": {
  "kernelspec": {
   "display_name": "Python 3",
   "language": "python",
   "name": "python3"
  },
  "language_info": {
   "codemirror_mode": {
    "name": "ipython",
    "version": 3
   },
   "file_extension": ".py",
   "mimetype": "text/x-python",
   "name": "python",
   "nbconvert_exporter": "python",
   "pygments_lexer": "ipython3",
   "version": "3.7.0"
  },
  "toc": {
   "colors": {
    "hover_highlight": "#DAA520",
    "navigate_num": "#000000",
    "navigate_text": "#333333",
    "running_highlight": "#FF0000",
    "selected_highlight": "#FFD700",
    "sidebar_border": "#EEEEEE",
    "wrapper_background": "#FFFFFF"
   },
   "moveMenuLeft": true,
   "nav_menu": {
    "height": "30px",
    "width": "252px"
   },
   "navigate_menu": true,
   "number_sections": true,
   "sideBar": true,
   "threshold": 4,
   "toc_cell": false,
   "toc_section_display": "block",
   "toc_window_display": false,
   "widenNotebook": false
  }
 },
 "nbformat": 4,
 "nbformat_minor": 2
}
