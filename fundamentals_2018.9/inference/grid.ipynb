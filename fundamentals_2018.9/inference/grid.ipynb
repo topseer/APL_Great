{
 "cells": [
  {
   "cell_type": "code",
   "execution_count": 1,
   "metadata": {},
   "outputs": [],
   "source": [
    "%matplotlib inline"
   ]
  },
  {
   "cell_type": "code",
   "execution_count": 2,
   "metadata": {},
   "outputs": [],
   "source": [
    "import numpy as np\n",
    "import scipy.stats as stats\n",
    "import seaborn as sns\n",
    "import matplotlib.pyplot as plt\n",
    "\n",
    "sns.set(style=\"whitegrid\")"
   ]
  },
  {
   "cell_type": "markdown",
   "metadata": {},
   "source": [
    "# Grid Method\n",
    "\n",
    "We're actually going to describe the Grid Method first rather than the Exact Method to underscore that this is all just Bayes Rule applied to models (hypotheses, theories, etc) based on data (evidence, observations, etc).\n",
    "\n",
    "We start out with an article that appeared in *The Guardian* on Friday, January 4, 2002:\n",
    "\n",
    "\"When spun on edge 250 times, a Belgian one-euro coin came up heads 140 times and tails 110. 'It looks very suspicious to me,' said Barry Blight, a statistics lecturer at the London School of Economics. 'If the coin were unbiased, the chance of getting a result as extreme as that would be less than 7%.'\n",
    "\n",
    "Let us ignore the final statement for the moment and concentrate on the actual problem.\n",
    "\n",
    "Looking at Bayes Rule,\n",
    "\n",
    "$$P(\\theta|D) = \\frac{P(D|\\theta)P(\\theta)}{P(D)}$$\n",
    "\n",
    "our *general* process is going to be:\n",
    "\n",
    "1. Enumerate the possible hypotheses/models.\n",
    "2. Assign prior probabilities.\n",
    "3. Collect data and calculate likelihoods.\n",
    "4. Combine priors and likelihoods to calculate posterior probabilities.\n",
    "\n",
    "## Enumerate Models\n",
    "\n",
    "If $\\theta$ is our set of models, we know all the values that $\\theta$ could *possibly* take are between $[0.0, 1.0]$ even before we flip the coin. To us, each possible value of $\\theta$ is a *model*. Additionally, the possible realization of any of these models is just an event and therefore we can describe our certainty in each of the models with a probability and thus our certainty over all of the models collectively with a probability distribution. What is the probability of $P(\\theta=0.5)$? $P(\\theta=0.51)$?\n",
    "\n",
    "Looking at every possible real numbered value of $\\theta$ would be a bit exhausting so let's agree that there's not much difference in $\\theta=0.53$ and $\\theta=0.54$. This is the heart of the Grid method. With this simplification, we can concern ourselves with a limited set of possible $\\theta$ values, say, increments of $0.05$ from $[0.0, 1.0]$. This is our enumeration of the possible models (or hypotheses if you like).\n",
    "\n",
    "In code,"
   ]
  },
  {
   "cell_type": "code",
   "execution_count": 3,
   "metadata": {},
   "outputs": [
    {
     "name": "stdout",
     "output_type": "stream",
     "text": [
      "[0.0, 0.05, 0.1, 0.15000000000000002, 0.2, 0.25, 0.30000000000000004, 0.35000000000000003, 0.4, 0.45, 0.5, 0.55, 0.6000000000000001, 0.65, 0.7000000000000001, 0.75, 0.8, 0.8500000000000001, 0.9, 0.9500000000000001, 1.0]\n"
     ]
    }
   ],
   "source": [
    "thetas = [i * 0.05 for i in range( 0, 21)]\n",
    "print(thetas)"
   ]
  },
  {
   "cell_type": "markdown",
   "metadata": {},
   "source": [
    "And here we see the warts of representing real numbers in computers.\n",
    "\n",
    "## Prior Probabilities\n",
    "\n",
    "Given these values of $\\theta$, what prior probabilities should we assign to them? Is it very unlikely that the value of $\\theta=0.0$...I mean it *could* happen What about $\\theta=1.0$? Also unlikely...although the coin could be a gag coin from a magic shop or the Belgians could be playing a trick on us. So we shouldn't rule them out. This is known as [*Cromwell's Rule*](https://en.wikipedia.org/wiki/Cromwell%27s_rule),\n",
    "\n",
    "> I pray beseech you in the bowels of Christ, please consider that you might be wrong.\n",
    "\n",
    "Don't ask.\n",
    "\n",
    "The *prior* probability distribution for $\\theta$, $P(\\theta)$, should encode this knowledge. In general, the only requirement is that we not rule out anything that is possible no matter how improbable. We can just assign a very low probability to unlikely models.\n",
    "\n",
    "So what kind of prior do we want? We generally believe coins are fair unless we have some reason to believe they're not (they look suspicious and may have come from a magic shop, perhaps because they have The Riddler as the \"heads\"). But if someone pulls out a random Euro from their pocket, we tend to think, \"oh, a fair coin\" even if \"fair\" is a somewhat fuzzy notion.\n",
    "\n",
    "Let's use a triangle shaped distribution as our prior where most of the probability will be around $\\theta=0.5$ and the rest will taper off towards $\\theta=0.0$ and $\\theta=1.0$."
   ]
  },
  {
   "cell_type": "code",
   "execution_count": 4,
   "metadata": {},
   "outputs": [
    {
     "name": "stdout",
     "output_type": "stream",
     "text": [
      "theta\tprob()\n",
      "0.00\t0.01\n",
      "0.05\t0.02\n",
      "0.10\t0.02\n",
      "0.15\t0.03\n",
      "0.20\t0.04\n",
      "0.25\t0.05\n",
      "0.30\t0.06\n",
      "0.35\t0.07\n",
      "0.40\t0.07\n",
      "0.45\t0.08\n",
      "0.50\t0.09\n",
      "0.55\t0.08\n",
      "0.60\t0.07\n",
      "0.65\t0.07\n",
      "0.70\t0.06\n",
      "0.75\t0.05\n",
      "0.80\t0.04\n",
      "0.85\t0.03\n",
      "0.90\t0.02\n",
      "0.95\t0.02\n",
      "1.00\t0.01\n"
     ]
    }
   ],
   "source": [
    "priors = [11 - abs( 10 - i) for i in range( 0, 21)]\n",
    "normalizer = sum( priors)\n",
    "priors = [ x / normalizer for x in priors]\n",
    "print( \"theta\\tprob()\")\n",
    "for t, p in zip( thetas, priors):\n",
    "    print( \"%.2f\\t%.2f\" % (t, p))"
   ]
  },
  {
   "cell_type": "markdown",
   "metadata": {},
   "source": [
    "One of the most confusing things about this is that it looks like we're assigning probabilities to probabilities. Don't think about it this way. $\\theta$ is a set of models for a parameter $p$ of a coin flip, described as a Bernoulli process. Each parameter has a priror probability of being true (second column).\n",
    "\n",
    "Here's a function to help us plot these probability distributions:"
   ]
  },
  {
   "cell_type": "code",
   "execution_count": 5,
   "metadata": {},
   "outputs": [],
   "source": [
    "def probability_plot( axes, xs, ys, color):\n",
    "    n = len( xs)\n",
    "    margin = 0.05 * max( xs)\n",
    "    min_x, max_x = min( xs) - margin, max( xs) + margin\n",
    "    min_y, max_y = 0.0, max( ys) * 1.1\n",
    "\n",
    "    axes.vlines( xs, [0.0] * n, ys, color=color, linewidth=5)\n",
    "    axes.set_xlim( [ min_x, max_x])\n",
    "    axes.set_ylim( [ 0.0, 1.0])\n",
    "    \n",
    "    return axes"
   ]
  },
  {
   "cell_type": "code",
   "execution_count": 6,
   "metadata": {},
   "outputs": [
    {
     "data": {
      "image/png": "[encoded data removed]",
      "text/plain": [
       "<Figure size 1440x432 with 1 Axes>"
      ]
     },
     "metadata": {},
     "output_type": "display_data"
    }
   ],
   "source": [
    "figure = plt.figure(figsize=(20,6))\n",
    "\n",
    "axes = figure.add_subplot(1, 3, 1)\n",
    "\n",
    "axes = probability_plot( axes, thetas, priors, \"indianred\")\n",
    "\n",
    "axes.set_title( r\"P($\\theta$)\")\n",
    "axes.set_xlabel( r\"$\\theta$\")\n",
    "axes.set_ylabel( \"probability\")\n",
    "\n",
    "plt.show()\n",
    "plt.close()"
   ]
  },
  {
   "cell_type": "markdown",
   "metadata": {},
   "source": [
    "## Data\n",
    "\n",
    "Next, we have some data, $D=\\{H: 140, T:110\\}$ and we want to know how this data should change our *prior* probability distribution over $\\theta$, our certainty in each mode (value of $\\theta$). We do this through the likelihood, $P(D|\\theta)$.\n",
    "\n",
    "The likehood is the probability of the data given the model. Since the data is fixed, what we're really going to do is go through and calculate the probability of the data for each possible value of $\\theta$ we're interested in. In this particular case, we need to calculate the probability of 140 heads and 110 tails for each of our $\\theta$s. We can do this with the Binomial Distribution:\n",
    "\n",
    "$$X \\sim B(k; n, p) = \\binom{n}{k}p^k(1-p)^{n-k}$$\n",
    "\n",
    "Let's change this to match our problem by turning $p$ into $\\theta$:\n",
    "\n",
    "$$X \\sim B(k; n, \\theta) = \\binom{n}{k}\\theta^k(1-\\theta)^{n-k}$$\n",
    "\n",
    "except that we will keep $k$ and $n$ constant (we know these values) and vary $\\theta$. Basically, for each value of $\\theta$ in our grid, what was the probability of seeing the data, $P(D|\\theta)$?"
   ]
  },
  {
   "cell_type": "code",
   "execution_count": 7,
   "metadata": {},
   "outputs": [
    {
     "name": "stdout",
     "output_type": "stream",
     "text": [
      "theta\tP(d|theta)\n",
      "0.00\t0.0000e+00\n",
      "0.05\t4.8260e-111\n",
      "0.10\t1.7574e-71\n",
      "0.15\t1.4691e-49\n",
      "0.20\t5.7848e-35\n",
      "0.25\t1.7641e-24\n",
      "0.30\t1.0863e-16\n",
      "0.35\t7.3822e-11\n",
      "0.40\t1.4562e-06\n",
      "0.45\t1.4718e-03\n",
      "0.50\t1.0488e-01\n",
      "0.55\t6.0582e-01\n",
      "0.60\t2.7923e-01\n",
      "0.65\t8.5812e-03\n",
      "0.70\t1.1892e-05\n",
      "0.75\t3.6322e-10\n",
      "0.80\t6.6694e-17\n",
      "0.85\t5.8463e-27\n",
      "0.90\t7.4498e-43\n",
      "0.95\t1.1122e-72\n",
      "1.00\t0.0000e+00\n"
     ]
    }
   ],
   "source": [
    "likelihoods = [stats.binom.pmf( 140, 250, t) for t in thetas]\n",
    "normalizer = sum( likelihoods) # because we're not doing the continuous case\n",
    "likelihoods = [ lh / normalizer for lh in likelihoods]\n",
    "print(\"theta\\tP(d|theta)\")\n",
    "for t, lh in zip( thetas, likelihoods):\n",
    "    print(\"%.2f\\t%.4e\" %( t, lh))"
   ]
  },
  {
   "cell_type": "markdown",
   "metadata": {},
   "source": [
    "It is not strictly necessary to normalize the likelihoods because the constant drops out when we normalize at the end. However, it does permit us to demonstrate the differences in the strengths of the prior distribution and the likelihood."
   ]
  },
  {
   "cell_type": "code",
   "execution_count": 8,
   "metadata": {},
   "outputs": [
    {
     "data": {
      "image/png": "[encoded data removed]",
      "text/plain": [
       "<Figure size 1440x432 with 2 Axes>"
      ]
     },
     "metadata": {},
     "output_type": "display_data"
    }
   ],
   "source": [
    "figure = plt.figure(figsize=(20,6))\n",
    "\n",
    "axes = figure.add_subplot(1, 3, 1)\n",
    "\n",
    "axes = probability_plot( axes, thetas, priors, \"steelblue\")\n",
    "axes.set_title( r\"P($\\theta$)\")\n",
    "axes.set_xlabel( r\"$\\theta$\")\n",
    "axes.set_ylabel( \"probability\")\n",
    "\n",
    "axes = figure.add_subplot(1, 3, 2)\n",
    "\n",
    "axes = probability_plot( axes, thetas, likelihoods, \"indianred\")\n",
    "axes.set_title( r\"P(D|$\\theta$)\")\n",
    "axes.set_xlabel( r\"$\\theta$\")\n",
    "axes.set_ylabel( \"probability\")\n",
    "\n",
    "plt.show()\n",
    "plt.close()"
   ]
  },
  {
   "cell_type": "markdown",
   "metadata": {},
   "source": [
    "Relative to our prior, the likelhood is quite striking. While our prior suggests that we consider possible values of $\\theta$ around 0.2 or 0.8, the likehood is quite different and concentrated around 0.5.\n",
    "\n",
    "## Posterior\n",
    "\n",
    "At this point, the problem is not any different than we saw in the Applied Probability section of the Probability chapter. We are essentially multiplying the prior and likelihood for each value of $\\theta$ as if it were the Elvis or M&M problems. We then normalize:"
   ]
  },
  {
   "cell_type": "code",
   "execution_count": 9,
   "metadata": {},
   "outputs": [
    {
     "name": "stdout",
     "output_type": "stream",
     "text": [
      "theta\tP(theta|data)\n",
      "0.00\t0.0000e+00\n",
      "0.05\t9.8405e-112\n",
      "0.10\t5.3751e-72\n",
      "0.15\t5.9911e-50\n",
      "0.20\t2.9489e-35\n",
      "0.25\t1.0792e-24\n",
      "0.30\t7.7526e-17\n",
      "0.35\t6.0211e-11\n",
      "0.40\t1.3362e-06\n",
      "0.45\t1.5005e-03\n",
      "0.50\t1.1762e-01\n",
      "0.55\t6.1765e-01\n",
      "0.60\t2.5622e-01\n",
      "0.65\t6.9990e-03\n",
      "0.70\t8.4870e-06\n",
      "0.75\t2.2219e-10\n",
      "0.80\t3.3998e-17\n",
      "0.85\t2.3842e-27\n",
      "0.90\t2.2786e-43\n",
      "0.95\t2.2679e-73\n",
      "1.00\t0.0000e+00\n"
     ]
    }
   ],
   "source": [
    "posteriors = [ p * lh for p, lh in zip(priors, likelihoods)]\n",
    "normalizer = sum( posteriors)\n",
    "posteriors = [ p / normalizer for p in posteriors]\n",
    "print(\"theta\\tP(theta|data)\")\n",
    "for t, p in zip( thetas, posteriors):\n",
    "    print(\"%.2f\\t%.4e\" %( t, p))"
   ]
  },
  {
   "cell_type": "markdown",
   "metadata": {},
   "source": [
    "And now we can plot all three to see how our prior certainty surrounding the model and the data combine to revise our understanding:"
   ]
  },
  {
   "cell_type": "code",
   "execution_count": 10,
   "metadata": {},
   "outputs": [
    {
     "data": {
      "text/plain": [
       "Text(0,0.5,'probability')"
      ]
     },
     "execution_count": 10,
     "metadata": {},
     "output_type": "execute_result"
    },
    {
     "data": {
      "image/png": "[encoded data removed]",
      "text/plain": [
       "<Figure size 1440x432 with 3 Axes>"
      ]
     },
     "metadata": {},
     "output_type": "display_data"
    }
   ],
   "source": [
    "figure = plt.figure(figsize=(20,6))\n",
    "\n",
    "axes = figure.add_subplot(1, 3, 1)\n",
    "\n",
    "axes = probability_plot( axes, thetas, priors, \"steelblue\")\n",
    "axes.set_title( r\"P($\\theta$)\")\n",
    "axes.set_xlabel( r\"$\\theta$\")\n",
    "axes.set_ylabel( \"probability\")\n",
    "\n",
    "axes = figure.add_subplot(1, 3, 2)\n",
    "\n",
    "axes = probability_plot( axes, thetas, likelihoods, \"indianred\")\n",
    "axes.set_title( r\"P(D|$\\theta$)\")\n",
    "axes.set_xlabel( r\"$\\theta$\")\n",
    "axes.set_ylabel( \"probability\")\n",
    "\n",
    "axes = figure.add_subplot(1, 3, 3)\n",
    "\n",
    "axes = probability_plot( axes, thetas, posteriors, \"slateblue\")\n",
    "axes.set_title( r\"P($\\theta$|D)\")\n",
    "axes.set_xlabel( r\"$\\theta$\")\n",
    "axes.set_ylabel( \"probability\")"
   ]
  },
  {
   "cell_type": "markdown",
   "metadata": {},
   "source": [
    "We can see here that the evidence was quite strong in the face of our prior uncertainty. Over the course of this chapter and text, we'll talk about a variety of ways to use the posterior distribution but one way is to set some kind of *Region of Practical Equivalence* (ROPE) and determine what the probability of that region is.\n",
    "\n",
    "For example, we might decide that from $\\theta=0.45$ to $\\theta=0.55$ is approximately a fair coin. If we look at our posterior distribution for that, we have:\n",
    "\n",
    "| $\\theta$ | $P(\\theta|D)$ |\n",
    "|:------:|:-----------:|\n",
    "| 0.45 | 0.00150051051059 |\n",
    "| 0.50 | 0.117621046234 |\n",
    "| 0.55 | 0.617652656199 |\n",
    "\n",
    "which totals to 73.68%, which may or may not be decisive for our purposes."
   ]
  },
  {
   "cell_type": "markdown",
   "metadata": {},
   "source": [
    "### Priors and Model Checking\n",
    "\n",
    "One thing you might be asking yourself is, why do we even need priors? This is a good question. Sometimes priors are obvious. For example, the coin came from a magic shop and was supposed to be a trick coin with heads coming up 25% of the time. Other times, you have the results of previous experiments or perhaps engineering or analtyical results that suggest a value.\n",
    "\n",
    "And other times, you have no bloody idea whatsoever and all you want to do is not rule anything out (so-called *non-informative* priors which are often--but not always--from a Uniform distribution).\n",
    "\n",
    "In the case that you have *informative* priors, you definitely want to see if the priors make a difference in your results. If they do, then the priors need justification. However, we will see that sometimes the priors just don't matter at all because there's so much data. This is known as \"the tendency for the data to swamp the priors\".\n",
    "\n",
    "Let's see if any of these cases make a difference.\n",
    "\n",
    "**Case 1** - stronger certainty in an unbiased coin.\n",
    "\n",
    "In this case, we're going to re-run everything we just did but with a prior that emphasizes $\\theta$s around 0.5 more strongly."
   ]
  },
  {
   "cell_type": "code",
   "execution_count": 11,
   "metadata": {},
   "outputs": [
    {
     "name": "stdout",
     "output_type": "stream",
     "text": [
      "theta\tP(theta)\n",
      "0.00\t0.01\n",
      "0.05\t0.01\n",
      "0.10\t0.01\n",
      "0.15\t0.01\n",
      "0.20\t0.01\n",
      "0.25\t0.01\n",
      "0.30\t0.01\n",
      "0.35\t0.01\n",
      "0.40\t0.01\n",
      "0.45\t0.22\n",
      "0.50\t0.45\n",
      "0.55\t0.22\n",
      "0.60\t0.01\n",
      "0.65\t0.01\n",
      "0.70\t0.01\n",
      "0.75\t0.01\n",
      "0.80\t0.01\n",
      "0.85\t0.01\n",
      "0.90\t0.01\n",
      "0.95\t0.01\n",
      "1.00\t0.01\n",
      "------\n",
      "theta\tP(theta|data)\n",
      "0.00\t0.0000e+00\n",
      "0.05\t1.4638e-112\n",
      "0.10\t5.3303e-73\n",
      "0.15\t4.4559e-51\n",
      "0.20\t1.7546e-36\n",
      "0.25\t5.3507e-26\n",
      "0.30\t3.2948e-18\n",
      "0.35\t2.2391e-12\n",
      "0.40\t4.4168e-08\n",
      "0.45\t1.7856e-03\n",
      "0.50\t2.5449e-01\n",
      "0.55\t7.3500e-01\n",
      "0.60\t8.4693e-03\n",
      "0.65\t2.6027e-04\n",
      "0.70\t3.6069e-07\n",
      "0.75\t1.1017e-11\n",
      "0.80\t2.0229e-18\n",
      "0.85\t1.7732e-28\n",
      "0.90\t2.2596e-44\n",
      "0.95\t3.3735e-74\n",
      "1.00\t0.0000e+00\n"
     ]
    },
    {
     "data": {
      "text/plain": [
       "Text(0,0.5,'probability')"
      ]
     },
     "execution_count": 11,
     "metadata": {},
     "output_type": "execute_result"
    },
    {
     "data": {
      "image/png": "[encoded data removed]",
      "text/plain": [
       "<Figure size 1440x432 with 3 Axes>"
      ]
     },
     "metadata": {},
     "output_type": "display_data"
    }
   ],
   "source": [
    "# prior\n",
    "priors = [0.25 for i in range( 0, 21)]\n",
    "priors[  9] = 10\n",
    "priors[ 10] = 20\n",
    "priors[ 11] = 10\n",
    "normalizer = sum( priors)\n",
    "priors = [ x / normalizer for x in priors]\n",
    "print( \"theta\\tP(theta)\")\n",
    "for t, p in zip( thetas, priors):\n",
    "    print( \"%.2f\\t%.2f\" % (t, p))\n",
    "\n",
    "# posterior\n",
    "posteriors = [ p * lh for p, lh in zip(priors, likelihoods)]\n",
    "normalizer = sum( posteriors)\n",
    "posteriors = [ p / normalizer for p in posteriors]\n",
    "print(\"------\")\n",
    "print(\"theta\\tP(theta|data)\")\n",
    "for t, p in zip( thetas, posteriors):\n",
    "    print(\"%.2f\\t%.4e\" %( t, p))\n",
    "figure = plt.figure(figsize=(20,6))\n",
    "\n",
    "axes = figure.add_subplot(1, 3, 1)\n",
    "\n",
    "axes = probability_plot( axes, thetas, priors, \"steelblue\")\n",
    "axes.set_title( r\"P($\\theta$)\")\n",
    "axes.set_xlabel( r\"$\\theta$\")\n",
    "axes.set_ylabel( \"probability\")\n",
    "\n",
    "axes = figure.add_subplot(1, 3, 2)\n",
    "\n",
    "axes = probability_plot( axes, thetas, likelihoods, \"indianred\")\n",
    "axes.set_title( r\"P(D|$\\theta$)\")\n",
    "axes.set_xlabel( r\"$\\theta$\")\n",
    "axes.set_ylabel( \"probability\")\n",
    "\n",
    "axes = figure.add_subplot(1, 3, 3)\n",
    "\n",
    "axes = probability_plot( axes, thetas, posteriors, \"slateblue\")\n",
    "axes.set_title( r\"P($\\theta$|D)\")\n",
    "axes.set_xlabel( r\"$\\theta$\")\n",
    "axes.set_ylabel( \"probability\")"
   ]
  },
  {
   "cell_type": "markdown",
   "metadata": {},
   "source": [
    "The results this time are quite striking. We have a strong prior probability for $\\theta=0.5$ with slightly weaker probabilities for both 0.45 and 0.55. However, when we combine this with the evidence, the probability of $\\theta=0.55$ skyrockets.\n",
    "\n",
    "Still there isn't anything hugely amiss here. With a ROPE of $(0.45, 0.55)$, we still have 98% probability instead of 73%. What if our mental model is just completely different?\n",
    "\n",
    "**Case 2** - a biased magic shop coin.\n",
    "\n",
    "What if we were told that our coin was from a magic shop and meant to show tails 75% of the time?"
   ]
  },
  {
   "cell_type": "code",
   "execution_count": 12,
   "metadata": {},
   "outputs": [
    {
     "name": "stdout",
     "output_type": "stream",
     "text": [
      "theta\tP(theta)\n",
      "0.00\t0.01\n",
      "0.05\t0.01\n",
      "0.10\t0.01\n",
      "0.15\t0.01\n",
      "0.20\t0.22\n",
      "0.25\t0.45\n",
      "0.30\t0.22\n",
      "0.35\t0.01\n",
      "0.40\t0.01\n",
      "0.45\t0.01\n",
      "0.50\t0.01\n",
      "0.55\t0.01\n",
      "0.60\t0.01\n",
      "0.65\t0.01\n",
      "0.70\t0.01\n",
      "0.75\t0.01\n",
      "0.80\t0.01\n",
      "0.85\t0.01\n",
      "0.90\t0.01\n",
      "0.95\t0.01\n",
      "1.00\t0.01\n",
      "------\n",
      "theta\tP(theta|data)\n",
      "0.00\t0.0000e+00\n",
      "0.05\t4.8260e-111\n",
      "0.10\t1.7574e-71\n",
      "0.15\t1.4691e-49\n",
      "0.20\t2.3139e-33\n",
      "0.25\t1.4113e-22\n",
      "0.30\t4.3452e-15\n",
      "0.35\t7.3822e-11\n",
      "0.40\t1.4562e-06\n",
      "0.45\t1.4718e-03\n",
      "0.50\t1.0488e-01\n",
      "0.55\t6.0582e-01\n",
      "0.60\t2.7923e-01\n",
      "0.65\t8.5812e-03\n",
      "0.70\t1.1892e-05\n",
      "0.75\t3.6322e-10\n",
      "0.80\t6.6694e-17\n",
      "0.85\t5.8463e-27\n",
      "0.90\t7.4498e-43\n",
      "0.95\t1.1122e-72\n",
      "1.00\t0.0000e+00\n"
     ]
    },
    {
     "data": {
      "text/plain": [
       "Text(0,0.5,'probability')"
      ]
     },
     "execution_count": 12,
     "metadata": {},
     "output_type": "execute_result"
    },
    {
     "data": {
      "image/png": "[encoded data removed]",
      "text/plain": [
       "<Figure size 1440x432 with 3 Axes>"
      ]
     },
     "metadata": {},
     "output_type": "display_data"
    }
   ],
   "source": [
    "# prior\n",
    "priors = [0.25 for i in range( 0, 21)]\n",
    "priors[ 4] = 10\n",
    "priors[ 5] = 20\n",
    "priors[ 6] = 10\n",
    "normalizer = sum( priors)\n",
    "priors = [ x / normalizer for x in priors]\n",
    "print( \"theta\\tP(theta)\")\n",
    "for t, p in zip( thetas, priors):\n",
    "    print( \"%.2f\\t%.2f\" % (t, p))\n",
    "\n",
    "# posterior\n",
    "posteriors = [ p * lh for p, lh in zip(priors, likelihoods)]\n",
    "normalizer = sum( posteriors)\n",
    "posteriors = [ p / normalizer for p in posteriors]\n",
    "print(\"------\")\n",
    "print(\"theta\\tP(theta|data)\")\n",
    "for t, p in zip( thetas, posteriors):\n",
    "    print(\"%.2f\\t%.4e\" %( t, p))\n",
    "figure = plt.figure(figsize=(20,6))\n",
    "\n",
    "axes = figure.add_subplot(1, 3, 1)\n",
    "\n",
    "axes = probability_plot( axes, thetas, priors, \"steelblue\")\n",
    "axes.set_title( r\"P($\\theta$)\")\n",
    "axes.set_xlabel( r\"$\\theta$\")\n",
    "axes.set_ylabel( \"probability\")\n",
    "\n",
    "axes = figure.add_subplot(1, 3, 2)\n",
    "\n",
    "axes = probability_plot( axes, thetas, likelihoods, \"indianred\")\n",
    "axes.set_title( r\"P(D|$\\theta$)\")\n",
    "axes.set_xlabel( r\"$\\theta$\")\n",
    "axes.set_ylabel( \"probability\")\n",
    "\n",
    "axes = figure.add_subplot(1, 3, 3)\n",
    "\n",
    "axes = probability_plot( axes, thetas, posteriors, \"slateblue\")\n",
    "axes.set_title( r\"P($\\theta$|D)\")\n",
    "axes.set_xlabel( r\"$\\theta$\")\n",
    "axes.set_ylabel( \"probability\")"
   ]
  },
  {
   "cell_type": "markdown",
   "metadata": {},
   "source": [
    "Despite our prior probability of $P(\\theta = 0.25) = 0.45$, in the face of the evidence, the probability is 0.15%. This is good. This is exactly how we want this to work. If your prior certainty and the evidence are supporting, we should see a higher posterior certainty. If your prior certainty and the evidence are in conflict, we should see a lower certainty.\n",
    "\n",
    "There are times when we just don't have any information about a process that gives us a good prior. In that case, we can use *uninformative* priors. In most cases (but not all) these are priors from the Uniform distribution:\n",
    "\n",
    "** Case 3 - Uninformative Priors**"
   ]
  },
  {
   "cell_type": "code",
   "execution_count": 13,
   "metadata": {},
   "outputs": [
    {
     "name": "stdout",
     "output_type": "stream",
     "text": [
      "theta\tP(theta)\n",
      "0.00\t0.05\n",
      "0.05\t0.05\n",
      "0.10\t0.05\n",
      "0.15\t0.05\n",
      "0.20\t0.05\n",
      "0.25\t0.05\n",
      "0.30\t0.05\n",
      "0.35\t0.05\n",
      "0.40\t0.05\n",
      "0.45\t0.05\n",
      "0.50\t0.05\n",
      "0.55\t0.05\n",
      "0.60\t0.05\n",
      "0.65\t0.05\n",
      "0.70\t0.05\n",
      "0.75\t0.05\n",
      "0.80\t0.05\n",
      "0.85\t0.05\n",
      "0.90\t0.05\n",
      "0.95\t0.05\n",
      "1.00\t0.05\n",
      "------\n",
      "theta\tP(theta|data)\n",
      "0.00\t0.0000e+00\n",
      "0.05\t4.8260e-111\n",
      "0.10\t1.7574e-71\n",
      "0.15\t1.4691e-49\n",
      "0.20\t5.7848e-35\n",
      "0.25\t1.7641e-24\n",
      "0.30\t1.0863e-16\n",
      "0.35\t7.3822e-11\n",
      "0.40\t1.4562e-06\n",
      "0.45\t1.4718e-03\n",
      "0.50\t1.0488e-01\n",
      "0.55\t6.0582e-01\n",
      "0.60\t2.7923e-01\n",
      "0.65\t8.5812e-03\n",
      "0.70\t1.1892e-05\n",
      "0.75\t3.6322e-10\n",
      "0.80\t6.6694e-17\n",
      "0.85\t5.8463e-27\n",
      "0.90\t7.4498e-43\n",
      "0.95\t1.1122e-72\n",
      "1.00\t0.0000e+00\n"
     ]
    },
    {
     "data": {
      "text/plain": [
       "Text(0,0.5,'probability')"
      ]
     },
     "execution_count": 13,
     "metadata": {},
     "output_type": "execute_result"
    },
    {
     "data": {
      "image/png": "[encoded data removed]",
      "text/plain": [
       "<Figure size 1440x432 with 3 Axes>"
      ]
     },
     "metadata": {},
     "output_type": "display_data"
    }
   ],
   "source": [
    "# prior\n",
    "priors = [1 for i in range( 0, 21)]\n",
    "normalizer = sum( priors)\n",
    "priors = [ x / normalizer for x in priors]\n",
    "print( \"theta\\tP(theta)\")\n",
    "for t, p in zip( thetas, priors):\n",
    "    print( \"%.2f\\t%.2f\" % (t, p))\n",
    "\n",
    "# posterior\n",
    "posteriors = [ p * lh for p, lh in zip(priors, likelihoods)]\n",
    "normalizer = sum( posteriors)\n",
    "posteriors = [ p / normalizer for p in posteriors]\n",
    "print(\"------\")\n",
    "print(\"theta\\tP(theta|data)\")\n",
    "for t, p in zip( thetas, posteriors):\n",
    "    print(\"%.2f\\t%.4e\" %( t, p))\n",
    "figure = plt.figure(figsize=(20,6))\n",
    "\n",
    "axes = figure.add_subplot(1, 3, 1)\n",
    "\n",
    "axes = probability_plot( axes, thetas, priors, \"steelblue\")\n",
    "axes.set_title( r\"P($\\theta$)\")\n",
    "axes.set_xlabel( r\"$\\theta$\")\n",
    "axes.set_ylabel( \"probability\")\n",
    "\n",
    "axes = figure.add_subplot(1, 3, 2)\n",
    "\n",
    "axes = probability_plot( axes, thetas, likelihoods, \"indianred\")\n",
    "axes.set_title( r\"P(D|$\\theta$)\")\n",
    "axes.set_xlabel( r\"$\\theta$\")\n",
    "axes.set_ylabel( \"probability\")\n",
    "\n",
    "axes = figure.add_subplot(1, 3, 3)\n",
    "\n",
    "axes = probability_plot( axes, thetas, posteriors, \"slateblue\")\n",
    "axes.set_title( r\"P($\\theta$|D)\")\n",
    "axes.set_xlabel( r\"$\\theta$\")\n",
    "axes.set_ylabel( \"probability\")"
   ]
  },
  {
   "cell_type": "markdown",
   "metadata": {},
   "source": [
    "Notice that in this case, the posterior is essentially the likelihood. Keep this in mind."
   ]
  },
  {
   "cell_type": "markdown",
   "metadata": {},
   "source": [
    "## More Data\n",
    "\n",
    "We can better understand the origin of priors and the role of data if we consider the possibility of getting more data. Let's repeat the original results:"
   ]
  },
  {
   "cell_type": "code",
   "execution_count": 14,
   "metadata": {},
   "outputs": [
    {
     "name": "stdout",
     "output_type": "stream",
     "text": [
      "theta\tprob()\n",
      "0.00\t0.01\n",
      "0.05\t0.02\n",
      "0.10\t0.02\n",
      "0.15\t0.03\n",
      "0.20\t0.04\n",
      "0.25\t0.05\n",
      "0.30\t0.06\n",
      "0.35\t0.07\n",
      "0.40\t0.07\n",
      "0.45\t0.08\n",
      "0.50\t0.09\n",
      "0.55\t0.08\n",
      "0.60\t0.07\n",
      "0.65\t0.07\n",
      "0.70\t0.06\n",
      "0.75\t0.05\n",
      "0.80\t0.04\n",
      "0.85\t0.03\n",
      "0.90\t0.02\n",
      "0.95\t0.02\n",
      "1.00\t0.01\n",
      "------\n",
      "theta\tP(theta|data)\n",
      "0.00\t0.0000e+00\n",
      "0.05\t9.8405e-112\n",
      "0.10\t5.3751e-72\n",
      "0.15\t5.9911e-50\n",
      "0.20\t2.9489e-35\n",
      "0.25\t1.0792e-24\n",
      "0.30\t7.7526e-17\n",
      "0.35\t6.0211e-11\n",
      "0.40\t1.3362e-06\n",
      "0.45\t1.5005e-03\n",
      "0.50\t1.1762e-01\n",
      "0.55\t6.1765e-01\n",
      "0.60\t2.5622e-01\n",
      "0.65\t6.9990e-03\n",
      "0.70\t8.4870e-06\n",
      "0.75\t2.2219e-10\n",
      "0.80\t3.3998e-17\n",
      "0.85\t2.3842e-27\n",
      "0.90\t2.2786e-43\n",
      "0.95\t2.2679e-73\n",
      "1.00\t0.0000e+00\n"
     ]
    },
    {
     "data": {
      "text/plain": [
       "Text(0,0.5,'probability')"
      ]
     },
     "execution_count": 14,
     "metadata": {},
     "output_type": "execute_result"
    },
    {
     "data": {
      "image/png": "[encoded data removed]",
      "text/plain": [
       "<Figure size 1440x432 with 3 Axes>"
      ]
     },
     "metadata": {},
     "output_type": "display_data"
    }
   ],
   "source": [
    "# prior\n",
    "priors = [11 - abs( 10 - i) for i in range( 0, 21)]\n",
    "normalizer = sum( priors)\n",
    "priors = [ x / normalizer for x in priors]\n",
    "print( \"theta\\tprob()\")\n",
    "for t, p in zip( thetas, priors):\n",
    "    print( \"%.2f\\t%.2f\" % (t, p))\n",
    "\n",
    "# posterior\n",
    "posteriors = [ p * lh for p, lh in zip(priors, likelihoods)]\n",
    "normalizer = sum( posteriors)\n",
    "posteriors = [ p / normalizer for p in posteriors]\n",
    "print(\"------\")\n",
    "print(\"theta\\tP(theta|data)\")\n",
    "for t, p in zip( thetas, posteriors):\n",
    "    print(\"%.2f\\t%.4e\" %( t, p))\n",
    "figure = plt.figure(figsize=(20,6))\n",
    "\n",
    "axes = figure.add_subplot(1, 3, 1)\n",
    "\n",
    "axes = probability_plot( axes, thetas, priors, \"steelblue\")\n",
    "axes.set_title( r\"P($\\theta$)\")\n",
    "axes.set_xlabel( r\"$\\theta$\")\n",
    "axes.set_ylabel( \"probability\")\n",
    "\n",
    "axes = figure.add_subplot(1, 3, 2)\n",
    "\n",
    "axes = probability_plot( axes, thetas, likelihoods, \"indianred\")\n",
    "axes.set_title( r\"P(D|$\\theta$)\")\n",
    "axes.set_xlabel( r\"$\\theta$\")\n",
    "axes.set_ylabel( \"probability\")\n",
    "\n",
    "axes = figure.add_subplot(1, 3, 3)\n",
    "\n",
    "axes = probability_plot( axes, thetas, posteriors, \"slateblue\")\n",
    "axes.set_title( r\"P($\\theta$|D)\")\n",
    "axes.set_xlabel( r\"$\\theta$\")\n",
    "axes.set_ylabel( \"probability\")"
   ]
  },
  {
   "cell_type": "markdown",
   "metadata": {},
   "source": [
    "Now suppose that we get more data, specifically, we flip the coin 250 more times and get 152 heads. There are two ways to handle this. First, we can simply start with our original prior and *pool* the data to calculate the likelihood and posterior or we can use our previous posterior as a prior, calculate the likelihood with only the new data, and calculate a new posterior. Since you prior may come from somewhere else (a paper, report, etc) that you don't have the raw data for, we'll show the second approach.\n",
    "\n",
    "Using the posterior probabilities we just calculated as our new priors, we get the following results:"
   ]
  },
  {
   "cell_type": "code",
   "execution_count": 15,
   "metadata": {},
   "outputs": [
    {
     "name": "stdout",
     "output_type": "stream",
     "text": [
      "theta\tprob()\n",
      "0.00\t0.00\n",
      "0.05\t0.00\n",
      "0.10\t0.00\n",
      "0.15\t0.00\n",
      "0.20\t0.00\n",
      "0.25\t0.00\n",
      "0.30\t0.00\n",
      "0.35\t0.00\n",
      "0.40\t0.00\n",
      "0.45\t0.00\n",
      "0.50\t0.12\n",
      "0.55\t0.62\n",
      "0.60\t0.26\n",
      "0.65\t0.01\n",
      "0.70\t0.00\n",
      "0.75\t0.00\n",
      "0.80\t0.00\n",
      "0.85\t0.00\n",
      "0.90\t0.00\n",
      "0.95\t0.00\n",
      "1.00\t0.00\n",
      "------\n",
      "theta\tP(theta|data)\n",
      "0.00\t0.0000e+00\n",
      "0.05\t1.5830e-238\n",
      "0.10\t2.4676e-155\n",
      "0.15\t5.9232e-109\n",
      "0.20\t7.5017e-78\n",
      "0.25\t2.6430e-55\n",
      "0.30\t2.3857e-38\n",
      "0.35\t1.9483e-25\n",
      "0.40\t1.1065e-15\n",
      "0.45\t1.4662e-08\n",
      "0.50\t9.1014e-04\n",
      "0.55\t3.0678e-01\n",
      "0.60\t6.8486e-01\n",
      "0.65\t7.4586e-03\n",
      "0.70\t1.9394e-07\n",
      "0.75\t3.1643e-15\n",
      "0.80\t2.8067e-27\n",
      "0.85\t1.1274e-45\n",
      "0.90\t3.5371e-75\n",
      "0.95\t4.1190e-131\n",
      "1.00\t0.0000e+00\n"
     ]
    },
    {
     "data": {
      "text/plain": [
       "Text(0,0.5,'probability')"
      ]
     },
     "execution_count": 15,
     "metadata": {},
     "output_type": "execute_result"
    },
    {
     "data": {
      "image/png": "[encoded data removed]",
      "text/plain": [
       "<Figure size 1440x432 with 3 Axes>"
      ]
     },
     "metadata": {},
     "output_type": "display_data"
    }
   ],
   "source": [
    "from copy import deepcopy\n",
    "\n",
    "# prior is previous posterior, already normalized.\n",
    "priors = deepcopy( posteriors)\n",
    "print( \"theta\\tprob()\")\n",
    "for t, p in zip( thetas, priors):\n",
    "    print( \"%.2f\\t%.2f\" % (t, p))\n",
    "\n",
    "# new likelihoods based on new data.\n",
    "likelihoods = [stats.binom.pmf( 152, 250, t) for t in thetas]\n",
    "normalizer = sum( likelihoods) # because we're not doing the continuous case\n",
    "likelihoods = [ lh / normalizer for lh in likelihoods]\n",
    "\n",
    "# posterior\n",
    "posteriors = [ p * lh for p, lh in zip(priors, likelihoods)]\n",
    "normalizer = sum( posteriors)\n",
    "posteriors = [ p / normalizer for p in posteriors]\n",
    "print(\"------\")\n",
    "print(\"theta\\tP(theta|data)\")\n",
    "for t, p in zip( thetas, posteriors):\n",
    "    print(\"%.2f\\t%.4e\" %( t, p))\n",
    "figure = plt.figure(figsize=(20,6))\n",
    "\n",
    "axes = figure.add_subplot(1, 3, 1)\n",
    "\n",
    "axes = probability_plot( axes, thetas, priors, \"steelblue\")\n",
    "axes.set_title( r\"P($\\theta$)\")\n",
    "axes.set_xlabel( r\"$\\theta$\")\n",
    "axes.set_ylabel( \"probability\")\n",
    "\n",
    "axes = figure.add_subplot(1, 3, 2)\n",
    "\n",
    "axes = probability_plot( axes, thetas, likelihoods, \"indianred\")\n",
    "axes.set_title( r\"P(D|$\\theta$)\")\n",
    "axes.set_xlabel( r\"$\\theta$\")\n",
    "axes.set_ylabel( \"probability\")\n",
    "\n",
    "axes = figure.add_subplot(1, 3, 3)\n",
    "\n",
    "axes = probability_plot( axes, thetas, posteriors, \"slateblue\")\n",
    "axes.set_title( r\"P($\\theta$|D)\")\n",
    "axes.set_xlabel( r\"$\\theta$\")\n",
    "axes.set_ylabel( \"probability\")"
   ]
  },
  {
   "cell_type": "markdown",
   "metadata": {},
   "source": [
    "At about 66% for $P(\\theta=0.6|D)$, it's getting more difficult to believe the coin is fair...\n",
    "\n",
    "The Grid Method is a great way to try and understand the basic concepts of Bayesian inference. It shows explicitly how Bayes Rule is used and the roles of priors, likelihoods and how to interpret the prior."
   ]
  }
 ],
 "metadata": {
  "kernelspec": {
   "display_name": "Python 3",
   "language": "python",
   "name": "python3"
  },
  "language_info": {
   "codemirror_mode": {
    "name": "ipython",
    "version": 3
   },
   "file_extension": ".py",
   "mimetype": "text/x-python",
   "name": "python",
   "nbconvert_exporter": "python",
   "pygments_lexer": "ipython3",
   "version": "3.7.0"
  },
  "toc": {
   "colors": {
    "hover_highlight": "#DAA520",
    "navigate_num": "#000000",
    "navigate_text": "#333333",
    "running_highlight": "#FF0000",
    "selected_highlight": "#FFD700",
    "sidebar_border": "#EEEEEE",
    "wrapper_background": "#FFFFFF"
   },
   "moveMenuLeft": true,
   "nav_menu": {
    "height": "138px",
    "width": "252px"
   },
   "navigate_menu": true,
   "number_sections": true,
   "sideBar": true,
   "threshold": 4,
   "toc_cell": false,
   "toc_section_display": "block",
   "toc_window_display": false,
   "widenNotebook": false
  }
 },
 "nbformat": 4,
 "nbformat_minor": 2
}
