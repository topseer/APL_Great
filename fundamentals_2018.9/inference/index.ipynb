{
 "cells": [
  {
   "cell_type": "markdown",
   "metadata": {},
   "source": [
    "# Inference\n",
    "\n",
    "In this chapter we start to look at statistical inference. When doing EDA, you may find interesting relationships and differences. For example, women may be more likely to vote Democrat. During EDA, we try to identify *important* relationships and differences. With statistical inference, we try to determine if they are *credible*.\n",
    "\n",
    "Why do we need to do this?\n",
    "\n",
    "In general, the data we use is but one realization of the process we're analyzing. The data could have turned out differently either because we could obtain a different sample or because the process may produce new observations (if we have a complete census). There is the odd case where we have all the data and do not expect any more. I think it's still worth analyzing the data under the assumption that the process could have proceeded differently and generated different results.\n",
    "\n",
    "As we will see throughout the rest of the text, whenever we use make inferences from data, they are always uncertain and we model this uncertainty with probability. It's models all the way down. This is the Bayesian approach."
   ]
  },
  {
   "cell_type": "markdown",
   "metadata": {
    "nbsphinx-toctree": {}
   },
   "source": [
    "* [Overview](overview.ipynb)\n",
    "* [Grid Method](grid.ipynb)\n",
    "* [Exact Method](exact.ipynb)\n",
    "* [Monte Carlo Method](monte_carlo.ipynb)\n",
    "* [Bootstrap Method](bootstrap.ipynb)\n",
    "* [Frequentist Inference and Bayes](frequentist.ipynb)\n",
    "* [Applications](applications.ipynb)\n",
    "* [Conclusion](conclusion.ipynb)"
   ]
  }
 ],
 "metadata": {
  "celltoolbar": "Edit Metadata",
  "kernelspec": {
   "display_name": "Python 3",
   "language": "python",
   "name": "python3"
  },
  "language_info": {
   "codemirror_mode": {
    "name": "ipython",
    "version": 3
   },
   "file_extension": ".py",
   "mimetype": "text/x-python",
   "name": "python",
   "nbconvert_exporter": "python",
   "pygments_lexer": "ipython3",
   "version": "3.7.0"
  },
  "toc": {
   "colors": {
    "hover_highlight": "#DAA520",
    "navigate_num": "#000000",
    "navigate_text": "#333333",
    "running_highlight": "#FF0000",
    "selected_highlight": "#FFD700",
    "sidebar_border": "#EEEEEE",
    "wrapper_background": "#FFFFFF"
   },
   "moveMenuLeft": true,
   "nav_menu": {
    "height": "48px",
    "width": "252px"
   },
   "navigate_menu": true,
   "number_sections": true,
   "sideBar": true,
   "threshold": 4,
   "toc_cell": false,
   "toc_section_display": "block",
   "toc_window_display": false,
   "widenNotebook": false
  }
 },
 "nbformat": 4,
 "nbformat_minor": 2
}
