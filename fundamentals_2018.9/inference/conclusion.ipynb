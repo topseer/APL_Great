{
 "cells": [
  {
   "cell_type": "markdown",
   "metadata": {},
   "source": [
    "# Conclusion\n",
    "\n",
    "This chapter covered a lot of ground. Inference is difficult and inexact.\n",
    "\n",
    "Although there are several different approaches to inference, we presented the Bayesian approach here. We summarize the approach overall as,\n",
    "\n",
    "> In the forward direction, we have a model, $\\theta$, and we use it to deduce the probabilities of events given a probability distribution. In the reverse direction, I have events and infer a probability distribution over possible models, $\\theta$s.\n",
    "\n",
    "The main reasons for using Bayesian inference are:\n",
    "\n",
    "1. It is more general than other approaches (multiple models, more general domains, etc.)\n",
    "2. In the 21st century, Bayesian approaches simply aren't difficult anymore.\n",
    "3. The posterior distribution is richer to work with and makes more intuitive sense than either p-values or (Frequentist) confidence intervals.\n",
    "\n",
    "We can always at least do something similar to a p-value or confidence interval if we want but the posterior distribution leaves room for a more thorough analysis.\n",
    "\n",
    "We described several approaches to Bayesian inference:\n",
    "\n",
    "1. Grid Method\n",
    "2. Exact Method\n",
    "3. Monte Carlo Method\n",
    "4. Bootstrap Method\n",
    "\n",
    "The first three are simply the application of Bayes Rule. The equivalence of the Bootstrap and a Bayesian posterior distribution is a surprisingly convenient result if we're willing to assume a uniform prior.\n",
    "\n",
    "We concentrate on the Bootstrap throughout the remainder of the text because:\n",
    "\n",
    "1. It is quick and simple.\n",
    "2. It has general applicability. We'll can use it for A/B tests or evaluating regression coefficients.\n",
    "3. We don't need to specify or assume any particular distributional form, we use the empirical distribution directly.\n",
    "\n",
    "However, we acknowledge a few things:\n",
    "\n",
    "1. It is a limited form of Bayesian inference because we do not specify distributional forms or priors.\n",
    "2. It must be interpreted carefully at the boundaries. Without a prior, it will give zero probabilities for things that are not, strictly speaking, impossible.\n",
    "3. For more complicated and or sophisticated modeling, we may need to return to Monte Carlo methods.\n",
    "\n",
    "Finally, we must acknowledge that Bayesian, Frequentist or other, there is no magic bullet that solves the problem of induction. It will never be certain.\n",
    "\n",
    "We closed out the chapter to examining problems in statistical inference that occur with great regularity:\n",
    "\n",
    "1. Comparing two boolean $\\theta$s.\n",
    "2. Comparing two real valued $\\theta$s.\n",
    "3. Comparing a boolean $\\theta$ to a hypothesized or analytical value.\n",
    "4. Comparing a real valued $\\theta$ to a hypothesized or analytical value.\n",
    "\n",
    "We showed how to use the Bootstrap to conduct inference for those problems and that with the Bootstrap because we need not specify a distributional form, they're all pretty much the same. For first two, the $theta$s often come from either one or groups in your data or as we shall see later, two or more results when comparing two models. For the last two, the hypothesized value might come from a suggestion, a past value or an idealized value.\n",
    "\n",
    "We didn't cover everything. Bayesian statistics is very deep and can be applied to a lot of different problems. The main thing we did not cover is model *checking*. We are, in essence, building a model of our $theta$ using the posterior distribution calculated from the data. We generally want to test all of our models, even models of statistical inference."
   ]
  },
  {
   "cell_type": "markdown",
   "metadata": {},
   "source": [
    "## Review\n",
    "\n",
    "1. Why is inference a problem?\n",
    "2. How do we use probabilities in a deductive way? What kinds of problems can that solve? Is this controversial?\n",
    "3. What are the two basic concepts in the Bayesian approach to inference?\n",
    "4. Describe the Grid method to Bayesian inference. How is this just the application of Bayes Rule?\n",
    "5. Describe the Exact method to Bayesian inference. How is this just the application of Bayes Rule? Why was the Exact method considered such a stumbling block to adoption of Bayesian inference for centuries?\n",
    "6. Describe the Monte Carlo method of Bayesian inference. How does the Monte Carlo method get around the general intractability of the Exact method?\n",
    "7. Summarize the Bootstrap and the steps required to get from the Bootstrap to a Bayesian posterior distribution and Bayesian inference.\n",
    "8. Why is Frequentist inference often described as a *process* rather than a *result*?\n",
    "8. What is the Frequentist p-value? What do people often think it means?\n",
    "9. What is the Frequentist 95% confidence interval? What do people often think it means?\n",
    "10. What are the four common problems in inference?\n",
    "\n",
    "In a previous chapter, we learned how to generate synthetic data from Mathematical distributions. You can use this technique to study how inference works and sometimes doesn't work. Concentrating on the first two general problems in inference (which, when we use the Bootstrap, are really the same), you can do conduct three sets of experiments:\n",
    "\n",
    "1. generate two samples using the same $\\theta$ (for example, the same $p$ in a series of Bernoulli trial). Is the Bootstrap able to discern that the $p$ is the same? What happens has you change $p$ in ways that affect the variance? What happens when you increase the sample sizes? Use different distributions, parameters, etc.\n",
    "2. generate two samples using two different $\\theta$s (you don't have to stick with Bernoulli trials, you can pick $\\theta$ as a mean and or variance from a Normal distribution). Here we have multiple things to investigate, basically, how do:\n",
    "    1. the distance/difference between $\\theta$s,\n",
    "    2. variance\n",
    "    3. and sample size\n",
    "\n",
    "interact and affect your ability to arrive at valid inferences?"
   ]
  }
 ],
 "metadata": {
  "kernelspec": {
   "display_name": "Python 3",
   "language": "python",
   "name": "python3"
  },
  "language_info": {
   "codemirror_mode": {
    "name": "ipython",
    "version": 3
   },
   "file_extension": ".py",
   "mimetype": "text/x-python",
   "name": "python",
   "nbconvert_exporter": "python",
   "pygments_lexer": "ipython3",
   "version": "3.7.0"
  },
  "toc": {
   "colors": {
    "hover_highlight": "#DAA520",
    "navigate_num": "#000000",
    "navigate_text": "#333333",
    "running_highlight": "#FF0000",
    "selected_highlight": "#FFD700",
    "sidebar_border": "#EEEEEE",
    "wrapper_background": "#FFFFFF"
   },
   "moveMenuLeft": true,
   "nav_menu": {
    "height": "48px",
    "width": "252px"
   },
   "navigate_menu": true,
   "number_sections": true,
   "sideBar": true,
   "threshold": 4,
   "toc_cell": false,
   "toc_section_display": "block",
   "toc_window_display": false,
   "widenNotebook": false
  }
 },
 "nbformat": 4,
 "nbformat_minor": 2
}
