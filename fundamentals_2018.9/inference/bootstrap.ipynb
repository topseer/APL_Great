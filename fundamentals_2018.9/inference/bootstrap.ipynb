{
 "cells": [
  {
   "cell_type": "code",
   "execution_count": 1,
   "metadata": {},
   "outputs": [],
   "source": [
    "%matplotlib inline"
   ]
  },
  {
   "cell_type": "code",
   "execution_count": 2,
   "metadata": {},
   "outputs": [],
   "source": [
    "import numpy as np\n",
    "import scipy.stats as stats\n",
    "import seaborn as sns\n",
    "import matplotlib.pyplot as plt\n",
    "\n",
    "sns.set(style=\"whitegrid\")"
   ]
  },
  {
   "cell_type": "markdown",
   "metadata": {},
   "source": [
    "# Bootstrap Method\n",
    "\n",
    "At its heart, the Bootstrap Method is a resampling technique. Why is that good and how does it connect to Bayesian inference? Isn't sampling a Frequentist thing?\n",
    "\n",
    "We've taken great pains so far to motivate why uncertainty arises in our modeling efforts. We've distinguished between the accounting view of \"sales\" and the data science view of \"sales\". In data science, we're interested in learning about how the process of sales works and the accountant wants to meet Federal regulations on reporting. \n",
    "\n",
    "In order to understand and predict the process, we create models of it. These models are simplifications for a variety of reason: we may not know all the factors involved (\"unknown unknowns\"), we may not be able to measure all the factors involved (\"known unknowns\") and in a chaotic or non-linear process, even the \"known knowns\" may not be sufficient for prediction. The models involve measurements and these measurements may be of outcomes (\"sales\") or parameters (\"click rate\"). All of these factors conspire to create uncertainty in and about our models. As a result, we use probability in our models to handle this uncertainty (sometimes implicitly, sometimes not).\n",
    "\n",
    "Our estimates of the outcomes and parameters are based on our concrete data set, our observations. This brings in more uncertainty because inference is never certain. We thus have uncertainty *about* oure models. If we had observed something different in February 2017, our estimates would be different and so would our understanding of what drives sales or our predictions about sales in April. So, although our view of \"sales in February 2017\" is different than the accountant's, we both only have sales for February 2017. Our observations are but one set of observations of the process we're interested in. \n",
    "\n",
    "So it would be really nice if we had more data. If we had more data, specifically, more data sets, we could repeatedly calculate our estimates of the process outcomes and parameters multiple times and create empirical distributions of them. This would give us a better idea of just how accurate our model is or our confident we are in it. So how do we get more data sets?\n",
    "\n",
    "There are a number of ways to get more data sets. First, we could wait for another month to go by, and another and another...soon we have sales for March and April as well. This leads to its own problems because maybe all Februaries have a certain pattern and so we need another set of data for February which would require us to wait a year. Second, if this really is a sample from a population--perhaps a survey--we could get another sample. In almost all cases where a sample was obtained from a population, it is because it was expensive to conduct a census of the population so getting another sample is probably expensive as well so that avenue to more data is probably blocked. Finally, in some cases, we *do* have a census of the population and the process is over. We might be studying the Enron emails looking for patterns. That situation only happened once, it's not going to happen again and we have all emails there ever were and ever are going to be.\n",
    "\n",
    "Is there nothing we can do?\n",
    "\n",
    "Well, what if you could treat your sample--the data you actually have--as if it were the population? You could repeatedly sample from it--just like you would if you had a population to sample from. If we resampled from our data, for each sample, we can calculate new values for the outcomes and parameters, estimate their distribution and get a better idea of the uncertainty associated with our model. But this is just $P(\\theta|D)$, the posterior distribution of our models given the data, in this case, resampled data. So based on a single sample, we move directly to the posterior distribution of our models? That almost sounds like we've lifted ourselves up by our own, ahem, bootstraps. \n",
    "\n",
    "Can we really do this? Yes, we can. In order to demonstrate why, we will marshall a few theoretical and empirical results that enable us to connect the dots between a single sample and an empirical estimate of the posterior distribution, $P(\\theta|D)$.\n",
    "\n",
    "Before we begin, there is an important caveat. The data must be \"independently and identically distributed\" (often abbreviated \"i.i.d.\") or \"exchangable\". If observation #17 depends on observation #2, then this approach won't work. If observation #17 can be exchanged for observation #2 in the data set (the order of presentation or collection doesn't matter), then we can do this. Actually, this assumption is generally the required for much of statistical inference. This means that these approaches will not work for things like time series data or relational data.\n",
    "\n",
    "**\\#1. The Law of Large Numbers**\n",
    "\n",
    "The Law of Large Numbers states that as your data grows, any empirical estimator (mean, cumulative distribution, etc.) approaches the population value asymptotically fast (the accuracy increases faster than the sample size increases). We have a special interest in the cumulative distribution, because this means that the larger your data set (\"sample\") gets, the more representative it is of the reference population's distribution. Note that this doesn't get you out of bias, a biased sample is still biased...but it does represent the biased reference population more closely, the larger the sample is.\n",
    "\n",
    "What the Law of Large Numbers does then is open us up to using a resampling techniques like the Bootstrap. The Bootstrap basically says, treat your sample like a population and take random samples from it with replacement. The Law of Large Numbers says why it works.\n",
    "\n",
    "That seems simple enough, let's do that with our coin. We had 140 heads and 110 tails. Let's generate the raw data for this with $tails = 0$ and $heads = 1$:"
   ]
  },
  {
   "cell_type": "code",
   "execution_count": 3,
   "metadata": {},
   "outputs": [],
   "source": [
    "np.random.seed( 1873467825)"
   ]
  },
  {
   "cell_type": "code",
   "execution_count": 4,
   "metadata": {},
   "outputs": [
    {
     "name": "stdout",
     "output_type": "stream",
     "text": [
      "[1, 1, 0, 0, 0, 1, 0, 0, 0, 1]\n",
      "0.56\n"
     ]
    }
   ],
   "source": [
    "sample = [0] * 110 + [1] * 140\n",
    "np.random.shuffle( sample)\n",
    "print( sample[0:10])\n",
    "print( np.mean( sample))"
   ]
  },
  {
   "cell_type": "markdown",
   "metadata": {},
   "source": [
    "There's the 56% that caused such concern...but this is just one estimate of $p$.\n",
    "\n",
    "Now, Numpy has a function that does exactly what we want for resampling called [`choice`](https://docs.scipy.org/doc/numpy/reference/generated/numpy.random.choice.html):"
   ]
  },
  {
   "cell_type": "code",
   "execution_count": 5,
   "metadata": {},
   "outputs": [
    {
     "name": "stdout",
     "output_type": "stream",
     "text": [
      "[1 0 0 0 1 1 0 0 1 0]\n",
      "0.604\n"
     ]
    }
   ],
   "source": [
    "resample1 = np.random.choice( sample, size=len(sample), replace=True)\n",
    "print( resample1[0:10])\n",
    "print( np.mean( resample1))"
   ]
  },
  {
   "cell_type": "markdown",
   "metadata": {},
   "source": [
    "That time it was different, another possible value of $p$.\n",
    "\n",
    "Let's try it again:"
   ]
  },
  {
   "cell_type": "code",
   "execution_count": 6,
   "metadata": {},
   "outputs": [
    {
     "name": "stdout",
     "output_type": "stream",
     "text": [
      "[1 1 1 1 1 1 0 0 1 1]\n",
      "0.544\n"
     ]
    }
   ],
   "source": [
    "resample2 = np.random.choice( sample, size=len(sample), replace=True)\n",
    "print( resample2[0:10])\n",
    "print( np.mean( resample2))"
   ]
  },
  {
   "cell_type": "markdown",
   "metadata": {},
   "source": [
    "and it was different again and still another potential value of $p$. Hmm, what good is this?\n",
    "\n",
    "**\\#2. Resampling permits us to estimate distributions for parameters**\n",
    "\n",
    "What we would like to do in the real world is have a reference population available of everything that could happen with our process, draw a random sample, calculate the mean, draw a random sample, calculate the mean, draw a random sample, calculate the mean. When we're done, we have a distribution of our estimate for the mean that gives us a sense of our uncertainty about it. Uh, except we only have one sample. Oh, wait. We just said the Law of Large Numbers lets us use the sample as a population.\n",
    "\n",
    "Because of this we can resample to our hearts content and generate distributions for our parameter estimates (but they're still just *estimates* of those distributions...they're just improving.)\n",
    "\n",
    "Let's do it. We'll do this 10,000 times and draw up the histogram of the values of $p$."
   ]
  },
  {
   "cell_type": "code",
   "execution_count": 7,
   "metadata": {
    "scrolled": false
   },
   "outputs": [
    {
     "name": "stdout",
     "output_type": "stream",
     "text": [
      "[0.528 0.512 0.572 0.512 0.54  0.564 0.572 0.5   0.548 0.532 0.576 0.572\n",
      " 0.548 0.528 0.548 0.524 0.624 0.536 0.544 0.524]\n",
      "mean 0.5598376\n"
     ]
    },
    {
     "data": {
      "text/plain": [
       "Text(0.5,1,'Distribution')"
      ]
     },
     "execution_count": 7,
     "metadata": {},
     "output_type": "execute_result"
    },
    {
     "data": {
      "image/png": "[encoded data removed]",
      "text/plain": [
       "<Figure size 432x432 with 1 Axes>"
      ]
     },
     "metadata": {},
     "output_type": "display_data"
    }
   ],
   "source": [
    "sample_thetas = np.array([np.mean( sample) for sample in [np.random.choice( sample, size=len(sample), replace=True) for i in range( 0, 10000)]])\n",
    "print( sample_thetas[ 0:20])\n",
    "print( \"mean\", np.mean( sample_thetas))\n",
    "\n",
    "ys, bins = np.histogram( sample_thetas, bins=10, density=True)\n",
    "width = 0.7*(bins[ 1] - bins[ 0])\n",
    "center = (bins[ :-1]+bins[1:])/2\n",
    "\n",
    "figure = plt.figure(figsize=(6,6))\n",
    "\n",
    "axes = figure.add_subplot(1, 1, 1)\n",
    "\n",
    "axes.bar( center, ys, align='center', width=width, color=\"slateblue\", alpha=0.8)\n",
    "axes.set_xlim([0, 1])\n",
    "axes.set_xlabel( r\"$\\theta$\")\n",
    "axes.set_title( \"Distribution\")"
   ]
  },
  {
   "cell_type": "markdown",
   "metadata": {},
   "source": [
    "Here's the posterior distribution with an uninformative prior using the Grid Method:"
   ]
  },
  {
   "cell_type": "code",
   "execution_count": 8,
   "metadata": {
    "scrolled": false
   },
   "outputs": [
    {
     "data": {
      "text/plain": [
       "Text(0,0.5,'probability')"
      ]
     },
     "execution_count": 8,
     "metadata": {},
     "output_type": "execute_result"
    },
    {
     "data": {
      "image/png": "[encoded data removed]",
      "text/plain": [
       "<Figure size 1440x432 with 3 Axes>"
      ]
     },
     "metadata": {},
     "output_type": "display_data"
    }
   ],
   "source": [
    "def probability_plot( axes, xs, ys, color):\n",
    "    n = len( xs)\n",
    "    margin = 0.05 * max( xs)\n",
    "    min_x, max_x = min( xs) - margin, max( xs) + margin\n",
    "    min_y, max_y = 0.0, max( ys) * 1.1\n",
    "\n",
    "    axes.vlines( xs, [0.0] * n, ys, color=color, alpha=0.8, linewidth=5)\n",
    "    axes.set_xlim( [ min_x, max_x])\n",
    "    axes.set_ylim( [ 0.0, 0.4])\n",
    "    \n",
    "    return axes\n",
    "# def\n",
    "\n",
    "thetas = [i * 0.025 for i in range( 0, 41)]\n",
    "# prior\n",
    "priors = [1 for i in range( 0, 41)]\n",
    "normalizer = sum( priors)\n",
    "priors = [ x / normalizer for x in priors]\n",
    "\n",
    "# likelihoods\n",
    "likelihoods = [stats.binom.pmf( 140, 250, t) for t in thetas]\n",
    "normalizer = sum( likelihoods) # because we're not doing the continuous case\n",
    "likelihoods = [ lh / normalizer for lh in likelihoods]\n",
    "\n",
    "# posterior\n",
    "posteriors = [ p * lh for p, lh in zip(priors, likelihoods)]\n",
    "normalizer = sum( posteriors)\n",
    "posteriors = [ p / normalizer for p in posteriors]\n",
    "\n",
    "figure = plt.figure(figsize=(20,6))\n",
    "\n",
    "axes = figure.add_subplot(1, 3, 1)\n",
    "\n",
    "axes = probability_plot( axes, thetas, priors, \"steelblue\")\n",
    "axes.set_title( r\"P($\\theta$)\")\n",
    "axes.set_xlabel( r\"$\\theta$\")\n",
    "axes.set_ylabel( \"probability\")\n",
    "\n",
    "axes = figure.add_subplot(1, 3, 2)\n",
    "\n",
    "axes = probability_plot( axes, thetas, likelihoods, \"indianred\")\n",
    "axes.set_title( r\"P(D|$\\theta$)\")\n",
    "axes.set_xlabel( r\"$\\theta$\")\n",
    "axes.set_ylabel( \"probability\")\n",
    "\n",
    "axes = figure.add_subplot(1, 3, 3)\n",
    "\n",
    "axes = probability_plot( axes, thetas, posteriors, \"slateblue\")\n",
    "axes.set_title( r\"P($\\theta$|D)\")\n",
    "axes.set_xlabel( r\"$\\theta$\")\n",
    "axes.set_ylabel( \"probability\")"
   ]
  },
  {
   "cell_type": "markdown",
   "metadata": {},
   "source": [
    "Notice how close the correspondence between the posterior distribution $P(\\theta|D)$ in the third chart and the resampling distribution of $\\theta$ from the Bootstrap is (the two purple bar charts). There's a reason for that.\n",
    "\n",
    "**\\#3. The Bootstrap approximates the Maximum Likelihood estimate of the parameter**\n",
    "\n",
    "And thus the likelihood distribution of said parameter.\n",
    "\n",
    "When we talked about Mathematical Distributions, we talked about estimating parameters. The method we used to estimate parameters was called the Method of Moments. At the time, we mentioned that there were other approaches. These approaches include Least Squares and Maximum Likelihood estimates.\n",
    "\n",
    "The Maximum Likelihood estimate turns the likelihood $P(D|\\theta)$ on its head. Instead of asking \"what's the probability of the data given the model\", it asks \"what value of the model makes the data most likely?\". This generalizes into a Maximum Likelihood distribution for a parameter. Based on the theorems so far, we can use the Bootstrap to estimate the Maximum Likelihood estimate and distribution directly. This is a boon because there are estimators for which we would like Maximum Likelihood estimates but for which we do not have formulas or we have formulas without closed form solutions.\n",
    "\n",
    "And this leads us to the final step."
   ]
  },
  {
   "cell_type": "markdown",
   "metadata": {},
   "source": [
    "**\\#4. The Bootstrap approximates the posterior distribution of a parameter with a uniform prior**\n",
    "\n",
    "We can already see above that this is true but why is it true?\n",
    "\n",
    "If you have a Uniform distribution for your prior, the posterior is all about the data--the likelihood. We can see that above in the charts for the Exact Method. The charts for $P(D|\\theta)$ and $P(\\theta|D)$ are identical. This is *only* case where it is true that:\n",
    "\n",
    "$$P(\\theta=t_i|D) = \\frac{P(D|\\theta=t_i)}{P(D)}$$\n",
    "\n",
    "where $P(D) = \\sum_t P(D|\\theta=t_i)$. Why? Here's Bayes Rule, parameterized for each hypothesis $i$:\n",
    "\n",
    "$$P(\\theta=t_i|D) = \\frac{P(D|\\theta=t_i)P(\\theta=t_i)}{P(D)}$$\n",
    "\n",
    "By the Rule of Total Probability,\n",
    "\n",
    "$$P(\\theta=t_i|D) = \\frac{P(D|\\theta=t_i)P(\\theta=t_i)}{P(D|\\theta=t_1)P(\\theta=t_1) + P(D|\\theta=t_2)(P\\theta=t_2) + ... +  P(D|\\theta=t_i)P(\\theta=t_i) + ... + P(D|\\theta=t_n)P(\\theta=t_n)}$$\n",
    "\n",
    "but the prior probability is uniform so:\n",
    "\n",
    "$$P(\\theta=t_1) = P(\\theta=t_2) = ... = P(\\theta=t_i) = ... = P(\\theta=t_n)$$\n",
    "\n",
    "so we can factor it out. It also doesn't matter what name we give it so let's call it $P(\\theta=t_i)$:\n",
    "\n",
    "$$P(\\theta|D) = \\frac{P(D|\\theta=t_i)P(\\theta=t_i)}{P(\\theta=t_i) \\times (P(D|\\theta=t_1) + P(D|\\theta=t_2) + ... +  P(D|\\theta=t_i) + ... + P(D|\\theta=t_n))}$$\n",
    "\n",
    "which is also the constant in the numerator $P(\\theta=t_i)$, so it cancels out:\n",
    "\n",
    "$$P(\\theta=t_i|D) = \\frac{P(D|\\theta=t_i)}{P(D|\\theta=t_1) + P(D|\\theta=t_2) + ... +  P(D|\\theta=t_i) + ... + P(D|\\theta=t_n)}$$\n",
    "\n",
    "and the denominator is just the normalizing constant, $P(D)$, which in this case is:\n",
    "\n",
    "$$P(D) = (P(D|\\theta=t_1) + P(D|\\theta=t_2) + ... +  P(D|\\theta=t_i) + ... + P(D|\\theta=t_n) = \\sum P(D|\\theta=t_i)$$\n",
    "\n",
    "so we have:\n",
    "\n",
    "$$P(\\theta=t_i|D) = \\frac{P(D|\\theta=t_i)}{\\sum P(D|\\theta=t_i)}$$\n",
    "\n",
    "The upshot is that:\n",
    "\n",
    "$$P(\\theta=t_i|D) \\propto P(D|\\theta=t_i)$$\n",
    "\n",
    "or the posterior is proportional to the likelihood.\n",
    "\n",
    "It's worth noting that quite independent of this discussion, there is a tendency for the data to swamp the prior anyway. With enough data, it doesn't even matter that your prior was uniform. Of course, you may need to check to see if this is true of *your* data set."
   ]
  },
  {
   "cell_type": "markdown",
   "metadata": {},
   "source": [
    "## Why use the Bootstrap?\n",
    "\n",
    "So in this text, we're almost always going to use the Bootstrap (technically, The Non-Parametric Bootstrap). Why use it instead of the others?\n",
    "\n",
    "First, it doesn't require you to specify a mathematical form for your posterior distribution. You can use the empirical one. Second, it doesn't require you to figure out a prior and then a way to represent your prior in a tractable way. Third, it's fast and easy.\n",
    "\n",
    "It's not all beer and skittles. There are downsides to the Bootstrap. First, in general, you should have 30 or more observations (although I've heard statisticians claim that it works \"unexpectedly well with 10-15 observations\") so let's say 10-30 observations. Second, it has bad estimates for the tails. If 0 didn't show up your data, it's not going to show up in a Bootstrap sample. This means that you have to be a little cautious in interpreting Bootstrap posteriors because they simply drop off at the edges. Still, the only reason Exact or Monte Carlo posteriors *don't* drop off at the edges is because of their priors. Finally, if you *do* have informative priors, you either have to use the *Parametric* Bootstrap or one of the other methods (at this point, I'd move to Monte Carlo methods).\n",
    "\n",
    "I would use the Bootstrap most of the time, especially for fast and easy data analysis to get sense for the claims about parameters that the data support. If I need to refine my estimates or if I have good priors, I'd move to Monte Carlo methods. If I was doing actual Bayesian modeling, I'd use Monte Carlo methods. Additionally, if I had actually \"Big Data\" I'd use Monte Carlo methods although my understanding is that, at least at one point, Facebook used Bootstrap estimates for A/B testing.\n",
    "\n",
    "As MacElreath is fond of saying, \"we're not launching space shuttles here.\" In the everyday world, which often violates key assumptions like stationarity anyway, a quick estimate is just as good as an exact estimate. In any case, we will use the Bootstrap throughout this text and will explain the rationale for any deviation from it."
   ]
  }
 ],
 "metadata": {
  "kernelspec": {
   "display_name": "Python 3",
   "language": "python",
   "name": "python3"
  },
  "language_info": {
   "codemirror_mode": {
    "name": "ipython",
    "version": 3
   },
   "file_extension": ".py",
   "mimetype": "text/x-python",
   "name": "python",
   "nbconvert_exporter": "python",
   "pygments_lexer": "ipython3",
   "version": "3.7.0"
  },
  "toc": {
   "colors": {
    "hover_highlight": "#DAA520",
    "navigate_num": "#000000",
    "navigate_text": "#333333",
    "running_highlight": "#FF0000",
    "selected_highlight": "#FFD700",
    "sidebar_border": "#EEEEEE",
    "wrapper_background": "#FFFFFF"
   },
   "moveMenuLeft": true,
   "nav_menu": {
    "height": "48px",
    "width": "252px"
   },
   "navigate_menu": true,
   "number_sections": true,
   "sideBar": true,
   "threshold": 4,
   "toc_cell": false,
   "toc_section_display": "block",
   "toc_window_display": false,
   "widenNotebook": false
  }
 },
 "nbformat": 4,
 "nbformat_minor": 2
}
