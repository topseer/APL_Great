{
 "cells": [
  {
   "cell_type": "markdown",
   "metadata": {},
   "source": [
    "# Models\n",
    "\n",
    "A *statistic* is any number you can calculate from your data. It can be a count, an \"average\", a percent, a difference, a rate, etc. So, for example, you might calculate total sales for February. That's a statistic. One conceptual stumbling block for many--and for a long time this included myself--is, \"the accountant down the hall just made the same calculation. Why is my statistic also a *model*?\n",
    "\n",
    "Although the specifics differ, the general answer to that question is that, your accountant is interested in reporting. They must report the sales to shareholders, they must pay taxes on the sales, or they need to inform managers of how well their sales teams did.\n",
    "\n",
    "When doing data science, on the other hand, the goal is to use that statistic as a model to find some regularity or relationship because we want to understand the system or process sufficiently to:\n",
    "\n",
    "1. extrapolate from the specific to the general.\n",
    "2. predict the future from the past.\n",
    "\n",
    "The first case is an example of the typical \"take a random sample to understand the population\" type of experimentation. We might only look at a random subset of our users because the full data is to large (or the data we have is theoretically a random sample of all possible users). The second case is when we want to look at February's purchase rate and say something about April's purchase rate. Both of these are very different from the accountant's way of looking at and using the same numbers.\n",
    "\n",
    "And what are those numbers?\n",
    "\n",
    "1. **Counts** - we're very often interested in counts. What was the count of customer service phone calls during an hour? What was the count of museum visitors by country? What is the number of customers last month or the number of trial accounts during the last quarter. These are often called **totals** as well in cases where count doesn't quite apply or seems weird. For example, we say \"total dollars\" not \"the count of dollars\".\n",
    "2. **Averages** - Averages are just counts divided by some equalizing or normalizing factor. For example, we might take sales for last year and divide by 12 months to get \"sales per month\". Averages are thus closely allied with **rates** or **frequencies** (\"how oftens\" not radio frequencies!).\n",
    "3. **Percents** or **Percentages** - We may be interested in a part/whole relationship such as the percent of site visitors who make a purchase or the percent of customers who are women. Again, these tend to bleed into the other statistics as we can talk about the percent of trial accounts that converted to paid accounts which is called a \"Conversion Rate\". Rates are often multipled by 100 so that that 0.02 is often expressed as a rate of 2.0. And, of course, we often do this when we write percents as \"2%\" or \"2 percent\". In different contexts, **percents** are often called **relative** frequencies\n",
    "\n",
    "Perhaps the dirtiest secret of Data Science is that most organizations who are just starting out in data science only really need these kinds of statistics and an emailed report (and not a real time dashboard). Think of the CoNVO from the previous chapter...what is the problem--lack of knowledge--that we're trying to solve with math, statistics and programming?"
   ]
  }
 ],
 "metadata": {
  "kernelspec": {
   "display_name": "Python 3",
   "language": "python",
   "name": "python3"
  },
  "language_info": {
   "codemirror_mode": {
    "name": "ipython",
    "version": 3
   },
   "file_extension": ".py",
   "mimetype": "text/x-python",
   "name": "python",
   "nbconvert_exporter": "python",
   "pygments_lexer": "ipython3",
   "version": "3.7.0"
  },
  "toc": {
   "colors": {
    "hover_highlight": "#DAA520",
    "navigate_num": "#000000",
    "navigate_text": "#333333",
    "running_highlight": "#FF0000",
    "selected_highlight": "#FFD700",
    "sidebar_border": "#EEEEEE",
    "wrapper_background": "#FFFFFF"
   },
   "moveMenuLeft": true,
   "nav_menu": {
    "height": "30px",
    "width": "252px"
   },
   "navigate_menu": true,
   "number_sections": true,
   "sideBar": true,
   "threshold": 4,
   "toc_cell": false,
   "toc_section_display": "block",
   "toc_window_display": false,
   "widenNotebook": false
  }
 },
 "nbformat": 4,
 "nbformat_minor": 2
}
