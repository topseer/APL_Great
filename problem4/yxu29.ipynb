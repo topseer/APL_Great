{
 "cells": [
  {
   "cell_type": "code",
   "execution_count": 74,
   "metadata": {},
   "outputs": [],
   "source": [
    "%matplotlib inline"
   ]
  },
  {
   "cell_type": "code",
   "execution_count": 75,
   "metadata": {},
   "outputs": [],
   "source": [
    "import numpy as np\n",
    "import time\n",
    "import seaborn as sns\n",
    "import matplotlib.pyplot as plt\n",
    "import scipy.stats as stats\n",
    "\n",
    "sns.set(style=\"whitegrid\")"
   ]
  },
  {
   "cell_type": "markdown",
   "metadata": {},
   "source": [
    "# Problem Set 4 (covers Lab 7)\n",
    "\n",
    "## Directions\n",
    "\n",
    "1. Show all work/steps/calculations using a combination of code and Markdown. You will submit only this notebook named: [jhed_id].ipynb back to Blackboard from whence you downloaded it. Do not return the data to me.\n",
    "2. **All** work is to be your own. This is not a group project. You may, however, use code from the lectures and labs. Provide citations for any code that is not your own. You may also consult Stackoverflow, etc. This is not by any means \"closed book\" or anything like that. Basically, I need to see if *you* learned the concepts from the Lectures, *Fundamentals*, and Labs.\n",
    "3. Add whatever markdown or code cells you need in each part to explain and calculate your answers. Don't just provide answers but explain them as well. **Explain and interpret your results.**"
   ]
  },
  {
   "cell_type": "markdown",
   "metadata": {},
   "source": [
    "## Introduction\n",
    "\n",
    "Lab 7 was all about statistical inference, specifically, Bayesian statistical inference. You will use Bayesian inference on four  problems for this Problem Set [Goto Q1](#q1). You can paste all your code here:"
   ]
  },
  {
   "cell_type": "code",
   "execution_count": null,
   "metadata": {},
   "outputs": [],
   "source": []
  },
  {
   "cell_type": "markdown",
   "metadata": {},
   "source": [
    "<a id=\"q1\"></a>\n",
    "**Question 1.**\n",
    "\n",
    "Fifteen volunteers were put on the Supper Dooper Human Kibble Diet(tm) for a month. They were weighed before and after 30 days. The makers of Supper Dooper Human Kibble Diet(tm) are anxious to see the results of this study because they are planning to offer a money back guarantee of \"Lose 10 Pounds in 30 days or your money back!\".\n",
    "\n",
    "Based on the data, \n",
    "\n",
    "1. what is the probability that this claim can be made? \n",
    "2. If daily weight fluctuations can equal 5 pounds (in either direction). How probable is it that the diet doesn't work?\n",
    "3. Is there a positive claim can be made with at least ~66% belief?"
   ]
  },
  {
   "cell_type": "code",
   "execution_count": 35,
   "metadata": {},
   "outputs": [],
   "source": [
    "data1 = {}\n",
    "data1[\"start\"] = [129, 174, 200, 229, 205, 133, 143, 222, 161, 201, 194, 181, 185, 126, 212]\n",
    "data1[\"end\"] = [134, 171, 190, 227, 206, 130, 129, 218, 138, 187, 191, 177, 183, 124, 205]\n"
   ]
  },
  {
   "cell_type": "markdown",
   "metadata": {},
   "source": [
    "### What is the probability that this claim can be made? \n",
    "\n",
    "The method is from the Statistical Inference notebook. \n",
    "1. resample the observations \n",
    "2. calculate and plot the difference\n",
    "3. calculate the probability of the difference >= 10 "
   ]
  },
  {
   "cell_type": "code",
   "execution_count": 36,
   "metadata": {},
   "outputs": [],
   "source": [
    "import random\n",
    "\n",
    "def resample( data):\n",
    "    n = len( data)    \n",
    "    return [ data[ i] for i in [random.randint(0, n - 1) for _ in range( 0, n)]]"
   ]
  },
  {
   "cell_type": "code",
   "execution_count": 37,
   "metadata": {
    "scrolled": true
   },
   "outputs": [
    {
     "name": "stdout",
     "output_type": "stream",
     "text": [
      "P(difference >= 10 Pounds) 0.3611\n"
     ]
    }
   ],
   "source": [
    "data1[\"start\"] = np.array(data1[\"start\"])\n",
    "data1[\"end\"] = np.array(data1[\"end\"])\n",
    "\n",
    "data = {}\n",
    "data[ \"start\"] = np.array([np.mean( data) for data in [resample( data1[ \"start\"]) for i in range( 0, 10000)]])\n",
    "data[ \"end\"] = np.array([np.mean( data) for data in [resample( data1[ \"end\"]) for i in range( 0, 10000)]])\n",
    "\n",
    "data[ \"difference\"] = data[ \"start\"] - data[ \"end\"]\n",
    "\n",
    "print (\"P(difference >= 10 Pounds)\", np.mean( data[ \"difference\"] >= 10))"
   ]
  },
  {
   "cell_type": "code",
   "execution_count": 39,
   "metadata": {},
   "outputs": [
    {
     "data": {
      "text/plain": [
       "Text(0.5,1,'Difference')"
      ]
     },
     "execution_count": 39,
     "metadata": {},
     "output_type": "execute_result"
    },
    {
     "data": {
      "image/png": "[encoded data removed]",
      "text/plain": [
       "<Figure size 1440x432 with 1 Axes>"
      ]
     },
     "metadata": {},
     "output_type": "display_data"
    }
   ],
   "source": [
    "figure = plt.figure(figsize=(20,6))\n",
    "\n",
    "ys, bins = np.histogram( data[ \"difference\"], bins=10, density=True)\n",
    "width = 0.7*(bins[ 1] - bins[ 0])\n",
    "center = (bins[ :-1]+bins[1:])/2\n",
    "\n",
    "axes = figure.add_subplot(1, 3, 3)\n",
    "\n",
    "axes.bar( center, ys, align='center', width=width, color=\"steelblue\", alpha=0.8)\n",
    "axes.set_xlim([-50.0, 50.0])\n",
    "axes.set_xlabel( r\"$\\theta_2 - \\theta_1$\")\n",
    "axes.set_title( \"Difference\")"
   ]
  },
  {
   "cell_type": "markdown",
   "metadata": {},
   "source": [
    "### If daily weight fluctuations can equal 5 pounds (in either direction). How probable is it that the diet doesn't work?"
   ]
  },
  {
   "cell_type": "markdown",
   "metadata": {},
   "source": [
    "1. Make a flucturation of 5 pounds in the Resample function as the daily weight fluctuations can equal 5 pounds. \n",
    "2. Resample \n",
    "3. Calculate the probability "
   ]
  },
  {
   "cell_type": "code",
   "execution_count": 76,
   "metadata": {},
   "outputs": [],
   "source": [
    "import random\n",
    "\n",
    "def resample( data):\n",
    "    n = len( data)\n",
    "    flucturation = (random.randint(0,1) - 1)* 5\n",
    "    return [ data[ i] + flucturation for i in [random.randint(0, n - 1) for _ in range( 0, n)]]"
   ]
  },
  {
   "cell_type": "code",
   "execution_count": 20,
   "metadata": {
    "scrolled": true
   },
   "outputs": [
    {
     "name": "stdout",
     "output_type": "stream",
     "text": [
      "P(difference >= 10 Pounds) 0.3677\n"
     ]
    }
   ],
   "source": [
    "data2 = {}\n",
    "data2[ \"start\"] = np.array([np.mean( data) for data in [resample( data1[ \"start\"]) for i in range( 0, 10000)]])\n",
    "data2[ \"end\"] = np.array([np.mean( data) for data in [resample( data1[ \"end\"]) for i in range( 0, 10000)]])\n",
    "data2[ \"difference\"] = data2[ \"start\"] - data2[ \"end\"]\n",
    "\n",
    "print (\"P(difference >= 10 Pounds)\", np.mean( data2[ \"difference\"] >= 10))"
   ]
  },
  {
   "cell_type": "markdown",
   "metadata": {},
   "source": [
    "### Is there a positive claim can be made with at least ~66% belief?\n",
    "1. Yes. Because at the 66% belief, the difference is bigger than 10 "
   ]
  },
  {
   "cell_type": "code",
   "execution_count": 22,
   "metadata": {},
   "outputs": [
    {
     "data": {
      "text/plain": [
       "array([-46.73333333,  10.86666667])"
      ]
     },
     "execution_count": 22,
     "metadata": {},
     "output_type": "execute_result"
    }
   ],
   "source": [
    "stats.mstats.mquantiles( data2[ \"difference\"], [0.0, 0.66])"
   ]
  },
  {
   "cell_type": "markdown",
   "metadata": {},
   "source": [
    "**Question 2.**\n",
    "\n",
    "The Acme Company has developed a new battery. The engineer in charge claims that the new battery will operate continuously for at least 7 minutes longer than the old battery.\n",
    "\n",
    "To test the claim, the company selects a simple random sample of 100 new batteries and 100 old batteries. The data is provided below.\n",
    "\n",
    "Based on the data,\n",
    "\n",
    "1. Test the engineer's claim that the new batteries run at least 7 minutes longer than the old. \n",
    "2. If plus or minus 5 minutes is \"equivalent\", what is the probability that the batteries have the same operating life?"
   ]
  },
  {
   "cell_type": "code",
   "execution_count": 23,
   "metadata": {},
   "outputs": [],
   "source": [
    "data2 = {}\n",
    "data2[\"old\"] = [161, 184, 138, 178, 188, 175, 195, 214, 183, 184, 195, 196, 150, 206, 185, 202, 216, 186, 153, 174, 217, 217, 178, 172, 205, 192, 172, 222, 197, 174, 163, 206, 176, 176, 230, 202, 267, 186, 190, 200, 182, 160, 225, 185, 205, 213, 189, 171, 166, 239, 170, 198, 198, 198, 211, 194, 197, 212, 194, 236, 163, 218, 221, 189, 182, 182, 202, 172, 165, 180, 214, 186, 191, 179, 191, 204, 209, 212, 141, 188, 193, 192, 185, 199, 144, 146, 231, 201, 177, 191, 197, 182, 174, 231, 202, 195, 161, 187, 181, 186]\n",
    "data2[\"new\"] = [196, 245, 196, 243, 181, 161, 173, 151, 148, 195, 247, 164, 167, 234, 200, 215, 204, 190, 148, 127, 174, 135, 231, 199, 125, 138, 140, 206, 139, 177, 260, 231, 173, 172, 178, 224, 186, 115, 144, 222, 189, 107, 239, 124, 216, 169, 212, 262, 145, 221, 179, 192, 142, 232, 171, 233, 287, 216, 188, 156, 169, 238, 128, 155, 202, 174, 229, 198, 192, 169, 156, 238, 178, 220, 177, 191, 234, 251, 166, 123, 144, 127, 203, 230, 203, 188, 185, 255, 239, 227, 173, 196, 208, 236, 194, 204, 217, 252, 169, 166]"
   ]
  },
  {
   "cell_type": "markdown",
   "metadata": {},
   "source": [
    "#### Create a Resample function. "
   ]
  },
  {
   "cell_type": "code",
   "execution_count": 77,
   "metadata": {},
   "outputs": [],
   "source": [
    "import random\n",
    "\n",
    "def resample( data):\n",
    "    n = len( data)    \n",
    "    return [ data[ i] for i in [random.randint(0, n - 1) for _ in range( 0, n)]]"
   ]
  },
  {
   "cell_type": "markdown",
   "metadata": {},
   "source": [
    "### Test the engineer's claim that the new batteries run at least 7 minutes longer than the old.\n",
    "1. Resample the data\n",
    "2. Calculate the difference \n",
    "3. Plot the difference"
   ]
  },
  {
   "cell_type": "code",
   "execution_count": 45,
   "metadata": {},
   "outputs": [
    {
     "name": "stdout",
     "output_type": "stream",
     "text": [
      "-0.511457\n"
     ]
    }
   ],
   "source": [
    "data2[\"old\"] = np.array(data2[\"old\"])\n",
    "data2[\"new\"] = np.array(data2[\"new\"])\n",
    "\n",
    "data = {}\n",
    "data[ \"old\"] = np.array([np.mean( data) for data in [resample( data2[ \"old\"]) for i in range( 0, 10000)]])\n",
    "data[ \"new\"] = np.array([np.mean( data) for data in [resample( data2[ \"new\"]) for i in range( 0, 10000)]])\n",
    "\n",
    "data[ \"difference\"] = data[ \"new\"] - data[ \"old\"]\n",
    "print(np.average(data[ \"difference\"]))"
   ]
  },
  {
   "cell_type": "code",
   "execution_count": 42,
   "metadata": {},
   "outputs": [
    {
     "data": {
      "text/plain": [
       "Text(0.5,1,'Difference')"
      ]
     },
     "execution_count": 42,
     "metadata": {},
     "output_type": "execute_result"
    },
    {
     "data": {
      "image/png": "[encoded data removed]",
      "text/plain": [
       "<Figure size 1440x432 with 1 Axes>"
      ]
     },
     "metadata": {},
     "output_type": "display_data"
    }
   ],
   "source": [
    "figure = plt.figure(figsize=(20,6))\n",
    "\n",
    "ys, bins = np.histogram( data[ \"difference\"], bins=10, density=True)\n",
    "width = 0.7*(bins[ 1] - bins[ 0])\n",
    "center = (bins[ :-1]+bins[1:])/2\n",
    "\n",
    "axes = figure.add_subplot(1, 3, 3)\n",
    "\n",
    "axes.bar( center, ys, align='center', width=width, color=\"steelblue\", alpha=0.8)\n",
    "axes.set_xlim([-20.0, 20.0])\n",
    "axes.set_xlabel( r\"$\\theta_2 - \\theta_1$\")\n",
    "axes.set_title( \"Difference\")"
   ]
  },
  {
   "cell_type": "code",
   "execution_count": 43,
   "metadata": {},
   "outputs": [
    {
     "name": "stdout",
     "output_type": "stream",
     "text": [
      "P(difference >= 7 minutes) 0.0462\n",
      "95% CI [-9.2319  8.0819]\n"
     ]
    }
   ],
   "source": [
    "print (\"P(difference >= 7 minutes)\", np.mean( data[ \"difference\"] >= 7))\n",
    "print (\"95% CI\", stats.mstats.mquantiles( data[ \"difference\"], [0.025, 0.975]))"
   ]
  },
  {
   "cell_type": "markdown",
   "metadata": {},
   "source": [
    "The probability that the new battery lasts 7 minutes longer is very low. Also, the 95% confident interval cross 0, we cannot make make a conclusion that the new battery lasts longer than the old one. "
   ]
  },
  {
   "cell_type": "markdown",
   "metadata": {},
   "source": [
    "### If plus or minus 5 minutes is \"equivalent\", what is the probability that the batteries have the same operating life?"
   ]
  },
  {
   "cell_type": "code",
   "execution_count": null,
   "metadata": {},
   "outputs": [],
   "source": [
    "data = {}\n",
    "data[ \"old\"] = np.array([np.mean( data) for data in [resample( data2[ \"old\"]) for i in range( 0, 10000)]])\n",
    "data[ \"new\"] = np.array([np.mean( data) for data in [resample( data2[ \"new\"]) for i in range( 0, 10000)]])\n",
    "\n",
    "data[ \"difference\"] = data[ \"new\"] - data[ \"old\"]"
   ]
  },
  {
   "cell_type": "code",
   "execution_count": 59,
   "metadata": {},
   "outputs": [
    {
     "name": "stdout",
     "output_type": "stream",
     "text": [
      "P(difference within 5 minutes) 0.7309\n"
     ]
    }
   ],
   "source": [
    "print (\"P(difference within 5 minutes)\", np.mean((data[ \"difference\"] > -5) & (data[ \"difference\"] < 5)))"
   ]
  },
  {
   "cell_type": "markdown",
   "metadata": {},
   "source": [
    "**Question 3.**\n",
    "\n",
    "In a recent survey, on an important question of economic revitalization, men and women responded as follows:\n",
    "\n",
    "```\n",
    "                   Response\n",
    "                     Yes  No  Total\n",
    "       Gender    Men  30  70  100\n",
    "               Women  45  55  100\n",
    "```\n",
    "\n",
    "Based on the data, what is the probability that the women were in favor of the question? "
   ]
  },
  {
   "cell_type": "code",
   "execution_count": 78,
   "metadata": {},
   "outputs": [],
   "source": [
    "survey = {}\n",
    "survey[\"Men\"] = np.array([1] * 30 + [0] * 70)\n",
    "survey[\"Women\"] = np.array([1] * 45 + [0] * 55)"
   ]
  },
  {
   "cell_type": "markdown",
   "metadata": {},
   "source": [
    "Again, we are going to resample the sample data. "
   ]
  },
  {
   "cell_type": "code",
   "execution_count": 79,
   "metadata": {},
   "outputs": [],
   "source": [
    "survey[ \"Men\"] = np.array([np.mean( data) for data in [resample( survey[ \"Men\"]) for i in range( 0, 10000)]])\n",
    "survey[ \"Women\"] = np.array([np.mean( data) for data in [resample( survey[ \"Women\"]) for i in range( 0, 10000)]])\n",
    "survey[ \"difference\"] = survey[ \"Women\"] - survey[ \"Men\"]"
   ]
  },
  {
   "cell_type": "markdown",
   "metadata": {},
   "source": [
    "Calculate the difference and plot the data"
   ]
  },
  {
   "cell_type": "code",
   "execution_count": 80,
   "metadata": {},
   "outputs": [
    {
     "data": {
      "text/plain": [
       "Text(0.5,1,'Difference')"
      ]
     },
     "execution_count": 80,
     "metadata": {},
     "output_type": "execute_result"
    },
    {
     "data": {
      "image/png": "[encoded data removed]",
      "text/plain": [
       "<Figure size 1440x432 with 3 Axes>"
      ]
     },
     "metadata": {},
     "output_type": "display_data"
    }
   ],
   "source": [
    "ys, bins = np.histogram( survey[ \"Men\"], bins=10, density=True)\n",
    "width = 0.7*(bins[ 1] - bins[ 0])\n",
    "center = (bins[ :-1]+bins[1:])/2\n",
    "\n",
    "figure = plt.figure(figsize=(20,6))\n",
    "\n",
    "axes = figure.add_subplot(1, 3, 1)\n",
    "\n",
    "axes.bar( center, ys, align='center', width=width, color=\"steelblue\", alpha=0.8)\n",
    "axes.set_xlim([0, 1])\n",
    "axes.set_xlabel( r\"$\\theta_1$\")\n",
    "axes.set_title( \"Men\")\n",
    "\n",
    "ys, bins = np.histogram( survey[ \"Women\"], bins=10, density=True)\n",
    "width = 0.7*(bins[ 1] - bins[ 0])\n",
    "center = (bins[ :-1]+bins[1:])/2\n",
    "\n",
    "axes = figure.add_subplot(1, 3, 2)\n",
    "\n",
    "axes.bar( center, ys, align='center', width=width, color=\"steelblue\", alpha=0.8)\n",
    "axes.set_xlim([0, 1])\n",
    "axes.set_xlabel( r\"$\\theta_2$\")\n",
    "axes.set_title( \"Women\")\n",
    "\n",
    "ys, bins = np.histogram( survey[ \"difference\"], bins=10, density=True)\n",
    "width = 0.7*(bins[ 1] - bins[ 0])\n",
    "center = (bins[ :-1]+bins[1:])/2\n",
    "\n",
    "axes = figure.add_subplot(1, 3, 3)\n",
    "\n",
    "axes.bar( center, ys, align='center', width=width, color=\"steelblue\", alpha=0.8)\n",
    "axes.set_xlim([0, 1])\n",
    "axes.set_xlabel( r\"$\\theta_2 - \\theta_1$\")\n",
    "axes.set_title( \"Difference\")"
   ]
  },
  {
   "cell_type": "code",
   "execution_count": 83,
   "metadata": {},
   "outputs": [
    {
     "name": "stdout",
     "output_type": "stream",
     "text": [
      "P(difference > 0 ) 0.9846\n",
      "95% CI [0.02 0.28]\n"
     ]
    }
   ],
   "source": [
    "print (\"P(difference > 0 )\", np.mean( survey[ \"difference\"] > 0.0))\n",
    "print (\"95% CI\", stats.mstats.mquantiles( survey[ \"difference\"], [0.025, 0.975]))"
   ]
  },
  {
   "cell_type": "markdown",
   "metadata": {},
   "source": [
    "The probability that women is in favor of the survery is 98.5%. The 95% CI is between 0.02 and 0.28"
   ]
  },
  {
   "cell_type": "markdown",
   "metadata": {},
   "source": [
    "**Question 4.**\n",
    "\n",
    "In the above question you were able to regenerate the data. In the case of a continuous numeric variable, we're not exactly able to do this. However, given a parameterization and some assumptions about the underlying distribution, there are two possible approaches to solving this problem.\n",
    "\n",
    "1. We could generate a single sample of size N from the distribution and do M bootstrap samples. (Method 1).\n",
    "2. We could generate M samples of size N directly from the distribution. (Method 2).\n",
    "\n",
    "Compare these approaches with the following problem:\n",
    "\n",
    "\"Within a school district, students were randomly assigned to one of two Math teachers - Mrs. Smith and Mrs. Jones. After the assignment, Mrs. Smith had 30 students, and Mrs. Jones had 25 students.\n",
    "\n",
    "\"At the end of the year, each class took the same standardized test. Mrs. Smith's students had an average test score of 78, with a standard deviation of 10; and Mrs. Jones' students had an average test score of 85, with a standard deviation of 15.\n",
    "\n",
    "\"What is the probability that Mrs. Smith and Mrs. Jones are equally effective teachers.\"\n",
    "\n",
    "Using N = 100 and M = 100:\n",
    "\n",
    "1. Define what \"equally effective might mean\".\n",
    "2. Answer the question using Method 1.\n",
    "3. Answer the question using Method 2.\n",
    "4. Comment on any observed similarities or differences between the two results."
   ]
  },
  {
   "cell_type": "markdown",
   "metadata": {},
   "source": [
    "\"equally effective\" might mean that there is no difference in the average score between two classes at a certain confidence level "
   ]
  },
  {
   "cell_type": "markdown",
   "metadata": {},
   "source": [
    "### Method 1 (assume the average test score follows a normal distribution)"
   ]
  },
  {
   "cell_type": "markdown",
   "metadata": {},
   "source": [
    "Step 1: generate a single sample of size N"
   ]
  },
  {
   "cell_type": "code",
   "execution_count": 120,
   "metadata": {},
   "outputs": [],
   "source": [
    "scores = {}\n",
    "scores[\"Smith\"] =np.random.normal(78, 10, 30)\n",
    "scores[\"Jones\"] =np.random.normal(85, 15, 25)"
   ]
  },
  {
   "cell_type": "markdown",
   "metadata": {},
   "source": [
    "Step 2: do M bootstrap samples"
   ]
  },
  {
   "cell_type": "code",
   "execution_count": 121,
   "metadata": {},
   "outputs": [],
   "source": [
    "scores1={}\n",
    "scores1[\"Smith\"] = np.array([np.mean( data) for data in [resample( scores[\"Smith\"]) for i in range( 0, 500)]])\n",
    "scores1[\"Jones\"] = np.array([np.mean( data) for data in [resample( scores[\"Jones\"]) for i in range( 0, 500)]])"
   ]
  },
  {
   "cell_type": "markdown",
   "metadata": {},
   "source": [
    "Step 3: calculate the difference, probability and confidence intervals"
   ]
  },
  {
   "cell_type": "code",
   "execution_count": 122,
   "metadata": {},
   "outputs": [
    {
     "name": "stdout",
     "output_type": "stream",
     "text": [
      "P(difference > 0 ) 0.038\n",
      "95% CI [-11.73803151   0.60422096]\n"
     ]
    }
   ],
   "source": [
    "scores1[\"difference\"] = scores1[\"Smith\"]  - scores1[\"Jones\"]\n",
    "print (\"P(difference > 0 )\", np.mean( scores1[ \"difference\"] > 0.0))\n",
    "print (\"95% CI\", stats.mstats.mquantiles( scores1[ \"difference\"], [0.025, 0.975]))"
   ]
  },
  {
   "cell_type": "markdown",
   "metadata": {},
   "source": [
    "The probability that there is a significant difference between two classes is small. The 95% confidence interval is between -11 and 0.6"
   ]
  },
  {
   "cell_type": "markdown",
   "metadata": {},
   "source": [
    "### Method 2 (assume the average test score follows a normal distribution)"
   ]
  },
  {
   "cell_type": "markdown",
   "metadata": {},
   "source": [
    "Step 1: generate M samples of size N"
   ]
  },
  {
   "cell_type": "code",
   "execution_count": 123,
   "metadata": {},
   "outputs": [],
   "source": [
    "scores = {}\n",
    "M = 500\n",
    "scores[\"Smith\"] =np.random.normal(78, 10, 500)\n",
    "scores[\"Jones\"] =np.random.normal(85, 15, 500)"
   ]
  },
  {
   "cell_type": "markdown",
   "metadata": {},
   "source": [
    "Step 2: calculate the difference, probability and confidence intervals"
   ]
  },
  {
   "cell_type": "code",
   "execution_count": 124,
   "metadata": {},
   "outputs": [
    {
     "name": "stdout",
     "output_type": "stream",
     "text": [
      "P(difference > 0 ) 0.334\n",
      "95% CI [-44.79763946  31.10463748]\n"
     ]
    }
   ],
   "source": [
    "scores[\"difference\"] = scores[\"Smith\"]  - scores[\"Jones\"]\n",
    "print (\"P(difference > 0 )\", np.mean( scores[ \"difference\"] > 0.0))\n",
    "print (\"95% CI\", stats.mstats.mquantiles( scores[ \"difference\"], [0.025, 0.975]))"
   ]
  },
  {
   "cell_type": "markdown",
   "metadata": {},
   "source": [
    "The probability that there is a significant difference between two classes is still small. The 95% confidence interval is between -44 and 31. We still cannot say there is significant difference between two groups. "
   ]
  }
 ],
 "metadata": {
  "kernelspec": {
   "display_name": "Python 3",
   "language": "python",
   "name": "python3"
  },
  "language_info": {
   "codemirror_mode": {
    "name": "ipython",
    "version": 3
   },
   "file_extension": ".py",
   "mimetype": "text/x-python",
   "name": "python",
   "nbconvert_exporter": "python",
   "pygments_lexer": "ipython3",
   "version": "3.6.5"
  },
  "toc": {
   "colors": {
    "hover_highlight": "#DAA520",
    "navigate_num": "#000000",
    "navigate_text": "#333333",
    "running_highlight": "#FF0000",
    "selected_highlight": "#FFD700",
    "sidebar_border": "#EEEEEE",
    "wrapper_background": "#FFFFFF"
   },
   "moveMenuLeft": true,
   "nav_menu": {
    "height": "66px",
    "width": "252px"
   },
   "navigate_menu": true,
   "number_sections": true,
   "sideBar": true,
   "threshold": 4,
   "toc_cell": false,
   "toc_section_display": "block",
   "toc_window_display": false,
   "widenNotebook": false
  }
 },
 "nbformat": 4,
 "nbformat_minor": 2
}
