{
 "cells": [
  {
   "cell_type": "markdown",
   "metadata": {},
   "source": [
    "# Lab 7 - Inference"
   ]
  },
  {
   "cell_type": "code",
   "execution_count": 2,
   "metadata": {},
   "outputs": [],
   "source": [
    "% matplotlib inline"
   ]
  },
  {
   "cell_type": "markdown",
   "metadata": {},
   "source": [
    "This will make all the `matplotlib` images appear in the notebook."
   ]
  },
  {
   "cell_type": "code",
   "execution_count": 3,
   "metadata": {},
   "outputs": [],
   "source": [
    "import numpy as np\n",
    "import time\n",
    "import seaborn as sns\n",
    "import matplotlib.pyplot as plt\n",
    "import scipy.stats as stats\n",
    "\n",
    "sns.set(style=\"whitegrid\")"
   ]
  },
  {
   "cell_type": "markdown",
   "metadata": {},
   "source": [
    "## Directions\n",
    "\n",
    "**Failure to follow the directions will result in a \"0\"**\n",
    "\n",
    "The due dates for each are indicated in the Syllabus and the course calendar. If anything is unclear, please email EN605.448@gmail.com the official email for the course or ask questions in the Lab discussion area on Blackboard.\n",
    "\n",
    "The Labs also present technical material that augments the lectures and \"book\".  You should read through the entire lab at the start of each module.\n",
    "\n",
    "### General Instructions\n",
    "\n",
    "1.  You will be submitting your assignment to Blackboard. If there are no accompanying files, you should submit *only* your notebook and it should be named using *only* your JHED id: fsmith79.ipynb for example if your JHED id were \"fsmith79\". If the assignment requires additional files, you should name the *folder/directory* your JHED id and put all items in that folder/directory, ZIP it up (only ZIP...no other compression), and submit it to Blackboard.\n",
    "    \n",
    "    * do **not** use absolute paths in your notebooks. All resources should appear in the same directory as the rest of your assignments.\n",
    "    * the directory **must** be named your JHED id and **only** your JHED id.\n",
    "    \n",
    "2. Data Science is as much about what you write (communicating) as the code you execute (researching). In many places, you will be required to execute code and discuss both the purpose and the result. Additionally, Data Science is about reproducibility and transparency. This includes good communication with your team and possibly with yourself. Therefore, you must show **all** work.\n",
    "\n",
    "3. Avail yourself of the Markdown/Codecell nature of the notebook. If you don't know about Markdown, look it up. Your notebooks should not look like ransom notes. Don't make everything bold. Clearly indicate what question you are answering.\n",
    "\n",
    "4. Submit a cleanly executed notebook. The first code cell should say `In [1]` and each successive code cell should increase by 1 throughout the notebook."
   ]
  },
  {
   "cell_type": "markdown",
   "metadata": {},
   "source": [
    "## Bayesian Inference\n",
    "\n",
    "Really, there are only a few classical problems in statistical inference. However, we use the Bayes Theorem as the basis for solving all of them:\n",
    "\n",
    "$$P(H|D) = \\frac{P(D|H)P(H)}{P(D)}$$\n",
    "\n",
    "You only need to identify what $H$ relates to...what is it? Is it some parameter of a distribution? Some property of a model (coefficients, error rate, etc.). For some formulations, we are more specific and specify $H$ as some parameter or parameters, $\\theta$:\n",
    "\n",
    "$$P(\\theta|D) = \\frac{P(D|\\theta)P(\\theta)}{P(D)}$$\n",
    "\n",
    "In the text we saw how we could estimate the posterior distribution using four methods: Grid, Exact, Monte Carlo and Bootstrap. For this Lab, we'll concentrate on the Bootstrap method for the reasons specified in the text."
   ]
  },
  {
   "cell_type": "markdown",
   "metadata": {},
   "source": [
    "## Statistical inference of a proportion in a Bernoulli Trial\n",
    "\n",
    "**1\\. Suppose we have a coin that shows up heads 60% of the time ($\\theta=p=0.6$). Generate 100 samples from this Binomial distribution (either as True/False or 1/0).**"
   ]
  },
  {
   "cell_type": "code",
   "execution_count": 4,
   "metadata": {},
   "outputs": [
    {
     "name": "stdout",
     "output_type": "stream",
     "text": [
      "[1, 0, 0, 1, 1, 0, 1, 0, 1, 0, 1, 0, 0, 0, 1, 1, 1, 1, 1, 0]\n"
     ]
    }
   ],
   "source": [
    "np.random.seed([1244875])\n",
    "\n",
    "theta = 0.6\n",
    "data = [1 if np.random.rand() < theta else 0 for _ in range( 100)]\n",
    "print( data[0:20])"
   ]
  },
  {
   "cell_type": "markdown",
   "metadata": {},
   "source": [
    "This is the synthetic data. At this point, we pretend that this is data we collected from the real world and we have no idea what $\\theta$ really is. \n",
    "\n",
    "Understanding that inference is not certain, our goal is to make inferences about this parameter's value using this data we just \"collected.\" Normally, the first thing we do is just calculate the parameter from our data. An *estimate* of some real world parameter is often given a \"hat\", for example $\\theta$ becomes $\\hat{\\theta}$. Sometimes, it goes from Greek to Latin as in $\\sigma$ to $s$ and sometimes it gets an adornment as well as in $\\mu$ to $\\bar{x}$.\n",
    "\n",
    "**2\\. Calculate $\\hat{theta}$.**"
   ]
  },
  {
   "cell_type": "code",
   "execution_count": 5,
   "metadata": {},
   "outputs": [
    {
     "name": "stdout",
     "output_type": "stream",
     "text": [
      "0.67\n"
     ]
    }
   ],
   "source": [
    "theta_est = np.mean( data)\n",
    "print( theta_est)"
   ]
  },
  {
   "cell_type": "markdown",
   "metadata": {},
   "source": [
    "But we know that this $\\hat{\\theta}$ is not necessarily the \"true\" value. We want to know all the values that are supported by the data we collected and the degree to which they are supported...how confident we are in them. This is basically what we get when we calculate a posterior distribution over $\\theta$ based on the data.\n",
    "\n",
    "And this is where the **(Non-Parameteric Bayesian) Bootstrap** estimate of that posterior distribution comes in. In the text we established *theoretically* how we went from a single data set to an estimate of the posterior distribution of our parameters. Now we're going to do it for reals.  Use the data we have to \"bootstrap\" an estimate of the posterior probability distribution over $\\theta$, $P(\\theta|D)$ which is \"given the data we observed, how much are we to believe in the various values of $\\theta$ and how much should we believe in them?\" Remember that belief is quantified as probability.\n",
    "\n",
    "**3\\. Generate the Bootstrap of the posterior distribution of $\\hat{\\theta}$ and answer the following questions:**\n",
    "\n",
    "First, we write a simple function to do our bootstrap sampling for us. It takes the data, a metric function and the number of bootstrap samples as the arguments. A metric function can be anything we like but it will most likely be something like `np.mean`, `np.var`, etc., it is whatever function we use to calculate our parameter/statistics."
   ]
  },
  {
   "cell_type": "code",
   "execution_count": 6,
   "metadata": {},
   "outputs": [],
   "source": [
    "def bootstrap_sample( data, f, n=100):\n",
    "    result = []\n",
    "    m = len( data)\n",
    "    for _ in range( n):\n",
    "        sample = np.random.choice( data, len(data), replace=True)\n",
    "        r = f( sample)\n",
    "        result.append( r)\n",
    "    return np.array( result)"
   ]
  },
  {
   "cell_type": "markdown",
   "metadata": {},
   "source": [
    "Now we used the function by supplying the data we \"collected\", our metric function `np.mean` and indicate we want 1000 bootstrap samples. This returns the data we can use as our posterior distribution of the proportion."
   ]
  },
  {
   "cell_type": "code",
   "execution_count": 7,
   "metadata": {},
   "outputs": [],
   "source": [
    "posterior = bootstrap_sample( data, np.mean, 1000)"
   ]
  },
  {
   "cell_type": "markdown",
   "metadata": {},
   "source": [
    "If we like, we can plot a histogram of this posterior distribution:"
   ]
  },
  {
   "cell_type": "code",
   "execution_count": 8,
   "metadata": {},
   "outputs": [
    {
     "data": {
      "image/png": "[encoded data removed]",
      "text/plain": [
       "<matplotlib.figure.Figure at 0xaec2cc0>"
      ]
     },
     "metadata": {},
     "output_type": "display_data"
    }
   ],
   "source": [
    "figure = plt.figure(figsize=(10, 6)) # first element is width, second is height.\n",
    "\n",
    "axes = figure.add_subplot(1, 1, 1)\n",
    "\n",
    "axes.hist( posterior, normed=True)\n",
    "axes.set_ylabel( \"Density\")\n",
    "axes.set_xlabel( \"$\\hat{theta}$\")\n",
    "axes.set_title( \"Posterior Distribution of $\\hat{theta}$\")\n",
    "\n",
    "plt.show()\n",
    "plt.close()"
   ]
  },
  {
   "cell_type": "markdown",
   "metadata": {},
   "source": [
    "Note that while the data is discrete and boolean (true/false), the parameter $\\theta$ is continuous. You might also notice that our distribution appears to be normally distributed. Based on the Central Limit Theorem, this is what we'd expect."
   ]
  },
  {
   "cell_type": "markdown",
   "metadata": {},
   "source": [
    "**4\\. What is the 90% Credible Interval (Bayesian Confidence Interval) for $\\hat{\\theta}$? Interpret it.**\n",
    "\n",
    "Although we'll often plot the posterior distribution, the real payoff from having it is to be able to do computations with it. There are a number of functions we can use for that purpose, for example, `mquantiles`. `mquantiles` is normally used to summarize the distributions of data but in this case, our data is estimates of $\\theta$."
   ]
  },
  {
   "cell_type": "code",
   "execution_count": 9,
   "metadata": {},
   "outputs": [
    {
     "data": {
      "text/plain": [
       "array([0.59, 0.74])"
      ]
     },
     "execution_count": 9,
     "metadata": {},
     "output_type": "execute_result"
    }
   ],
   "source": [
    "stats.mstats.mquantiles( posterior, [0.05, 0.95])"
   ]
  },
  {
   "cell_type": "markdown",
   "metadata": {},
   "source": [
    "An important part of Data Science and assignments in this course is interpreting the results. This is not purely a coding class. Therefore, you should always, *always* interpret your results:\n",
    "\n",
    "There is a 90% probability that the value of $\\theta$ is between 0.59 and 0.74 based on the data.\n",
    "\n",
    "Of course, there's nothing magical about only looking at the 90% confidence/credible interval and you can look at other ranges of interest as well."
   ]
  },
  {
   "cell_type": "markdown",
   "metadata": {},
   "source": [
    "**5\\. In Bayesian Statistics, we often identify a range of possible values for a parameter that we consider the same. This is known as the ROPE (Region of Practical Equivalance). We know that a fair coin would have $\\theta$ of 0.5 but we're unlikely to get an exact value of 0.5 from our data. If the ROPE is 0.48-0.52, what is the probability that our coin's $\\theta$ lies in that range and is thus \"fair\"?**"
   ]
  },
  {
   "cell_type": "code",
   "execution_count": 10,
   "metadata": {},
   "outputs": [
    {
     "data": {
      "text/plain": [
       "0.002"
      ]
     },
     "execution_count": 10,
     "metadata": {},
     "output_type": "execute_result"
    }
   ],
   "source": [
    "np.mean((0.48 <= posterior) & (posterior <= 0.52))"
   ]
  },
  {
   "cell_type": "markdown",
   "metadata": {
    "collapsed": true
   },
   "source": [
    "One of the downsides to the Boostrap approach is that we do not follow \"Cromwell's Dictum\" and we can get events with zero probability. We should just interpret these events are really have very small probabilities.\n",
    "\n",
    "Of course, now that we have this posterior distribution we can answer all kinds of (possibly) interesting and relevant questions to our problem. Let's stick with the basics, for now."
   ]
  },
  {
   "cell_type": "markdown",
   "metadata": {},
   "source": [
    "## Exercises\n",
    "\n",
    "**Exercise 1.**\n",
    "\n",
    "In addition to estimates of the posterior distribution of parameters such as $\\theta$, we are often interested in the posterior distribution of the *difference* of two $\\theta$s. For example, we might be interested in the proportion of men who smoke versus the proportion of women who smoke.\n",
    "\n",
    "We can model $\\theta_{men}$ and $\\theta_{women}$ just as if they were coin biases and generate synthetic data just as if they were coin flips. Using the Non-Parametric Bootstrap, we can generate posterior distributions for $\\hat{\\theta}_{men}$ and $\\hat{\\theta}_{women}$ as well as $d$, the *difference*.\n",
    "\n",
    "These are the steps:\n",
    "\n",
    "1. Generate synthetic data for using $\\theta_{men}$ = 0.23 and $\\theta_{women}$ = 0.34,  with 100 observations each.\n",
    "2. Generate the bootstrap data for each.\n",
    "3. Generate difference data. You can do this by simply subtracting, element by element, one bootstrap sample from the other, $\\theta_{men}$ - $\\theta_{women}$.\n",
    "4. Plot the distributions of all three.\n",
    "5. Calculate the 90% Bayesian Confidence Interval of all three **and interpret them**.\n",
    "6. Determine a ROPE for the difference and tell me what's the probability that the \"true\" value of the difference falls in the ROPE.\n",
    "\n",
    "Use as many Markdown Cells and Code Cells as you need; it should look nice (not like a ransom note)."
   ]
  },
  {
   "cell_type": "markdown",
   "metadata": {},
   "source": [
    "1. Generate random values between 0~1\n",
    "2. For women:  If the value is <= 0.23, then 1 else 0 \n",
    "3. For men:  If the value is <= 0.34, then 1 else 0 "
   ]
  },
  {
   "cell_type": "code",
   "execution_count": 27,
   "metadata": {},
   "outputs": [
    {
     "name": "stdout",
     "output_type": "stream",
     "text": [
      "women:  0.23\n",
      "men:  0.32\n"
     ]
    }
   ],
   "source": [
    "np.random.seed([111111])\n",
    "\n",
    "theta = 0.23\n",
    "women_data = [1 if np.random.rand() < theta else 0 for _ in range( 100)]\n",
    "\n",
    "theta = 0.34\n",
    "men_data = [1 if np.random.rand() < theta else 0 for _ in range( 100)]\n",
    "\n",
    "\n",
    "print (\"women: \",np.mean(women_data))\n",
    "print (\"men: \",np.mean(men_data))\n",
    " "
   ]
  },
  {
   "cell_type": "markdown",
   "metadata": {},
   "source": [
    "The basic idea of using bootstrap sampling to estimate a posteriod distribution will stay with us throughout the entire semester. This will be our fundamental approach to statistical inference (there are other approaches and there are other *Bayesian* approaches). The important thing is to understand 1. why and 2. the dimensions along which the problems can vary such as,\n",
    "\n",
    "1. The nature of data. The data may take on a variety of different types. We've looked primarily at boolean or Bernoulli data. However, the data might be categorical (more than two discrete outcomes), counts, real valued, etc. This means that there may be more than one $\\theta$. For example, the normal distribution has two $\\theta$s: the mean, $\\mu$, and the variance, $\\sigma^2$. But you should think even more broadly than this. A linear regression as many $\\theta$s: the coefficients, the coefficient of determination, the error of the regression, etc. A decision tree has a structure and error rate.\n",
    "2. A related concept is variability. We may have two true values, 0.23 and 0.24, but the variability of the data may not permit us to distinguish between them.\n",
    "3. Another dimension is the amount of data. We may not be able to get a \"good\" inference because we have not collected enough data.\n",
    "\n",
    "And, of course, all of these will and do interact. And a lot of experimental design is based on trying to limit variability (by \"holding other things constant\") and to get the \"right\" amount of data to support the inference we want to make.\n",
    "\n",
    "These exercises investigate some of the dimensions."
   ]
  },
  {
   "cell_type": "markdown",
   "metadata": {},
   "source": [
    "**Exercise 2**\n",
    "\n",
    "**1\\. Repeat the guide example (coin flips) with a $\\theta = 0.05$ and discuss. Were the credible intervals the same size? Was your estimate of $\\theta$ as good? What does this say about statistical inference on relatively rare events or extreme values?**"
   ]
  },
  {
   "cell_type": "code",
   "execution_count": null,
   "metadata": {},
   "outputs": [],
   "source": [
    "np.random.seed([87928356])"
   ]
  },
  {
   "cell_type": "code",
   "execution_count": null,
   "metadata": {},
   "outputs": [],
   "source": []
  },
  {
   "cell_type": "markdown",
   "metadata": {},
   "source": [
    "** Statistical Inference for a single real valued $\\theta$**\n",
    "\n",
    "**Exercise 3**\n",
    "\n",
    "We can do the same thing for a real valued data (like weights, heights, etc.) and the $\\theta$'s that describe such distributions. If we have a normal distribution, there are two such $\\theta$s, $\\mu$, the mean, and $\\sigma$, the standard deviation. Remember, however, that we often think of the dispersion of our data as a percent of the mean or the *coefficient of variation*, v."
   ]
  },
  {
   "cell_type": "markdown",
   "metadata": {},
   "source": [
    "**a\\. Generate 50 observations from a normal distribution with $\\mu=102.7$ and $v=5\\%$.**\n",
    "\n",
    "You should refer to the previous Lab for generating synthetic data from the normal distribution and working with $v$, the coefficient of variation."
   ]
  },
  {
   "cell_type": "code",
   "execution_count": null,
   "metadata": {},
   "outputs": [],
   "source": [
    "np.random.seed([2386431651])"
   ]
  },
  {
   "cell_type": "code",
   "execution_count": null,
   "metadata": {},
   "outputs": [],
   "source": []
  },
  {
   "cell_type": "markdown",
   "metadata": {},
   "source": [
    "**b. What is $\\bar{x}$?**"
   ]
  },
  {
   "cell_type": "code",
   "execution_count": null,
   "metadata": {},
   "outputs": [],
   "source": []
  },
  {
   "cell_type": "markdown",
   "metadata": {},
   "source": [
    "**c. Generate the Bootstrap estimate of the posterior distribution of $\\bar{x}$.**"
   ]
  },
  {
   "cell_type": "code",
   "execution_count": null,
   "metadata": {},
   "outputs": [],
   "source": []
  },
  {
   "cell_type": "markdown",
   "metadata": {},
   "source": [
    "**d. What is the 90% Credible Interval (Bayesian Confidence Interval) for $\\hat{\\theta}$?**"
   ]
  },
  {
   "cell_type": "code",
   "execution_count": null,
   "metadata": {},
   "outputs": [],
   "source": []
  },
  {
   "cell_type": "markdown",
   "metadata": {},
   "source": [
    "**e. Define a ROPE of \"about 100\". What is the probability that $\\bar{x}$ falls within the ROPE?.**"
   ]
  },
  {
   "cell_type": "code",
   "execution_count": null,
   "metadata": {},
   "outputs": [],
   "source": []
  },
  {
   "cell_type": "markdown",
   "metadata": {},
   "source": [
    "**Exercise 4\\. Repeat Steps 1-5 with $v=25\\%$.**"
   ]
  },
  {
   "cell_type": "code",
   "execution_count": null,
   "metadata": {},
   "outputs": [],
   "source": [
    "np.random.seed([484716248])"
   ]
  },
  {
   "cell_type": "code",
   "execution_count": null,
   "metadata": {},
   "outputs": [],
   "source": []
  },
  {
   "cell_type": "markdown",
   "metadata": {},
   "source": [
    "**Exercise 5\\. Repeat Steps #1-5 with $v=25\\%$ and 500 samples.**"
   ]
  },
  {
   "cell_type": "code",
   "execution_count": null,
   "metadata": {},
   "outputs": [],
   "source": [
    "np.random.seed([484716248])"
   ]
  },
  {
   "cell_type": "code",
   "execution_count": null,
   "metadata": {},
   "outputs": [],
   "source": []
  },
  {
   "cell_type": "markdown",
   "metadata": {
    "collapsed": true
   },
   "source": [
    "** Statistical Inference for a two real valued $\\theta$s**\n",
    "\n",
    "**Exercise 6. Following the text, apply the Bootstrap to make inferences about the difference between $\\mu_1$ and $\\mu_2$**\n",
    "\n",
    "1. Data set 1 has $\\mu_1=102.7$ and $v_1=10\\%$ and 100 observations.\n",
    "2. Data set 2 has $\\mu_2=104.2$ and $v_2=5\\%$ and 100 observations.\n",
    "\n",
    "Pay special consideration to formulating your ROPE for the *difference* between the two parameters and making inferences about it."
   ]
  },
  {
   "cell_type": "code",
   "execution_count": null,
   "metadata": {},
   "outputs": [],
   "source": [
    "np.random.seed([67366372])"
   ]
  },
  {
   "cell_type": "code",
   "execution_count": null,
   "metadata": {},
   "outputs": [],
   "source": []
  },
  {
   "cell_type": "markdown",
   "metadata": {},
   "source": [
    "## Discussion\n",
    "\n",
    "1\\. Discuss the similarities and differences in your results for Exercises 3-5. What do you think caused them given they all have the same mean? "
   ]
  },
  {
   "cell_type": "markdown",
   "metadata": {},
   "source": []
  },
  {
   "cell_type": "markdown",
   "metadata": {},
   "source": [
    "2\\. Why are we interested in estimating the posterior distribution?"
   ]
  },
  {
   "cell_type": "markdown",
   "metadata": {},
   "source": []
  },
  {
   "cell_type": "markdown",
   "metadata": {},
   "source": [
    "3\\. In the previous Lab, we talked about how Systems Theory related to the variability of a variable. How then is \"keeping other things the same\" in experimental design or comparison related both to inference and Systems Theory?"
   ]
  },
  {
   "cell_type": "markdown",
   "metadata": {},
   "source": []
  },
  {
   "cell_type": "markdown",
   "metadata": {},
   "source": [
    "## On Your Own\n",
    "\n",
    "We have only scratched the surface here. What you really want to understand is how variability and the amount of data you have interact especially when looking at *differences* in proportions and means. \n",
    "\n",
    "Based on the experiments above, two things tend to happen. First, the bounds of the Credible/Confidence Interval can change. They can get bigger or smaller. And they can contain the \"true\" value or not or with lesser or greater probility.\n",
    "\n",
    "Second, the probability of the ROPE changes. Additionally, the probability that a value of interest is contained in the ROPE changes.\n",
    "\n",
    "What you want to see, under controlled circumstances, is how the sample size and dispersion of the data interact to affect your conclusions.\n",
    "\n",
    "To do this, you could take examples above and,\n",
    "\n",
    "1. decrease $v$.\n",
    "2. increase $v$.\n",
    "3. decrease observations.\n",
    "4. increase observations,\n",
    "5. change the difference in the real $\\theta$s both for normal ($\\mu$) and bernoulli distributions keeping the other factors fixed to see what differences are and are not detectable with those factors (variability and data).\n",
    "6. change the ROPE...for example, supposed we *did* believe the mean was \"around 102\". How would these experiments affect you conclusions.\n",
    "7. do the same experiment over with a different random seed!\n",
    "\n",
    "You can write a helper function that does all the things at once to more quickly see what's going on. Additionally, make hypotheses ahead of time about what you think will happen."
   ]
  },
  {
   "cell_type": "markdown",
   "metadata": {},
   "source": [
    "*your work here*"
   ]
  }
 ],
 "metadata": {
  "kernelspec": {
   "display_name": "Python 3",
   "language": "python",
   "name": "python3"
  },
  "language_info": {
   "codemirror_mode": {
    "name": "ipython",
    "version": 3
   },
   "file_extension": ".py",
   "mimetype": "text/x-python",
   "name": "python",
   "nbconvert_exporter": "python",
   "pygments_lexer": "ipython3",
   "version": "3.6.4"
  },
  "toc": {
   "colors": {
    "hover_highlight": "#DAA520",
    "navigate_num": "#000000",
    "navigate_text": "#333333",
    "running_highlight": "#FF0000",
    "selected_highlight": "#FFD700",
    "sidebar_border": "#EEEEEE",
    "wrapper_background": "#FFFFFF"
   },
   "moveMenuLeft": true,
   "nav_menu": {
    "height": "171px",
    "width": "252px"
   },
   "navigate_menu": true,
   "number_sections": true,
   "sideBar": true,
   "threshold": 4,
   "toc_cell": false,
   "toc_section_display": "block",
   "toc_window_display": false,
   "widenNotebook": false
  }
 },
 "nbformat": 4,
 "nbformat_minor": 1
}
